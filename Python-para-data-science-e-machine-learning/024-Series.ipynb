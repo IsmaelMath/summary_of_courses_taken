{
 "cells": [
  {
   "cell_type": "markdown",
   "id": "c2955718",
   "metadata": {},
   "source": [
    "### Series"
   ]
  },
  {
   "cell_type": "code",
   "execution_count": 1,
   "id": "0c39d562",
   "metadata": {},
   "outputs": [],
   "source": [
    "# Importando bibliotecas do pandas\n",
    "import numpy as np\n",
    "import pandas as pd"
   ]
  },
  {
   "cell_type": "code",
   "execution_count": 2,
   "id": "32820875",
   "metadata": {},
   "outputs": [],
   "source": [
    "# Criando uma lista de strings\n",
    "labels = [\"a\", \"b\", \"c\", \"d\"]"
   ]
  },
  {
   "cell_type": "code",
   "execution_count": 3,
   "id": "62986a8a",
   "metadata": {},
   "outputs": [],
   "source": [
    "# Criando uma lista numerica\n",
    "minha_lista = [10,20,30,40]\n",
    "\n",
    "# Criando um array\n",
    "arr = np.array(minha_lista)\n",
    "\n",
    "# Criando um dicionário\n",
    "d = {\"a\":10, \"b\":20, \"c\":30, \"d\":40}"
   ]
  },
  {
   "cell_type": "code",
   "execution_count": 4,
   "id": "acd4ff4f",
   "metadata": {},
   "outputs": [
    {
     "data": {
      "text/plain": [
       "a    10\n",
       "b    20\n",
       "c    30\n",
       "d    40\n",
       "dtype: int64"
      ]
     },
     "execution_count": 4,
     "metadata": {},
     "output_type": "execute_result"
    }
   ],
   "source": [
    "# convertendo em Series\n",
    "pd.Series(data=minha_lista, index=labels)"
   ]
  },
  {
   "cell_type": "code",
   "execution_count": 5,
   "id": "79bf180f",
   "metadata": {},
   "outputs": [
    {
     "data": {
      "text/plain": [
       "a    10\n",
       "b    20\n",
       "c    30\n",
       "d    40\n",
       "dtype: int64"
      ]
     },
     "execution_count": 5,
     "metadata": {},
     "output_type": "execute_result"
    }
   ],
   "source": [
    "# Atribuindo a Series a uma variável\n",
    "series = pd.Series(data=minha_lista, index=labels); series\n"
   ]
  },
  {
   "cell_type": "code",
   "execution_count": 6,
   "id": "0e3e0780",
   "metadata": {},
   "outputs": [
    {
     "data": {
      "text/plain": [
       "30"
      ]
     },
     "execution_count": 6,
     "metadata": {},
     "output_type": "execute_result"
    }
   ],
   "source": [
    "# Visualizando os dados da series \n",
    "series[\"c\"]"
   ]
  },
  {
   "cell_type": "code",
   "execution_count": 7,
   "id": "6bb71a1f",
   "metadata": {},
   "outputs": [
    {
     "data": {
      "text/plain": [
       "a    10\n",
       "b    20\n",
       "c    30\n",
       "d    40\n",
       "dtype: int64"
      ]
     },
     "execution_count": 7,
     "metadata": {},
     "output_type": "execute_result"
    }
   ],
   "source": [
    "# Atribuindo diferentes variáveis para converter em series\n",
    "pd.Series(arr, labels)"
   ]
  },
  {
   "cell_type": "code",
   "execution_count": 9,
   "id": "2c4311d5",
   "metadata": {},
   "outputs": [
    {
     "data": {
      "text/plain": [
       "0      <built-in function sum>\n",
       "1    <built-in function print>\n",
       "2      <built-in function len>\n",
       "dtype: object"
      ]
     },
     "execution_count": 9,
     "metadata": {},
     "output_type": "execute_result"
    }
   ],
   "source": [
    "# Atribuindo diferentes variáveis para converter em series\n",
    "pd.Series([sum, print, len])"
   ]
  },
  {
   "cell_type": "code",
   "execution_count": 11,
   "id": "dd68476f",
   "metadata": {},
   "outputs": [
    {
     "data": {
      "text/plain": [
       "EUA         1\n",
       "Alemanha    2\n",
       "URSS        3\n",
       "Japão       4\n",
       "dtype: int64"
      ]
     },
     "execution_count": 11,
     "metadata": {},
     "output_type": "execute_result"
    }
   ],
   "source": [
    "# Criando uma nova series \n",
    "ser1 = pd.Series([1, 2, 3, 4], index=[\"EUA\", \"Alemanha\", \"URSS\", \"Japão\"]); ser1"
   ]
  },
  {
   "cell_type": "code",
   "execution_count": 15,
   "id": "877b4292",
   "metadata": {},
   "outputs": [
    {
     "data": {
      "text/plain": [
       "EUA         1\n",
       "Alemanha    2\n",
       "Itália      3\n",
       "Japão       4\n",
       "dtype: int64"
      ]
     },
     "execution_count": 15,
     "metadata": {},
     "output_type": "execute_result"
    }
   ],
   "source": [
    "# Criando uma nova series\n",
    "ser2 = pd.Series([1, 2, 3, 4], index=[\"EUA\", \"Alemanha\", \"Itália\", \"Japão\"]); ser2"
   ]
  },
  {
   "cell_type": "code",
   "execution_count": 16,
   "id": "84664321",
   "metadata": {},
   "outputs": [
    {
     "data": {
      "text/plain": [
       "Alemanha    4.0\n",
       "EUA         2.0\n",
       "Itália      NaN\n",
       "Japão       8.0\n",
       "URSS        NaN\n",
       "dtype: float64"
      ]
     },
     "execution_count": 16,
     "metadata": {},
     "output_type": "execute_result"
    }
   ],
   "source": [
    "# Efetuando operações com series\n",
    "ser1 + ser2"
   ]
  }
 ],
 "metadata": {
  "kernelspec": {
   "display_name": "Python 3 (ipykernel)",
   "language": "python",
   "name": "python3"
  },
  "language_info": {
   "codemirror_mode": {
    "name": "ipython",
    "version": 3
   },
   "file_extension": ".py",
   "mimetype": "text/x-python",
   "name": "python",
   "nbconvert_exporter": "python",
   "pygments_lexer": "ipython3",
   "version": "3.10.6"
  },
  "varInspector": {
   "cols": {
    "lenName": 16,
    "lenType": 16,
    "lenVar": 40
   },
   "kernels_config": {
    "python": {
     "delete_cmd_postfix": "",
     "delete_cmd_prefix": "del ",
     "library": "var_list.py",
     "varRefreshCmd": "print(var_dic_list())"
    },
    "r": {
     "delete_cmd_postfix": ") ",
     "delete_cmd_prefix": "rm(",
     "library": "var_list.r",
     "varRefreshCmd": "cat(var_dic_list()) "
    }
   },
   "types_to_exclude": [
    "module",
    "function",
    "builtin_function_or_method",
    "instance",
    "_Feature"
   ],
   "window_display": false
  }
 },
 "nbformat": 4,
 "nbformat_minor": 5
}
