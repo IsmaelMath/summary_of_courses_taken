{
 "cells": [
  {
   "cell_type": "markdown",
   "id": "499ffc47",
   "metadata": {},
   "source": [
    "### Curso relâmpago de Python - Exercícios\n",
    "\n",
    "   Este é um exercicio opcional para testar sua compreensão sobre python basics. Se você achar isso extremamente sedafiador, então você provavelmente ainda não está pronto para o resto deste curso e não tem experiência de programação suficiente para continuar. Eu sugiro que você faça outro curso mais orientado para iniciante, como complete python bootcamp.\n",
    "   \n",
    "#### Exercícios\n",
    "Responda as perguntas ou complete as tarefas descritas em negrito abaixo, use o método especifico, se aplicavel.\n",
    "\n",
    "##### Quanto é 7 elevado na potência 4 ?"
   ]
  },
  {
   "cell_type": "code",
   "execution_count": 1,
   "id": "d05803f6",
   "metadata": {},
   "outputs": [
    {
     "data": {
      "text/plain": [
       "2401"
      ]
     },
     "execution_count": 1,
     "metadata": {},
     "output_type": "execute_result"
    }
   ],
   "source": [
    "7 ** 4"
   ]
  },
  {
   "cell_type": "markdown",
   "id": "f55f2169",
   "metadata": {},
   "source": [
    "##### Quebre a seguinte string em uma lista:"
   ]
  },
  {
   "cell_type": "code",
   "execution_count": 2,
   "id": "2368887e",
   "metadata": {},
   "outputs": [
    {
     "data": {
      "text/plain": [
       "['Olá,', 'pai!']"
      ]
     },
     "execution_count": 2,
     "metadata": {},
     "output_type": "execute_result"
    }
   ],
   "source": [
    "s = \"Olá, pai!\"\n",
    "s.split()"
   ]
  },
  {
   "cell_type": "markdown",
   "id": "8a7d4a3e",
   "metadata": {},
   "source": [
    "##### Dada as variáveis:\n",
    "\n",
    "    planeta = \"Terra\"\n",
    "    Diametro = 12742\n",
    "    \n",
    "##### Use .format() para printar a seguinte frase:\n",
    "    O diâmetro da terra é de 12742 kilomêtros."
   ]
  },
  {
   "cell_type": "code",
   "execution_count": 3,
   "id": "ad52a8ff",
   "metadata": {},
   "outputs": [
    {
     "name": "stdout",
     "output_type": "stream",
     "text": [
      "O diâmetro da Terra é de 12742 kilomêtros\n"
     ]
    }
   ],
   "source": [
    "planeta = \"Terra\"\n",
    "diametro = 12742\n",
    "print(\"O diâmetro da {} é de {} kilomêtros\".format(planeta, diametro))"
   ]
  },
  {
   "cell_type": "markdown",
   "id": "954c817a",
   "metadata": {},
   "source": [
    "##### Dada a lista abaixo, use indexação para obter apenas a string \"Olá\"\n"
   ]
  },
  {
   "cell_type": "code",
   "execution_count": 4,
   "id": "8264e831",
   "metadata": {},
   "outputs": [],
   "source": [
    "lst = [1, 2, [3, 4], [5,[100, 200, [\"Olá\"]], 23, 11], 1, 7]"
   ]
  },
  {
   "cell_type": "code",
   "execution_count": 5,
   "id": "c7243892",
   "metadata": {},
   "outputs": [
    {
     "data": {
      "text/plain": [
       "'Olá'"
      ]
     },
     "execution_count": 5,
     "metadata": {},
     "output_type": "execute_result"
    }
   ],
   "source": [
    "lst[3][1][2][0]"
   ]
  },
  {
   "cell_type": "markdown",
   "id": "405e2510",
   "metadata": {},
   "source": [
    "##### Dados o seguinte dicionário, extraia a palavra \"hello\""
   ]
  },
  {
   "cell_type": "code",
   "execution_count": 6,
   "id": "25ead1a3",
   "metadata": {},
   "outputs": [],
   "source": [
    "d = {\"k1\":[1, 2, 3,{\"café\":[\"Banana\", \"mulher\", \"colher\", {\"alvo\": [1, 2, 3, \"Olá\"]}]}]}"
   ]
  },
  {
   "cell_type": "code",
   "execution_count": 7,
   "id": "a359373d",
   "metadata": {},
   "outputs": [
    {
     "data": {
      "text/plain": [
       "'Olá'"
      ]
     },
     "execution_count": 7,
     "metadata": {},
     "output_type": "execute_result"
    }
   ],
   "source": [
    "d[\"k1\"][3][\"café\"][3][\"alvo\"][3]"
   ]
  },
  {
   "cell_type": "markdown",
   "id": "fe0014a1",
   "metadata": {},
   "source": [
    "##### Qual  a principal diferença entre um dicionário e uma tupla ?\n",
    "\n",
    "    É porque o dicionario pode ser modificado e a tupla não."
   ]
  },
  {
   "cell_type": "markdown",
   "id": "944539f2",
   "metadata": {},
   "source": [
    "##### Costrua uma função que retira o dominio dado um e-mail no seguite formato:\n",
    "    \n",
    "    user@domain.com\n",
    "\n",
    "##### Por exemplo, passando como parâmetro \"user@domain.com\" retornaria: domain.com"
   ]
  },
  {
   "cell_type": "code",
   "execution_count": 8,
   "id": "c0eeb42c",
   "metadata": {},
   "outputs": [
    {
     "data": {
      "text/plain": [
       "'domain.com'"
      ]
     },
     "execution_count": 8,
     "metadata": {},
     "output_type": "execute_result"
    }
   ],
   "source": [
    "email = \"user@domain.com\"\n",
    "\n",
    "def dominiu(email):\n",
    "    \n",
    "    provedor = email[email.index(\"@\")+1: len(email)]\n",
    "    \n",
    "    return provedor\n",
    "\n",
    "\n",
    "dominiu(email)"
   ]
  },
  {
   "cell_type": "markdown",
   "id": "90b3f70c",
   "metadata": {},
   "source": [
    "##### Crie uma função básica que retorna True se a palavra \"dog\" estiver contida na string de entrada. Não se preocupe com os casos de extremos, como uma pontuação que está sendo anexado à palavra cão, mas que seja senivel à caixa."
   ]
  },
  {
   "cell_type": "code",
   "execution_count": 9,
   "id": "a82fa6ef",
   "metadata": {},
   "outputs": [
    {
     "data": {
      "text/plain": [
       "True"
      ]
     },
     "execution_count": 9,
     "metadata": {},
     "output_type": "execute_result"
    }
   ],
   "source": [
    "frase = \"Existe um cachorro aí\"\n",
    "palavra = \"cachorro\"\n",
    "\n",
    "\n",
    "def encontreCachorro(frase, palavra):\n",
    "    \n",
    "    if palavra in frase:\n",
    "        situacao = True\n",
    "    else:\n",
    "        situacao = False\n",
    "    \n",
    "    return situacao\n",
    "        \n",
    "encontreCachorro(frase, palavra)"
   ]
  },
  {
   "cell_type": "markdown",
   "id": "7a286dae",
   "metadata": {},
   "source": [
    "##### Crie uma função que conta o número de vezes que a palavra \"dog\" ocorre em uma string. Novamente ignore os casos extremos."
   ]
  },
  {
   "cell_type": "code",
   "execution_count": 10,
   "id": "36cbc943",
   "metadata": {},
   "outputs": [
    {
     "data": {
      "text/plain": [
       "2"
      ]
     },
     "execution_count": 10,
     "metadata": {},
     "output_type": "execute_result"
    }
   ],
   "source": [
    "frase = \"Esse cachorro é mais rápido que o outro cachorro\" \n",
    "palavra = \"Cachorro\"\n",
    "\n",
    "\n",
    "def contaCachorro(frase, palavra):\n",
    "    contador = 0\n",
    "    frase = frase.split()\n",
    "    for i in range(0, len(frase)):\n",
    "        \n",
    "        if frase[i] == \"cachorro\":\n",
    "            contador += 1\n",
    "    return contador\n",
    "\n",
    "    \n",
    "    \n",
    "contaCachorro(frase, palavra)"
   ]
  },
  {
   "cell_type": "markdown",
   "id": "0e3a1f6c",
   "metadata": {},
   "source": [
    "##### Use expressões lambda e a função filter () para filtrar as palavras de uma lista que não começa com a letra \"s\". Por exemplo:\n",
    "    seq = [\"sopa\", \"cachorro\", \"salada\", \"gato\", \"ótima\"]\n",
    "\n",
    "##### Deveria ser filtrado para:\n",
    "    [\"sopa\", \"salada\"]"
   ]
  },
  {
   "cell_type": "code",
   "execution_count": 36,
   "id": "d75cd1d3",
   "metadata": {},
   "outputs": [
    {
     "data": {
      "text/plain": [
       "['sopa', 'salada']"
      ]
     },
     "execution_count": 36,
     "metadata": {},
     "output_type": "execute_result"
    }
   ],
   "source": [
    "seq = [\"sopa\", \"cachorro\", \"salada\", \"gato\", \"ótima\"]\n",
    "\n",
    "\n",
    "list(filter(lambda item:item[0]==\"s\", seq))"
   ]
  },
  {
   "cell_type": "markdown",
   "id": "ad960280",
   "metadata": {},
   "source": [
    "### Problema final\n",
    "\n",
    "\n",
    "##### Você está dirigindo um pouco rápido demais, e um policial para você. Escreva uma função para retorna um dos 3 resultados possiveis: \"sem multa\", \"Pequenas multa\" ou \"Multa Grande\". Se a sua velocidade for igual ou inferior a 60, o resultado é \"Sem multa\". Se a velocidade for entre 61 e 80 inclusive, o resultado é \"Multa Pequena\". Se a velocidade é de 81 ou mais, o resultado é \"Multa Grande\". A mesma que seja seu aniversário (codificado como um valor booleano nos parâmetros da função) - em seu aniversário, sua velocidade pode ser 5 maior em todos os casos."
   ]
  },
  {
   "cell_type": "code",
   "execution_count": 43,
   "id": "f7e27d11",
   "metadata": {},
   "outputs": [],
   "source": [
    "def capturar_velocidade(speed, is_brirtday):\n",
    "    if is_brirtday:\n",
    "        speed = speed - 5\n",
    "    if speed >= 80:\n",
    "        return \"Multa grande\"\n",
    "    if speed >= 60 and speed < 80:\n",
    "        return \"Multa pequena\"\n",
    "    else:\n",
    "        return \"Sem multa\"\n",
    "    pass"
   ]
  },
  {
   "cell_type": "code",
   "execution_count": 45,
   "id": "f50fb0a4",
   "metadata": {},
   "outputs": [
    {
     "data": {
      "text/plain": [
       "'Multa pequena'"
      ]
     },
     "execution_count": 45,
     "metadata": {},
     "output_type": "execute_result"
    }
   ],
   "source": [
    "capturar_velocidade(65, False)"
   ]
  },
  {
   "cell_type": "code",
   "execution_count": 47,
   "id": "1efe212f",
   "metadata": {},
   "outputs": [
    {
     "data": {
      "text/plain": [
       "'Multa grande'"
      ]
     },
     "execution_count": 47,
     "metadata": {},
     "output_type": "execute_result"
    }
   ],
   "source": [
    "capturar_velocidade(85, False)"
   ]
  }
 ],
 "metadata": {
  "kernelspec": {
   "display_name": "Python 3 (ipykernel)",
   "language": "python",
   "name": "python3"
  },
  "language_info": {
   "codemirror_mode": {
    "name": "ipython",
    "version": 3
   },
   "file_extension": ".py",
   "mimetype": "text/x-python",
   "name": "python",
   "nbconvert_exporter": "python",
   "pygments_lexer": "ipython3",
   "version": "3.10.6"
  }
 },
 "nbformat": 4,
 "nbformat_minor": 5
}
