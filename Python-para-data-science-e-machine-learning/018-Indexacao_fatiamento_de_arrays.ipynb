{
 "cells": [
  {
   "cell_type": "markdown",
   "id": "cf3c3fb3",
   "metadata": {},
   "source": [
    "### Indexação e Fatiamento de Arrays"
   ]
  },
  {
   "cell_type": "code",
   "execution_count": 2,
   "id": "3693d432",
   "metadata": {},
   "outputs": [],
   "source": [
    "# Fazendo a importação da biblioteca que vamos utilizar\n",
    "import numpy as np"
   ]
  },
  {
   "cell_type": "code",
   "execution_count": 5,
   "id": "0a2c18ef",
   "metadata": {},
   "outputs": [
    {
     "data": {
      "text/plain": [
       "array([ 0,  3,  6,  9, 12, 15, 18, 21, 24, 27])"
      ]
     },
     "execution_count": 5,
     "metadata": {},
     "output_type": "execute_result"
    }
   ],
   "source": [
    "# Criando um array com o método arange(start, end, step)\n",
    "arr = np.arange(0, 30, 3); arr"
   ]
  },
  {
   "cell_type": "code",
   "execution_count": 7,
   "id": "1fe8b074",
   "metadata": {},
   "outputs": [
    {
     "data": {
      "text/plain": [
       "12"
      ]
     },
     "execution_count": 7,
     "metadata": {},
     "output_type": "execute_result"
    }
   ],
   "source": [
    "# Para fazer uma consulta nos elementos do arrays em relação a seu index\n",
    "arr[4]"
   ]
  },
  {
   "cell_type": "code",
   "execution_count": 8,
   "id": "9bb51da0",
   "metadata": {},
   "outputs": [
    {
     "data": {
      "text/plain": [
       "array([ 6,  9, 12, 15, 18])"
      ]
     },
     "execution_count": 8,
     "metadata": {},
     "output_type": "execute_result"
    }
   ],
   "source": [
    "# Para fazer uma consulta nos elementos do array de uma posição inicial até a final, temos\n",
    "arr[2:7]"
   ]
  },
  {
   "cell_type": "code",
   "execution_count": 9,
   "id": "59d81d8e",
   "metadata": {},
   "outputs": [
    {
     "data": {
      "text/plain": [
       "array([0, 3, 6, 9])"
      ]
     },
     "execution_count": 9,
     "metadata": {},
     "output_type": "execute_result"
    }
   ],
   "source": [
    "# Usando difernetes formas para consultar um array\n",
    "arr[:4]"
   ]
  },
  {
   "cell_type": "code",
   "execution_count": 10,
   "id": "6dbdcbb6",
   "metadata": {},
   "outputs": [
    {
     "data": {
      "text/plain": [
       "array([12, 15, 18, 21, 24, 27])"
      ]
     },
     "execution_count": 10,
     "metadata": {},
     "output_type": "execute_result"
    }
   ],
   "source": [
    "# Usando difernetes formas para consultar um array\n",
    "arr[4:]"
   ]
  },
  {
   "cell_type": "code",
   "execution_count": 11,
   "id": "b753c6b8",
   "metadata": {},
   "outputs": [
    {
     "data": {
      "text/plain": [
       "array([ 3,  9, 15, 21])"
      ]
     },
     "execution_count": 11,
     "metadata": {},
     "output_type": "execute_result"
    }
   ],
   "source": [
    "# Usando difernetes formas para consultar um array\n",
    "arr[1:-1:2]"
   ]
  },
  {
   "cell_type": "code",
   "execution_count": 13,
   "id": "1c85c273",
   "metadata": {},
   "outputs": [
    {
     "data": {
      "text/plain": [
       "array([  0,   3,   6,   9, 100, 100, 100, 100, 100, 100])"
      ]
     },
     "execution_count": 13,
     "metadata": {},
     "output_type": "execute_result"
    }
   ],
   "source": [
    "# Fazendo alterações no array com o método de consulta\n",
    "arr[4:] = 100; arr"
   ]
  },
  {
   "cell_type": "code",
   "execution_count": 16,
   "id": "2eb19b26",
   "metadata": {},
   "outputs": [
    {
     "data": {
      "text/plain": [
       "array([ 0,  1,  2,  3,  4,  5,  6,  7,  8,  9, 10, 11, 12, 13, 14, 15, 16,\n",
       "       17, 18, 19, 20, 21, 22, 23, 24, 25, 26, 27, 28, 29, 30, 31, 32, 33,\n",
       "       34, 35, 36, 37, 38, 39, 40, 41, 42, 43, 44, 45, 46, 47, 48, 49])"
      ]
     },
     "execution_count": 16,
     "metadata": {},
     "output_type": "execute_result"
    }
   ],
   "source": [
    "# Criando um array até 50\n",
    "arr = np.arange(50); arr"
   ]
  },
  {
   "cell_type": "code",
   "execution_count": 18,
   "id": "7733c29e",
   "metadata": {},
   "outputs": [
    {
     "data": {
      "text/plain": [
       "array([[ 0,  1,  2,  3,  4,  5,  6,  7,  8,  9],\n",
       "       [10, 11, 12, 13, 14, 15, 16, 17, 18, 19],\n",
       "       [20, 21, 22, 23, 24, 25, 26, 27, 28, 29],\n",
       "       [30, 31, 32, 33, 34, 35, 36, 37, 38, 39],\n",
       "       [40, 41, 42, 43, 44, 45, 46, 47, 48, 49]])"
      ]
     },
     "execution_count": 18,
     "metadata": {},
     "output_type": "execute_result"
    }
   ],
   "source": [
    "# Vamos converter essa nova variável arr com método reshape()\n",
    "arr.reshape(5,10)"
   ]
  },
  {
   "cell_type": "code",
   "execution_count": 23,
   "id": "5f381aca",
   "metadata": {},
   "outputs": [
    {
     "data": {
      "text/plain": [
       "array([[ 0,  2,  4,  6,  8],\n",
       "       [10, 12, 14, 16, 18],\n",
       "       [20, 22, 24, 26, 28],\n",
       "       [30, 32, 34, 36, 38],\n",
       "       [40, 42, 44, 46, 48]])"
      ]
     },
     "execution_count": 23,
     "metadata": {},
     "output_type": "execute_result"
    }
   ],
   "source": [
    "# Podemos usar o método reshape de uma nova forma mais simplificada\n",
    "arr = np.arange(0,50,2).reshape(5,5); arr"
   ]
  },
  {
   "cell_type": "code",
   "execution_count": 24,
   "id": "f1c18b89",
   "metadata": {},
   "outputs": [
    {
     "data": {
      "text/plain": [
       "(5, 5)"
      ]
     },
     "execution_count": 24,
     "metadata": {},
     "output_type": "execute_result"
    }
   ],
   "source": [
    "# Usando atributo shape para verificar o tamanho do array e sua dimensão\n",
    "arr.shape"
   ]
  },
  {
   "cell_type": "code",
   "execution_count": 25,
   "id": "177e23c6",
   "metadata": {},
   "outputs": [
    {
     "data": {
      "text/plain": [
       "array([30, 32, 34, 36, 38])"
      ]
     },
     "execution_count": 25,
     "metadata": {},
     "output_type": "execute_result"
    }
   ],
   "source": [
    "# Fazendo uma consulta agora na matriz arr[linha, coluna]\n",
    "arr[3,0:]"
   ]
  },
  {
   "cell_type": "code",
   "execution_count": 26,
   "id": "1381cb27",
   "metadata": {},
   "outputs": [
    {
     "data": {
      "text/plain": [
       "array([[ 0,  2,  4,  6,  8],\n",
       "       [10, 12, 14, 16, 18],\n",
       "       [20, 22, 24, 26, 28]])"
      ]
     },
     "execution_count": 26,
     "metadata": {},
     "output_type": "execute_result"
    }
   ],
   "source": [
    "# Consultando o array com mesmo resultado mais de duas formas diferentes: Primeira forma\n",
    "arr[:3,]"
   ]
  },
  {
   "cell_type": "code",
   "execution_count": 27,
   "id": "41a9bf3d",
   "metadata": {},
   "outputs": [
    {
     "data": {
      "text/plain": [
       "array([[ 0,  2,  4,  6,  8],\n",
       "       [10, 12, 14, 16, 18],\n",
       "       [20, 22, 24, 26, 28]])"
      ]
     },
     "execution_count": 27,
     "metadata": {},
     "output_type": "execute_result"
    }
   ],
   "source": [
    "# Consultando o array com mesmo resultado mais de duas formas diferentes: Segunda forma arr[linha][coluna]\n",
    "arr[:3][:]"
   ]
  },
  {
   "cell_type": "code",
   "execution_count": 30,
   "id": "20bf4e0c",
   "metadata": {},
   "outputs": [
    {
     "data": {
      "text/plain": [
       "array([[ 0,  2,  4,  6,  8],\n",
       "       [10, 12, 14, 16, 18],\n",
       "       [20, 22, 24, 26, 28]])"
      ]
     },
     "execution_count": 30,
     "metadata": {},
     "output_type": "execute_result"
    }
   ],
   "source": [
    "# Criando um novo array de dados do arr e usando o método copy() para pode manipula=lo sem alterar o dá origem\n",
    "arr_2 = arr[:3][:].copy(); arr_2"
   ]
  },
  {
   "cell_type": "code",
   "execution_count": 32,
   "id": "718f3247",
   "metadata": {},
   "outputs": [
    {
     "data": {
      "text/plain": [
       "array([[False, False, False, False, False],\n",
       "       [False, False, False,  True,  True],\n",
       "       [ True,  True,  True,  True,  True]])"
      ]
     },
     "execution_count": 32,
     "metadata": {},
     "output_type": "execute_result"
    }
   ],
   "source": [
    "# Posso fazer o operações logicas com o array\n",
    "arr_2 > 15"
   ]
  },
  {
   "cell_type": "code",
   "execution_count": 34,
   "id": "fee125f0",
   "metadata": {},
   "outputs": [
    {
     "data": {
      "text/plain": [
       "array([ 0,  2,  4,  6,  8, 10, 12, 14])"
      ]
     },
     "execution_count": 34,
     "metadata": {},
     "output_type": "execute_result"
    }
   ],
   "source": [
    "# Possa manipular o array em forma condicional\n",
    "bol = arr_2 < 15\n",
    "arr_2[bol]  # Estou extraindo dados do array arr_2 onde a regra anterior foi satisfeita"
   ]
  },
  {
   "cell_type": "code",
   "execution_count": 35,
   "id": "28ed476c",
   "metadata": {},
   "outputs": [
    {
     "data": {
      "text/plain": [
       "array([  0.        ,   3.44827586,   6.89655172,  10.34482759,\n",
       "        13.79310345,  17.24137931,  20.68965517,  24.13793103,\n",
       "        27.5862069 ,  31.03448276,  34.48275862,  37.93103448,\n",
       "        41.37931034,  44.82758621,  48.27586207,  51.72413793,\n",
       "        55.17241379,  58.62068966,  62.06896552,  65.51724138,\n",
       "        68.96551724,  72.4137931 ,  75.86206897,  79.31034483,\n",
       "        82.75862069,  86.20689655,  89.65517241,  93.10344828,\n",
       "        96.55172414, 100.        ])"
      ]
     },
     "execution_count": 35,
     "metadata": {},
     "output_type": "execute_result"
    }
   ],
   "source": [
    "# Criando um array de intervalo de 0 a 100 e com 30 elementos\n",
    "array = np.linspace(0, 100, 30); array"
   ]
  },
  {
   "cell_type": "code",
   "execution_count": 36,
   "id": "db398a2f",
   "metadata": {},
   "outputs": [
    {
     "data": {
      "text/plain": [
       "(30,)"
      ]
     },
     "execution_count": 36,
     "metadata": {},
     "output_type": "execute_result"
    }
   ],
   "source": [
    "# Verificando o tamanho e a dimensão do array\n",
    "array.shape"
   ]
  },
  {
   "cell_type": "code",
   "execution_count": 38,
   "id": "ca0d1ccc",
   "metadata": {},
   "outputs": [
    {
     "data": {
      "text/plain": [
       "array([[  0.        ,   3.44827586,   6.89655172,  10.34482759,\n",
       "         13.79310345,  17.24137931,  20.68965517,  24.13793103,\n",
       "         27.5862069 ,  31.03448276],\n",
       "       [ 34.48275862,  37.93103448,  41.37931034,  44.82758621,\n",
       "         48.27586207,  51.72413793,  55.17241379,  58.62068966,\n",
       "         62.06896552,  65.51724138],\n",
       "       [ 68.96551724,  72.4137931 ,  75.86206897,  79.31034483,\n",
       "         82.75862069,  86.20689655,  89.65517241,  93.10344828,\n",
       "         96.55172414, 100.        ]])"
      ]
     },
     "execution_count": 38,
     "metadata": {},
     "output_type": "execute_result"
    }
   ],
   "source": [
    "# Convertendo o array em uma matriz de dimensão (3, 10)\n",
    "array = array.reshape(3,10); array"
   ]
  },
  {
   "cell_type": "code",
   "execution_count": 39,
   "id": "34a028da",
   "metadata": {},
   "outputs": [
    {
     "data": {
      "text/plain": [
       "(3, 10)"
      ]
     },
     "execution_count": 39,
     "metadata": {},
     "output_type": "execute_result"
    }
   ],
   "source": [
    "# Verificando o tamanho e a dimensão\n",
    "array.shape"
   ]
  },
  {
   "cell_type": "code",
   "execution_count": 40,
   "id": "d5687004",
   "metadata": {},
   "outputs": [
    {
     "data": {
      "text/plain": [
       "array([ 6.89655172, 41.37931034])"
      ]
     },
     "execution_count": 40,
     "metadata": {},
     "output_type": "execute_result"
    }
   ],
   "source": [
    "# Fazendo uma consulta \n",
    "array[:2, 2]"
   ]
  }
 ],
 "metadata": {
  "kernelspec": {
   "display_name": "Python 3 (ipykernel)",
   "language": "python",
   "name": "python3"
  },
  "language_info": {
   "codemirror_mode": {
    "name": "ipython",
    "version": 3
   },
   "file_extension": ".py",
   "mimetype": "text/x-python",
   "name": "python",
   "nbconvert_exporter": "python",
   "pygments_lexer": "ipython3",
   "version": "3.10.6"
  }
 },
 "nbformat": 4,
 "nbformat_minor": 5
}
