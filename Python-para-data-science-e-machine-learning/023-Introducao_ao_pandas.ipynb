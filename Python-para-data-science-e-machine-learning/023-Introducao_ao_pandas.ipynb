{
 "cells": [
  {
   "cell_type": "markdown",
   "id": "fef328b7",
   "metadata": {},
   "source": [
    "### PANDAS\n",
    "\n",
    "- Pandas é uma biblioteca de código fonte aberto escrito sobre o Numpy.\n",
    "<br>\n",
    "\n",
    "- Permite rápida visualização e limpeza de dados.\n",
    "<br>\n",
    "\n",
    "- É muito semelhante ao excel\n",
    "<br>\n",
    "\n",
    "- Pode trabalhar com dados de diversos tipos diferentes.\n",
    "<br>\n",
    "\n",
    "- Possui métodos próprios de visualização de dados.\n",
    "<br>\n",
    "\n",
    "- Para instalar, vá em seu terminal e digite:\n",
    "   - **conda install pandas**\n",
    "   \n",
    "   - **pip install pandas**\n",
    "<br>\n",
    "\n",
    "- No pandas iremos estudar:\n",
    "\n",
    "     - Séries;\n",
    "     - DataFrames;\n",
    "     - Dados ausentes;\n",
    "     - GroupBy;\n",
    "     - Concatenar, juntar e mesclar;\n",
    "     - Operações;\n",
    "     - Entrada e saída de dados."
   ]
  }
 ],
 "metadata": {
  "kernelspec": {
   "display_name": "Python 3 (ipykernel)",
   "language": "python",
   "name": "python3"
  },
  "language_info": {
   "codemirror_mode": {
    "name": "ipython",
    "version": 3
   },
   "file_extension": ".py",
   "mimetype": "text/x-python",
   "name": "python",
   "nbconvert_exporter": "python",
   "pygments_lexer": "ipython3",
   "version": "3.10.6"
  },
  "varInspector": {
   "cols": {
    "lenName": 16,
    "lenType": 16,
    "lenVar": 40
   },
   "kernels_config": {
    "python": {
     "delete_cmd_postfix": "",
     "delete_cmd_prefix": "del ",
     "library": "var_list.py",
     "varRefreshCmd": "print(var_dic_list())"
    },
    "r": {
     "delete_cmd_postfix": ") ",
     "delete_cmd_prefix": "rm(",
     "library": "var_list.r",
     "varRefreshCmd": "cat(var_dic_list()) "
    }
   },
   "types_to_exclude": [
    "module",
    "function",
    "builtin_function_or_method",
    "instance",
    "_Feature"
   ],
   "window_display": false
  }
 },
 "nbformat": 4,
 "nbformat_minor": 5
}
