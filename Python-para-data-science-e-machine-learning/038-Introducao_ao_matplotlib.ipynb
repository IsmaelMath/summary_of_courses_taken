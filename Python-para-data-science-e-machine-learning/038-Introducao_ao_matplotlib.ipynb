{
 "cells": [
  {
   "cell_type": "markdown",
   "id": "ad7420d4",
   "metadata": {},
   "source": [
    "### Introdução ao Matplotlib\n",
    "<br>\n",
    "\n",
    "- Matplotlib é a biblioteca de visualização de dados mais popular do Python;\n",
    "<br>\n",
    "- Ela te dá controle sobre todos aspectos da sua figura;\n",
    "<br>\n",
    "- Ela foi projetada para te dar um sentimento semelhante aos métodos de plotagem gráfica do MatLab.\n",
    "<br>\n",
    "- Você pode instalar usando os seguintes comandos:\n",
    "   \n",
    "    - conda install matplotlib\n",
    "    \n",
    "    - pip install matplotlib"
   ]
  }
 ],
 "metadata": {
  "kernelspec": {
   "display_name": "Python 3 (ipykernel)",
   "language": "python",
   "name": "python3"
  },
  "language_info": {
   "codemirror_mode": {
    "name": "ipython",
    "version": 3
   },
   "file_extension": ".py",
   "mimetype": "text/x-python",
   "name": "python",
   "nbconvert_exporter": "python",
   "pygments_lexer": "ipython3",
   "version": "3.10.6"
  },
  "varInspector": {
   "cols": {
    "lenName": 16,
    "lenType": 16,
    "lenVar": 40
   },
   "kernels_config": {
    "python": {
     "delete_cmd_postfix": "",
     "delete_cmd_prefix": "del ",
     "library": "var_list.py",
     "varRefreshCmd": "print(var_dic_list())"
    },
    "r": {
     "delete_cmd_postfix": ") ",
     "delete_cmd_prefix": "rm(",
     "library": "var_list.r",
     "varRefreshCmd": "cat(var_dic_list()) "
    }
   },
   "types_to_exclude": [
    "module",
    "function",
    "builtin_function_or_method",
    "instance",
    "_Feature"
   ],
   "window_display": false
  }
 },
 "nbformat": 4,
 "nbformat_minor": 5
}
