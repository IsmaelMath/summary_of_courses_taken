{
 "cells": [
  {
   "cell_type": "markdown",
   "id": "6ca90774",
   "metadata": {},
   "source": [
    "#### - Função Lambda, Map FIlter e Métodos"
   ]
  },
  {
   "cell_type": "code",
   "execution_count": 3,
   "id": "5c38fc97",
   "metadata": {},
   "outputs": [],
   "source": [
    "# Criando uma função, que calcula o quadrado dos numeros atribuidos\n",
    "def quard(var):\n",
    "    return var ** 2"
   ]
  },
  {
   "cell_type": "code",
   "execution_count": 8,
   "id": "b8b2bf1d",
   "metadata": {},
   "outputs": [],
   "source": [
    "# Outra forma de criar sem a questão de intentação e de forma reduzida\n",
    "def quard(x): return x ** 3"
   ]
  },
  {
   "cell_type": "code",
   "execution_count": 9,
   "id": "376147bd",
   "metadata": {},
   "outputs": [
    {
     "data": {
      "text/plain": [
       "15625"
      ]
     },
     "execution_count": 9,
     "metadata": {},
     "output_type": "execute_result"
    }
   ],
   "source": [
    "quard(25)"
   ]
  },
  {
   "cell_type": "code",
   "execution_count": 11,
   "id": "220e0791",
   "metadata": {},
   "outputs": [
    {
     "data": {
      "text/plain": [
       "<function __main__.<lambda>(num)>"
      ]
     },
     "execution_count": 11,
     "metadata": {},
     "output_type": "execute_result"
    }
   ],
   "source": [
    "# Criando um função de forma reduzida usando a método lambda \n",
    "lambda num: num ** 2"
   ]
  },
  {
   "cell_type": "code",
   "execution_count": 15,
   "id": "ae415a2f",
   "metadata": {},
   "outputs": [
    {
     "data": {
      "text/plain": [
       "<map at 0x7f05c930a1a0>"
      ]
     },
     "execution_count": 15,
     "metadata": {},
     "output_type": "execute_result"
    }
   ],
   "source": [
    "# Criando uma lista de valores\n",
    "seq = [1, 2, 3, 4, 5]\n",
    "\n",
    "# Criando o método map\n",
    "map(quard, seq)"
   ]
  },
  {
   "cell_type": "code",
   "execution_count": 19,
   "id": "47d34fcd",
   "metadata": {},
   "outputs": [
    {
     "data": {
      "text/plain": [
       "[1, 8, 27, 64, 125]"
      ]
     },
     "execution_count": 19,
     "metadata": {},
     "output_type": "execute_result"
    }
   ],
   "source": [
    "# Executando o método e nesse caso temos que converter em uma lista\n",
    "list(map(quard, seq))"
   ]
  },
  {
   "cell_type": "code",
   "execution_count": 20,
   "id": "d989c7d3",
   "metadata": {},
   "outputs": [
    {
     "data": {
      "text/plain": [
       "(1, 8, 27, 64, 125)"
      ]
     },
     "execution_count": 20,
     "metadata": {},
     "output_type": "execute_result"
    }
   ],
   "source": [
    "# Executando o método e nesse caso estamos convertendo os valores em uma tupla\n",
    "tuple(map(quard, seq))"
   ]
  },
  {
   "cell_type": "code",
   "execution_count": 21,
   "id": "ed487733",
   "metadata": {},
   "outputs": [
    {
     "data": {
      "text/plain": [
       "[1, 4, 9, 16, 25]"
      ]
     },
     "execution_count": 21,
     "metadata": {},
     "output_type": "execute_result"
    }
   ],
   "source": [
    "# Posso criar o método map atribuindo nele diretamente uma função lambda \n",
    "list(map(lambda x: x ** 2, seq))"
   ]
  },
  {
   "cell_type": "code",
   "execution_count": 23,
   "id": "a391955f",
   "metadata": {},
   "outputs": [
    {
     "data": {
      "text/plain": [
       "[2, 4]"
      ]
     },
     "execution_count": 23,
     "metadata": {},
     "output_type": "execute_result"
    }
   ],
   "source": [
    "# Convetendo uma lista e implementando o método filter \n",
    "# A função criada ela faz o print apenas dos valores que tem divisão exata\n",
    "list(filter(lambda item: item%2==0, seq))"
   ]
  },
  {
   "cell_type": "code",
   "execution_count": 26,
   "id": "2d0292b4",
   "metadata": {},
   "outputs": [
    {
     "data": {
      "text/plain": [
       "[1, 3, 5]"
      ]
     },
     "execution_count": 26,
     "metadata": {},
     "output_type": "execute_result"
    }
   ],
   "source": [
    "# Convetendo uma lista e implementando o método filter \n",
    "# A função criada ela faz o print apenas dos valores que não tem divisão exata\n",
    "list(filter(lambda item: item%2!=0, seq))"
   ]
  },
  {
   "cell_type": "code",
   "execution_count": 28,
   "id": "8cfac1c7",
   "metadata": {},
   "outputs": [
    {
     "data": {
      "text/plain": [
       "'Olá, me chamo Rodrigo'"
      ]
     },
     "execution_count": 28,
     "metadata": {},
     "output_type": "execute_result"
    }
   ],
   "source": [
    "# Criando uma string\n",
    "str = \"Olá, me chamo Ismael\"; str"
   ]
  },
  {
   "cell_type": "code",
   "execution_count": 29,
   "id": "26e8d434",
   "metadata": {},
   "outputs": [
    {
     "data": {
      "text/plain": [
       "'olá, me chamo rodrigo'"
      ]
     },
     "execution_count": 29,
     "metadata": {},
     "output_type": "execute_result"
    }
   ],
   "source": [
    "# Executando um método na string, para converter tudo em minúsculo\n",
    "str.lower()"
   ]
  },
  {
   "cell_type": "code",
   "execution_count": 30,
   "id": "f5e307cb",
   "metadata": {},
   "outputs": [
    {
     "data": {
      "text/plain": [
       "'OLÁ, ME CHAMO RODRIGO'"
      ]
     },
     "execution_count": 30,
     "metadata": {},
     "output_type": "execute_result"
    }
   ],
   "source": [
    "# Executando um método na string, para converter tudo em maiúsculo\n",
    "str.upper()"
   ]
  },
  {
   "cell_type": "code",
   "execution_count": 31,
   "id": "8b9ffe10",
   "metadata": {},
   "outputs": [
    {
     "data": {
      "text/plain": [
       "['Olá,', 'me', 'chamo', 'Rodrigo']"
      ]
     },
     "execution_count": 31,
     "metadata": {},
     "output_type": "execute_result"
    }
   ],
   "source": [
    "# Executando métodos de strings e nesse caso vamos converter a string em uma lista\n",
    "str.split()"
   ]
  },
  {
   "cell_type": "code",
   "execution_count": 33,
   "id": "0851a62f",
   "metadata": {},
   "outputs": [
    {
     "data": {
      "text/plain": [
       "['Olá', ' me chamo Rodrigo']"
      ]
     },
     "execution_count": 33,
     "metadata": {},
     "output_type": "execute_result"
    }
   ],
   "source": [
    "# Executando métodos de strings e nesse caso vamos converter a string em uma lista parando um parametro de separação\n",
    "str.split(\",\")"
   ]
  },
  {
   "cell_type": "code",
   "execution_count": 35,
   "id": "9a7607e3",
   "metadata": {},
   "outputs": [
    {
     "data": {
      "text/plain": [
       "4"
      ]
     },
     "execution_count": 35,
     "metadata": {},
     "output_type": "execute_result"
    }
   ],
   "source": [
    "# Verificando qual o tamanho da lista (ou string) com o método len()\n",
    "len(str.split())"
   ]
  },
  {
   "cell_type": "code",
   "execution_count": 37,
   "id": "17f6a803",
   "metadata": {},
   "outputs": [
    {
     "data": {
      "text/plain": [
       "2"
      ]
     },
     "execution_count": 37,
     "metadata": {},
     "output_type": "execute_result"
    }
   ],
   "source": [
    "# Verificando qual o tamanho da lista (ou string) com o método len() e passando um parâmetro de separação\n",
    "len(str.split(\",\"))"
   ]
  },
  {
   "cell_type": "code",
   "execution_count": 45,
   "id": "ee547fae",
   "metadata": {},
   "outputs": [
    {
     "data": {
      "text/plain": [
       "[1, 35, 48, 65, 455, 'Ismael']"
      ]
     },
     "execution_count": 45,
     "metadata": {},
     "output_type": "execute_result"
    }
   ],
   "source": [
    "# Criando uma lista qualquer\n",
    "lista_q = [1, 35, 48, 65, 455]\n",
    "# Utilizando o método append() para adicionar valores a lista\n",
    "lista_q.append(\"Ismael\"); lista_q"
   ]
  },
  {
   "cell_type": "code",
   "execution_count": 46,
   "id": "0ae7aa41",
   "metadata": {},
   "outputs": [
    {
     "data": {
      "text/plain": [
       "[1, 35, 48, 65, 455]"
      ]
     },
     "execution_count": 46,
     "metadata": {},
     "output_type": "execute_result"
    }
   ],
   "source": [
    "# Utilizando um novo método o pop()\n",
    "lista_q.pop(); lista_q"
   ]
  },
  {
   "cell_type": "code",
   "execution_count": 47,
   "id": "3d154850",
   "metadata": {},
   "outputs": [
    {
     "data": {
      "text/plain": [
       "[35, 48, 65, 455]"
      ]
     },
     "execution_count": 47,
     "metadata": {},
     "output_type": "execute_result"
    }
   ],
   "source": [
    "# Utilizando um novo método o pop() agora passando um parâmetro\n",
    "lista_q.pop(0); lista_q"
   ]
  },
  {
   "cell_type": "code",
   "execution_count": 48,
   "id": "f29838a3",
   "metadata": {},
   "outputs": [
    {
     "data": {
      "text/plain": [
       "True"
      ]
     },
     "execution_count": 48,
     "metadata": {},
     "output_type": "execute_result"
    }
   ],
   "source": [
    "# Usando o operador in para verificar se o elemento especificado está contido na lista\n",
    "x = 65\n",
    "\n",
    "x in lista_q"
   ]
  },
  {
   "cell_type": "code",
   "execution_count": 54,
   "id": "a05ccd72",
   "metadata": {},
   "outputs": [
    {
     "data": {
      "text/plain": [
       "False"
      ]
     },
     "execution_count": 54,
     "metadata": {},
     "output_type": "execute_result"
    }
   ],
   "source": [
    "# Dessa vez observe que x não se trata de uma string verificaremos a seguir\n",
    "x in [\"x\", \"y\", \"z\"]"
   ]
  },
  {
   "cell_type": "code",
   "execution_count": 58,
   "id": "e3cbc36d",
   "metadata": {},
   "outputs": [
    {
     "data": {
      "text/plain": [
       "int"
      ]
     },
     "execution_count": 58,
     "metadata": {},
     "output_type": "execute_result"
    }
   ],
   "source": [
    "# Verificando que tipo de objeto é x\n",
    "type(x)"
   ]
  },
  {
   "cell_type": "code",
   "execution_count": 59,
   "id": "ab127c90",
   "metadata": {},
   "outputs": [
    {
     "data": {
      "text/plain": [
       "True"
      ]
     },
     "execution_count": 59,
     "metadata": {},
     "output_type": "execute_result"
    }
   ],
   "source": [
    "\"x\" in [\"x\", \"y\", \"z\"]"
   ]
  }
 ],
 "metadata": {
  "kernelspec": {
   "display_name": "Python 3 (ipykernel)",
   "language": "python",
   "name": "python3"
  },
  "language_info": {
   "codemirror_mode": {
    "name": "ipython",
    "version": 3
   },
   "file_extension": ".py",
   "mimetype": "text/x-python",
   "name": "python",
   "nbconvert_exporter": "python",
   "pygments_lexer": "ipython3",
   "version": "3.10.6"
  }
 },
 "nbformat": 4,
 "nbformat_minor": 5
}
