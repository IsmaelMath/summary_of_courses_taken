{
 "cells": [
  {
   "cell_type": "code",
   "execution_count": 1,
   "id": "532f7164",
   "metadata": {},
   "outputs": [],
   "source": [
    "import pandas as pd \n",
    "import numpy as np\n",
    "import matplotlib.pyplot as plt\n",
    "%matplotlib inline"
   ]
  },
  {
   "cell_type": "code",
   "execution_count": 7,
   "id": "1289a522",
   "metadata": {},
   "outputs": [],
   "source": [
    "from plotly import __version__"
   ]
  },
  {
   "cell_type": "code",
   "execution_count": 8,
   "id": "af29d798",
   "metadata": {},
   "outputs": [
    {
     "name": "stdout",
     "output_type": "stream",
     "text": [
      "5.13.0\n"
     ]
    }
   ],
   "source": [
    "print(__version__)"
   ]
  },
  {
   "cell_type": "code",
   "execution_count": 9,
   "id": "e290e410",
   "metadata": {},
   "outputs": [],
   "source": [
    "from plotly.offline import download_plotlyjs, init_notebook_mode, plot, iplot"
   ]
  },
  {
   "cell_type": "code",
   "execution_count": 12,
   "id": "5646d83c",
   "metadata": {},
   "outputs": [],
   "source": [
    "import cufflinks as cf"
   ]
  },
  {
   "cell_type": "code",
   "execution_count": 13,
   "id": "ddea3b12",
   "metadata": {},
   "outputs": [
    {
     "data": {
      "text/html": [
       "        <script type=\"text/javascript\">\n",
       "        window.PlotlyConfig = {MathJaxConfig: 'local'};\n",
       "        if (window.MathJax && window.MathJax.Hub && window.MathJax.Hub.Config) {window.MathJax.Hub.Config({SVG: {font: \"STIX-Web\"}});}\n",
       "        if (typeof require !== 'undefined') {\n",
       "        require.undef(\"plotly\");\n",
       "        requirejs.config({\n",
       "            paths: {\n",
       "                'plotly': ['https://cdn.plot.ly/plotly-2.18.0.min']\n",
       "            }\n",
       "        });\n",
       "        require(['plotly'], function(Plotly) {\n",
       "            window._Plotly = Plotly;\n",
       "        });\n",
       "        }\n",
       "        </script>\n",
       "        "
      ]
     },
     "metadata": {},
     "output_type": "display_data"
    }
   ],
   "source": [
    "init_notebook_mode(connected=True)"
   ]
  },
  {
   "cell_type": "code",
   "execution_count": 14,
   "id": "73643436",
   "metadata": {},
   "outputs": [
    {
     "data": {
      "text/html": [
       "        <script type=\"text/javascript\">\n",
       "        window.PlotlyConfig = {MathJaxConfig: 'local'};\n",
       "        if (window.MathJax && window.MathJax.Hub && window.MathJax.Hub.Config) {window.MathJax.Hub.Config({SVG: {font: \"STIX-Web\"}});}\n",
       "        if (typeof require !== 'undefined') {\n",
       "        require.undef(\"plotly\");\n",
       "        requirejs.config({\n",
       "            paths: {\n",
       "                'plotly': ['https://cdn.plot.ly/plotly-2.18.0.min']\n",
       "            }\n",
       "        });\n",
       "        require(['plotly'], function(Plotly) {\n",
       "            window._Plotly = Plotly;\n",
       "        });\n",
       "        }\n",
       "        </script>\n",
       "        "
      ]
     },
     "metadata": {},
     "output_type": "display_data"
    }
   ],
   "source": [
    "cf.go_offline()"
   ]
  },
  {
   "cell_type": "code",
   "execution_count": 16,
   "id": "538764ec",
   "metadata": {},
   "outputs": [
    {
     "data": {
      "text/html": [
       "<div>\n",
       "<style scoped>\n",
       "    .dataframe tbody tr th:only-of-type {\n",
       "        vertical-align: middle;\n",
       "    }\n",
       "\n",
       "    .dataframe tbody tr th {\n",
       "        vertical-align: top;\n",
       "    }\n",
       "\n",
       "    .dataframe thead th {\n",
       "        text-align: right;\n",
       "    }\n",
       "</style>\n",
       "<table border=\"1\" class=\"dataframe\">\n",
       "  <thead>\n",
       "    <tr style=\"text-align: right;\">\n",
       "      <th></th>\n",
       "      <th>A</th>\n",
       "      <th>B</th>\n",
       "      <th>C</th>\n",
       "      <th>D</th>\n",
       "    </tr>\n",
       "  </thead>\n",
       "  <tbody>\n",
       "    <tr>\n",
       "      <th>0</th>\n",
       "      <td>-1.574981</td>\n",
       "      <td>0.396425</td>\n",
       "      <td>1.070041</td>\n",
       "      <td>0.144256</td>\n",
       "    </tr>\n",
       "    <tr>\n",
       "      <th>1</th>\n",
       "      <td>-1.383379</td>\n",
       "      <td>0.301798</td>\n",
       "      <td>0.473207</td>\n",
       "      <td>-1.893934</td>\n",
       "    </tr>\n",
       "    <tr>\n",
       "      <th>2</th>\n",
       "      <td>0.365881</td>\n",
       "      <td>-0.868308</td>\n",
       "      <td>0.888938</td>\n",
       "      <td>-0.484773</td>\n",
       "    </tr>\n",
       "    <tr>\n",
       "      <th>3</th>\n",
       "      <td>1.275400</td>\n",
       "      <td>0.209048</td>\n",
       "      <td>1.984686</td>\n",
       "      <td>-0.459339</td>\n",
       "    </tr>\n",
       "    <tr>\n",
       "      <th>4</th>\n",
       "      <td>0.528667</td>\n",
       "      <td>-1.015139</td>\n",
       "      <td>-0.990586</td>\n",
       "      <td>-2.339592</td>\n",
       "    </tr>\n",
       "  </tbody>\n",
       "</table>\n",
       "</div>"
      ],
      "text/plain": [
       "          A         B         C         D\n",
       "0 -1.574981  0.396425  1.070041  0.144256\n",
       "1 -1.383379  0.301798  0.473207 -1.893934\n",
       "2  0.365881 -0.868308  0.888938 -0.484773\n",
       "3  1.275400  0.209048  1.984686 -0.459339\n",
       "4  0.528667 -1.015139 -0.990586 -2.339592"
      ]
     },
     "execution_count": 16,
     "metadata": {},
     "output_type": "execute_result"
    }
   ],
   "source": [
    "df = pd.DataFrame(np.random.randn(100,4), columns=\"A B C D\".split()); df.head()"
   ]
  },
  {
   "cell_type": "code",
   "execution_count": 17,
   "id": "e4ec8957",
   "metadata": {},
   "outputs": [
    {
     "data": {
      "text/html": [
       "<div>\n",
       "<style scoped>\n",
       "    .dataframe tbody tr th:only-of-type {\n",
       "        vertical-align: middle;\n",
       "    }\n",
       "\n",
       "    .dataframe tbody tr th {\n",
       "        vertical-align: top;\n",
       "    }\n",
       "\n",
       "    .dataframe thead th {\n",
       "        text-align: right;\n",
       "    }\n",
       "</style>\n",
       "<table border=\"1\" class=\"dataframe\">\n",
       "  <thead>\n",
       "    <tr style=\"text-align: right;\">\n",
       "      <th></th>\n",
       "      <th>Categoria</th>\n",
       "      <th>valores</th>\n",
       "    </tr>\n",
       "  </thead>\n",
       "  <tbody>\n",
       "    <tr>\n",
       "      <th>0</th>\n",
       "      <td>A</td>\n",
       "      <td>32</td>\n",
       "    </tr>\n",
       "    <tr>\n",
       "      <th>1</th>\n",
       "      <td>B</td>\n",
       "      <td>43</td>\n",
       "    </tr>\n",
       "    <tr>\n",
       "      <th>2</th>\n",
       "      <td>C</td>\n",
       "      <td>50</td>\n",
       "    </tr>\n",
       "  </tbody>\n",
       "</table>\n",
       "</div>"
      ],
      "text/plain": [
       "  Categoria  valores\n",
       "0         A       32\n",
       "1         B       43\n",
       "2         C       50"
      ]
     },
     "execution_count": 17,
     "metadata": {},
     "output_type": "execute_result"
    }
   ],
   "source": [
    "df2 = pd.DataFrame({\"Categoria\":[\"A\", \"B\", \"C\"], \"valores\":[32, 43, 50]}); df2.head()"
   ]
  },
  {
   "cell_type": "code",
   "execution_count": 20,
   "id": "8662da43",
   "metadata": {},
   "outputs": [
    {
     "data": {
      "application/vnd.plotly.v1+json": {
       "config": {
        "linkText": "Export to plot.ly",
        "plotlyServerURL": "https://plot.ly",
        "showLink": true
       },
       "data": [
        {
         "line": {
          "color": "rgba(255, 153, 51, 1.0)",
          "dash": "solid",
          "shape": "linear",
          "width": 1.3
         },
         "marker": {
          "size": 12,
          "symbol": "circle"
         },
         "mode": "markers",
         "name": "B",
         "text": "",
         "type": "scatter",
         "x": [
          -1.5749810496858492,
          -1.3833793433667436,
          0.36588075526834546,
          1.275399849602529,
          0.5286668747009455,
          -0.7679032009223029,
          -0.17831916014732532,
          -2.257326435988866,
          0.07658860332702637,
          1.3567938287358288,
          0.31894748456236754,
          -0.33236158300706464,
          -0.5406260875570553,
          -0.37195941916552244,
          -0.3135738744446838,
          -1.010589752168183,
          -0.34346062433482266,
          -2.6744763425885423,
          0.4240381404822287,
          0.2885273430894623,
          0.08427439673144732,
          -0.23871144244853104,
          0.25740702376805175,
          0.40166934404547766,
          0.8323461834133391,
          0.380030623534109,
          0.5572622542561397,
          -0.6278502285641379,
          0.3692001447418704,
          -1.252856435011434,
          0.9396183305979209,
          2.197696282685438,
          -0.6348382801909904,
          -0.8729626381576087,
          0.05369217970057937,
          -0.028905049872739463,
          -0.12222368961439022,
          0.00866738492464321,
          -0.6367143859649672,
          -1.7133377029111103,
          0.99536125242314,
          -1.009122337998362,
          -1.360458340717226,
          0.7800896480356647,
          -0.17532259166702616,
          0.032736921693968066,
          -0.029454474920911446,
          -0.5622728532218199,
          1.7074440404654854,
          1.569656559086373,
          0.4166056558837753,
          -0.2464947669782788,
          0.051460325727519976,
          -0.5140444063570784,
          -1.4717230819608562,
          -0.833447655009454,
          2.062410774351031,
          0.3301660327167039,
          -0.5484153848392193,
          -1.0492195305040761,
          -1.019093053255773,
          1.1009944121217843,
          -1.5833892267026457,
          1.3222535001686084,
          -0.6762104727297058,
          1.1256325176591828,
          1.4931242561850617,
          -1.0115610188042432,
          -0.1710109126477292,
          0.9683985282675233,
          -0.2923692307598237,
          -0.4186511634855657,
          -0.8697287759682212,
          -0.09922350097748456,
          -0.6131434465914425,
          -0.46546756990307686,
          -2.371370606691687,
          -0.011436671066204995,
          2.3688431617731793,
          -0.440029376897687,
          -0.8353927478232571,
          -1.320643031620411,
          0.5479177999724679,
          -1.6851472200935969,
          -1.105532954107571,
          -0.7654776138021443,
          0.1639452575441152,
          -1.8061852621960486,
          0.11558384967903741,
          -2.263510071725915,
          0.03022567602240936,
          -1.1359137329317626,
          0.11757310430053158,
          0.8152531228518184,
          -0.03448705506848795,
          0.6307535692636861,
          -8.491084491530586e-05,
          0.9122527063264612,
          -0.82128369509477,
          0.6122755731166608
         ],
         "y": [
          0.39642477413478533,
          0.3017979791106031,
          -0.8683082254335007,
          0.20904761546820905,
          -1.0151385494413272,
          1.726459441137804,
          -0.915985971357377,
          1.0086740707482478,
          -1.3541085530315435,
          -0.29751376435345445,
          -0.9677119092995604,
          0.81640449993328,
          -0.31681896091569794,
          0.376691603872416,
          0.0955435591329955,
          0.3059302882053221,
          -0.40763287280287025,
          1.6209528853068607,
          -0.22050739262858718,
          1.2407691032730783,
          0.1636563461364261,
          0.11613750655239334,
          1.6532965922404759,
          -0.18031837018080812,
          -0.6598102231330875,
          1.7173440288843729,
          -0.6034913988882491,
          0.700172084595978,
          -0.8655937280498989,
          -0.07072219995759044,
          0.7252338637157283,
          1.6896643478428925,
          -1.9985550678721204,
          -1.288494222801579,
          -1.7568974963426904,
          1.19706327798354,
          -0.31731491298793957,
          1.5395547666939289,
          -0.014035010368598758,
          0.9050425509127696,
          0.8009389257192039,
          -0.08302009201298892,
          0.8171531869793346,
          -0.7938970281830412,
          0.06748229716032612,
          -0.25163340525469363,
          0.4501082789510372,
          0.7042743375651448,
          1.5786258826783846,
          0.4361285619666368,
          1.7486171274308304,
          0.867738412173522,
          0.2514370572602232,
          0.36820210750981897,
          0.45772091125516895,
          -1.2408746566028792,
          -0.6509170915331346,
          -1.8598649448554383,
          1.6667421329016379,
          0.881305758258542,
          0.2701389057885898,
          -0.0347324992409485,
          -1.1756209977978531,
          -0.9846172568564603,
          1.2800801685401286,
          -0.23730438169687665,
          1.012922776234193,
          -0.33041307438517004,
          -2.085051844871717,
          -0.9745502845039695,
          -0.5536617857028113,
          -0.590771338993367,
          -1.0698252162427944,
          0.6190627854938642,
          -0.8881704812612123,
          1.431363113773757,
          -0.007321763388780562,
          -1.92843803713575,
          -0.32707220180344077,
          -0.3061031816927142,
          0.2824028569969956,
          -0.5216603317192834,
          0.42177798337842715,
          0.8755835168934673,
          -1.5346115372015554,
          -0.18422379387988802,
          0.6494656673048684,
          0.9072613951453106,
          0.228171593180147,
          -0.2746116506540319,
          -0.028169419102425697,
          -0.42787317529700586,
          -1.3357558834404946,
          -0.790647659605685,
          -0.029415709062188093,
          0.1799045576781755,
          0.9522344570155521,
          -0.5184755826628655,
          1.1836484340050315,
          0.9778129395793809
         ]
        }
       ],
       "layout": {
        "legend": {
         "bgcolor": "#F5F6F9",
         "font": {
          "color": "#4D5663"
         }
        },
        "paper_bgcolor": "#F5F6F9",
        "plot_bgcolor": "#F5F6F9",
        "template": {
         "data": {
          "bar": [
           {
            "error_x": {
             "color": "#2a3f5f"
            },
            "error_y": {
             "color": "#2a3f5f"
            },
            "marker": {
             "line": {
              "color": "#E5ECF6",
              "width": 0.5
             },
             "pattern": {
              "fillmode": "overlay",
              "size": 10,
              "solidity": 0.2
             }
            },
            "type": "bar"
           }
          ],
          "barpolar": [
           {
            "marker": {
             "line": {
              "color": "#E5ECF6",
              "width": 0.5
             },
             "pattern": {
              "fillmode": "overlay",
              "size": 10,
              "solidity": 0.2
             }
            },
            "type": "barpolar"
           }
          ],
          "carpet": [
           {
            "aaxis": {
             "endlinecolor": "#2a3f5f",
             "gridcolor": "white",
             "linecolor": "white",
             "minorgridcolor": "white",
             "startlinecolor": "#2a3f5f"
            },
            "baxis": {
             "endlinecolor": "#2a3f5f",
             "gridcolor": "white",
             "linecolor": "white",
             "minorgridcolor": "white",
             "startlinecolor": "#2a3f5f"
            },
            "type": "carpet"
           }
          ],
          "choropleth": [
           {
            "colorbar": {
             "outlinewidth": 0,
             "ticks": ""
            },
            "type": "choropleth"
           }
          ],
          "contour": [
           {
            "colorbar": {
             "outlinewidth": 0,
             "ticks": ""
            },
            "colorscale": [
             [
              0,
              "#0d0887"
             ],
             [
              0.1111111111111111,
              "#46039f"
             ],
             [
              0.2222222222222222,
              "#7201a8"
             ],
             [
              0.3333333333333333,
              "#9c179e"
             ],
             [
              0.4444444444444444,
              "#bd3786"
             ],
             [
              0.5555555555555556,
              "#d8576b"
             ],
             [
              0.6666666666666666,
              "#ed7953"
             ],
             [
              0.7777777777777778,
              "#fb9f3a"
             ],
             [
              0.8888888888888888,
              "#fdca26"
             ],
             [
              1,
              "#f0f921"
             ]
            ],
            "type": "contour"
           }
          ],
          "contourcarpet": [
           {
            "colorbar": {
             "outlinewidth": 0,
             "ticks": ""
            },
            "type": "contourcarpet"
           }
          ],
          "heatmap": [
           {
            "colorbar": {
             "outlinewidth": 0,
             "ticks": ""
            },
            "colorscale": [
             [
              0,
              "#0d0887"
             ],
             [
              0.1111111111111111,
              "#46039f"
             ],
             [
              0.2222222222222222,
              "#7201a8"
             ],
             [
              0.3333333333333333,
              "#9c179e"
             ],
             [
              0.4444444444444444,
              "#bd3786"
             ],
             [
              0.5555555555555556,
              "#d8576b"
             ],
             [
              0.6666666666666666,
              "#ed7953"
             ],
             [
              0.7777777777777778,
              "#fb9f3a"
             ],
             [
              0.8888888888888888,
              "#fdca26"
             ],
             [
              1,
              "#f0f921"
             ]
            ],
            "type": "heatmap"
           }
          ],
          "heatmapgl": [
           {
            "colorbar": {
             "outlinewidth": 0,
             "ticks": ""
            },
            "colorscale": [
             [
              0,
              "#0d0887"
             ],
             [
              0.1111111111111111,
              "#46039f"
             ],
             [
              0.2222222222222222,
              "#7201a8"
             ],
             [
              0.3333333333333333,
              "#9c179e"
             ],
             [
              0.4444444444444444,
              "#bd3786"
             ],
             [
              0.5555555555555556,
              "#d8576b"
             ],
             [
              0.6666666666666666,
              "#ed7953"
             ],
             [
              0.7777777777777778,
              "#fb9f3a"
             ],
             [
              0.8888888888888888,
              "#fdca26"
             ],
             [
              1,
              "#f0f921"
             ]
            ],
            "type": "heatmapgl"
           }
          ],
          "histogram": [
           {
            "marker": {
             "pattern": {
              "fillmode": "overlay",
              "size": 10,
              "solidity": 0.2
             }
            },
            "type": "histogram"
           }
          ],
          "histogram2d": [
           {
            "colorbar": {
             "outlinewidth": 0,
             "ticks": ""
            },
            "colorscale": [
             [
              0,
              "#0d0887"
             ],
             [
              0.1111111111111111,
              "#46039f"
             ],
             [
              0.2222222222222222,
              "#7201a8"
             ],
             [
              0.3333333333333333,
              "#9c179e"
             ],
             [
              0.4444444444444444,
              "#bd3786"
             ],
             [
              0.5555555555555556,
              "#d8576b"
             ],
             [
              0.6666666666666666,
              "#ed7953"
             ],
             [
              0.7777777777777778,
              "#fb9f3a"
             ],
             [
              0.8888888888888888,
              "#fdca26"
             ],
             [
              1,
              "#f0f921"
             ]
            ],
            "type": "histogram2d"
           }
          ],
          "histogram2dcontour": [
           {
            "colorbar": {
             "outlinewidth": 0,
             "ticks": ""
            },
            "colorscale": [
             [
              0,
              "#0d0887"
             ],
             [
              0.1111111111111111,
              "#46039f"
             ],
             [
              0.2222222222222222,
              "#7201a8"
             ],
             [
              0.3333333333333333,
              "#9c179e"
             ],
             [
              0.4444444444444444,
              "#bd3786"
             ],
             [
              0.5555555555555556,
              "#d8576b"
             ],
             [
              0.6666666666666666,
              "#ed7953"
             ],
             [
              0.7777777777777778,
              "#fb9f3a"
             ],
             [
              0.8888888888888888,
              "#fdca26"
             ],
             [
              1,
              "#f0f921"
             ]
            ],
            "type": "histogram2dcontour"
           }
          ],
          "mesh3d": [
           {
            "colorbar": {
             "outlinewidth": 0,
             "ticks": ""
            },
            "type": "mesh3d"
           }
          ],
          "parcoords": [
           {
            "line": {
             "colorbar": {
              "outlinewidth": 0,
              "ticks": ""
             }
            },
            "type": "parcoords"
           }
          ],
          "pie": [
           {
            "automargin": true,
            "type": "pie"
           }
          ],
          "scatter": [
           {
            "fillpattern": {
             "fillmode": "overlay",
             "size": 10,
             "solidity": 0.2
            },
            "type": "scatter"
           }
          ],
          "scatter3d": [
           {
            "line": {
             "colorbar": {
              "outlinewidth": 0,
              "ticks": ""
             }
            },
            "marker": {
             "colorbar": {
              "outlinewidth": 0,
              "ticks": ""
             }
            },
            "type": "scatter3d"
           }
          ],
          "scattercarpet": [
           {
            "marker": {
             "colorbar": {
              "outlinewidth": 0,
              "ticks": ""
             }
            },
            "type": "scattercarpet"
           }
          ],
          "scattergeo": [
           {
            "marker": {
             "colorbar": {
              "outlinewidth": 0,
              "ticks": ""
             }
            },
            "type": "scattergeo"
           }
          ],
          "scattergl": [
           {
            "marker": {
             "colorbar": {
              "outlinewidth": 0,
              "ticks": ""
             }
            },
            "type": "scattergl"
           }
          ],
          "scattermapbox": [
           {
            "marker": {
             "colorbar": {
              "outlinewidth": 0,
              "ticks": ""
             }
            },
            "type": "scattermapbox"
           }
          ],
          "scatterpolar": [
           {
            "marker": {
             "colorbar": {
              "outlinewidth": 0,
              "ticks": ""
             }
            },
            "type": "scatterpolar"
           }
          ],
          "scatterpolargl": [
           {
            "marker": {
             "colorbar": {
              "outlinewidth": 0,
              "ticks": ""
             }
            },
            "type": "scatterpolargl"
           }
          ],
          "scatterternary": [
           {
            "marker": {
             "colorbar": {
              "outlinewidth": 0,
              "ticks": ""
             }
            },
            "type": "scatterternary"
           }
          ],
          "surface": [
           {
            "colorbar": {
             "outlinewidth": 0,
             "ticks": ""
            },
            "colorscale": [
             [
              0,
              "#0d0887"
             ],
             [
              0.1111111111111111,
              "#46039f"
             ],
             [
              0.2222222222222222,
              "#7201a8"
             ],
             [
              0.3333333333333333,
              "#9c179e"
             ],
             [
              0.4444444444444444,
              "#bd3786"
             ],
             [
              0.5555555555555556,
              "#d8576b"
             ],
             [
              0.6666666666666666,
              "#ed7953"
             ],
             [
              0.7777777777777778,
              "#fb9f3a"
             ],
             [
              0.8888888888888888,
              "#fdca26"
             ],
             [
              1,
              "#f0f921"
             ]
            ],
            "type": "surface"
           }
          ],
          "table": [
           {
            "cells": {
             "fill": {
              "color": "#EBF0F8"
             },
             "line": {
              "color": "white"
             }
            },
            "header": {
             "fill": {
              "color": "#C8D4E3"
             },
             "line": {
              "color": "white"
             }
            },
            "type": "table"
           }
          ]
         },
         "layout": {
          "annotationdefaults": {
           "arrowcolor": "#2a3f5f",
           "arrowhead": 0,
           "arrowwidth": 1
          },
          "autotypenumbers": "strict",
          "coloraxis": {
           "colorbar": {
            "outlinewidth": 0,
            "ticks": ""
           }
          },
          "colorscale": {
           "diverging": [
            [
             0,
             "#8e0152"
            ],
            [
             0.1,
             "#c51b7d"
            ],
            [
             0.2,
             "#de77ae"
            ],
            [
             0.3,
             "#f1b6da"
            ],
            [
             0.4,
             "#fde0ef"
            ],
            [
             0.5,
             "#f7f7f7"
            ],
            [
             0.6,
             "#e6f5d0"
            ],
            [
             0.7,
             "#b8e186"
            ],
            [
             0.8,
             "#7fbc41"
            ],
            [
             0.9,
             "#4d9221"
            ],
            [
             1,
             "#276419"
            ]
           ],
           "sequential": [
            [
             0,
             "#0d0887"
            ],
            [
             0.1111111111111111,
             "#46039f"
            ],
            [
             0.2222222222222222,
             "#7201a8"
            ],
            [
             0.3333333333333333,
             "#9c179e"
            ],
            [
             0.4444444444444444,
             "#bd3786"
            ],
            [
             0.5555555555555556,
             "#d8576b"
            ],
            [
             0.6666666666666666,
             "#ed7953"
            ],
            [
             0.7777777777777778,
             "#fb9f3a"
            ],
            [
             0.8888888888888888,
             "#fdca26"
            ],
            [
             1,
             "#f0f921"
            ]
           ],
           "sequentialminus": [
            [
             0,
             "#0d0887"
            ],
            [
             0.1111111111111111,
             "#46039f"
            ],
            [
             0.2222222222222222,
             "#7201a8"
            ],
            [
             0.3333333333333333,
             "#9c179e"
            ],
            [
             0.4444444444444444,
             "#bd3786"
            ],
            [
             0.5555555555555556,
             "#d8576b"
            ],
            [
             0.6666666666666666,
             "#ed7953"
            ],
            [
             0.7777777777777778,
             "#fb9f3a"
            ],
            [
             0.8888888888888888,
             "#fdca26"
            ],
            [
             1,
             "#f0f921"
            ]
           ]
          },
          "colorway": [
           "#636efa",
           "#EF553B",
           "#00cc96",
           "#ab63fa",
           "#FFA15A",
           "#19d3f3",
           "#FF6692",
           "#B6E880",
           "#FF97FF",
           "#FECB52"
          ],
          "font": {
           "color": "#2a3f5f"
          },
          "geo": {
           "bgcolor": "white",
           "lakecolor": "white",
           "landcolor": "#E5ECF6",
           "showlakes": true,
           "showland": true,
           "subunitcolor": "white"
          },
          "hoverlabel": {
           "align": "left"
          },
          "hovermode": "closest",
          "mapbox": {
           "style": "light"
          },
          "paper_bgcolor": "white",
          "plot_bgcolor": "#E5ECF6",
          "polar": {
           "angularaxis": {
            "gridcolor": "white",
            "linecolor": "white",
            "ticks": ""
           },
           "bgcolor": "#E5ECF6",
           "radialaxis": {
            "gridcolor": "white",
            "linecolor": "white",
            "ticks": ""
           }
          },
          "scene": {
           "xaxis": {
            "backgroundcolor": "#E5ECF6",
            "gridcolor": "white",
            "gridwidth": 2,
            "linecolor": "white",
            "showbackground": true,
            "ticks": "",
            "zerolinecolor": "white"
           },
           "yaxis": {
            "backgroundcolor": "#E5ECF6",
            "gridcolor": "white",
            "gridwidth": 2,
            "linecolor": "white",
            "showbackground": true,
            "ticks": "",
            "zerolinecolor": "white"
           },
           "zaxis": {
            "backgroundcolor": "#E5ECF6",
            "gridcolor": "white",
            "gridwidth": 2,
            "linecolor": "white",
            "showbackground": true,
            "ticks": "",
            "zerolinecolor": "white"
           }
          },
          "shapedefaults": {
           "line": {
            "color": "#2a3f5f"
           }
          },
          "ternary": {
           "aaxis": {
            "gridcolor": "white",
            "linecolor": "white",
            "ticks": ""
           },
           "baxis": {
            "gridcolor": "white",
            "linecolor": "white",
            "ticks": ""
           },
           "bgcolor": "#E5ECF6",
           "caxis": {
            "gridcolor": "white",
            "linecolor": "white",
            "ticks": ""
           }
          },
          "title": {
           "x": 0.05
          },
          "xaxis": {
           "automargin": true,
           "gridcolor": "white",
           "linecolor": "white",
           "ticks": "",
           "title": {
            "standoff": 15
           },
           "zerolinecolor": "white",
           "zerolinewidth": 2
          },
          "yaxis": {
           "automargin": true,
           "gridcolor": "white",
           "linecolor": "white",
           "ticks": "",
           "title": {
            "standoff": 15
           },
           "zerolinecolor": "white",
           "zerolinewidth": 2
          }
         }
        },
        "title": {
         "font": {
          "color": "#4D5663"
         }
        },
        "xaxis": {
         "gridcolor": "#E1E5ED",
         "showgrid": true,
         "tickfont": {
          "color": "#4D5663"
         },
         "title": {
          "font": {
           "color": "#4D5663"
          },
          "text": ""
         },
         "zerolinecolor": "#E1E5ED"
        },
        "yaxis": {
         "gridcolor": "#E1E5ED",
         "showgrid": true,
         "tickfont": {
          "color": "#4D5663"
         },
         "title": {
          "font": {
           "color": "#4D5663"
          },
          "text": ""
         },
         "zerolinecolor": "#E1E5ED"
        }
       }
      },
      "text/html": [
       "<div>                            <div id=\"fb876373-6635-4c7f-90e0-ac1b46b50cfa\" class=\"plotly-graph-div\" style=\"height:525px; width:100%;\"></div>            <script type=\"text/javascript\">                require([\"plotly\"], function(Plotly) {                    window.PLOTLYENV=window.PLOTLYENV || {};\n",
       "                    window.PLOTLYENV.BASE_URL='https://plot.ly';                                    if (document.getElementById(\"fb876373-6635-4c7f-90e0-ac1b46b50cfa\")) {                    Plotly.newPlot(                        \"fb876373-6635-4c7f-90e0-ac1b46b50cfa\",                        [{\"line\":{\"color\":\"rgba(255, 153, 51, 1.0)\",\"dash\":\"solid\",\"shape\":\"linear\",\"width\":1.3},\"marker\":{\"size\":12,\"symbol\":\"circle\"},\"mode\":\"markers\",\"name\":\"B\",\"text\":\"\",\"x\":[-1.5749810496858492,-1.3833793433667436,0.36588075526834546,1.275399849602529,0.5286668747009455,-0.7679032009223029,-0.17831916014732532,-2.257326435988866,0.07658860332702637,1.3567938287358288,0.31894748456236754,-0.33236158300706464,-0.5406260875570553,-0.37195941916552244,-0.3135738744446838,-1.010589752168183,-0.34346062433482266,-2.6744763425885423,0.4240381404822287,0.2885273430894623,0.08427439673144732,-0.23871144244853104,0.25740702376805175,0.40166934404547766,0.8323461834133391,0.380030623534109,0.5572622542561397,-0.6278502285641379,0.3692001447418704,-1.252856435011434,0.9396183305979209,2.197696282685438,-0.6348382801909904,-0.8729626381576087,0.05369217970057937,-0.028905049872739463,-0.12222368961439022,0.00866738492464321,-0.6367143859649672,-1.7133377029111103,0.99536125242314,-1.009122337998362,-1.360458340717226,0.7800896480356647,-0.17532259166702616,0.032736921693968066,-0.029454474920911446,-0.5622728532218199,1.7074440404654854,1.569656559086373,0.4166056558837753,-0.2464947669782788,0.051460325727519976,-0.5140444063570784,-1.4717230819608562,-0.833447655009454,2.062410774351031,0.3301660327167039,-0.5484153848392193,-1.0492195305040761,-1.019093053255773,1.1009944121217843,-1.5833892267026457,1.3222535001686084,-0.6762104727297058,1.1256325176591828,1.4931242561850617,-1.0115610188042432,-0.1710109126477292,0.9683985282675233,-0.2923692307598237,-0.4186511634855657,-0.8697287759682212,-0.09922350097748456,-0.6131434465914425,-0.46546756990307686,-2.371370606691687,-0.011436671066204995,2.3688431617731793,-0.440029376897687,-0.8353927478232571,-1.320643031620411,0.5479177999724679,-1.6851472200935969,-1.105532954107571,-0.7654776138021443,0.1639452575441152,-1.8061852621960486,0.11558384967903741,-2.263510071725915,0.03022567602240936,-1.1359137329317626,0.11757310430053158,0.8152531228518184,-0.03448705506848795,0.6307535692636861,-8.491084491530586e-05,0.9122527063264612,-0.82128369509477,0.6122755731166608],\"y\":[0.39642477413478533,0.3017979791106031,-0.8683082254335007,0.20904761546820905,-1.0151385494413272,1.726459441137804,-0.915985971357377,1.0086740707482478,-1.3541085530315435,-0.29751376435345445,-0.9677119092995604,0.81640449993328,-0.31681896091569794,0.376691603872416,0.0955435591329955,0.3059302882053221,-0.40763287280287025,1.6209528853068607,-0.22050739262858718,1.2407691032730783,0.1636563461364261,0.11613750655239334,1.6532965922404759,-0.18031837018080812,-0.6598102231330875,1.7173440288843729,-0.6034913988882491,0.700172084595978,-0.8655937280498989,-0.07072219995759044,0.7252338637157283,1.6896643478428925,-1.9985550678721204,-1.288494222801579,-1.7568974963426904,1.19706327798354,-0.31731491298793957,1.5395547666939289,-0.014035010368598758,0.9050425509127696,0.8009389257192039,-0.08302009201298892,0.8171531869793346,-0.7938970281830412,0.06748229716032612,-0.25163340525469363,0.4501082789510372,0.7042743375651448,1.5786258826783846,0.4361285619666368,1.7486171274308304,0.867738412173522,0.2514370572602232,0.36820210750981897,0.45772091125516895,-1.2408746566028792,-0.6509170915331346,-1.8598649448554383,1.6667421329016379,0.881305758258542,0.2701389057885898,-0.0347324992409485,-1.1756209977978531,-0.9846172568564603,1.2800801685401286,-0.23730438169687665,1.012922776234193,-0.33041307438517004,-2.085051844871717,-0.9745502845039695,-0.5536617857028113,-0.590771338993367,-1.0698252162427944,0.6190627854938642,-0.8881704812612123,1.431363113773757,-0.007321763388780562,-1.92843803713575,-0.32707220180344077,-0.3061031816927142,0.2824028569969956,-0.5216603317192834,0.42177798337842715,0.8755835168934673,-1.5346115372015554,-0.18422379387988802,0.6494656673048684,0.9072613951453106,0.228171593180147,-0.2746116506540319,-0.028169419102425697,-0.42787317529700586,-1.3357558834404946,-0.790647659605685,-0.029415709062188093,0.1799045576781755,0.9522344570155521,-0.5184755826628655,1.1836484340050315,0.9778129395793809],\"type\":\"scatter\"}],                        {\"legend\":{\"bgcolor\":\"#F5F6F9\",\"font\":{\"color\":\"#4D5663\"}},\"paper_bgcolor\":\"#F5F6F9\",\"plot_bgcolor\":\"#F5F6F9\",\"template\":{\"data\":{\"barpolar\":[{\"marker\":{\"line\":{\"color\":\"#E5ECF6\",\"width\":0.5},\"pattern\":{\"fillmode\":\"overlay\",\"size\":10,\"solidity\":0.2}},\"type\":\"barpolar\"}],\"bar\":[{\"error_x\":{\"color\":\"#2a3f5f\"},\"error_y\":{\"color\":\"#2a3f5f\"},\"marker\":{\"line\":{\"color\":\"#E5ECF6\",\"width\":0.5},\"pattern\":{\"fillmode\":\"overlay\",\"size\":10,\"solidity\":0.2}},\"type\":\"bar\"}],\"carpet\":[{\"aaxis\":{\"endlinecolor\":\"#2a3f5f\",\"gridcolor\":\"white\",\"linecolor\":\"white\",\"minorgridcolor\":\"white\",\"startlinecolor\":\"#2a3f5f\"},\"baxis\":{\"endlinecolor\":\"#2a3f5f\",\"gridcolor\":\"white\",\"linecolor\":\"white\",\"minorgridcolor\":\"white\",\"startlinecolor\":\"#2a3f5f\"},\"type\":\"carpet\"}],\"choropleth\":[{\"colorbar\":{\"outlinewidth\":0,\"ticks\":\"\"},\"type\":\"choropleth\"}],\"contourcarpet\":[{\"colorbar\":{\"outlinewidth\":0,\"ticks\":\"\"},\"type\":\"contourcarpet\"}],\"contour\":[{\"colorbar\":{\"outlinewidth\":0,\"ticks\":\"\"},\"colorscale\":[[0.0,\"#0d0887\"],[0.1111111111111111,\"#46039f\"],[0.2222222222222222,\"#7201a8\"],[0.3333333333333333,\"#9c179e\"],[0.4444444444444444,\"#bd3786\"],[0.5555555555555556,\"#d8576b\"],[0.6666666666666666,\"#ed7953\"],[0.7777777777777778,\"#fb9f3a\"],[0.8888888888888888,\"#fdca26\"],[1.0,\"#f0f921\"]],\"type\":\"contour\"}],\"heatmapgl\":[{\"colorbar\":{\"outlinewidth\":0,\"ticks\":\"\"},\"colorscale\":[[0.0,\"#0d0887\"],[0.1111111111111111,\"#46039f\"],[0.2222222222222222,\"#7201a8\"],[0.3333333333333333,\"#9c179e\"],[0.4444444444444444,\"#bd3786\"],[0.5555555555555556,\"#d8576b\"],[0.6666666666666666,\"#ed7953\"],[0.7777777777777778,\"#fb9f3a\"],[0.8888888888888888,\"#fdca26\"],[1.0,\"#f0f921\"]],\"type\":\"heatmapgl\"}],\"heatmap\":[{\"colorbar\":{\"outlinewidth\":0,\"ticks\":\"\"},\"colorscale\":[[0.0,\"#0d0887\"],[0.1111111111111111,\"#46039f\"],[0.2222222222222222,\"#7201a8\"],[0.3333333333333333,\"#9c179e\"],[0.4444444444444444,\"#bd3786\"],[0.5555555555555556,\"#d8576b\"],[0.6666666666666666,\"#ed7953\"],[0.7777777777777778,\"#fb9f3a\"],[0.8888888888888888,\"#fdca26\"],[1.0,\"#f0f921\"]],\"type\":\"heatmap\"}],\"histogram2dcontour\":[{\"colorbar\":{\"outlinewidth\":0,\"ticks\":\"\"},\"colorscale\":[[0.0,\"#0d0887\"],[0.1111111111111111,\"#46039f\"],[0.2222222222222222,\"#7201a8\"],[0.3333333333333333,\"#9c179e\"],[0.4444444444444444,\"#bd3786\"],[0.5555555555555556,\"#d8576b\"],[0.6666666666666666,\"#ed7953\"],[0.7777777777777778,\"#fb9f3a\"],[0.8888888888888888,\"#fdca26\"],[1.0,\"#f0f921\"]],\"type\":\"histogram2dcontour\"}],\"histogram2d\":[{\"colorbar\":{\"outlinewidth\":0,\"ticks\":\"\"},\"colorscale\":[[0.0,\"#0d0887\"],[0.1111111111111111,\"#46039f\"],[0.2222222222222222,\"#7201a8\"],[0.3333333333333333,\"#9c179e\"],[0.4444444444444444,\"#bd3786\"],[0.5555555555555556,\"#d8576b\"],[0.6666666666666666,\"#ed7953\"],[0.7777777777777778,\"#fb9f3a\"],[0.8888888888888888,\"#fdca26\"],[1.0,\"#f0f921\"]],\"type\":\"histogram2d\"}],\"histogram\":[{\"marker\":{\"pattern\":{\"fillmode\":\"overlay\",\"size\":10,\"solidity\":0.2}},\"type\":\"histogram\"}],\"mesh3d\":[{\"colorbar\":{\"outlinewidth\":0,\"ticks\":\"\"},\"type\":\"mesh3d\"}],\"parcoords\":[{\"line\":{\"colorbar\":{\"outlinewidth\":0,\"ticks\":\"\"}},\"type\":\"parcoords\"}],\"pie\":[{\"automargin\":true,\"type\":\"pie\"}],\"scatter3d\":[{\"line\":{\"colorbar\":{\"outlinewidth\":0,\"ticks\":\"\"}},\"marker\":{\"colorbar\":{\"outlinewidth\":0,\"ticks\":\"\"}},\"type\":\"scatter3d\"}],\"scattercarpet\":[{\"marker\":{\"colorbar\":{\"outlinewidth\":0,\"ticks\":\"\"}},\"type\":\"scattercarpet\"}],\"scattergeo\":[{\"marker\":{\"colorbar\":{\"outlinewidth\":0,\"ticks\":\"\"}},\"type\":\"scattergeo\"}],\"scattergl\":[{\"marker\":{\"colorbar\":{\"outlinewidth\":0,\"ticks\":\"\"}},\"type\":\"scattergl\"}],\"scattermapbox\":[{\"marker\":{\"colorbar\":{\"outlinewidth\":0,\"ticks\":\"\"}},\"type\":\"scattermapbox\"}],\"scatterpolargl\":[{\"marker\":{\"colorbar\":{\"outlinewidth\":0,\"ticks\":\"\"}},\"type\":\"scatterpolargl\"}],\"scatterpolar\":[{\"marker\":{\"colorbar\":{\"outlinewidth\":0,\"ticks\":\"\"}},\"type\":\"scatterpolar\"}],\"scatter\":[{\"fillpattern\":{\"fillmode\":\"overlay\",\"size\":10,\"solidity\":0.2},\"type\":\"scatter\"}],\"scatterternary\":[{\"marker\":{\"colorbar\":{\"outlinewidth\":0,\"ticks\":\"\"}},\"type\":\"scatterternary\"}],\"surface\":[{\"colorbar\":{\"outlinewidth\":0,\"ticks\":\"\"},\"colorscale\":[[0.0,\"#0d0887\"],[0.1111111111111111,\"#46039f\"],[0.2222222222222222,\"#7201a8\"],[0.3333333333333333,\"#9c179e\"],[0.4444444444444444,\"#bd3786\"],[0.5555555555555556,\"#d8576b\"],[0.6666666666666666,\"#ed7953\"],[0.7777777777777778,\"#fb9f3a\"],[0.8888888888888888,\"#fdca26\"],[1.0,\"#f0f921\"]],\"type\":\"surface\"}],\"table\":[{\"cells\":{\"fill\":{\"color\":\"#EBF0F8\"},\"line\":{\"color\":\"white\"}},\"header\":{\"fill\":{\"color\":\"#C8D4E3\"},\"line\":{\"color\":\"white\"}},\"type\":\"table\"}]},\"layout\":{\"annotationdefaults\":{\"arrowcolor\":\"#2a3f5f\",\"arrowhead\":0,\"arrowwidth\":1},\"autotypenumbers\":\"strict\",\"coloraxis\":{\"colorbar\":{\"outlinewidth\":0,\"ticks\":\"\"}},\"colorscale\":{\"diverging\":[[0,\"#8e0152\"],[0.1,\"#c51b7d\"],[0.2,\"#de77ae\"],[0.3,\"#f1b6da\"],[0.4,\"#fde0ef\"],[0.5,\"#f7f7f7\"],[0.6,\"#e6f5d0\"],[0.7,\"#b8e186\"],[0.8,\"#7fbc41\"],[0.9,\"#4d9221\"],[1,\"#276419\"]],\"sequential\":[[0.0,\"#0d0887\"],[0.1111111111111111,\"#46039f\"],[0.2222222222222222,\"#7201a8\"],[0.3333333333333333,\"#9c179e\"],[0.4444444444444444,\"#bd3786\"],[0.5555555555555556,\"#d8576b\"],[0.6666666666666666,\"#ed7953\"],[0.7777777777777778,\"#fb9f3a\"],[0.8888888888888888,\"#fdca26\"],[1.0,\"#f0f921\"]],\"sequentialminus\":[[0.0,\"#0d0887\"],[0.1111111111111111,\"#46039f\"],[0.2222222222222222,\"#7201a8\"],[0.3333333333333333,\"#9c179e\"],[0.4444444444444444,\"#bd3786\"],[0.5555555555555556,\"#d8576b\"],[0.6666666666666666,\"#ed7953\"],[0.7777777777777778,\"#fb9f3a\"],[0.8888888888888888,\"#fdca26\"],[1.0,\"#f0f921\"]]},\"colorway\":[\"#636efa\",\"#EF553B\",\"#00cc96\",\"#ab63fa\",\"#FFA15A\",\"#19d3f3\",\"#FF6692\",\"#B6E880\",\"#FF97FF\",\"#FECB52\"],\"font\":{\"color\":\"#2a3f5f\"},\"geo\":{\"bgcolor\":\"white\",\"lakecolor\":\"white\",\"landcolor\":\"#E5ECF6\",\"showlakes\":true,\"showland\":true,\"subunitcolor\":\"white\"},\"hoverlabel\":{\"align\":\"left\"},\"hovermode\":\"closest\",\"mapbox\":{\"style\":\"light\"},\"paper_bgcolor\":\"white\",\"plot_bgcolor\":\"#E5ECF6\",\"polar\":{\"angularaxis\":{\"gridcolor\":\"white\",\"linecolor\":\"white\",\"ticks\":\"\"},\"bgcolor\":\"#E5ECF6\",\"radialaxis\":{\"gridcolor\":\"white\",\"linecolor\":\"white\",\"ticks\":\"\"}},\"scene\":{\"xaxis\":{\"backgroundcolor\":\"#E5ECF6\",\"gridcolor\":\"white\",\"gridwidth\":2,\"linecolor\":\"white\",\"showbackground\":true,\"ticks\":\"\",\"zerolinecolor\":\"white\"},\"yaxis\":{\"backgroundcolor\":\"#E5ECF6\",\"gridcolor\":\"white\",\"gridwidth\":2,\"linecolor\":\"white\",\"showbackground\":true,\"ticks\":\"\",\"zerolinecolor\":\"white\"},\"zaxis\":{\"backgroundcolor\":\"#E5ECF6\",\"gridcolor\":\"white\",\"gridwidth\":2,\"linecolor\":\"white\",\"showbackground\":true,\"ticks\":\"\",\"zerolinecolor\":\"white\"}},\"shapedefaults\":{\"line\":{\"color\":\"#2a3f5f\"}},\"ternary\":{\"aaxis\":{\"gridcolor\":\"white\",\"linecolor\":\"white\",\"ticks\":\"\"},\"baxis\":{\"gridcolor\":\"white\",\"linecolor\":\"white\",\"ticks\":\"\"},\"bgcolor\":\"#E5ECF6\",\"caxis\":{\"gridcolor\":\"white\",\"linecolor\":\"white\",\"ticks\":\"\"}},\"title\":{\"x\":0.05},\"xaxis\":{\"automargin\":true,\"gridcolor\":\"white\",\"linecolor\":\"white\",\"ticks\":\"\",\"title\":{\"standoff\":15},\"zerolinecolor\":\"white\",\"zerolinewidth\":2},\"yaxis\":{\"automargin\":true,\"gridcolor\":\"white\",\"linecolor\":\"white\",\"ticks\":\"\",\"title\":{\"standoff\":15},\"zerolinecolor\":\"white\",\"zerolinewidth\":2}}},\"title\":{\"font\":{\"color\":\"#4D5663\"}},\"xaxis\":{\"gridcolor\":\"#E1E5ED\",\"showgrid\":true,\"tickfont\":{\"color\":\"#4D5663\"},\"title\":{\"font\":{\"color\":\"#4D5663\"},\"text\":\"\"},\"zerolinecolor\":\"#E1E5ED\"},\"yaxis\":{\"gridcolor\":\"#E1E5ED\",\"showgrid\":true,\"tickfont\":{\"color\":\"#4D5663\"},\"title\":{\"font\":{\"color\":\"#4D5663\"},\"text\":\"\"},\"zerolinecolor\":\"#E1E5ED\"}},                        {\"showLink\": true, \"linkText\": \"Export to plot.ly\", \"plotlyServerURL\": \"https://plot.ly\", \"responsive\": true}                    ).then(function(){\n",
       "                            \n",
       "var gd = document.getElementById('fb876373-6635-4c7f-90e0-ac1b46b50cfa');\n",
       "var x = new MutationObserver(function (mutations, observer) {{\n",
       "        var display = window.getComputedStyle(gd).display;\n",
       "        if (!display || display === 'none') {{\n",
       "            console.log([gd, 'removed!']);\n",
       "            Plotly.purge(gd);\n",
       "            observer.disconnect();\n",
       "        }}\n",
       "}});\n",
       "\n",
       "// Listen for the removal of the full notebook cells\n",
       "var notebookContainer = gd.closest('#notebook-container');\n",
       "if (notebookContainer) {{\n",
       "    x.observe(notebookContainer, {childList: true});\n",
       "}}\n",
       "\n",
       "// Listen for the clearing of the current output cell\n",
       "var outputEl = gd.closest('.output');\n",
       "if (outputEl) {{\n",
       "    x.observe(outputEl, {childList: true});\n",
       "}}\n",
       "\n",
       "                        })                };                });            </script>        </div>"
      ]
     },
     "metadata": {},
     "output_type": "display_data"
    }
   ],
   "source": [
    "df.iplot(kind=\"scatter\", x=\"A\", y=\"B\", mode=\"markers\")"
   ]
  },
  {
   "cell_type": "code",
   "execution_count": 22,
   "id": "5e4b556f",
   "metadata": {},
   "outputs": [
    {
     "data": {
      "application/vnd.plotly.v1+json": {
       "config": {
        "linkText": "Export to plot.ly",
        "plotlyServerURL": "https://plot.ly",
        "showLink": true
       },
       "data": [
        {
         "marker": {
          "color": "rgba(255, 153, 51, 0.6)",
          "line": {
           "color": "rgba(255, 153, 51, 1.0)",
           "width": 1
          }
         },
         "name": "valores",
         "orientation": "v",
         "text": "",
         "type": "bar",
         "x": [
          "A",
          "B",
          "C"
         ],
         "y": [
          32,
          43,
          50
         ]
        }
       ],
       "layout": {
        "legend": {
         "bgcolor": "#F5F6F9",
         "font": {
          "color": "#4D5663"
         }
        },
        "paper_bgcolor": "#F5F6F9",
        "plot_bgcolor": "#F5F6F9",
        "template": {
         "data": {
          "bar": [
           {
            "error_x": {
             "color": "#2a3f5f"
            },
            "error_y": {
             "color": "#2a3f5f"
            },
            "marker": {
             "line": {
              "color": "#E5ECF6",
              "width": 0.5
             },
             "pattern": {
              "fillmode": "overlay",
              "size": 10,
              "solidity": 0.2
             }
            },
            "type": "bar"
           }
          ],
          "barpolar": [
           {
            "marker": {
             "line": {
              "color": "#E5ECF6",
              "width": 0.5
             },
             "pattern": {
              "fillmode": "overlay",
              "size": 10,
              "solidity": 0.2
             }
            },
            "type": "barpolar"
           }
          ],
          "carpet": [
           {
            "aaxis": {
             "endlinecolor": "#2a3f5f",
             "gridcolor": "white",
             "linecolor": "white",
             "minorgridcolor": "white",
             "startlinecolor": "#2a3f5f"
            },
            "baxis": {
             "endlinecolor": "#2a3f5f",
             "gridcolor": "white",
             "linecolor": "white",
             "minorgridcolor": "white",
             "startlinecolor": "#2a3f5f"
            },
            "type": "carpet"
           }
          ],
          "choropleth": [
           {
            "colorbar": {
             "outlinewidth": 0,
             "ticks": ""
            },
            "type": "choropleth"
           }
          ],
          "contour": [
           {
            "colorbar": {
             "outlinewidth": 0,
             "ticks": ""
            },
            "colorscale": [
             [
              0,
              "#0d0887"
             ],
             [
              0.1111111111111111,
              "#46039f"
             ],
             [
              0.2222222222222222,
              "#7201a8"
             ],
             [
              0.3333333333333333,
              "#9c179e"
             ],
             [
              0.4444444444444444,
              "#bd3786"
             ],
             [
              0.5555555555555556,
              "#d8576b"
             ],
             [
              0.6666666666666666,
              "#ed7953"
             ],
             [
              0.7777777777777778,
              "#fb9f3a"
             ],
             [
              0.8888888888888888,
              "#fdca26"
             ],
             [
              1,
              "#f0f921"
             ]
            ],
            "type": "contour"
           }
          ],
          "contourcarpet": [
           {
            "colorbar": {
             "outlinewidth": 0,
             "ticks": ""
            },
            "type": "contourcarpet"
           }
          ],
          "heatmap": [
           {
            "colorbar": {
             "outlinewidth": 0,
             "ticks": ""
            },
            "colorscale": [
             [
              0,
              "#0d0887"
             ],
             [
              0.1111111111111111,
              "#46039f"
             ],
             [
              0.2222222222222222,
              "#7201a8"
             ],
             [
              0.3333333333333333,
              "#9c179e"
             ],
             [
              0.4444444444444444,
              "#bd3786"
             ],
             [
              0.5555555555555556,
              "#d8576b"
             ],
             [
              0.6666666666666666,
              "#ed7953"
             ],
             [
              0.7777777777777778,
              "#fb9f3a"
             ],
             [
              0.8888888888888888,
              "#fdca26"
             ],
             [
              1,
              "#f0f921"
             ]
            ],
            "type": "heatmap"
           }
          ],
          "heatmapgl": [
           {
            "colorbar": {
             "outlinewidth": 0,
             "ticks": ""
            },
            "colorscale": [
             [
              0,
              "#0d0887"
             ],
             [
              0.1111111111111111,
              "#46039f"
             ],
             [
              0.2222222222222222,
              "#7201a8"
             ],
             [
              0.3333333333333333,
              "#9c179e"
             ],
             [
              0.4444444444444444,
              "#bd3786"
             ],
             [
              0.5555555555555556,
              "#d8576b"
             ],
             [
              0.6666666666666666,
              "#ed7953"
             ],
             [
              0.7777777777777778,
              "#fb9f3a"
             ],
             [
              0.8888888888888888,
              "#fdca26"
             ],
             [
              1,
              "#f0f921"
             ]
            ],
            "type": "heatmapgl"
           }
          ],
          "histogram": [
           {
            "marker": {
             "pattern": {
              "fillmode": "overlay",
              "size": 10,
              "solidity": 0.2
             }
            },
            "type": "histogram"
           }
          ],
          "histogram2d": [
           {
            "colorbar": {
             "outlinewidth": 0,
             "ticks": ""
            },
            "colorscale": [
             [
              0,
              "#0d0887"
             ],
             [
              0.1111111111111111,
              "#46039f"
             ],
             [
              0.2222222222222222,
              "#7201a8"
             ],
             [
              0.3333333333333333,
              "#9c179e"
             ],
             [
              0.4444444444444444,
              "#bd3786"
             ],
             [
              0.5555555555555556,
              "#d8576b"
             ],
             [
              0.6666666666666666,
              "#ed7953"
             ],
             [
              0.7777777777777778,
              "#fb9f3a"
             ],
             [
              0.8888888888888888,
              "#fdca26"
             ],
             [
              1,
              "#f0f921"
             ]
            ],
            "type": "histogram2d"
           }
          ],
          "histogram2dcontour": [
           {
            "colorbar": {
             "outlinewidth": 0,
             "ticks": ""
            },
            "colorscale": [
             [
              0,
              "#0d0887"
             ],
             [
              0.1111111111111111,
              "#46039f"
             ],
             [
              0.2222222222222222,
              "#7201a8"
             ],
             [
              0.3333333333333333,
              "#9c179e"
             ],
             [
              0.4444444444444444,
              "#bd3786"
             ],
             [
              0.5555555555555556,
              "#d8576b"
             ],
             [
              0.6666666666666666,
              "#ed7953"
             ],
             [
              0.7777777777777778,
              "#fb9f3a"
             ],
             [
              0.8888888888888888,
              "#fdca26"
             ],
             [
              1,
              "#f0f921"
             ]
            ],
            "type": "histogram2dcontour"
           }
          ],
          "mesh3d": [
           {
            "colorbar": {
             "outlinewidth": 0,
             "ticks": ""
            },
            "type": "mesh3d"
           }
          ],
          "parcoords": [
           {
            "line": {
             "colorbar": {
              "outlinewidth": 0,
              "ticks": ""
             }
            },
            "type": "parcoords"
           }
          ],
          "pie": [
           {
            "automargin": true,
            "type": "pie"
           }
          ],
          "scatter": [
           {
            "fillpattern": {
             "fillmode": "overlay",
             "size": 10,
             "solidity": 0.2
            },
            "type": "scatter"
           }
          ],
          "scatter3d": [
           {
            "line": {
             "colorbar": {
              "outlinewidth": 0,
              "ticks": ""
             }
            },
            "marker": {
             "colorbar": {
              "outlinewidth": 0,
              "ticks": ""
             }
            },
            "type": "scatter3d"
           }
          ],
          "scattercarpet": [
           {
            "marker": {
             "colorbar": {
              "outlinewidth": 0,
              "ticks": ""
             }
            },
            "type": "scattercarpet"
           }
          ],
          "scattergeo": [
           {
            "marker": {
             "colorbar": {
              "outlinewidth": 0,
              "ticks": ""
             }
            },
            "type": "scattergeo"
           }
          ],
          "scattergl": [
           {
            "marker": {
             "colorbar": {
              "outlinewidth": 0,
              "ticks": ""
             }
            },
            "type": "scattergl"
           }
          ],
          "scattermapbox": [
           {
            "marker": {
             "colorbar": {
              "outlinewidth": 0,
              "ticks": ""
             }
            },
            "type": "scattermapbox"
           }
          ],
          "scatterpolar": [
           {
            "marker": {
             "colorbar": {
              "outlinewidth": 0,
              "ticks": ""
             }
            },
            "type": "scatterpolar"
           }
          ],
          "scatterpolargl": [
           {
            "marker": {
             "colorbar": {
              "outlinewidth": 0,
              "ticks": ""
             }
            },
            "type": "scatterpolargl"
           }
          ],
          "scatterternary": [
           {
            "marker": {
             "colorbar": {
              "outlinewidth": 0,
              "ticks": ""
             }
            },
            "type": "scatterternary"
           }
          ],
          "surface": [
           {
            "colorbar": {
             "outlinewidth": 0,
             "ticks": ""
            },
            "colorscale": [
             [
              0,
              "#0d0887"
             ],
             [
              0.1111111111111111,
              "#46039f"
             ],
             [
              0.2222222222222222,
              "#7201a8"
             ],
             [
              0.3333333333333333,
              "#9c179e"
             ],
             [
              0.4444444444444444,
              "#bd3786"
             ],
             [
              0.5555555555555556,
              "#d8576b"
             ],
             [
              0.6666666666666666,
              "#ed7953"
             ],
             [
              0.7777777777777778,
              "#fb9f3a"
             ],
             [
              0.8888888888888888,
              "#fdca26"
             ],
             [
              1,
              "#f0f921"
             ]
            ],
            "type": "surface"
           }
          ],
          "table": [
           {
            "cells": {
             "fill": {
              "color": "#EBF0F8"
             },
             "line": {
              "color": "white"
             }
            },
            "header": {
             "fill": {
              "color": "#C8D4E3"
             },
             "line": {
              "color": "white"
             }
            },
            "type": "table"
           }
          ]
         },
         "layout": {
          "annotationdefaults": {
           "arrowcolor": "#2a3f5f",
           "arrowhead": 0,
           "arrowwidth": 1
          },
          "autotypenumbers": "strict",
          "coloraxis": {
           "colorbar": {
            "outlinewidth": 0,
            "ticks": ""
           }
          },
          "colorscale": {
           "diverging": [
            [
             0,
             "#8e0152"
            ],
            [
             0.1,
             "#c51b7d"
            ],
            [
             0.2,
             "#de77ae"
            ],
            [
             0.3,
             "#f1b6da"
            ],
            [
             0.4,
             "#fde0ef"
            ],
            [
             0.5,
             "#f7f7f7"
            ],
            [
             0.6,
             "#e6f5d0"
            ],
            [
             0.7,
             "#b8e186"
            ],
            [
             0.8,
             "#7fbc41"
            ],
            [
             0.9,
             "#4d9221"
            ],
            [
             1,
             "#276419"
            ]
           ],
           "sequential": [
            [
             0,
             "#0d0887"
            ],
            [
             0.1111111111111111,
             "#46039f"
            ],
            [
             0.2222222222222222,
             "#7201a8"
            ],
            [
             0.3333333333333333,
             "#9c179e"
            ],
            [
             0.4444444444444444,
             "#bd3786"
            ],
            [
             0.5555555555555556,
             "#d8576b"
            ],
            [
             0.6666666666666666,
             "#ed7953"
            ],
            [
             0.7777777777777778,
             "#fb9f3a"
            ],
            [
             0.8888888888888888,
             "#fdca26"
            ],
            [
             1,
             "#f0f921"
            ]
           ],
           "sequentialminus": [
            [
             0,
             "#0d0887"
            ],
            [
             0.1111111111111111,
             "#46039f"
            ],
            [
             0.2222222222222222,
             "#7201a8"
            ],
            [
             0.3333333333333333,
             "#9c179e"
            ],
            [
             0.4444444444444444,
             "#bd3786"
            ],
            [
             0.5555555555555556,
             "#d8576b"
            ],
            [
             0.6666666666666666,
             "#ed7953"
            ],
            [
             0.7777777777777778,
             "#fb9f3a"
            ],
            [
             0.8888888888888888,
             "#fdca26"
            ],
            [
             1,
             "#f0f921"
            ]
           ]
          },
          "colorway": [
           "#636efa",
           "#EF553B",
           "#00cc96",
           "#ab63fa",
           "#FFA15A",
           "#19d3f3",
           "#FF6692",
           "#B6E880",
           "#FF97FF",
           "#FECB52"
          ],
          "font": {
           "color": "#2a3f5f"
          },
          "geo": {
           "bgcolor": "white",
           "lakecolor": "white",
           "landcolor": "#E5ECF6",
           "showlakes": true,
           "showland": true,
           "subunitcolor": "white"
          },
          "hoverlabel": {
           "align": "left"
          },
          "hovermode": "closest",
          "mapbox": {
           "style": "light"
          },
          "paper_bgcolor": "white",
          "plot_bgcolor": "#E5ECF6",
          "polar": {
           "angularaxis": {
            "gridcolor": "white",
            "linecolor": "white",
            "ticks": ""
           },
           "bgcolor": "#E5ECF6",
           "radialaxis": {
            "gridcolor": "white",
            "linecolor": "white",
            "ticks": ""
           }
          },
          "scene": {
           "xaxis": {
            "backgroundcolor": "#E5ECF6",
            "gridcolor": "white",
            "gridwidth": 2,
            "linecolor": "white",
            "showbackground": true,
            "ticks": "",
            "zerolinecolor": "white"
           },
           "yaxis": {
            "backgroundcolor": "#E5ECF6",
            "gridcolor": "white",
            "gridwidth": 2,
            "linecolor": "white",
            "showbackground": true,
            "ticks": "",
            "zerolinecolor": "white"
           },
           "zaxis": {
            "backgroundcolor": "#E5ECF6",
            "gridcolor": "white",
            "gridwidth": 2,
            "linecolor": "white",
            "showbackground": true,
            "ticks": "",
            "zerolinecolor": "white"
           }
          },
          "shapedefaults": {
           "line": {
            "color": "#2a3f5f"
           }
          },
          "ternary": {
           "aaxis": {
            "gridcolor": "white",
            "linecolor": "white",
            "ticks": ""
           },
           "baxis": {
            "gridcolor": "white",
            "linecolor": "white",
            "ticks": ""
           },
           "bgcolor": "#E5ECF6",
           "caxis": {
            "gridcolor": "white",
            "linecolor": "white",
            "ticks": ""
           }
          },
          "title": {
           "x": 0.05
          },
          "xaxis": {
           "automargin": true,
           "gridcolor": "white",
           "linecolor": "white",
           "ticks": "",
           "title": {
            "standoff": 15
           },
           "zerolinecolor": "white",
           "zerolinewidth": 2
          },
          "yaxis": {
           "automargin": true,
           "gridcolor": "white",
           "linecolor": "white",
           "ticks": "",
           "title": {
            "standoff": 15
           },
           "zerolinecolor": "white",
           "zerolinewidth": 2
          }
         }
        },
        "title": {
         "font": {
          "color": "#4D5663"
         }
        },
        "xaxis": {
         "gridcolor": "#E1E5ED",
         "showgrid": true,
         "tickfont": {
          "color": "#4D5663"
         },
         "title": {
          "font": {
           "color": "#4D5663"
          },
          "text": ""
         },
         "zerolinecolor": "#E1E5ED"
        },
        "yaxis": {
         "gridcolor": "#E1E5ED",
         "showgrid": true,
         "tickfont": {
          "color": "#4D5663"
         },
         "title": {
          "font": {
           "color": "#4D5663"
          },
          "text": ""
         },
         "zerolinecolor": "#E1E5ED"
        }
       }
      },
      "text/html": [
       "<div>                            <div id=\"12615cf7-d7cb-471d-b123-2cab90d48032\" class=\"plotly-graph-div\" style=\"height:525px; width:100%;\"></div>            <script type=\"text/javascript\">                require([\"plotly\"], function(Plotly) {                    window.PLOTLYENV=window.PLOTLYENV || {};\n",
       "                    window.PLOTLYENV.BASE_URL='https://plot.ly';                                    if (document.getElementById(\"12615cf7-d7cb-471d-b123-2cab90d48032\")) {                    Plotly.newPlot(                        \"12615cf7-d7cb-471d-b123-2cab90d48032\",                        [{\"marker\":{\"color\":\"rgba(255, 153, 51, 0.6)\",\"line\":{\"color\":\"rgba(255, 153, 51, 1.0)\",\"width\":1}},\"name\":\"valores\",\"orientation\":\"v\",\"text\":\"\",\"x\":[\"A\",\"B\",\"C\"],\"y\":[32,43,50],\"type\":\"bar\"}],                        {\"legend\":{\"bgcolor\":\"#F5F6F9\",\"font\":{\"color\":\"#4D5663\"}},\"paper_bgcolor\":\"#F5F6F9\",\"plot_bgcolor\":\"#F5F6F9\",\"template\":{\"data\":{\"barpolar\":[{\"marker\":{\"line\":{\"color\":\"#E5ECF6\",\"width\":0.5},\"pattern\":{\"fillmode\":\"overlay\",\"size\":10,\"solidity\":0.2}},\"type\":\"barpolar\"}],\"bar\":[{\"error_x\":{\"color\":\"#2a3f5f\"},\"error_y\":{\"color\":\"#2a3f5f\"},\"marker\":{\"line\":{\"color\":\"#E5ECF6\",\"width\":0.5},\"pattern\":{\"fillmode\":\"overlay\",\"size\":10,\"solidity\":0.2}},\"type\":\"bar\"}],\"carpet\":[{\"aaxis\":{\"endlinecolor\":\"#2a3f5f\",\"gridcolor\":\"white\",\"linecolor\":\"white\",\"minorgridcolor\":\"white\",\"startlinecolor\":\"#2a3f5f\"},\"baxis\":{\"endlinecolor\":\"#2a3f5f\",\"gridcolor\":\"white\",\"linecolor\":\"white\",\"minorgridcolor\":\"white\",\"startlinecolor\":\"#2a3f5f\"},\"type\":\"carpet\"}],\"choropleth\":[{\"colorbar\":{\"outlinewidth\":0,\"ticks\":\"\"},\"type\":\"choropleth\"}],\"contourcarpet\":[{\"colorbar\":{\"outlinewidth\":0,\"ticks\":\"\"},\"type\":\"contourcarpet\"}],\"contour\":[{\"colorbar\":{\"outlinewidth\":0,\"ticks\":\"\"},\"colorscale\":[[0.0,\"#0d0887\"],[0.1111111111111111,\"#46039f\"],[0.2222222222222222,\"#7201a8\"],[0.3333333333333333,\"#9c179e\"],[0.4444444444444444,\"#bd3786\"],[0.5555555555555556,\"#d8576b\"],[0.6666666666666666,\"#ed7953\"],[0.7777777777777778,\"#fb9f3a\"],[0.8888888888888888,\"#fdca26\"],[1.0,\"#f0f921\"]],\"type\":\"contour\"}],\"heatmapgl\":[{\"colorbar\":{\"outlinewidth\":0,\"ticks\":\"\"},\"colorscale\":[[0.0,\"#0d0887\"],[0.1111111111111111,\"#46039f\"],[0.2222222222222222,\"#7201a8\"],[0.3333333333333333,\"#9c179e\"],[0.4444444444444444,\"#bd3786\"],[0.5555555555555556,\"#d8576b\"],[0.6666666666666666,\"#ed7953\"],[0.7777777777777778,\"#fb9f3a\"],[0.8888888888888888,\"#fdca26\"],[1.0,\"#f0f921\"]],\"type\":\"heatmapgl\"}],\"heatmap\":[{\"colorbar\":{\"outlinewidth\":0,\"ticks\":\"\"},\"colorscale\":[[0.0,\"#0d0887\"],[0.1111111111111111,\"#46039f\"],[0.2222222222222222,\"#7201a8\"],[0.3333333333333333,\"#9c179e\"],[0.4444444444444444,\"#bd3786\"],[0.5555555555555556,\"#d8576b\"],[0.6666666666666666,\"#ed7953\"],[0.7777777777777778,\"#fb9f3a\"],[0.8888888888888888,\"#fdca26\"],[1.0,\"#f0f921\"]],\"type\":\"heatmap\"}],\"histogram2dcontour\":[{\"colorbar\":{\"outlinewidth\":0,\"ticks\":\"\"},\"colorscale\":[[0.0,\"#0d0887\"],[0.1111111111111111,\"#46039f\"],[0.2222222222222222,\"#7201a8\"],[0.3333333333333333,\"#9c179e\"],[0.4444444444444444,\"#bd3786\"],[0.5555555555555556,\"#d8576b\"],[0.6666666666666666,\"#ed7953\"],[0.7777777777777778,\"#fb9f3a\"],[0.8888888888888888,\"#fdca26\"],[1.0,\"#f0f921\"]],\"type\":\"histogram2dcontour\"}],\"histogram2d\":[{\"colorbar\":{\"outlinewidth\":0,\"ticks\":\"\"},\"colorscale\":[[0.0,\"#0d0887\"],[0.1111111111111111,\"#46039f\"],[0.2222222222222222,\"#7201a8\"],[0.3333333333333333,\"#9c179e\"],[0.4444444444444444,\"#bd3786\"],[0.5555555555555556,\"#d8576b\"],[0.6666666666666666,\"#ed7953\"],[0.7777777777777778,\"#fb9f3a\"],[0.8888888888888888,\"#fdca26\"],[1.0,\"#f0f921\"]],\"type\":\"histogram2d\"}],\"histogram\":[{\"marker\":{\"pattern\":{\"fillmode\":\"overlay\",\"size\":10,\"solidity\":0.2}},\"type\":\"histogram\"}],\"mesh3d\":[{\"colorbar\":{\"outlinewidth\":0,\"ticks\":\"\"},\"type\":\"mesh3d\"}],\"parcoords\":[{\"line\":{\"colorbar\":{\"outlinewidth\":0,\"ticks\":\"\"}},\"type\":\"parcoords\"}],\"pie\":[{\"automargin\":true,\"type\":\"pie\"}],\"scatter3d\":[{\"line\":{\"colorbar\":{\"outlinewidth\":0,\"ticks\":\"\"}},\"marker\":{\"colorbar\":{\"outlinewidth\":0,\"ticks\":\"\"}},\"type\":\"scatter3d\"}],\"scattercarpet\":[{\"marker\":{\"colorbar\":{\"outlinewidth\":0,\"ticks\":\"\"}},\"type\":\"scattercarpet\"}],\"scattergeo\":[{\"marker\":{\"colorbar\":{\"outlinewidth\":0,\"ticks\":\"\"}},\"type\":\"scattergeo\"}],\"scattergl\":[{\"marker\":{\"colorbar\":{\"outlinewidth\":0,\"ticks\":\"\"}},\"type\":\"scattergl\"}],\"scattermapbox\":[{\"marker\":{\"colorbar\":{\"outlinewidth\":0,\"ticks\":\"\"}},\"type\":\"scattermapbox\"}],\"scatterpolargl\":[{\"marker\":{\"colorbar\":{\"outlinewidth\":0,\"ticks\":\"\"}},\"type\":\"scatterpolargl\"}],\"scatterpolar\":[{\"marker\":{\"colorbar\":{\"outlinewidth\":0,\"ticks\":\"\"}},\"type\":\"scatterpolar\"}],\"scatter\":[{\"fillpattern\":{\"fillmode\":\"overlay\",\"size\":10,\"solidity\":0.2},\"type\":\"scatter\"}],\"scatterternary\":[{\"marker\":{\"colorbar\":{\"outlinewidth\":0,\"ticks\":\"\"}},\"type\":\"scatterternary\"}],\"surface\":[{\"colorbar\":{\"outlinewidth\":0,\"ticks\":\"\"},\"colorscale\":[[0.0,\"#0d0887\"],[0.1111111111111111,\"#46039f\"],[0.2222222222222222,\"#7201a8\"],[0.3333333333333333,\"#9c179e\"],[0.4444444444444444,\"#bd3786\"],[0.5555555555555556,\"#d8576b\"],[0.6666666666666666,\"#ed7953\"],[0.7777777777777778,\"#fb9f3a\"],[0.8888888888888888,\"#fdca26\"],[1.0,\"#f0f921\"]],\"type\":\"surface\"}],\"table\":[{\"cells\":{\"fill\":{\"color\":\"#EBF0F8\"},\"line\":{\"color\":\"white\"}},\"header\":{\"fill\":{\"color\":\"#C8D4E3\"},\"line\":{\"color\":\"white\"}},\"type\":\"table\"}]},\"layout\":{\"annotationdefaults\":{\"arrowcolor\":\"#2a3f5f\",\"arrowhead\":0,\"arrowwidth\":1},\"autotypenumbers\":\"strict\",\"coloraxis\":{\"colorbar\":{\"outlinewidth\":0,\"ticks\":\"\"}},\"colorscale\":{\"diverging\":[[0,\"#8e0152\"],[0.1,\"#c51b7d\"],[0.2,\"#de77ae\"],[0.3,\"#f1b6da\"],[0.4,\"#fde0ef\"],[0.5,\"#f7f7f7\"],[0.6,\"#e6f5d0\"],[0.7,\"#b8e186\"],[0.8,\"#7fbc41\"],[0.9,\"#4d9221\"],[1,\"#276419\"]],\"sequential\":[[0.0,\"#0d0887\"],[0.1111111111111111,\"#46039f\"],[0.2222222222222222,\"#7201a8\"],[0.3333333333333333,\"#9c179e\"],[0.4444444444444444,\"#bd3786\"],[0.5555555555555556,\"#d8576b\"],[0.6666666666666666,\"#ed7953\"],[0.7777777777777778,\"#fb9f3a\"],[0.8888888888888888,\"#fdca26\"],[1.0,\"#f0f921\"]],\"sequentialminus\":[[0.0,\"#0d0887\"],[0.1111111111111111,\"#46039f\"],[0.2222222222222222,\"#7201a8\"],[0.3333333333333333,\"#9c179e\"],[0.4444444444444444,\"#bd3786\"],[0.5555555555555556,\"#d8576b\"],[0.6666666666666666,\"#ed7953\"],[0.7777777777777778,\"#fb9f3a\"],[0.8888888888888888,\"#fdca26\"],[1.0,\"#f0f921\"]]},\"colorway\":[\"#636efa\",\"#EF553B\",\"#00cc96\",\"#ab63fa\",\"#FFA15A\",\"#19d3f3\",\"#FF6692\",\"#B6E880\",\"#FF97FF\",\"#FECB52\"],\"font\":{\"color\":\"#2a3f5f\"},\"geo\":{\"bgcolor\":\"white\",\"lakecolor\":\"white\",\"landcolor\":\"#E5ECF6\",\"showlakes\":true,\"showland\":true,\"subunitcolor\":\"white\"},\"hoverlabel\":{\"align\":\"left\"},\"hovermode\":\"closest\",\"mapbox\":{\"style\":\"light\"},\"paper_bgcolor\":\"white\",\"plot_bgcolor\":\"#E5ECF6\",\"polar\":{\"angularaxis\":{\"gridcolor\":\"white\",\"linecolor\":\"white\",\"ticks\":\"\"},\"bgcolor\":\"#E5ECF6\",\"radialaxis\":{\"gridcolor\":\"white\",\"linecolor\":\"white\",\"ticks\":\"\"}},\"scene\":{\"xaxis\":{\"backgroundcolor\":\"#E5ECF6\",\"gridcolor\":\"white\",\"gridwidth\":2,\"linecolor\":\"white\",\"showbackground\":true,\"ticks\":\"\",\"zerolinecolor\":\"white\"},\"yaxis\":{\"backgroundcolor\":\"#E5ECF6\",\"gridcolor\":\"white\",\"gridwidth\":2,\"linecolor\":\"white\",\"showbackground\":true,\"ticks\":\"\",\"zerolinecolor\":\"white\"},\"zaxis\":{\"backgroundcolor\":\"#E5ECF6\",\"gridcolor\":\"white\",\"gridwidth\":2,\"linecolor\":\"white\",\"showbackground\":true,\"ticks\":\"\",\"zerolinecolor\":\"white\"}},\"shapedefaults\":{\"line\":{\"color\":\"#2a3f5f\"}},\"ternary\":{\"aaxis\":{\"gridcolor\":\"white\",\"linecolor\":\"white\",\"ticks\":\"\"},\"baxis\":{\"gridcolor\":\"white\",\"linecolor\":\"white\",\"ticks\":\"\"},\"bgcolor\":\"#E5ECF6\",\"caxis\":{\"gridcolor\":\"white\",\"linecolor\":\"white\",\"ticks\":\"\"}},\"title\":{\"x\":0.05},\"xaxis\":{\"automargin\":true,\"gridcolor\":\"white\",\"linecolor\":\"white\",\"ticks\":\"\",\"title\":{\"standoff\":15},\"zerolinecolor\":\"white\",\"zerolinewidth\":2},\"yaxis\":{\"automargin\":true,\"gridcolor\":\"white\",\"linecolor\":\"white\",\"ticks\":\"\",\"title\":{\"standoff\":15},\"zerolinecolor\":\"white\",\"zerolinewidth\":2}}},\"title\":{\"font\":{\"color\":\"#4D5663\"}},\"xaxis\":{\"gridcolor\":\"#E1E5ED\",\"showgrid\":true,\"tickfont\":{\"color\":\"#4D5663\"},\"title\":{\"font\":{\"color\":\"#4D5663\"},\"text\":\"\"},\"zerolinecolor\":\"#E1E5ED\"},\"yaxis\":{\"gridcolor\":\"#E1E5ED\",\"showgrid\":true,\"tickfont\":{\"color\":\"#4D5663\"},\"title\":{\"font\":{\"color\":\"#4D5663\"},\"text\":\"\"},\"zerolinecolor\":\"#E1E5ED\"}},                        {\"showLink\": true, \"linkText\": \"Export to plot.ly\", \"plotlyServerURL\": \"https://plot.ly\", \"responsive\": true}                    ).then(function(){\n",
       "                            \n",
       "var gd = document.getElementById('12615cf7-d7cb-471d-b123-2cab90d48032');\n",
       "var x = new MutationObserver(function (mutations, observer) {{\n",
       "        var display = window.getComputedStyle(gd).display;\n",
       "        if (!display || display === 'none') {{\n",
       "            console.log([gd, 'removed!']);\n",
       "            Plotly.purge(gd);\n",
       "            observer.disconnect();\n",
       "        }}\n",
       "}});\n",
       "\n",
       "// Listen for the removal of the full notebook cells\n",
       "var notebookContainer = gd.closest('#notebook-container');\n",
       "if (notebookContainer) {{\n",
       "    x.observe(notebookContainer, {childList: true});\n",
       "}}\n",
       "\n",
       "// Listen for the clearing of the current output cell\n",
       "var outputEl = gd.closest('.output');\n",
       "if (outputEl) {{\n",
       "    x.observe(outputEl, {childList: true});\n",
       "}}\n",
       "\n",
       "                        })                };                });            </script>        </div>"
      ]
     },
     "metadata": {},
     "output_type": "display_data"
    }
   ],
   "source": [
    "df2.iplot(kind=\"bar\", x=\"Categoria\", y=\"valores\")"
   ]
  },
  {
   "cell_type": "code",
   "execution_count": 23,
   "id": "4dbe93bd",
   "metadata": {},
   "outputs": [
    {
     "data": {
      "application/vnd.plotly.v1+json": {
       "config": {
        "linkText": "Export to plot.ly",
        "plotlyServerURL": "https://plot.ly",
        "showLink": true
       },
       "data": [
        {
         "marker": {
          "color": "rgba(255, 153, 51, 0.6)",
          "line": {
           "color": "rgba(255, 153, 51, 1.0)",
           "width": 1
          }
         },
         "name": "A",
         "orientation": "v",
         "text": "",
         "type": "bar",
         "x": [
          0,
          1,
          2,
          3,
          4,
          5,
          6,
          7,
          8,
          9,
          10,
          11,
          12,
          13,
          14,
          15,
          16,
          17,
          18,
          19,
          20,
          21,
          22,
          23,
          24,
          25,
          26,
          27,
          28,
          29,
          30,
          31,
          32,
          33,
          34,
          35,
          36,
          37,
          38,
          39,
          40,
          41,
          42,
          43,
          44,
          45,
          46,
          47,
          48,
          49,
          50,
          51,
          52,
          53,
          54,
          55,
          56,
          57,
          58,
          59,
          60,
          61,
          62,
          63,
          64,
          65,
          66,
          67,
          68,
          69,
          70,
          71,
          72,
          73,
          74,
          75,
          76,
          77,
          78,
          79,
          80,
          81,
          82,
          83,
          84,
          85,
          86,
          87,
          88,
          89,
          90,
          91,
          92,
          93,
          94,
          95,
          96,
          97,
          98,
          99
         ],
         "y": [
          -1.5749810496858492,
          -1.3833793433667436,
          0.36588075526834546,
          1.275399849602529,
          0.5286668747009455,
          -0.7679032009223029,
          -0.17831916014732532,
          -2.257326435988866,
          0.07658860332702637,
          1.3567938287358288,
          0.31894748456236754,
          -0.33236158300706464,
          -0.5406260875570553,
          -0.37195941916552244,
          -0.3135738744446838,
          -1.010589752168183,
          -0.34346062433482266,
          -2.6744763425885423,
          0.4240381404822287,
          0.2885273430894623,
          0.08427439673144732,
          -0.23871144244853104,
          0.25740702376805175,
          0.40166934404547766,
          0.8323461834133391,
          0.380030623534109,
          0.5572622542561397,
          -0.6278502285641379,
          0.3692001447418704,
          -1.252856435011434,
          0.9396183305979209,
          2.197696282685438,
          -0.6348382801909904,
          -0.8729626381576087,
          0.05369217970057937,
          -0.028905049872739463,
          -0.12222368961439022,
          0.00866738492464321,
          -0.6367143859649672,
          -1.7133377029111103,
          0.99536125242314,
          -1.009122337998362,
          -1.360458340717226,
          0.7800896480356647,
          -0.17532259166702616,
          0.032736921693968066,
          -0.029454474920911446,
          -0.5622728532218199,
          1.7074440404654854,
          1.569656559086373,
          0.4166056558837753,
          -0.2464947669782788,
          0.051460325727519976,
          -0.5140444063570784,
          -1.4717230819608562,
          -0.833447655009454,
          2.062410774351031,
          0.3301660327167039,
          -0.5484153848392193,
          -1.0492195305040761,
          -1.019093053255773,
          1.1009944121217843,
          -1.5833892267026457,
          1.3222535001686084,
          -0.6762104727297058,
          1.1256325176591828,
          1.4931242561850617,
          -1.0115610188042432,
          -0.1710109126477292,
          0.9683985282675233,
          -0.2923692307598237,
          -0.4186511634855657,
          -0.8697287759682212,
          -0.09922350097748456,
          -0.6131434465914425,
          -0.46546756990307686,
          -2.371370606691687,
          -0.011436671066204995,
          2.3688431617731793,
          -0.440029376897687,
          -0.8353927478232571,
          -1.320643031620411,
          0.5479177999724679,
          -1.6851472200935969,
          -1.105532954107571,
          -0.7654776138021443,
          0.1639452575441152,
          -1.8061852621960486,
          0.11558384967903741,
          -2.263510071725915,
          0.03022567602240936,
          -1.1359137329317626,
          0.11757310430053158,
          0.8152531228518184,
          -0.03448705506848795,
          0.6307535692636861,
          -8.491084491530586e-05,
          0.9122527063264612,
          -0.82128369509477,
          0.6122755731166608
         ]
        },
        {
         "marker": {
          "color": "rgba(55, 128, 191, 0.6)",
          "line": {
           "color": "rgba(55, 128, 191, 1.0)",
           "width": 1
          }
         },
         "name": "B",
         "orientation": "v",
         "text": "",
         "type": "bar",
         "x": [
          0,
          1,
          2,
          3,
          4,
          5,
          6,
          7,
          8,
          9,
          10,
          11,
          12,
          13,
          14,
          15,
          16,
          17,
          18,
          19,
          20,
          21,
          22,
          23,
          24,
          25,
          26,
          27,
          28,
          29,
          30,
          31,
          32,
          33,
          34,
          35,
          36,
          37,
          38,
          39,
          40,
          41,
          42,
          43,
          44,
          45,
          46,
          47,
          48,
          49,
          50,
          51,
          52,
          53,
          54,
          55,
          56,
          57,
          58,
          59,
          60,
          61,
          62,
          63,
          64,
          65,
          66,
          67,
          68,
          69,
          70,
          71,
          72,
          73,
          74,
          75,
          76,
          77,
          78,
          79,
          80,
          81,
          82,
          83,
          84,
          85,
          86,
          87,
          88,
          89,
          90,
          91,
          92,
          93,
          94,
          95,
          96,
          97,
          98,
          99
         ],
         "y": [
          0.39642477413478533,
          0.3017979791106031,
          -0.8683082254335007,
          0.20904761546820905,
          -1.0151385494413272,
          1.726459441137804,
          -0.915985971357377,
          1.0086740707482478,
          -1.3541085530315435,
          -0.29751376435345445,
          -0.9677119092995604,
          0.81640449993328,
          -0.31681896091569794,
          0.376691603872416,
          0.0955435591329955,
          0.3059302882053221,
          -0.40763287280287025,
          1.6209528853068607,
          -0.22050739262858718,
          1.2407691032730783,
          0.1636563461364261,
          0.11613750655239334,
          1.6532965922404759,
          -0.18031837018080812,
          -0.6598102231330875,
          1.7173440288843729,
          -0.6034913988882491,
          0.700172084595978,
          -0.8655937280498989,
          -0.07072219995759044,
          0.7252338637157283,
          1.6896643478428925,
          -1.9985550678721204,
          -1.288494222801579,
          -1.7568974963426904,
          1.19706327798354,
          -0.31731491298793957,
          1.5395547666939289,
          -0.014035010368598758,
          0.9050425509127696,
          0.8009389257192039,
          -0.08302009201298892,
          0.8171531869793346,
          -0.7938970281830412,
          0.06748229716032612,
          -0.25163340525469363,
          0.4501082789510372,
          0.7042743375651448,
          1.5786258826783846,
          0.4361285619666368,
          1.7486171274308304,
          0.867738412173522,
          0.2514370572602232,
          0.36820210750981897,
          0.45772091125516895,
          -1.2408746566028792,
          -0.6509170915331346,
          -1.8598649448554383,
          1.6667421329016379,
          0.881305758258542,
          0.2701389057885898,
          -0.0347324992409485,
          -1.1756209977978531,
          -0.9846172568564603,
          1.2800801685401286,
          -0.23730438169687665,
          1.012922776234193,
          -0.33041307438517004,
          -2.085051844871717,
          -0.9745502845039695,
          -0.5536617857028113,
          -0.590771338993367,
          -1.0698252162427944,
          0.6190627854938642,
          -0.8881704812612123,
          1.431363113773757,
          -0.007321763388780562,
          -1.92843803713575,
          -0.32707220180344077,
          -0.3061031816927142,
          0.2824028569969956,
          -0.5216603317192834,
          0.42177798337842715,
          0.8755835168934673,
          -1.5346115372015554,
          -0.18422379387988802,
          0.6494656673048684,
          0.9072613951453106,
          0.228171593180147,
          -0.2746116506540319,
          -0.028169419102425697,
          -0.42787317529700586,
          -1.3357558834404946,
          -0.790647659605685,
          -0.029415709062188093,
          0.1799045576781755,
          0.9522344570155521,
          -0.5184755826628655,
          1.1836484340050315,
          0.9778129395793809
         ]
        },
        {
         "marker": {
          "color": "rgba(50, 171, 96, 0.6)",
          "line": {
           "color": "rgba(50, 171, 96, 1.0)",
           "width": 1
          }
         },
         "name": "C",
         "orientation": "v",
         "text": "",
         "type": "bar",
         "x": [
          0,
          1,
          2,
          3,
          4,
          5,
          6,
          7,
          8,
          9,
          10,
          11,
          12,
          13,
          14,
          15,
          16,
          17,
          18,
          19,
          20,
          21,
          22,
          23,
          24,
          25,
          26,
          27,
          28,
          29,
          30,
          31,
          32,
          33,
          34,
          35,
          36,
          37,
          38,
          39,
          40,
          41,
          42,
          43,
          44,
          45,
          46,
          47,
          48,
          49,
          50,
          51,
          52,
          53,
          54,
          55,
          56,
          57,
          58,
          59,
          60,
          61,
          62,
          63,
          64,
          65,
          66,
          67,
          68,
          69,
          70,
          71,
          72,
          73,
          74,
          75,
          76,
          77,
          78,
          79,
          80,
          81,
          82,
          83,
          84,
          85,
          86,
          87,
          88,
          89,
          90,
          91,
          92,
          93,
          94,
          95,
          96,
          97,
          98,
          99
         ],
         "y": [
          1.0700406965603044,
          0.47320689188072074,
          0.8889381855451203,
          1.984685692613606,
          -0.9905856410306387,
          0.06186445398377224,
          -0.3781617800979096,
          -0.5895388793729588,
          0.794747252179797,
          0.9230208518575128,
          -0.6188917723964353,
          -1.2634044397458761,
          0.8899247347307317,
          -0.041802643180199814,
          1.7101356218130819,
          -1.6273021804294716,
          0.2891211909563434,
          -1.803755995261513,
          1.005594395815204,
          -0.07519807148612825,
          1.3163249604794844,
          -0.15817680256006203,
          0.26373186752905925,
          0.6055879906295724,
          -0.9385944392959061,
          0.2636575307398441,
          0.47035031066286104,
          -0.3309727058519469,
          0.7455100676917912,
          0.7755461278650121,
          0.37907845045617533,
          0.5078749537555448,
          -0.3045934543346218,
          -1.24392003983143,
          -1.1227859031564063,
          0.7800241925040196,
          -1.0089050410309925,
          0.9424424961263709,
          -1.0691859319549368,
          0.9995978697480474,
          -1.9650763312895476,
          0.3955839765822933,
          -1.4566706985457498,
          -1.202331544573614,
          -0.3874201640610675,
          -1.2071730069168236,
          0.8656900668547792,
          0.7749818255821247,
          -0.40201945311330517,
          -1.6384500942017932,
          0.05833187520551722,
          -1.3216556170659117,
          2.312488663924503,
          0.21928120392193154,
          -1.9438725062397344,
          -0.4290795310358435,
          -1.339133419340799,
          -1.2627039314108552,
          0.9056212699527014,
          -0.2363735068948559,
          1.2195893170306071,
          -0.08389414081632988,
          0.22867566500949105,
          -2.413961059554438,
          -1.1998966501201662,
          0.7401682706615308,
          -0.51156060446994,
          1.6148275387210587,
          1.344929661254416,
          0.6387451049698962,
          -0.3583917172754251,
          0.7465394883336404,
          0.15538564043812364,
          0.14011930135585737,
          0.8169262769794431,
          0.34088061999409797,
          0.889837791491532,
          0.19232642878875802,
          -1.6539027936192965,
          0.8675030093792894,
          -0.47078665249200163,
          -1.7724058935583373,
          0.10057807757294003,
          0.9598073139432325,
          -0.4148261328833594,
          -0.7557444124571863,
          -0.7030399314225763,
          -0.27235739587431007,
          0.5247804026828217,
          -0.197345784237892,
          -0.1555129303996773,
          0.055560600376472126,
          -0.1512681055853885,
          -1.3138607107599134,
          0.1293343621347584,
          0.6959648720514148,
          -0.4073834571043385,
          1.568746821382907,
          -0.41752316554302166,
          0.3544673745911766
         ]
        },
        {
         "marker": {
          "color": "rgba(128, 0, 128, 0.6)",
          "line": {
           "color": "rgba(128, 0, 128, 1.0)",
           "width": 1
          }
         },
         "name": "D",
         "orientation": "v",
         "text": "",
         "type": "bar",
         "x": [
          0,
          1,
          2,
          3,
          4,
          5,
          6,
          7,
          8,
          9,
          10,
          11,
          12,
          13,
          14,
          15,
          16,
          17,
          18,
          19,
          20,
          21,
          22,
          23,
          24,
          25,
          26,
          27,
          28,
          29,
          30,
          31,
          32,
          33,
          34,
          35,
          36,
          37,
          38,
          39,
          40,
          41,
          42,
          43,
          44,
          45,
          46,
          47,
          48,
          49,
          50,
          51,
          52,
          53,
          54,
          55,
          56,
          57,
          58,
          59,
          60,
          61,
          62,
          63,
          64,
          65,
          66,
          67,
          68,
          69,
          70,
          71,
          72,
          73,
          74,
          75,
          76,
          77,
          78,
          79,
          80,
          81,
          82,
          83,
          84,
          85,
          86,
          87,
          88,
          89,
          90,
          91,
          92,
          93,
          94,
          95,
          96,
          97,
          98,
          99
         ],
         "y": [
          0.14425618902772747,
          -1.8939342901630691,
          -0.48477320187557554,
          -0.4593393791421347,
          -2.339592076557052,
          1.311590618793374,
          -1.5360766226020206,
          -1.0154550572704288,
          0.15906663364928308,
          1.3604423345007133,
          1.3399761693998393,
          0.850198098811847,
          -1.6941060098208944,
          0.730071090987942,
          1.008238072861487,
          1.795090152650695,
          1.7915821023153595,
          0.29400607548936003,
          -0.8159407247542291,
          0.19711999021411716,
          0.8200862761171573,
          0.7601527706740808,
          0.5674761250596101,
          -0.13996943397447206,
          0.17821131158800996,
          0.18457270589522828,
          1.04379920509321,
          -0.652722508495129,
          0.6420533765209736,
          -0.4138125238095458,
          -0.12275124251665397,
          0.043906853007055824,
          -1.4409741909873395,
          0.42506775241844263,
          0.9624402927611686,
          -0.5378417195821108,
          0.6295666983730309,
          0.728630216429118,
          -1.213727460550597,
          -2.130955226582706,
          -0.2704722926059495,
          0.1481866771999114,
          0.7306790471248414,
          0.21686454959768797,
          -0.6567964359887308,
          -0.6470793096094121,
          -0.4545458288756462,
          0.07580643874686249,
          0.38218791727607493,
          -0.1416109023900944,
          0.6473012260955611,
          0.5174503062831697,
          -0.5049105159658954,
          -0.34253350164476215,
          1.810332008303204,
          -0.6401565791336887,
          0.6521984402923481,
          -0.8286118338536269,
          -1.3439070316027542,
          0.7814798176632166,
          0.5011933330618819,
          -0.2704101289032435,
          -0.10057152517551457,
          0.8436212094507817,
          0.3930507355414695,
          -0.7427881549463758,
          0.4833266726881477,
          0.5888241188022255,
          1.3775067789981312,
          -1.5595366482950896,
          -1.5038190329760643,
          -1.107132252469969,
          1.8631485442387221,
          -1.2378206901207147,
          -1.5710350013202465,
          -0.6147598340911066,
          0.46604507465244216,
          0.2727181881851066,
          -0.4554496784154893,
          -0.810774896348241,
          -0.17526252760094477,
          0.015439744423981721,
          0.29040229656619315,
          1.1975379751419997,
          0.03710941225425532,
          2.5540713173081677,
          1.8321494496323845,
          -0.9681228941709391,
          1.3607493420309653,
          -1.4046817439382802,
          0.3882714876679938,
          -0.34410511941403354,
          0.9036457102811655,
          0.226559473173561,
          -0.9309352514277246,
          -0.7342069133657667,
          0.044369269608457766,
          0.09209970230315259,
          -0.5865347123319166,
          -1.3262936610426104
         ]
        }
       ],
       "layout": {
        "legend": {
         "bgcolor": "#F5F6F9",
         "font": {
          "color": "#4D5663"
         }
        },
        "paper_bgcolor": "#F5F6F9",
        "plot_bgcolor": "#F5F6F9",
        "template": {
         "data": {
          "bar": [
           {
            "error_x": {
             "color": "#2a3f5f"
            },
            "error_y": {
             "color": "#2a3f5f"
            },
            "marker": {
             "line": {
              "color": "#E5ECF6",
              "width": 0.5
             },
             "pattern": {
              "fillmode": "overlay",
              "size": 10,
              "solidity": 0.2
             }
            },
            "type": "bar"
           }
          ],
          "barpolar": [
           {
            "marker": {
             "line": {
              "color": "#E5ECF6",
              "width": 0.5
             },
             "pattern": {
              "fillmode": "overlay",
              "size": 10,
              "solidity": 0.2
             }
            },
            "type": "barpolar"
           }
          ],
          "carpet": [
           {
            "aaxis": {
             "endlinecolor": "#2a3f5f",
             "gridcolor": "white",
             "linecolor": "white",
             "minorgridcolor": "white",
             "startlinecolor": "#2a3f5f"
            },
            "baxis": {
             "endlinecolor": "#2a3f5f",
             "gridcolor": "white",
             "linecolor": "white",
             "minorgridcolor": "white",
             "startlinecolor": "#2a3f5f"
            },
            "type": "carpet"
           }
          ],
          "choropleth": [
           {
            "colorbar": {
             "outlinewidth": 0,
             "ticks": ""
            },
            "type": "choropleth"
           }
          ],
          "contour": [
           {
            "colorbar": {
             "outlinewidth": 0,
             "ticks": ""
            },
            "colorscale": [
             [
              0,
              "#0d0887"
             ],
             [
              0.1111111111111111,
              "#46039f"
             ],
             [
              0.2222222222222222,
              "#7201a8"
             ],
             [
              0.3333333333333333,
              "#9c179e"
             ],
             [
              0.4444444444444444,
              "#bd3786"
             ],
             [
              0.5555555555555556,
              "#d8576b"
             ],
             [
              0.6666666666666666,
              "#ed7953"
             ],
             [
              0.7777777777777778,
              "#fb9f3a"
             ],
             [
              0.8888888888888888,
              "#fdca26"
             ],
             [
              1,
              "#f0f921"
             ]
            ],
            "type": "contour"
           }
          ],
          "contourcarpet": [
           {
            "colorbar": {
             "outlinewidth": 0,
             "ticks": ""
            },
            "type": "contourcarpet"
           }
          ],
          "heatmap": [
           {
            "colorbar": {
             "outlinewidth": 0,
             "ticks": ""
            },
            "colorscale": [
             [
              0,
              "#0d0887"
             ],
             [
              0.1111111111111111,
              "#46039f"
             ],
             [
              0.2222222222222222,
              "#7201a8"
             ],
             [
              0.3333333333333333,
              "#9c179e"
             ],
             [
              0.4444444444444444,
              "#bd3786"
             ],
             [
              0.5555555555555556,
              "#d8576b"
             ],
             [
              0.6666666666666666,
              "#ed7953"
             ],
             [
              0.7777777777777778,
              "#fb9f3a"
             ],
             [
              0.8888888888888888,
              "#fdca26"
             ],
             [
              1,
              "#f0f921"
             ]
            ],
            "type": "heatmap"
           }
          ],
          "heatmapgl": [
           {
            "colorbar": {
             "outlinewidth": 0,
             "ticks": ""
            },
            "colorscale": [
             [
              0,
              "#0d0887"
             ],
             [
              0.1111111111111111,
              "#46039f"
             ],
             [
              0.2222222222222222,
              "#7201a8"
             ],
             [
              0.3333333333333333,
              "#9c179e"
             ],
             [
              0.4444444444444444,
              "#bd3786"
             ],
             [
              0.5555555555555556,
              "#d8576b"
             ],
             [
              0.6666666666666666,
              "#ed7953"
             ],
             [
              0.7777777777777778,
              "#fb9f3a"
             ],
             [
              0.8888888888888888,
              "#fdca26"
             ],
             [
              1,
              "#f0f921"
             ]
            ],
            "type": "heatmapgl"
           }
          ],
          "histogram": [
           {
            "marker": {
             "pattern": {
              "fillmode": "overlay",
              "size": 10,
              "solidity": 0.2
             }
            },
            "type": "histogram"
           }
          ],
          "histogram2d": [
           {
            "colorbar": {
             "outlinewidth": 0,
             "ticks": ""
            },
            "colorscale": [
             [
              0,
              "#0d0887"
             ],
             [
              0.1111111111111111,
              "#46039f"
             ],
             [
              0.2222222222222222,
              "#7201a8"
             ],
             [
              0.3333333333333333,
              "#9c179e"
             ],
             [
              0.4444444444444444,
              "#bd3786"
             ],
             [
              0.5555555555555556,
              "#d8576b"
             ],
             [
              0.6666666666666666,
              "#ed7953"
             ],
             [
              0.7777777777777778,
              "#fb9f3a"
             ],
             [
              0.8888888888888888,
              "#fdca26"
             ],
             [
              1,
              "#f0f921"
             ]
            ],
            "type": "histogram2d"
           }
          ],
          "histogram2dcontour": [
           {
            "colorbar": {
             "outlinewidth": 0,
             "ticks": ""
            },
            "colorscale": [
             [
              0,
              "#0d0887"
             ],
             [
              0.1111111111111111,
              "#46039f"
             ],
             [
              0.2222222222222222,
              "#7201a8"
             ],
             [
              0.3333333333333333,
              "#9c179e"
             ],
             [
              0.4444444444444444,
              "#bd3786"
             ],
             [
              0.5555555555555556,
              "#d8576b"
             ],
             [
              0.6666666666666666,
              "#ed7953"
             ],
             [
              0.7777777777777778,
              "#fb9f3a"
             ],
             [
              0.8888888888888888,
              "#fdca26"
             ],
             [
              1,
              "#f0f921"
             ]
            ],
            "type": "histogram2dcontour"
           }
          ],
          "mesh3d": [
           {
            "colorbar": {
             "outlinewidth": 0,
             "ticks": ""
            },
            "type": "mesh3d"
           }
          ],
          "parcoords": [
           {
            "line": {
             "colorbar": {
              "outlinewidth": 0,
              "ticks": ""
             }
            },
            "type": "parcoords"
           }
          ],
          "pie": [
           {
            "automargin": true,
            "type": "pie"
           }
          ],
          "scatter": [
           {
            "fillpattern": {
             "fillmode": "overlay",
             "size": 10,
             "solidity": 0.2
            },
            "type": "scatter"
           }
          ],
          "scatter3d": [
           {
            "line": {
             "colorbar": {
              "outlinewidth": 0,
              "ticks": ""
             }
            },
            "marker": {
             "colorbar": {
              "outlinewidth": 0,
              "ticks": ""
             }
            },
            "type": "scatter3d"
           }
          ],
          "scattercarpet": [
           {
            "marker": {
             "colorbar": {
              "outlinewidth": 0,
              "ticks": ""
             }
            },
            "type": "scattercarpet"
           }
          ],
          "scattergeo": [
           {
            "marker": {
             "colorbar": {
              "outlinewidth": 0,
              "ticks": ""
             }
            },
            "type": "scattergeo"
           }
          ],
          "scattergl": [
           {
            "marker": {
             "colorbar": {
              "outlinewidth": 0,
              "ticks": ""
             }
            },
            "type": "scattergl"
           }
          ],
          "scattermapbox": [
           {
            "marker": {
             "colorbar": {
              "outlinewidth": 0,
              "ticks": ""
             }
            },
            "type": "scattermapbox"
           }
          ],
          "scatterpolar": [
           {
            "marker": {
             "colorbar": {
              "outlinewidth": 0,
              "ticks": ""
             }
            },
            "type": "scatterpolar"
           }
          ],
          "scatterpolargl": [
           {
            "marker": {
             "colorbar": {
              "outlinewidth": 0,
              "ticks": ""
             }
            },
            "type": "scatterpolargl"
           }
          ],
          "scatterternary": [
           {
            "marker": {
             "colorbar": {
              "outlinewidth": 0,
              "ticks": ""
             }
            },
            "type": "scatterternary"
           }
          ],
          "surface": [
           {
            "colorbar": {
             "outlinewidth": 0,
             "ticks": ""
            },
            "colorscale": [
             [
              0,
              "#0d0887"
             ],
             [
              0.1111111111111111,
              "#46039f"
             ],
             [
              0.2222222222222222,
              "#7201a8"
             ],
             [
              0.3333333333333333,
              "#9c179e"
             ],
             [
              0.4444444444444444,
              "#bd3786"
             ],
             [
              0.5555555555555556,
              "#d8576b"
             ],
             [
              0.6666666666666666,
              "#ed7953"
             ],
             [
              0.7777777777777778,
              "#fb9f3a"
             ],
             [
              0.8888888888888888,
              "#fdca26"
             ],
             [
              1,
              "#f0f921"
             ]
            ],
            "type": "surface"
           }
          ],
          "table": [
           {
            "cells": {
             "fill": {
              "color": "#EBF0F8"
             },
             "line": {
              "color": "white"
             }
            },
            "header": {
             "fill": {
              "color": "#C8D4E3"
             },
             "line": {
              "color": "white"
             }
            },
            "type": "table"
           }
          ]
         },
         "layout": {
          "annotationdefaults": {
           "arrowcolor": "#2a3f5f",
           "arrowhead": 0,
           "arrowwidth": 1
          },
          "autotypenumbers": "strict",
          "coloraxis": {
           "colorbar": {
            "outlinewidth": 0,
            "ticks": ""
           }
          },
          "colorscale": {
           "diverging": [
            [
             0,
             "#8e0152"
            ],
            [
             0.1,
             "#c51b7d"
            ],
            [
             0.2,
             "#de77ae"
            ],
            [
             0.3,
             "#f1b6da"
            ],
            [
             0.4,
             "#fde0ef"
            ],
            [
             0.5,
             "#f7f7f7"
            ],
            [
             0.6,
             "#e6f5d0"
            ],
            [
             0.7,
             "#b8e186"
            ],
            [
             0.8,
             "#7fbc41"
            ],
            [
             0.9,
             "#4d9221"
            ],
            [
             1,
             "#276419"
            ]
           ],
           "sequential": [
            [
             0,
             "#0d0887"
            ],
            [
             0.1111111111111111,
             "#46039f"
            ],
            [
             0.2222222222222222,
             "#7201a8"
            ],
            [
             0.3333333333333333,
             "#9c179e"
            ],
            [
             0.4444444444444444,
             "#bd3786"
            ],
            [
             0.5555555555555556,
             "#d8576b"
            ],
            [
             0.6666666666666666,
             "#ed7953"
            ],
            [
             0.7777777777777778,
             "#fb9f3a"
            ],
            [
             0.8888888888888888,
             "#fdca26"
            ],
            [
             1,
             "#f0f921"
            ]
           ],
           "sequentialminus": [
            [
             0,
             "#0d0887"
            ],
            [
             0.1111111111111111,
             "#46039f"
            ],
            [
             0.2222222222222222,
             "#7201a8"
            ],
            [
             0.3333333333333333,
             "#9c179e"
            ],
            [
             0.4444444444444444,
             "#bd3786"
            ],
            [
             0.5555555555555556,
             "#d8576b"
            ],
            [
             0.6666666666666666,
             "#ed7953"
            ],
            [
             0.7777777777777778,
             "#fb9f3a"
            ],
            [
             0.8888888888888888,
             "#fdca26"
            ],
            [
             1,
             "#f0f921"
            ]
           ]
          },
          "colorway": [
           "#636efa",
           "#EF553B",
           "#00cc96",
           "#ab63fa",
           "#FFA15A",
           "#19d3f3",
           "#FF6692",
           "#B6E880",
           "#FF97FF",
           "#FECB52"
          ],
          "font": {
           "color": "#2a3f5f"
          },
          "geo": {
           "bgcolor": "white",
           "lakecolor": "white",
           "landcolor": "#E5ECF6",
           "showlakes": true,
           "showland": true,
           "subunitcolor": "white"
          },
          "hoverlabel": {
           "align": "left"
          },
          "hovermode": "closest",
          "mapbox": {
           "style": "light"
          },
          "paper_bgcolor": "white",
          "plot_bgcolor": "#E5ECF6",
          "polar": {
           "angularaxis": {
            "gridcolor": "white",
            "linecolor": "white",
            "ticks": ""
           },
           "bgcolor": "#E5ECF6",
           "radialaxis": {
            "gridcolor": "white",
            "linecolor": "white",
            "ticks": ""
           }
          },
          "scene": {
           "xaxis": {
            "backgroundcolor": "#E5ECF6",
            "gridcolor": "white",
            "gridwidth": 2,
            "linecolor": "white",
            "showbackground": true,
            "ticks": "",
            "zerolinecolor": "white"
           },
           "yaxis": {
            "backgroundcolor": "#E5ECF6",
            "gridcolor": "white",
            "gridwidth": 2,
            "linecolor": "white",
            "showbackground": true,
            "ticks": "",
            "zerolinecolor": "white"
           },
           "zaxis": {
            "backgroundcolor": "#E5ECF6",
            "gridcolor": "white",
            "gridwidth": 2,
            "linecolor": "white",
            "showbackground": true,
            "ticks": "",
            "zerolinecolor": "white"
           }
          },
          "shapedefaults": {
           "line": {
            "color": "#2a3f5f"
           }
          },
          "ternary": {
           "aaxis": {
            "gridcolor": "white",
            "linecolor": "white",
            "ticks": ""
           },
           "baxis": {
            "gridcolor": "white",
            "linecolor": "white",
            "ticks": ""
           },
           "bgcolor": "#E5ECF6",
           "caxis": {
            "gridcolor": "white",
            "linecolor": "white",
            "ticks": ""
           }
          },
          "title": {
           "x": 0.05
          },
          "xaxis": {
           "automargin": true,
           "gridcolor": "white",
           "linecolor": "white",
           "ticks": "",
           "title": {
            "standoff": 15
           },
           "zerolinecolor": "white",
           "zerolinewidth": 2
          },
          "yaxis": {
           "automargin": true,
           "gridcolor": "white",
           "linecolor": "white",
           "ticks": "",
           "title": {
            "standoff": 15
           },
           "zerolinecolor": "white",
           "zerolinewidth": 2
          }
         }
        },
        "title": {
         "font": {
          "color": "#4D5663"
         }
        },
        "xaxis": {
         "gridcolor": "#E1E5ED",
         "showgrid": true,
         "tickfont": {
          "color": "#4D5663"
         },
         "title": {
          "font": {
           "color": "#4D5663"
          },
          "text": ""
         },
         "zerolinecolor": "#E1E5ED"
        },
        "yaxis": {
         "gridcolor": "#E1E5ED",
         "showgrid": true,
         "tickfont": {
          "color": "#4D5663"
         },
         "title": {
          "font": {
           "color": "#4D5663"
          },
          "text": ""
         },
         "zerolinecolor": "#E1E5ED"
        }
       }
      },
      "text/html": [
       "<div>                            <div id=\"670337c7-9d67-4f94-90eb-c9aae0384625\" class=\"plotly-graph-div\" style=\"height:525px; width:100%;\"></div>            <script type=\"text/javascript\">                require([\"plotly\"], function(Plotly) {                    window.PLOTLYENV=window.PLOTLYENV || {};\n",
       "                    window.PLOTLYENV.BASE_URL='https://plot.ly';                                    if (document.getElementById(\"670337c7-9d67-4f94-90eb-c9aae0384625\")) {                    Plotly.newPlot(                        \"670337c7-9d67-4f94-90eb-c9aae0384625\",                        [{\"marker\":{\"color\":\"rgba(255, 153, 51, 0.6)\",\"line\":{\"color\":\"rgba(255, 153, 51, 1.0)\",\"width\":1}},\"name\":\"A\",\"orientation\":\"v\",\"text\":\"\",\"x\":[0,1,2,3,4,5,6,7,8,9,10,11,12,13,14,15,16,17,18,19,20,21,22,23,24,25,26,27,28,29,30,31,32,33,34,35,36,37,38,39,40,41,42,43,44,45,46,47,48,49,50,51,52,53,54,55,56,57,58,59,60,61,62,63,64,65,66,67,68,69,70,71,72,73,74,75,76,77,78,79,80,81,82,83,84,85,86,87,88,89,90,91,92,93,94,95,96,97,98,99],\"y\":[-1.5749810496858492,-1.3833793433667436,0.36588075526834546,1.275399849602529,0.5286668747009455,-0.7679032009223029,-0.17831916014732532,-2.257326435988866,0.07658860332702637,1.3567938287358288,0.31894748456236754,-0.33236158300706464,-0.5406260875570553,-0.37195941916552244,-0.3135738744446838,-1.010589752168183,-0.34346062433482266,-2.6744763425885423,0.4240381404822287,0.2885273430894623,0.08427439673144732,-0.23871144244853104,0.25740702376805175,0.40166934404547766,0.8323461834133391,0.380030623534109,0.5572622542561397,-0.6278502285641379,0.3692001447418704,-1.252856435011434,0.9396183305979209,2.197696282685438,-0.6348382801909904,-0.8729626381576087,0.05369217970057937,-0.028905049872739463,-0.12222368961439022,0.00866738492464321,-0.6367143859649672,-1.7133377029111103,0.99536125242314,-1.009122337998362,-1.360458340717226,0.7800896480356647,-0.17532259166702616,0.032736921693968066,-0.029454474920911446,-0.5622728532218199,1.7074440404654854,1.569656559086373,0.4166056558837753,-0.2464947669782788,0.051460325727519976,-0.5140444063570784,-1.4717230819608562,-0.833447655009454,2.062410774351031,0.3301660327167039,-0.5484153848392193,-1.0492195305040761,-1.019093053255773,1.1009944121217843,-1.5833892267026457,1.3222535001686084,-0.6762104727297058,1.1256325176591828,1.4931242561850617,-1.0115610188042432,-0.1710109126477292,0.9683985282675233,-0.2923692307598237,-0.4186511634855657,-0.8697287759682212,-0.09922350097748456,-0.6131434465914425,-0.46546756990307686,-2.371370606691687,-0.011436671066204995,2.3688431617731793,-0.440029376897687,-0.8353927478232571,-1.320643031620411,0.5479177999724679,-1.6851472200935969,-1.105532954107571,-0.7654776138021443,0.1639452575441152,-1.8061852621960486,0.11558384967903741,-2.263510071725915,0.03022567602240936,-1.1359137329317626,0.11757310430053158,0.8152531228518184,-0.03448705506848795,0.6307535692636861,-8.491084491530586e-05,0.9122527063264612,-0.82128369509477,0.6122755731166608],\"type\":\"bar\"},{\"marker\":{\"color\":\"rgba(55, 128, 191, 0.6)\",\"line\":{\"color\":\"rgba(55, 128, 191, 1.0)\",\"width\":1}},\"name\":\"B\",\"orientation\":\"v\",\"text\":\"\",\"x\":[0,1,2,3,4,5,6,7,8,9,10,11,12,13,14,15,16,17,18,19,20,21,22,23,24,25,26,27,28,29,30,31,32,33,34,35,36,37,38,39,40,41,42,43,44,45,46,47,48,49,50,51,52,53,54,55,56,57,58,59,60,61,62,63,64,65,66,67,68,69,70,71,72,73,74,75,76,77,78,79,80,81,82,83,84,85,86,87,88,89,90,91,92,93,94,95,96,97,98,99],\"y\":[0.39642477413478533,0.3017979791106031,-0.8683082254335007,0.20904761546820905,-1.0151385494413272,1.726459441137804,-0.915985971357377,1.0086740707482478,-1.3541085530315435,-0.29751376435345445,-0.9677119092995604,0.81640449993328,-0.31681896091569794,0.376691603872416,0.0955435591329955,0.3059302882053221,-0.40763287280287025,1.6209528853068607,-0.22050739262858718,1.2407691032730783,0.1636563461364261,0.11613750655239334,1.6532965922404759,-0.18031837018080812,-0.6598102231330875,1.7173440288843729,-0.6034913988882491,0.700172084595978,-0.8655937280498989,-0.07072219995759044,0.7252338637157283,1.6896643478428925,-1.9985550678721204,-1.288494222801579,-1.7568974963426904,1.19706327798354,-0.31731491298793957,1.5395547666939289,-0.014035010368598758,0.9050425509127696,0.8009389257192039,-0.08302009201298892,0.8171531869793346,-0.7938970281830412,0.06748229716032612,-0.25163340525469363,0.4501082789510372,0.7042743375651448,1.5786258826783846,0.4361285619666368,1.7486171274308304,0.867738412173522,0.2514370572602232,0.36820210750981897,0.45772091125516895,-1.2408746566028792,-0.6509170915331346,-1.8598649448554383,1.6667421329016379,0.881305758258542,0.2701389057885898,-0.0347324992409485,-1.1756209977978531,-0.9846172568564603,1.2800801685401286,-0.23730438169687665,1.012922776234193,-0.33041307438517004,-2.085051844871717,-0.9745502845039695,-0.5536617857028113,-0.590771338993367,-1.0698252162427944,0.6190627854938642,-0.8881704812612123,1.431363113773757,-0.007321763388780562,-1.92843803713575,-0.32707220180344077,-0.3061031816927142,0.2824028569969956,-0.5216603317192834,0.42177798337842715,0.8755835168934673,-1.5346115372015554,-0.18422379387988802,0.6494656673048684,0.9072613951453106,0.228171593180147,-0.2746116506540319,-0.028169419102425697,-0.42787317529700586,-1.3357558834404946,-0.790647659605685,-0.029415709062188093,0.1799045576781755,0.9522344570155521,-0.5184755826628655,1.1836484340050315,0.9778129395793809],\"type\":\"bar\"},{\"marker\":{\"color\":\"rgba(50, 171, 96, 0.6)\",\"line\":{\"color\":\"rgba(50, 171, 96, 1.0)\",\"width\":1}},\"name\":\"C\",\"orientation\":\"v\",\"text\":\"\",\"x\":[0,1,2,3,4,5,6,7,8,9,10,11,12,13,14,15,16,17,18,19,20,21,22,23,24,25,26,27,28,29,30,31,32,33,34,35,36,37,38,39,40,41,42,43,44,45,46,47,48,49,50,51,52,53,54,55,56,57,58,59,60,61,62,63,64,65,66,67,68,69,70,71,72,73,74,75,76,77,78,79,80,81,82,83,84,85,86,87,88,89,90,91,92,93,94,95,96,97,98,99],\"y\":[1.0700406965603044,0.47320689188072074,0.8889381855451203,1.984685692613606,-0.9905856410306387,0.06186445398377224,-0.3781617800979096,-0.5895388793729588,0.794747252179797,0.9230208518575128,-0.6188917723964353,-1.2634044397458761,0.8899247347307317,-0.041802643180199814,1.7101356218130819,-1.6273021804294716,0.2891211909563434,-1.803755995261513,1.005594395815204,-0.07519807148612825,1.3163249604794844,-0.15817680256006203,0.26373186752905925,0.6055879906295724,-0.9385944392959061,0.2636575307398441,0.47035031066286104,-0.3309727058519469,0.7455100676917912,0.7755461278650121,0.37907845045617533,0.5078749537555448,-0.3045934543346218,-1.24392003983143,-1.1227859031564063,0.7800241925040196,-1.0089050410309925,0.9424424961263709,-1.0691859319549368,0.9995978697480474,-1.9650763312895476,0.3955839765822933,-1.4566706985457498,-1.202331544573614,-0.3874201640610675,-1.2071730069168236,0.8656900668547792,0.7749818255821247,-0.40201945311330517,-1.6384500942017932,0.05833187520551722,-1.3216556170659117,2.312488663924503,0.21928120392193154,-1.9438725062397344,-0.4290795310358435,-1.339133419340799,-1.2627039314108552,0.9056212699527014,-0.2363735068948559,1.2195893170306071,-0.08389414081632988,0.22867566500949105,-2.413961059554438,-1.1998966501201662,0.7401682706615308,-0.51156060446994,1.6148275387210587,1.344929661254416,0.6387451049698962,-0.3583917172754251,0.7465394883336404,0.15538564043812364,0.14011930135585737,0.8169262769794431,0.34088061999409797,0.889837791491532,0.19232642878875802,-1.6539027936192965,0.8675030093792894,-0.47078665249200163,-1.7724058935583373,0.10057807757294003,0.9598073139432325,-0.4148261328833594,-0.7557444124571863,-0.7030399314225763,-0.27235739587431007,0.5247804026828217,-0.197345784237892,-0.1555129303996773,0.055560600376472126,-0.1512681055853885,-1.3138607107599134,0.1293343621347584,0.6959648720514148,-0.4073834571043385,1.568746821382907,-0.41752316554302166,0.3544673745911766],\"type\":\"bar\"},{\"marker\":{\"color\":\"rgba(128, 0, 128, 0.6)\",\"line\":{\"color\":\"rgba(128, 0, 128, 1.0)\",\"width\":1}},\"name\":\"D\",\"orientation\":\"v\",\"text\":\"\",\"x\":[0,1,2,3,4,5,6,7,8,9,10,11,12,13,14,15,16,17,18,19,20,21,22,23,24,25,26,27,28,29,30,31,32,33,34,35,36,37,38,39,40,41,42,43,44,45,46,47,48,49,50,51,52,53,54,55,56,57,58,59,60,61,62,63,64,65,66,67,68,69,70,71,72,73,74,75,76,77,78,79,80,81,82,83,84,85,86,87,88,89,90,91,92,93,94,95,96,97,98,99],\"y\":[0.14425618902772747,-1.8939342901630691,-0.48477320187557554,-0.4593393791421347,-2.339592076557052,1.311590618793374,-1.5360766226020206,-1.0154550572704288,0.15906663364928308,1.3604423345007133,1.3399761693998393,0.850198098811847,-1.6941060098208944,0.730071090987942,1.008238072861487,1.795090152650695,1.7915821023153595,0.29400607548936003,-0.8159407247542291,0.19711999021411716,0.8200862761171573,0.7601527706740808,0.5674761250596101,-0.13996943397447206,0.17821131158800996,0.18457270589522828,1.04379920509321,-0.652722508495129,0.6420533765209736,-0.4138125238095458,-0.12275124251665397,0.043906853007055824,-1.4409741909873395,0.42506775241844263,0.9624402927611686,-0.5378417195821108,0.6295666983730309,0.728630216429118,-1.213727460550597,-2.130955226582706,-0.2704722926059495,0.1481866771999114,0.7306790471248414,0.21686454959768797,-0.6567964359887308,-0.6470793096094121,-0.4545458288756462,0.07580643874686249,0.38218791727607493,-0.1416109023900944,0.6473012260955611,0.5174503062831697,-0.5049105159658954,-0.34253350164476215,1.810332008303204,-0.6401565791336887,0.6521984402923481,-0.8286118338536269,-1.3439070316027542,0.7814798176632166,0.5011933330618819,-0.2704101289032435,-0.10057152517551457,0.8436212094507817,0.3930507355414695,-0.7427881549463758,0.4833266726881477,0.5888241188022255,1.3775067789981312,-1.5595366482950896,-1.5038190329760643,-1.107132252469969,1.8631485442387221,-1.2378206901207147,-1.5710350013202465,-0.6147598340911066,0.46604507465244216,0.2727181881851066,-0.4554496784154893,-0.810774896348241,-0.17526252760094477,0.015439744423981721,0.29040229656619315,1.1975379751419997,0.03710941225425532,2.5540713173081677,1.8321494496323845,-0.9681228941709391,1.3607493420309653,-1.4046817439382802,0.3882714876679938,-0.34410511941403354,0.9036457102811655,0.226559473173561,-0.9309352514277246,-0.7342069133657667,0.044369269608457766,0.09209970230315259,-0.5865347123319166,-1.3262936610426104],\"type\":\"bar\"}],                        {\"legend\":{\"bgcolor\":\"#F5F6F9\",\"font\":{\"color\":\"#4D5663\"}},\"paper_bgcolor\":\"#F5F6F9\",\"plot_bgcolor\":\"#F5F6F9\",\"template\":{\"data\":{\"barpolar\":[{\"marker\":{\"line\":{\"color\":\"#E5ECF6\",\"width\":0.5},\"pattern\":{\"fillmode\":\"overlay\",\"size\":10,\"solidity\":0.2}},\"type\":\"barpolar\"}],\"bar\":[{\"error_x\":{\"color\":\"#2a3f5f\"},\"error_y\":{\"color\":\"#2a3f5f\"},\"marker\":{\"line\":{\"color\":\"#E5ECF6\",\"width\":0.5},\"pattern\":{\"fillmode\":\"overlay\",\"size\":10,\"solidity\":0.2}},\"type\":\"bar\"}],\"carpet\":[{\"aaxis\":{\"endlinecolor\":\"#2a3f5f\",\"gridcolor\":\"white\",\"linecolor\":\"white\",\"minorgridcolor\":\"white\",\"startlinecolor\":\"#2a3f5f\"},\"baxis\":{\"endlinecolor\":\"#2a3f5f\",\"gridcolor\":\"white\",\"linecolor\":\"white\",\"minorgridcolor\":\"white\",\"startlinecolor\":\"#2a3f5f\"},\"type\":\"carpet\"}],\"choropleth\":[{\"colorbar\":{\"outlinewidth\":0,\"ticks\":\"\"},\"type\":\"choropleth\"}],\"contourcarpet\":[{\"colorbar\":{\"outlinewidth\":0,\"ticks\":\"\"},\"type\":\"contourcarpet\"}],\"contour\":[{\"colorbar\":{\"outlinewidth\":0,\"ticks\":\"\"},\"colorscale\":[[0.0,\"#0d0887\"],[0.1111111111111111,\"#46039f\"],[0.2222222222222222,\"#7201a8\"],[0.3333333333333333,\"#9c179e\"],[0.4444444444444444,\"#bd3786\"],[0.5555555555555556,\"#d8576b\"],[0.6666666666666666,\"#ed7953\"],[0.7777777777777778,\"#fb9f3a\"],[0.8888888888888888,\"#fdca26\"],[1.0,\"#f0f921\"]],\"type\":\"contour\"}],\"heatmapgl\":[{\"colorbar\":{\"outlinewidth\":0,\"ticks\":\"\"},\"colorscale\":[[0.0,\"#0d0887\"],[0.1111111111111111,\"#46039f\"],[0.2222222222222222,\"#7201a8\"],[0.3333333333333333,\"#9c179e\"],[0.4444444444444444,\"#bd3786\"],[0.5555555555555556,\"#d8576b\"],[0.6666666666666666,\"#ed7953\"],[0.7777777777777778,\"#fb9f3a\"],[0.8888888888888888,\"#fdca26\"],[1.0,\"#f0f921\"]],\"type\":\"heatmapgl\"}],\"heatmap\":[{\"colorbar\":{\"outlinewidth\":0,\"ticks\":\"\"},\"colorscale\":[[0.0,\"#0d0887\"],[0.1111111111111111,\"#46039f\"],[0.2222222222222222,\"#7201a8\"],[0.3333333333333333,\"#9c179e\"],[0.4444444444444444,\"#bd3786\"],[0.5555555555555556,\"#d8576b\"],[0.6666666666666666,\"#ed7953\"],[0.7777777777777778,\"#fb9f3a\"],[0.8888888888888888,\"#fdca26\"],[1.0,\"#f0f921\"]],\"type\":\"heatmap\"}],\"histogram2dcontour\":[{\"colorbar\":{\"outlinewidth\":0,\"ticks\":\"\"},\"colorscale\":[[0.0,\"#0d0887\"],[0.1111111111111111,\"#46039f\"],[0.2222222222222222,\"#7201a8\"],[0.3333333333333333,\"#9c179e\"],[0.4444444444444444,\"#bd3786\"],[0.5555555555555556,\"#d8576b\"],[0.6666666666666666,\"#ed7953\"],[0.7777777777777778,\"#fb9f3a\"],[0.8888888888888888,\"#fdca26\"],[1.0,\"#f0f921\"]],\"type\":\"histogram2dcontour\"}],\"histogram2d\":[{\"colorbar\":{\"outlinewidth\":0,\"ticks\":\"\"},\"colorscale\":[[0.0,\"#0d0887\"],[0.1111111111111111,\"#46039f\"],[0.2222222222222222,\"#7201a8\"],[0.3333333333333333,\"#9c179e\"],[0.4444444444444444,\"#bd3786\"],[0.5555555555555556,\"#d8576b\"],[0.6666666666666666,\"#ed7953\"],[0.7777777777777778,\"#fb9f3a\"],[0.8888888888888888,\"#fdca26\"],[1.0,\"#f0f921\"]],\"type\":\"histogram2d\"}],\"histogram\":[{\"marker\":{\"pattern\":{\"fillmode\":\"overlay\",\"size\":10,\"solidity\":0.2}},\"type\":\"histogram\"}],\"mesh3d\":[{\"colorbar\":{\"outlinewidth\":0,\"ticks\":\"\"},\"type\":\"mesh3d\"}],\"parcoords\":[{\"line\":{\"colorbar\":{\"outlinewidth\":0,\"ticks\":\"\"}},\"type\":\"parcoords\"}],\"pie\":[{\"automargin\":true,\"type\":\"pie\"}],\"scatter3d\":[{\"line\":{\"colorbar\":{\"outlinewidth\":0,\"ticks\":\"\"}},\"marker\":{\"colorbar\":{\"outlinewidth\":0,\"ticks\":\"\"}},\"type\":\"scatter3d\"}],\"scattercarpet\":[{\"marker\":{\"colorbar\":{\"outlinewidth\":0,\"ticks\":\"\"}},\"type\":\"scattercarpet\"}],\"scattergeo\":[{\"marker\":{\"colorbar\":{\"outlinewidth\":0,\"ticks\":\"\"}},\"type\":\"scattergeo\"}],\"scattergl\":[{\"marker\":{\"colorbar\":{\"outlinewidth\":0,\"ticks\":\"\"}},\"type\":\"scattergl\"}],\"scattermapbox\":[{\"marker\":{\"colorbar\":{\"outlinewidth\":0,\"ticks\":\"\"}},\"type\":\"scattermapbox\"}],\"scatterpolargl\":[{\"marker\":{\"colorbar\":{\"outlinewidth\":0,\"ticks\":\"\"}},\"type\":\"scatterpolargl\"}],\"scatterpolar\":[{\"marker\":{\"colorbar\":{\"outlinewidth\":0,\"ticks\":\"\"}},\"type\":\"scatterpolar\"}],\"scatter\":[{\"fillpattern\":{\"fillmode\":\"overlay\",\"size\":10,\"solidity\":0.2},\"type\":\"scatter\"}],\"scatterternary\":[{\"marker\":{\"colorbar\":{\"outlinewidth\":0,\"ticks\":\"\"}},\"type\":\"scatterternary\"}],\"surface\":[{\"colorbar\":{\"outlinewidth\":0,\"ticks\":\"\"},\"colorscale\":[[0.0,\"#0d0887\"],[0.1111111111111111,\"#46039f\"],[0.2222222222222222,\"#7201a8\"],[0.3333333333333333,\"#9c179e\"],[0.4444444444444444,\"#bd3786\"],[0.5555555555555556,\"#d8576b\"],[0.6666666666666666,\"#ed7953\"],[0.7777777777777778,\"#fb9f3a\"],[0.8888888888888888,\"#fdca26\"],[1.0,\"#f0f921\"]],\"type\":\"surface\"}],\"table\":[{\"cells\":{\"fill\":{\"color\":\"#EBF0F8\"},\"line\":{\"color\":\"white\"}},\"header\":{\"fill\":{\"color\":\"#C8D4E3\"},\"line\":{\"color\":\"white\"}},\"type\":\"table\"}]},\"layout\":{\"annotationdefaults\":{\"arrowcolor\":\"#2a3f5f\",\"arrowhead\":0,\"arrowwidth\":1},\"autotypenumbers\":\"strict\",\"coloraxis\":{\"colorbar\":{\"outlinewidth\":0,\"ticks\":\"\"}},\"colorscale\":{\"diverging\":[[0,\"#8e0152\"],[0.1,\"#c51b7d\"],[0.2,\"#de77ae\"],[0.3,\"#f1b6da\"],[0.4,\"#fde0ef\"],[0.5,\"#f7f7f7\"],[0.6,\"#e6f5d0\"],[0.7,\"#b8e186\"],[0.8,\"#7fbc41\"],[0.9,\"#4d9221\"],[1,\"#276419\"]],\"sequential\":[[0.0,\"#0d0887\"],[0.1111111111111111,\"#46039f\"],[0.2222222222222222,\"#7201a8\"],[0.3333333333333333,\"#9c179e\"],[0.4444444444444444,\"#bd3786\"],[0.5555555555555556,\"#d8576b\"],[0.6666666666666666,\"#ed7953\"],[0.7777777777777778,\"#fb9f3a\"],[0.8888888888888888,\"#fdca26\"],[1.0,\"#f0f921\"]],\"sequentialminus\":[[0.0,\"#0d0887\"],[0.1111111111111111,\"#46039f\"],[0.2222222222222222,\"#7201a8\"],[0.3333333333333333,\"#9c179e\"],[0.4444444444444444,\"#bd3786\"],[0.5555555555555556,\"#d8576b\"],[0.6666666666666666,\"#ed7953\"],[0.7777777777777778,\"#fb9f3a\"],[0.8888888888888888,\"#fdca26\"],[1.0,\"#f0f921\"]]},\"colorway\":[\"#636efa\",\"#EF553B\",\"#00cc96\",\"#ab63fa\",\"#FFA15A\",\"#19d3f3\",\"#FF6692\",\"#B6E880\",\"#FF97FF\",\"#FECB52\"],\"font\":{\"color\":\"#2a3f5f\"},\"geo\":{\"bgcolor\":\"white\",\"lakecolor\":\"white\",\"landcolor\":\"#E5ECF6\",\"showlakes\":true,\"showland\":true,\"subunitcolor\":\"white\"},\"hoverlabel\":{\"align\":\"left\"},\"hovermode\":\"closest\",\"mapbox\":{\"style\":\"light\"},\"paper_bgcolor\":\"white\",\"plot_bgcolor\":\"#E5ECF6\",\"polar\":{\"angularaxis\":{\"gridcolor\":\"white\",\"linecolor\":\"white\",\"ticks\":\"\"},\"bgcolor\":\"#E5ECF6\",\"radialaxis\":{\"gridcolor\":\"white\",\"linecolor\":\"white\",\"ticks\":\"\"}},\"scene\":{\"xaxis\":{\"backgroundcolor\":\"#E5ECF6\",\"gridcolor\":\"white\",\"gridwidth\":2,\"linecolor\":\"white\",\"showbackground\":true,\"ticks\":\"\",\"zerolinecolor\":\"white\"},\"yaxis\":{\"backgroundcolor\":\"#E5ECF6\",\"gridcolor\":\"white\",\"gridwidth\":2,\"linecolor\":\"white\",\"showbackground\":true,\"ticks\":\"\",\"zerolinecolor\":\"white\"},\"zaxis\":{\"backgroundcolor\":\"#E5ECF6\",\"gridcolor\":\"white\",\"gridwidth\":2,\"linecolor\":\"white\",\"showbackground\":true,\"ticks\":\"\",\"zerolinecolor\":\"white\"}},\"shapedefaults\":{\"line\":{\"color\":\"#2a3f5f\"}},\"ternary\":{\"aaxis\":{\"gridcolor\":\"white\",\"linecolor\":\"white\",\"ticks\":\"\"},\"baxis\":{\"gridcolor\":\"white\",\"linecolor\":\"white\",\"ticks\":\"\"},\"bgcolor\":\"#E5ECF6\",\"caxis\":{\"gridcolor\":\"white\",\"linecolor\":\"white\",\"ticks\":\"\"}},\"title\":{\"x\":0.05},\"xaxis\":{\"automargin\":true,\"gridcolor\":\"white\",\"linecolor\":\"white\",\"ticks\":\"\",\"title\":{\"standoff\":15},\"zerolinecolor\":\"white\",\"zerolinewidth\":2},\"yaxis\":{\"automargin\":true,\"gridcolor\":\"white\",\"linecolor\":\"white\",\"ticks\":\"\",\"title\":{\"standoff\":15},\"zerolinecolor\":\"white\",\"zerolinewidth\":2}}},\"title\":{\"font\":{\"color\":\"#4D5663\"}},\"xaxis\":{\"gridcolor\":\"#E1E5ED\",\"showgrid\":true,\"tickfont\":{\"color\":\"#4D5663\"},\"title\":{\"font\":{\"color\":\"#4D5663\"},\"text\":\"\"},\"zerolinecolor\":\"#E1E5ED\"},\"yaxis\":{\"gridcolor\":\"#E1E5ED\",\"showgrid\":true,\"tickfont\":{\"color\":\"#4D5663\"},\"title\":{\"font\":{\"color\":\"#4D5663\"},\"text\":\"\"},\"zerolinecolor\":\"#E1E5ED\"}},                        {\"showLink\": true, \"linkText\": \"Export to plot.ly\", \"plotlyServerURL\": \"https://plot.ly\", \"responsive\": true}                    ).then(function(){\n",
       "                            \n",
       "var gd = document.getElementById('670337c7-9d67-4f94-90eb-c9aae0384625');\n",
       "var x = new MutationObserver(function (mutations, observer) {{\n",
       "        var display = window.getComputedStyle(gd).display;\n",
       "        if (!display || display === 'none') {{\n",
       "            console.log([gd, 'removed!']);\n",
       "            Plotly.purge(gd);\n",
       "            observer.disconnect();\n",
       "        }}\n",
       "}});\n",
       "\n",
       "// Listen for the removal of the full notebook cells\n",
       "var notebookContainer = gd.closest('#notebook-container');\n",
       "if (notebookContainer) {{\n",
       "    x.observe(notebookContainer, {childList: true});\n",
       "}}\n",
       "\n",
       "// Listen for the clearing of the current output cell\n",
       "var outputEl = gd.closest('.output');\n",
       "if (outputEl) {{\n",
       "    x.observe(outputEl, {childList: true});\n",
       "}}\n",
       "\n",
       "                        })                };                });            </script>        </div>"
      ]
     },
     "metadata": {},
     "output_type": "display_data"
    }
   ],
   "source": [
    "df.iplot(kind=\"bar\")"
   ]
  },
  {
   "cell_type": "code",
   "execution_count": 25,
   "id": "a44df366",
   "metadata": {},
   "outputs": [
    {
     "data": {
      "application/vnd.plotly.v1+json": {
       "config": {
        "linkText": "Export to plot.ly",
        "plotlyServerURL": "https://plot.ly",
        "showLink": true
       },
       "data": [
        {
         "boxpoints": false,
         "line": {
          "width": 1.3
         },
         "marker": {
          "color": "rgba(255, 153, 51, 1.0)"
         },
         "name": "A",
         "orientation": "v",
         "type": "box",
         "y": [
          -1.5749810496858492,
          -1.3833793433667436,
          0.36588075526834546,
          1.275399849602529,
          0.5286668747009455,
          -0.7679032009223029,
          -0.17831916014732532,
          -2.257326435988866,
          0.07658860332702637,
          1.3567938287358288,
          0.31894748456236754,
          -0.33236158300706464,
          -0.5406260875570553,
          -0.37195941916552244,
          -0.3135738744446838,
          -1.010589752168183,
          -0.34346062433482266,
          -2.6744763425885423,
          0.4240381404822287,
          0.2885273430894623,
          0.08427439673144732,
          -0.23871144244853104,
          0.25740702376805175,
          0.40166934404547766,
          0.8323461834133391,
          0.380030623534109,
          0.5572622542561397,
          -0.6278502285641379,
          0.3692001447418704,
          -1.252856435011434,
          0.9396183305979209,
          2.197696282685438,
          -0.6348382801909904,
          -0.8729626381576087,
          0.05369217970057937,
          -0.028905049872739463,
          -0.12222368961439022,
          0.00866738492464321,
          -0.6367143859649672,
          -1.7133377029111103,
          0.99536125242314,
          -1.009122337998362,
          -1.360458340717226,
          0.7800896480356647,
          -0.17532259166702616,
          0.032736921693968066,
          -0.029454474920911446,
          -0.5622728532218199,
          1.7074440404654854,
          1.569656559086373,
          0.4166056558837753,
          -0.2464947669782788,
          0.051460325727519976,
          -0.5140444063570784,
          -1.4717230819608562,
          -0.833447655009454,
          2.062410774351031,
          0.3301660327167039,
          -0.5484153848392193,
          -1.0492195305040761,
          -1.019093053255773,
          1.1009944121217843,
          -1.5833892267026457,
          1.3222535001686084,
          -0.6762104727297058,
          1.1256325176591828,
          1.4931242561850617,
          -1.0115610188042432,
          -0.1710109126477292,
          0.9683985282675233,
          -0.2923692307598237,
          -0.4186511634855657,
          -0.8697287759682212,
          -0.09922350097748456,
          -0.6131434465914425,
          -0.46546756990307686,
          -2.371370606691687,
          -0.011436671066204995,
          2.3688431617731793,
          -0.440029376897687,
          -0.8353927478232571,
          -1.320643031620411,
          0.5479177999724679,
          -1.6851472200935969,
          -1.105532954107571,
          -0.7654776138021443,
          0.1639452575441152,
          -1.8061852621960486,
          0.11558384967903741,
          -2.263510071725915,
          0.03022567602240936,
          -1.1359137329317626,
          0.11757310430053158,
          0.8152531228518184,
          -0.03448705506848795,
          0.6307535692636861,
          -8.491084491530586e-05,
          0.9122527063264612,
          -0.82128369509477,
          0.6122755731166608
         ]
        },
        {
         "boxpoints": false,
         "line": {
          "width": 1.3
         },
         "marker": {
          "color": "rgba(55, 128, 191, 1.0)"
         },
         "name": "B",
         "orientation": "v",
         "type": "box",
         "y": [
          0.39642477413478533,
          0.3017979791106031,
          -0.8683082254335007,
          0.20904761546820905,
          -1.0151385494413272,
          1.726459441137804,
          -0.915985971357377,
          1.0086740707482478,
          -1.3541085530315435,
          -0.29751376435345445,
          -0.9677119092995604,
          0.81640449993328,
          -0.31681896091569794,
          0.376691603872416,
          0.0955435591329955,
          0.3059302882053221,
          -0.40763287280287025,
          1.6209528853068607,
          -0.22050739262858718,
          1.2407691032730783,
          0.1636563461364261,
          0.11613750655239334,
          1.6532965922404759,
          -0.18031837018080812,
          -0.6598102231330875,
          1.7173440288843729,
          -0.6034913988882491,
          0.700172084595978,
          -0.8655937280498989,
          -0.07072219995759044,
          0.7252338637157283,
          1.6896643478428925,
          -1.9985550678721204,
          -1.288494222801579,
          -1.7568974963426904,
          1.19706327798354,
          -0.31731491298793957,
          1.5395547666939289,
          -0.014035010368598758,
          0.9050425509127696,
          0.8009389257192039,
          -0.08302009201298892,
          0.8171531869793346,
          -0.7938970281830412,
          0.06748229716032612,
          -0.25163340525469363,
          0.4501082789510372,
          0.7042743375651448,
          1.5786258826783846,
          0.4361285619666368,
          1.7486171274308304,
          0.867738412173522,
          0.2514370572602232,
          0.36820210750981897,
          0.45772091125516895,
          -1.2408746566028792,
          -0.6509170915331346,
          -1.8598649448554383,
          1.6667421329016379,
          0.881305758258542,
          0.2701389057885898,
          -0.0347324992409485,
          -1.1756209977978531,
          -0.9846172568564603,
          1.2800801685401286,
          -0.23730438169687665,
          1.012922776234193,
          -0.33041307438517004,
          -2.085051844871717,
          -0.9745502845039695,
          -0.5536617857028113,
          -0.590771338993367,
          -1.0698252162427944,
          0.6190627854938642,
          -0.8881704812612123,
          1.431363113773757,
          -0.007321763388780562,
          -1.92843803713575,
          -0.32707220180344077,
          -0.3061031816927142,
          0.2824028569969956,
          -0.5216603317192834,
          0.42177798337842715,
          0.8755835168934673,
          -1.5346115372015554,
          -0.18422379387988802,
          0.6494656673048684,
          0.9072613951453106,
          0.228171593180147,
          -0.2746116506540319,
          -0.028169419102425697,
          -0.42787317529700586,
          -1.3357558834404946,
          -0.790647659605685,
          -0.029415709062188093,
          0.1799045576781755,
          0.9522344570155521,
          -0.5184755826628655,
          1.1836484340050315,
          0.9778129395793809
         ]
        },
        {
         "boxpoints": false,
         "line": {
          "width": 1.3
         },
         "marker": {
          "color": "rgba(50, 171, 96, 1.0)"
         },
         "name": "C",
         "orientation": "v",
         "type": "box",
         "y": [
          1.0700406965603044,
          0.47320689188072074,
          0.8889381855451203,
          1.984685692613606,
          -0.9905856410306387,
          0.06186445398377224,
          -0.3781617800979096,
          -0.5895388793729588,
          0.794747252179797,
          0.9230208518575128,
          -0.6188917723964353,
          -1.2634044397458761,
          0.8899247347307317,
          -0.041802643180199814,
          1.7101356218130819,
          -1.6273021804294716,
          0.2891211909563434,
          -1.803755995261513,
          1.005594395815204,
          -0.07519807148612825,
          1.3163249604794844,
          -0.15817680256006203,
          0.26373186752905925,
          0.6055879906295724,
          -0.9385944392959061,
          0.2636575307398441,
          0.47035031066286104,
          -0.3309727058519469,
          0.7455100676917912,
          0.7755461278650121,
          0.37907845045617533,
          0.5078749537555448,
          -0.3045934543346218,
          -1.24392003983143,
          -1.1227859031564063,
          0.7800241925040196,
          -1.0089050410309925,
          0.9424424961263709,
          -1.0691859319549368,
          0.9995978697480474,
          -1.9650763312895476,
          0.3955839765822933,
          -1.4566706985457498,
          -1.202331544573614,
          -0.3874201640610675,
          -1.2071730069168236,
          0.8656900668547792,
          0.7749818255821247,
          -0.40201945311330517,
          -1.6384500942017932,
          0.05833187520551722,
          -1.3216556170659117,
          2.312488663924503,
          0.21928120392193154,
          -1.9438725062397344,
          -0.4290795310358435,
          -1.339133419340799,
          -1.2627039314108552,
          0.9056212699527014,
          -0.2363735068948559,
          1.2195893170306071,
          -0.08389414081632988,
          0.22867566500949105,
          -2.413961059554438,
          -1.1998966501201662,
          0.7401682706615308,
          -0.51156060446994,
          1.6148275387210587,
          1.344929661254416,
          0.6387451049698962,
          -0.3583917172754251,
          0.7465394883336404,
          0.15538564043812364,
          0.14011930135585737,
          0.8169262769794431,
          0.34088061999409797,
          0.889837791491532,
          0.19232642878875802,
          -1.6539027936192965,
          0.8675030093792894,
          -0.47078665249200163,
          -1.7724058935583373,
          0.10057807757294003,
          0.9598073139432325,
          -0.4148261328833594,
          -0.7557444124571863,
          -0.7030399314225763,
          -0.27235739587431007,
          0.5247804026828217,
          -0.197345784237892,
          -0.1555129303996773,
          0.055560600376472126,
          -0.1512681055853885,
          -1.3138607107599134,
          0.1293343621347584,
          0.6959648720514148,
          -0.4073834571043385,
          1.568746821382907,
          -0.41752316554302166,
          0.3544673745911766
         ]
        },
        {
         "boxpoints": false,
         "line": {
          "width": 1.3
         },
         "marker": {
          "color": "rgba(128, 0, 128, 1.0)"
         },
         "name": "D",
         "orientation": "v",
         "type": "box",
         "y": [
          0.14425618902772747,
          -1.8939342901630691,
          -0.48477320187557554,
          -0.4593393791421347,
          -2.339592076557052,
          1.311590618793374,
          -1.5360766226020206,
          -1.0154550572704288,
          0.15906663364928308,
          1.3604423345007133,
          1.3399761693998393,
          0.850198098811847,
          -1.6941060098208944,
          0.730071090987942,
          1.008238072861487,
          1.795090152650695,
          1.7915821023153595,
          0.29400607548936003,
          -0.8159407247542291,
          0.19711999021411716,
          0.8200862761171573,
          0.7601527706740808,
          0.5674761250596101,
          -0.13996943397447206,
          0.17821131158800996,
          0.18457270589522828,
          1.04379920509321,
          -0.652722508495129,
          0.6420533765209736,
          -0.4138125238095458,
          -0.12275124251665397,
          0.043906853007055824,
          -1.4409741909873395,
          0.42506775241844263,
          0.9624402927611686,
          -0.5378417195821108,
          0.6295666983730309,
          0.728630216429118,
          -1.213727460550597,
          -2.130955226582706,
          -0.2704722926059495,
          0.1481866771999114,
          0.7306790471248414,
          0.21686454959768797,
          -0.6567964359887308,
          -0.6470793096094121,
          -0.4545458288756462,
          0.07580643874686249,
          0.38218791727607493,
          -0.1416109023900944,
          0.6473012260955611,
          0.5174503062831697,
          -0.5049105159658954,
          -0.34253350164476215,
          1.810332008303204,
          -0.6401565791336887,
          0.6521984402923481,
          -0.8286118338536269,
          -1.3439070316027542,
          0.7814798176632166,
          0.5011933330618819,
          -0.2704101289032435,
          -0.10057152517551457,
          0.8436212094507817,
          0.3930507355414695,
          -0.7427881549463758,
          0.4833266726881477,
          0.5888241188022255,
          1.3775067789981312,
          -1.5595366482950896,
          -1.5038190329760643,
          -1.107132252469969,
          1.8631485442387221,
          -1.2378206901207147,
          -1.5710350013202465,
          -0.6147598340911066,
          0.46604507465244216,
          0.2727181881851066,
          -0.4554496784154893,
          -0.810774896348241,
          -0.17526252760094477,
          0.015439744423981721,
          0.29040229656619315,
          1.1975379751419997,
          0.03710941225425532,
          2.5540713173081677,
          1.8321494496323845,
          -0.9681228941709391,
          1.3607493420309653,
          -1.4046817439382802,
          0.3882714876679938,
          -0.34410511941403354,
          0.9036457102811655,
          0.226559473173561,
          -0.9309352514277246,
          -0.7342069133657667,
          0.044369269608457766,
          0.09209970230315259,
          -0.5865347123319166,
          -1.3262936610426104
         ]
        }
       ],
       "layout": {
        "legend": {
         "bgcolor": "#F5F6F9",
         "font": {
          "color": "#4D5663"
         }
        },
        "paper_bgcolor": "#F5F6F9",
        "plot_bgcolor": "#F5F6F9",
        "template": {
         "data": {
          "bar": [
           {
            "error_x": {
             "color": "#2a3f5f"
            },
            "error_y": {
             "color": "#2a3f5f"
            },
            "marker": {
             "line": {
              "color": "#E5ECF6",
              "width": 0.5
             },
             "pattern": {
              "fillmode": "overlay",
              "size": 10,
              "solidity": 0.2
             }
            },
            "type": "bar"
           }
          ],
          "barpolar": [
           {
            "marker": {
             "line": {
              "color": "#E5ECF6",
              "width": 0.5
             },
             "pattern": {
              "fillmode": "overlay",
              "size": 10,
              "solidity": 0.2
             }
            },
            "type": "barpolar"
           }
          ],
          "carpet": [
           {
            "aaxis": {
             "endlinecolor": "#2a3f5f",
             "gridcolor": "white",
             "linecolor": "white",
             "minorgridcolor": "white",
             "startlinecolor": "#2a3f5f"
            },
            "baxis": {
             "endlinecolor": "#2a3f5f",
             "gridcolor": "white",
             "linecolor": "white",
             "minorgridcolor": "white",
             "startlinecolor": "#2a3f5f"
            },
            "type": "carpet"
           }
          ],
          "choropleth": [
           {
            "colorbar": {
             "outlinewidth": 0,
             "ticks": ""
            },
            "type": "choropleth"
           }
          ],
          "contour": [
           {
            "colorbar": {
             "outlinewidth": 0,
             "ticks": ""
            },
            "colorscale": [
             [
              0,
              "#0d0887"
             ],
             [
              0.1111111111111111,
              "#46039f"
             ],
             [
              0.2222222222222222,
              "#7201a8"
             ],
             [
              0.3333333333333333,
              "#9c179e"
             ],
             [
              0.4444444444444444,
              "#bd3786"
             ],
             [
              0.5555555555555556,
              "#d8576b"
             ],
             [
              0.6666666666666666,
              "#ed7953"
             ],
             [
              0.7777777777777778,
              "#fb9f3a"
             ],
             [
              0.8888888888888888,
              "#fdca26"
             ],
             [
              1,
              "#f0f921"
             ]
            ],
            "type": "contour"
           }
          ],
          "contourcarpet": [
           {
            "colorbar": {
             "outlinewidth": 0,
             "ticks": ""
            },
            "type": "contourcarpet"
           }
          ],
          "heatmap": [
           {
            "colorbar": {
             "outlinewidth": 0,
             "ticks": ""
            },
            "colorscale": [
             [
              0,
              "#0d0887"
             ],
             [
              0.1111111111111111,
              "#46039f"
             ],
             [
              0.2222222222222222,
              "#7201a8"
             ],
             [
              0.3333333333333333,
              "#9c179e"
             ],
             [
              0.4444444444444444,
              "#bd3786"
             ],
             [
              0.5555555555555556,
              "#d8576b"
             ],
             [
              0.6666666666666666,
              "#ed7953"
             ],
             [
              0.7777777777777778,
              "#fb9f3a"
             ],
             [
              0.8888888888888888,
              "#fdca26"
             ],
             [
              1,
              "#f0f921"
             ]
            ],
            "type": "heatmap"
           }
          ],
          "heatmapgl": [
           {
            "colorbar": {
             "outlinewidth": 0,
             "ticks": ""
            },
            "colorscale": [
             [
              0,
              "#0d0887"
             ],
             [
              0.1111111111111111,
              "#46039f"
             ],
             [
              0.2222222222222222,
              "#7201a8"
             ],
             [
              0.3333333333333333,
              "#9c179e"
             ],
             [
              0.4444444444444444,
              "#bd3786"
             ],
             [
              0.5555555555555556,
              "#d8576b"
             ],
             [
              0.6666666666666666,
              "#ed7953"
             ],
             [
              0.7777777777777778,
              "#fb9f3a"
             ],
             [
              0.8888888888888888,
              "#fdca26"
             ],
             [
              1,
              "#f0f921"
             ]
            ],
            "type": "heatmapgl"
           }
          ],
          "histogram": [
           {
            "marker": {
             "pattern": {
              "fillmode": "overlay",
              "size": 10,
              "solidity": 0.2
             }
            },
            "type": "histogram"
           }
          ],
          "histogram2d": [
           {
            "colorbar": {
             "outlinewidth": 0,
             "ticks": ""
            },
            "colorscale": [
             [
              0,
              "#0d0887"
             ],
             [
              0.1111111111111111,
              "#46039f"
             ],
             [
              0.2222222222222222,
              "#7201a8"
             ],
             [
              0.3333333333333333,
              "#9c179e"
             ],
             [
              0.4444444444444444,
              "#bd3786"
             ],
             [
              0.5555555555555556,
              "#d8576b"
             ],
             [
              0.6666666666666666,
              "#ed7953"
             ],
             [
              0.7777777777777778,
              "#fb9f3a"
             ],
             [
              0.8888888888888888,
              "#fdca26"
             ],
             [
              1,
              "#f0f921"
             ]
            ],
            "type": "histogram2d"
           }
          ],
          "histogram2dcontour": [
           {
            "colorbar": {
             "outlinewidth": 0,
             "ticks": ""
            },
            "colorscale": [
             [
              0,
              "#0d0887"
             ],
             [
              0.1111111111111111,
              "#46039f"
             ],
             [
              0.2222222222222222,
              "#7201a8"
             ],
             [
              0.3333333333333333,
              "#9c179e"
             ],
             [
              0.4444444444444444,
              "#bd3786"
             ],
             [
              0.5555555555555556,
              "#d8576b"
             ],
             [
              0.6666666666666666,
              "#ed7953"
             ],
             [
              0.7777777777777778,
              "#fb9f3a"
             ],
             [
              0.8888888888888888,
              "#fdca26"
             ],
             [
              1,
              "#f0f921"
             ]
            ],
            "type": "histogram2dcontour"
           }
          ],
          "mesh3d": [
           {
            "colorbar": {
             "outlinewidth": 0,
             "ticks": ""
            },
            "type": "mesh3d"
           }
          ],
          "parcoords": [
           {
            "line": {
             "colorbar": {
              "outlinewidth": 0,
              "ticks": ""
             }
            },
            "type": "parcoords"
           }
          ],
          "pie": [
           {
            "automargin": true,
            "type": "pie"
           }
          ],
          "scatter": [
           {
            "fillpattern": {
             "fillmode": "overlay",
             "size": 10,
             "solidity": 0.2
            },
            "type": "scatter"
           }
          ],
          "scatter3d": [
           {
            "line": {
             "colorbar": {
              "outlinewidth": 0,
              "ticks": ""
             }
            },
            "marker": {
             "colorbar": {
              "outlinewidth": 0,
              "ticks": ""
             }
            },
            "type": "scatter3d"
           }
          ],
          "scattercarpet": [
           {
            "marker": {
             "colorbar": {
              "outlinewidth": 0,
              "ticks": ""
             }
            },
            "type": "scattercarpet"
           }
          ],
          "scattergeo": [
           {
            "marker": {
             "colorbar": {
              "outlinewidth": 0,
              "ticks": ""
             }
            },
            "type": "scattergeo"
           }
          ],
          "scattergl": [
           {
            "marker": {
             "colorbar": {
              "outlinewidth": 0,
              "ticks": ""
             }
            },
            "type": "scattergl"
           }
          ],
          "scattermapbox": [
           {
            "marker": {
             "colorbar": {
              "outlinewidth": 0,
              "ticks": ""
             }
            },
            "type": "scattermapbox"
           }
          ],
          "scatterpolar": [
           {
            "marker": {
             "colorbar": {
              "outlinewidth": 0,
              "ticks": ""
             }
            },
            "type": "scatterpolar"
           }
          ],
          "scatterpolargl": [
           {
            "marker": {
             "colorbar": {
              "outlinewidth": 0,
              "ticks": ""
             }
            },
            "type": "scatterpolargl"
           }
          ],
          "scatterternary": [
           {
            "marker": {
             "colorbar": {
              "outlinewidth": 0,
              "ticks": ""
             }
            },
            "type": "scatterternary"
           }
          ],
          "surface": [
           {
            "colorbar": {
             "outlinewidth": 0,
             "ticks": ""
            },
            "colorscale": [
             [
              0,
              "#0d0887"
             ],
             [
              0.1111111111111111,
              "#46039f"
             ],
             [
              0.2222222222222222,
              "#7201a8"
             ],
             [
              0.3333333333333333,
              "#9c179e"
             ],
             [
              0.4444444444444444,
              "#bd3786"
             ],
             [
              0.5555555555555556,
              "#d8576b"
             ],
             [
              0.6666666666666666,
              "#ed7953"
             ],
             [
              0.7777777777777778,
              "#fb9f3a"
             ],
             [
              0.8888888888888888,
              "#fdca26"
             ],
             [
              1,
              "#f0f921"
             ]
            ],
            "type": "surface"
           }
          ],
          "table": [
           {
            "cells": {
             "fill": {
              "color": "#EBF0F8"
             },
             "line": {
              "color": "white"
             }
            },
            "header": {
             "fill": {
              "color": "#C8D4E3"
             },
             "line": {
              "color": "white"
             }
            },
            "type": "table"
           }
          ]
         },
         "layout": {
          "annotationdefaults": {
           "arrowcolor": "#2a3f5f",
           "arrowhead": 0,
           "arrowwidth": 1
          },
          "autotypenumbers": "strict",
          "coloraxis": {
           "colorbar": {
            "outlinewidth": 0,
            "ticks": ""
           }
          },
          "colorscale": {
           "diverging": [
            [
             0,
             "#8e0152"
            ],
            [
             0.1,
             "#c51b7d"
            ],
            [
             0.2,
             "#de77ae"
            ],
            [
             0.3,
             "#f1b6da"
            ],
            [
             0.4,
             "#fde0ef"
            ],
            [
             0.5,
             "#f7f7f7"
            ],
            [
             0.6,
             "#e6f5d0"
            ],
            [
             0.7,
             "#b8e186"
            ],
            [
             0.8,
             "#7fbc41"
            ],
            [
             0.9,
             "#4d9221"
            ],
            [
             1,
             "#276419"
            ]
           ],
           "sequential": [
            [
             0,
             "#0d0887"
            ],
            [
             0.1111111111111111,
             "#46039f"
            ],
            [
             0.2222222222222222,
             "#7201a8"
            ],
            [
             0.3333333333333333,
             "#9c179e"
            ],
            [
             0.4444444444444444,
             "#bd3786"
            ],
            [
             0.5555555555555556,
             "#d8576b"
            ],
            [
             0.6666666666666666,
             "#ed7953"
            ],
            [
             0.7777777777777778,
             "#fb9f3a"
            ],
            [
             0.8888888888888888,
             "#fdca26"
            ],
            [
             1,
             "#f0f921"
            ]
           ],
           "sequentialminus": [
            [
             0,
             "#0d0887"
            ],
            [
             0.1111111111111111,
             "#46039f"
            ],
            [
             0.2222222222222222,
             "#7201a8"
            ],
            [
             0.3333333333333333,
             "#9c179e"
            ],
            [
             0.4444444444444444,
             "#bd3786"
            ],
            [
             0.5555555555555556,
             "#d8576b"
            ],
            [
             0.6666666666666666,
             "#ed7953"
            ],
            [
             0.7777777777777778,
             "#fb9f3a"
            ],
            [
             0.8888888888888888,
             "#fdca26"
            ],
            [
             1,
             "#f0f921"
            ]
           ]
          },
          "colorway": [
           "#636efa",
           "#EF553B",
           "#00cc96",
           "#ab63fa",
           "#FFA15A",
           "#19d3f3",
           "#FF6692",
           "#B6E880",
           "#FF97FF",
           "#FECB52"
          ],
          "font": {
           "color": "#2a3f5f"
          },
          "geo": {
           "bgcolor": "white",
           "lakecolor": "white",
           "landcolor": "#E5ECF6",
           "showlakes": true,
           "showland": true,
           "subunitcolor": "white"
          },
          "hoverlabel": {
           "align": "left"
          },
          "hovermode": "closest",
          "mapbox": {
           "style": "light"
          },
          "paper_bgcolor": "white",
          "plot_bgcolor": "#E5ECF6",
          "polar": {
           "angularaxis": {
            "gridcolor": "white",
            "linecolor": "white",
            "ticks": ""
           },
           "bgcolor": "#E5ECF6",
           "radialaxis": {
            "gridcolor": "white",
            "linecolor": "white",
            "ticks": ""
           }
          },
          "scene": {
           "xaxis": {
            "backgroundcolor": "#E5ECF6",
            "gridcolor": "white",
            "gridwidth": 2,
            "linecolor": "white",
            "showbackground": true,
            "ticks": "",
            "zerolinecolor": "white"
           },
           "yaxis": {
            "backgroundcolor": "#E5ECF6",
            "gridcolor": "white",
            "gridwidth": 2,
            "linecolor": "white",
            "showbackground": true,
            "ticks": "",
            "zerolinecolor": "white"
           },
           "zaxis": {
            "backgroundcolor": "#E5ECF6",
            "gridcolor": "white",
            "gridwidth": 2,
            "linecolor": "white",
            "showbackground": true,
            "ticks": "",
            "zerolinecolor": "white"
           }
          },
          "shapedefaults": {
           "line": {
            "color": "#2a3f5f"
           }
          },
          "ternary": {
           "aaxis": {
            "gridcolor": "white",
            "linecolor": "white",
            "ticks": ""
           },
           "baxis": {
            "gridcolor": "white",
            "linecolor": "white",
            "ticks": ""
           },
           "bgcolor": "#E5ECF6",
           "caxis": {
            "gridcolor": "white",
            "linecolor": "white",
            "ticks": ""
           }
          },
          "title": {
           "x": 0.05
          },
          "xaxis": {
           "automargin": true,
           "gridcolor": "white",
           "linecolor": "white",
           "ticks": "",
           "title": {
            "standoff": 15
           },
           "zerolinecolor": "white",
           "zerolinewidth": 2
          },
          "yaxis": {
           "automargin": true,
           "gridcolor": "white",
           "linecolor": "white",
           "ticks": "",
           "title": {
            "standoff": 15
           },
           "zerolinecolor": "white",
           "zerolinewidth": 2
          }
         }
        },
        "title": {
         "font": {
          "color": "#4D5663"
         }
        },
        "xaxis": {
         "gridcolor": "#E1E5ED",
         "showgrid": true,
         "tickfont": {
          "color": "#4D5663"
         },
         "title": {
          "font": {
           "color": "#4D5663"
          },
          "text": ""
         },
         "zerolinecolor": "#E1E5ED"
        },
        "yaxis": {
         "gridcolor": "#E1E5ED",
         "showgrid": true,
         "tickfont": {
          "color": "#4D5663"
         },
         "title": {
          "font": {
           "color": "#4D5663"
          },
          "text": ""
         },
         "zerolinecolor": "#E1E5ED"
        }
       }
      },
      "text/html": [
       "<div>                            <div id=\"0cf61792-ca06-4ee5-b434-0c483ca64004\" class=\"plotly-graph-div\" style=\"height:525px; width:100%;\"></div>            <script type=\"text/javascript\">                require([\"plotly\"], function(Plotly) {                    window.PLOTLYENV=window.PLOTLYENV || {};\n",
       "                    window.PLOTLYENV.BASE_URL='https://plot.ly';                                    if (document.getElementById(\"0cf61792-ca06-4ee5-b434-0c483ca64004\")) {                    Plotly.newPlot(                        \"0cf61792-ca06-4ee5-b434-0c483ca64004\",                        [{\"boxpoints\":false,\"line\":{\"width\":1.3},\"marker\":{\"color\":\"rgba(255, 153, 51, 1.0)\"},\"name\":\"A\",\"orientation\":\"v\",\"y\":[-1.5749810496858492,-1.3833793433667436,0.36588075526834546,1.275399849602529,0.5286668747009455,-0.7679032009223029,-0.17831916014732532,-2.257326435988866,0.07658860332702637,1.3567938287358288,0.31894748456236754,-0.33236158300706464,-0.5406260875570553,-0.37195941916552244,-0.3135738744446838,-1.010589752168183,-0.34346062433482266,-2.6744763425885423,0.4240381404822287,0.2885273430894623,0.08427439673144732,-0.23871144244853104,0.25740702376805175,0.40166934404547766,0.8323461834133391,0.380030623534109,0.5572622542561397,-0.6278502285641379,0.3692001447418704,-1.252856435011434,0.9396183305979209,2.197696282685438,-0.6348382801909904,-0.8729626381576087,0.05369217970057937,-0.028905049872739463,-0.12222368961439022,0.00866738492464321,-0.6367143859649672,-1.7133377029111103,0.99536125242314,-1.009122337998362,-1.360458340717226,0.7800896480356647,-0.17532259166702616,0.032736921693968066,-0.029454474920911446,-0.5622728532218199,1.7074440404654854,1.569656559086373,0.4166056558837753,-0.2464947669782788,0.051460325727519976,-0.5140444063570784,-1.4717230819608562,-0.833447655009454,2.062410774351031,0.3301660327167039,-0.5484153848392193,-1.0492195305040761,-1.019093053255773,1.1009944121217843,-1.5833892267026457,1.3222535001686084,-0.6762104727297058,1.1256325176591828,1.4931242561850617,-1.0115610188042432,-0.1710109126477292,0.9683985282675233,-0.2923692307598237,-0.4186511634855657,-0.8697287759682212,-0.09922350097748456,-0.6131434465914425,-0.46546756990307686,-2.371370606691687,-0.011436671066204995,2.3688431617731793,-0.440029376897687,-0.8353927478232571,-1.320643031620411,0.5479177999724679,-1.6851472200935969,-1.105532954107571,-0.7654776138021443,0.1639452575441152,-1.8061852621960486,0.11558384967903741,-2.263510071725915,0.03022567602240936,-1.1359137329317626,0.11757310430053158,0.8152531228518184,-0.03448705506848795,0.6307535692636861,-8.491084491530586e-05,0.9122527063264612,-0.82128369509477,0.6122755731166608],\"type\":\"box\"},{\"boxpoints\":false,\"line\":{\"width\":1.3},\"marker\":{\"color\":\"rgba(55, 128, 191, 1.0)\"},\"name\":\"B\",\"orientation\":\"v\",\"y\":[0.39642477413478533,0.3017979791106031,-0.8683082254335007,0.20904761546820905,-1.0151385494413272,1.726459441137804,-0.915985971357377,1.0086740707482478,-1.3541085530315435,-0.29751376435345445,-0.9677119092995604,0.81640449993328,-0.31681896091569794,0.376691603872416,0.0955435591329955,0.3059302882053221,-0.40763287280287025,1.6209528853068607,-0.22050739262858718,1.2407691032730783,0.1636563461364261,0.11613750655239334,1.6532965922404759,-0.18031837018080812,-0.6598102231330875,1.7173440288843729,-0.6034913988882491,0.700172084595978,-0.8655937280498989,-0.07072219995759044,0.7252338637157283,1.6896643478428925,-1.9985550678721204,-1.288494222801579,-1.7568974963426904,1.19706327798354,-0.31731491298793957,1.5395547666939289,-0.014035010368598758,0.9050425509127696,0.8009389257192039,-0.08302009201298892,0.8171531869793346,-0.7938970281830412,0.06748229716032612,-0.25163340525469363,0.4501082789510372,0.7042743375651448,1.5786258826783846,0.4361285619666368,1.7486171274308304,0.867738412173522,0.2514370572602232,0.36820210750981897,0.45772091125516895,-1.2408746566028792,-0.6509170915331346,-1.8598649448554383,1.6667421329016379,0.881305758258542,0.2701389057885898,-0.0347324992409485,-1.1756209977978531,-0.9846172568564603,1.2800801685401286,-0.23730438169687665,1.012922776234193,-0.33041307438517004,-2.085051844871717,-0.9745502845039695,-0.5536617857028113,-0.590771338993367,-1.0698252162427944,0.6190627854938642,-0.8881704812612123,1.431363113773757,-0.007321763388780562,-1.92843803713575,-0.32707220180344077,-0.3061031816927142,0.2824028569969956,-0.5216603317192834,0.42177798337842715,0.8755835168934673,-1.5346115372015554,-0.18422379387988802,0.6494656673048684,0.9072613951453106,0.228171593180147,-0.2746116506540319,-0.028169419102425697,-0.42787317529700586,-1.3357558834404946,-0.790647659605685,-0.029415709062188093,0.1799045576781755,0.9522344570155521,-0.5184755826628655,1.1836484340050315,0.9778129395793809],\"type\":\"box\"},{\"boxpoints\":false,\"line\":{\"width\":1.3},\"marker\":{\"color\":\"rgba(50, 171, 96, 1.0)\"},\"name\":\"C\",\"orientation\":\"v\",\"y\":[1.0700406965603044,0.47320689188072074,0.8889381855451203,1.984685692613606,-0.9905856410306387,0.06186445398377224,-0.3781617800979096,-0.5895388793729588,0.794747252179797,0.9230208518575128,-0.6188917723964353,-1.2634044397458761,0.8899247347307317,-0.041802643180199814,1.7101356218130819,-1.6273021804294716,0.2891211909563434,-1.803755995261513,1.005594395815204,-0.07519807148612825,1.3163249604794844,-0.15817680256006203,0.26373186752905925,0.6055879906295724,-0.9385944392959061,0.2636575307398441,0.47035031066286104,-0.3309727058519469,0.7455100676917912,0.7755461278650121,0.37907845045617533,0.5078749537555448,-0.3045934543346218,-1.24392003983143,-1.1227859031564063,0.7800241925040196,-1.0089050410309925,0.9424424961263709,-1.0691859319549368,0.9995978697480474,-1.9650763312895476,0.3955839765822933,-1.4566706985457498,-1.202331544573614,-0.3874201640610675,-1.2071730069168236,0.8656900668547792,0.7749818255821247,-0.40201945311330517,-1.6384500942017932,0.05833187520551722,-1.3216556170659117,2.312488663924503,0.21928120392193154,-1.9438725062397344,-0.4290795310358435,-1.339133419340799,-1.2627039314108552,0.9056212699527014,-0.2363735068948559,1.2195893170306071,-0.08389414081632988,0.22867566500949105,-2.413961059554438,-1.1998966501201662,0.7401682706615308,-0.51156060446994,1.6148275387210587,1.344929661254416,0.6387451049698962,-0.3583917172754251,0.7465394883336404,0.15538564043812364,0.14011930135585737,0.8169262769794431,0.34088061999409797,0.889837791491532,0.19232642878875802,-1.6539027936192965,0.8675030093792894,-0.47078665249200163,-1.7724058935583373,0.10057807757294003,0.9598073139432325,-0.4148261328833594,-0.7557444124571863,-0.7030399314225763,-0.27235739587431007,0.5247804026828217,-0.197345784237892,-0.1555129303996773,0.055560600376472126,-0.1512681055853885,-1.3138607107599134,0.1293343621347584,0.6959648720514148,-0.4073834571043385,1.568746821382907,-0.41752316554302166,0.3544673745911766],\"type\":\"box\"},{\"boxpoints\":false,\"line\":{\"width\":1.3},\"marker\":{\"color\":\"rgba(128, 0, 128, 1.0)\"},\"name\":\"D\",\"orientation\":\"v\",\"y\":[0.14425618902772747,-1.8939342901630691,-0.48477320187557554,-0.4593393791421347,-2.339592076557052,1.311590618793374,-1.5360766226020206,-1.0154550572704288,0.15906663364928308,1.3604423345007133,1.3399761693998393,0.850198098811847,-1.6941060098208944,0.730071090987942,1.008238072861487,1.795090152650695,1.7915821023153595,0.29400607548936003,-0.8159407247542291,0.19711999021411716,0.8200862761171573,0.7601527706740808,0.5674761250596101,-0.13996943397447206,0.17821131158800996,0.18457270589522828,1.04379920509321,-0.652722508495129,0.6420533765209736,-0.4138125238095458,-0.12275124251665397,0.043906853007055824,-1.4409741909873395,0.42506775241844263,0.9624402927611686,-0.5378417195821108,0.6295666983730309,0.728630216429118,-1.213727460550597,-2.130955226582706,-0.2704722926059495,0.1481866771999114,0.7306790471248414,0.21686454959768797,-0.6567964359887308,-0.6470793096094121,-0.4545458288756462,0.07580643874686249,0.38218791727607493,-0.1416109023900944,0.6473012260955611,0.5174503062831697,-0.5049105159658954,-0.34253350164476215,1.810332008303204,-0.6401565791336887,0.6521984402923481,-0.8286118338536269,-1.3439070316027542,0.7814798176632166,0.5011933330618819,-0.2704101289032435,-0.10057152517551457,0.8436212094507817,0.3930507355414695,-0.7427881549463758,0.4833266726881477,0.5888241188022255,1.3775067789981312,-1.5595366482950896,-1.5038190329760643,-1.107132252469969,1.8631485442387221,-1.2378206901207147,-1.5710350013202465,-0.6147598340911066,0.46604507465244216,0.2727181881851066,-0.4554496784154893,-0.810774896348241,-0.17526252760094477,0.015439744423981721,0.29040229656619315,1.1975379751419997,0.03710941225425532,2.5540713173081677,1.8321494496323845,-0.9681228941709391,1.3607493420309653,-1.4046817439382802,0.3882714876679938,-0.34410511941403354,0.9036457102811655,0.226559473173561,-0.9309352514277246,-0.7342069133657667,0.044369269608457766,0.09209970230315259,-0.5865347123319166,-1.3262936610426104],\"type\":\"box\"}],                        {\"legend\":{\"bgcolor\":\"#F5F6F9\",\"font\":{\"color\":\"#4D5663\"}},\"paper_bgcolor\":\"#F5F6F9\",\"plot_bgcolor\":\"#F5F6F9\",\"template\":{\"data\":{\"barpolar\":[{\"marker\":{\"line\":{\"color\":\"#E5ECF6\",\"width\":0.5},\"pattern\":{\"fillmode\":\"overlay\",\"size\":10,\"solidity\":0.2}},\"type\":\"barpolar\"}],\"bar\":[{\"error_x\":{\"color\":\"#2a3f5f\"},\"error_y\":{\"color\":\"#2a3f5f\"},\"marker\":{\"line\":{\"color\":\"#E5ECF6\",\"width\":0.5},\"pattern\":{\"fillmode\":\"overlay\",\"size\":10,\"solidity\":0.2}},\"type\":\"bar\"}],\"carpet\":[{\"aaxis\":{\"endlinecolor\":\"#2a3f5f\",\"gridcolor\":\"white\",\"linecolor\":\"white\",\"minorgridcolor\":\"white\",\"startlinecolor\":\"#2a3f5f\"},\"baxis\":{\"endlinecolor\":\"#2a3f5f\",\"gridcolor\":\"white\",\"linecolor\":\"white\",\"minorgridcolor\":\"white\",\"startlinecolor\":\"#2a3f5f\"},\"type\":\"carpet\"}],\"choropleth\":[{\"colorbar\":{\"outlinewidth\":0,\"ticks\":\"\"},\"type\":\"choropleth\"}],\"contourcarpet\":[{\"colorbar\":{\"outlinewidth\":0,\"ticks\":\"\"},\"type\":\"contourcarpet\"}],\"contour\":[{\"colorbar\":{\"outlinewidth\":0,\"ticks\":\"\"},\"colorscale\":[[0.0,\"#0d0887\"],[0.1111111111111111,\"#46039f\"],[0.2222222222222222,\"#7201a8\"],[0.3333333333333333,\"#9c179e\"],[0.4444444444444444,\"#bd3786\"],[0.5555555555555556,\"#d8576b\"],[0.6666666666666666,\"#ed7953\"],[0.7777777777777778,\"#fb9f3a\"],[0.8888888888888888,\"#fdca26\"],[1.0,\"#f0f921\"]],\"type\":\"contour\"}],\"heatmapgl\":[{\"colorbar\":{\"outlinewidth\":0,\"ticks\":\"\"},\"colorscale\":[[0.0,\"#0d0887\"],[0.1111111111111111,\"#46039f\"],[0.2222222222222222,\"#7201a8\"],[0.3333333333333333,\"#9c179e\"],[0.4444444444444444,\"#bd3786\"],[0.5555555555555556,\"#d8576b\"],[0.6666666666666666,\"#ed7953\"],[0.7777777777777778,\"#fb9f3a\"],[0.8888888888888888,\"#fdca26\"],[1.0,\"#f0f921\"]],\"type\":\"heatmapgl\"}],\"heatmap\":[{\"colorbar\":{\"outlinewidth\":0,\"ticks\":\"\"},\"colorscale\":[[0.0,\"#0d0887\"],[0.1111111111111111,\"#46039f\"],[0.2222222222222222,\"#7201a8\"],[0.3333333333333333,\"#9c179e\"],[0.4444444444444444,\"#bd3786\"],[0.5555555555555556,\"#d8576b\"],[0.6666666666666666,\"#ed7953\"],[0.7777777777777778,\"#fb9f3a\"],[0.8888888888888888,\"#fdca26\"],[1.0,\"#f0f921\"]],\"type\":\"heatmap\"}],\"histogram2dcontour\":[{\"colorbar\":{\"outlinewidth\":0,\"ticks\":\"\"},\"colorscale\":[[0.0,\"#0d0887\"],[0.1111111111111111,\"#46039f\"],[0.2222222222222222,\"#7201a8\"],[0.3333333333333333,\"#9c179e\"],[0.4444444444444444,\"#bd3786\"],[0.5555555555555556,\"#d8576b\"],[0.6666666666666666,\"#ed7953\"],[0.7777777777777778,\"#fb9f3a\"],[0.8888888888888888,\"#fdca26\"],[1.0,\"#f0f921\"]],\"type\":\"histogram2dcontour\"}],\"histogram2d\":[{\"colorbar\":{\"outlinewidth\":0,\"ticks\":\"\"},\"colorscale\":[[0.0,\"#0d0887\"],[0.1111111111111111,\"#46039f\"],[0.2222222222222222,\"#7201a8\"],[0.3333333333333333,\"#9c179e\"],[0.4444444444444444,\"#bd3786\"],[0.5555555555555556,\"#d8576b\"],[0.6666666666666666,\"#ed7953\"],[0.7777777777777778,\"#fb9f3a\"],[0.8888888888888888,\"#fdca26\"],[1.0,\"#f0f921\"]],\"type\":\"histogram2d\"}],\"histogram\":[{\"marker\":{\"pattern\":{\"fillmode\":\"overlay\",\"size\":10,\"solidity\":0.2}},\"type\":\"histogram\"}],\"mesh3d\":[{\"colorbar\":{\"outlinewidth\":0,\"ticks\":\"\"},\"type\":\"mesh3d\"}],\"parcoords\":[{\"line\":{\"colorbar\":{\"outlinewidth\":0,\"ticks\":\"\"}},\"type\":\"parcoords\"}],\"pie\":[{\"automargin\":true,\"type\":\"pie\"}],\"scatter3d\":[{\"line\":{\"colorbar\":{\"outlinewidth\":0,\"ticks\":\"\"}},\"marker\":{\"colorbar\":{\"outlinewidth\":0,\"ticks\":\"\"}},\"type\":\"scatter3d\"}],\"scattercarpet\":[{\"marker\":{\"colorbar\":{\"outlinewidth\":0,\"ticks\":\"\"}},\"type\":\"scattercarpet\"}],\"scattergeo\":[{\"marker\":{\"colorbar\":{\"outlinewidth\":0,\"ticks\":\"\"}},\"type\":\"scattergeo\"}],\"scattergl\":[{\"marker\":{\"colorbar\":{\"outlinewidth\":0,\"ticks\":\"\"}},\"type\":\"scattergl\"}],\"scattermapbox\":[{\"marker\":{\"colorbar\":{\"outlinewidth\":0,\"ticks\":\"\"}},\"type\":\"scattermapbox\"}],\"scatterpolargl\":[{\"marker\":{\"colorbar\":{\"outlinewidth\":0,\"ticks\":\"\"}},\"type\":\"scatterpolargl\"}],\"scatterpolar\":[{\"marker\":{\"colorbar\":{\"outlinewidth\":0,\"ticks\":\"\"}},\"type\":\"scatterpolar\"}],\"scatter\":[{\"fillpattern\":{\"fillmode\":\"overlay\",\"size\":10,\"solidity\":0.2},\"type\":\"scatter\"}],\"scatterternary\":[{\"marker\":{\"colorbar\":{\"outlinewidth\":0,\"ticks\":\"\"}},\"type\":\"scatterternary\"}],\"surface\":[{\"colorbar\":{\"outlinewidth\":0,\"ticks\":\"\"},\"colorscale\":[[0.0,\"#0d0887\"],[0.1111111111111111,\"#46039f\"],[0.2222222222222222,\"#7201a8\"],[0.3333333333333333,\"#9c179e\"],[0.4444444444444444,\"#bd3786\"],[0.5555555555555556,\"#d8576b\"],[0.6666666666666666,\"#ed7953\"],[0.7777777777777778,\"#fb9f3a\"],[0.8888888888888888,\"#fdca26\"],[1.0,\"#f0f921\"]],\"type\":\"surface\"}],\"table\":[{\"cells\":{\"fill\":{\"color\":\"#EBF0F8\"},\"line\":{\"color\":\"white\"}},\"header\":{\"fill\":{\"color\":\"#C8D4E3\"},\"line\":{\"color\":\"white\"}},\"type\":\"table\"}]},\"layout\":{\"annotationdefaults\":{\"arrowcolor\":\"#2a3f5f\",\"arrowhead\":0,\"arrowwidth\":1},\"autotypenumbers\":\"strict\",\"coloraxis\":{\"colorbar\":{\"outlinewidth\":0,\"ticks\":\"\"}},\"colorscale\":{\"diverging\":[[0,\"#8e0152\"],[0.1,\"#c51b7d\"],[0.2,\"#de77ae\"],[0.3,\"#f1b6da\"],[0.4,\"#fde0ef\"],[0.5,\"#f7f7f7\"],[0.6,\"#e6f5d0\"],[0.7,\"#b8e186\"],[0.8,\"#7fbc41\"],[0.9,\"#4d9221\"],[1,\"#276419\"]],\"sequential\":[[0.0,\"#0d0887\"],[0.1111111111111111,\"#46039f\"],[0.2222222222222222,\"#7201a8\"],[0.3333333333333333,\"#9c179e\"],[0.4444444444444444,\"#bd3786\"],[0.5555555555555556,\"#d8576b\"],[0.6666666666666666,\"#ed7953\"],[0.7777777777777778,\"#fb9f3a\"],[0.8888888888888888,\"#fdca26\"],[1.0,\"#f0f921\"]],\"sequentialminus\":[[0.0,\"#0d0887\"],[0.1111111111111111,\"#46039f\"],[0.2222222222222222,\"#7201a8\"],[0.3333333333333333,\"#9c179e\"],[0.4444444444444444,\"#bd3786\"],[0.5555555555555556,\"#d8576b\"],[0.6666666666666666,\"#ed7953\"],[0.7777777777777778,\"#fb9f3a\"],[0.8888888888888888,\"#fdca26\"],[1.0,\"#f0f921\"]]},\"colorway\":[\"#636efa\",\"#EF553B\",\"#00cc96\",\"#ab63fa\",\"#FFA15A\",\"#19d3f3\",\"#FF6692\",\"#B6E880\",\"#FF97FF\",\"#FECB52\"],\"font\":{\"color\":\"#2a3f5f\"},\"geo\":{\"bgcolor\":\"white\",\"lakecolor\":\"white\",\"landcolor\":\"#E5ECF6\",\"showlakes\":true,\"showland\":true,\"subunitcolor\":\"white\"},\"hoverlabel\":{\"align\":\"left\"},\"hovermode\":\"closest\",\"mapbox\":{\"style\":\"light\"},\"paper_bgcolor\":\"white\",\"plot_bgcolor\":\"#E5ECF6\",\"polar\":{\"angularaxis\":{\"gridcolor\":\"white\",\"linecolor\":\"white\",\"ticks\":\"\"},\"bgcolor\":\"#E5ECF6\",\"radialaxis\":{\"gridcolor\":\"white\",\"linecolor\":\"white\",\"ticks\":\"\"}},\"scene\":{\"xaxis\":{\"backgroundcolor\":\"#E5ECF6\",\"gridcolor\":\"white\",\"gridwidth\":2,\"linecolor\":\"white\",\"showbackground\":true,\"ticks\":\"\",\"zerolinecolor\":\"white\"},\"yaxis\":{\"backgroundcolor\":\"#E5ECF6\",\"gridcolor\":\"white\",\"gridwidth\":2,\"linecolor\":\"white\",\"showbackground\":true,\"ticks\":\"\",\"zerolinecolor\":\"white\"},\"zaxis\":{\"backgroundcolor\":\"#E5ECF6\",\"gridcolor\":\"white\",\"gridwidth\":2,\"linecolor\":\"white\",\"showbackground\":true,\"ticks\":\"\",\"zerolinecolor\":\"white\"}},\"shapedefaults\":{\"line\":{\"color\":\"#2a3f5f\"}},\"ternary\":{\"aaxis\":{\"gridcolor\":\"white\",\"linecolor\":\"white\",\"ticks\":\"\"},\"baxis\":{\"gridcolor\":\"white\",\"linecolor\":\"white\",\"ticks\":\"\"},\"bgcolor\":\"#E5ECF6\",\"caxis\":{\"gridcolor\":\"white\",\"linecolor\":\"white\",\"ticks\":\"\"}},\"title\":{\"x\":0.05},\"xaxis\":{\"automargin\":true,\"gridcolor\":\"white\",\"linecolor\":\"white\",\"ticks\":\"\",\"title\":{\"standoff\":15},\"zerolinecolor\":\"white\",\"zerolinewidth\":2},\"yaxis\":{\"automargin\":true,\"gridcolor\":\"white\",\"linecolor\":\"white\",\"ticks\":\"\",\"title\":{\"standoff\":15},\"zerolinecolor\":\"white\",\"zerolinewidth\":2}}},\"title\":{\"font\":{\"color\":\"#4D5663\"}},\"xaxis\":{\"gridcolor\":\"#E1E5ED\",\"showgrid\":true,\"tickfont\":{\"color\":\"#4D5663\"},\"title\":{\"font\":{\"color\":\"#4D5663\"},\"text\":\"\"},\"zerolinecolor\":\"#E1E5ED\"},\"yaxis\":{\"gridcolor\":\"#E1E5ED\",\"showgrid\":true,\"tickfont\":{\"color\":\"#4D5663\"},\"title\":{\"font\":{\"color\":\"#4D5663\"},\"text\":\"\"},\"zerolinecolor\":\"#E1E5ED\"}},                        {\"showLink\": true, \"linkText\": \"Export to plot.ly\", \"plotlyServerURL\": \"https://plot.ly\", \"responsive\": true}                    ).then(function(){\n",
       "                            \n",
       "var gd = document.getElementById('0cf61792-ca06-4ee5-b434-0c483ca64004');\n",
       "var x = new MutationObserver(function (mutations, observer) {{\n",
       "        var display = window.getComputedStyle(gd).display;\n",
       "        if (!display || display === 'none') {{\n",
       "            console.log([gd, 'removed!']);\n",
       "            Plotly.purge(gd);\n",
       "            observer.disconnect();\n",
       "        }}\n",
       "}});\n",
       "\n",
       "// Listen for the removal of the full notebook cells\n",
       "var notebookContainer = gd.closest('#notebook-container');\n",
       "if (notebookContainer) {{\n",
       "    x.observe(notebookContainer, {childList: true});\n",
       "}}\n",
       "\n",
       "// Listen for the clearing of the current output cell\n",
       "var outputEl = gd.closest('.output');\n",
       "if (outputEl) {{\n",
       "    x.observe(outputEl, {childList: true});\n",
       "}}\n",
       "\n",
       "                        })                };                });            </script>        </div>"
      ]
     },
     "metadata": {},
     "output_type": "display_data"
    }
   ],
   "source": [
    "df.iplot(kind=\"box\")"
   ]
  },
  {
   "cell_type": "code",
   "execution_count": 26,
   "id": "22a2cb46",
   "metadata": {},
   "outputs": [
    {
     "data": {
      "text/html": [
       "<div>\n",
       "<style scoped>\n",
       "    .dataframe tbody tr th:only-of-type {\n",
       "        vertical-align: middle;\n",
       "    }\n",
       "\n",
       "    .dataframe tbody tr th {\n",
       "        vertical-align: top;\n",
       "    }\n",
       "\n",
       "    .dataframe thead th {\n",
       "        text-align: right;\n",
       "    }\n",
       "</style>\n",
       "<table border=\"1\" class=\"dataframe\">\n",
       "  <thead>\n",
       "    <tr style=\"text-align: right;\">\n",
       "      <th></th>\n",
       "      <th>x</th>\n",
       "      <th>Y</th>\n",
       "      <th>Z</th>\n",
       "    </tr>\n",
       "  </thead>\n",
       "  <tbody>\n",
       "    <tr>\n",
       "      <th>0</th>\n",
       "      <td>1</td>\n",
       "      <td>10</td>\n",
       "      <td>5</td>\n",
       "    </tr>\n",
       "    <tr>\n",
       "      <th>1</th>\n",
       "      <td>2</td>\n",
       "      <td>20</td>\n",
       "      <td>4</td>\n",
       "    </tr>\n",
       "    <tr>\n",
       "      <th>2</th>\n",
       "      <td>3</td>\n",
       "      <td>30</td>\n",
       "      <td>3</td>\n",
       "    </tr>\n",
       "    <tr>\n",
       "      <th>3</th>\n",
       "      <td>4</td>\n",
       "      <td>40</td>\n",
       "      <td>2</td>\n",
       "    </tr>\n",
       "    <tr>\n",
       "      <th>4</th>\n",
       "      <td>5</td>\n",
       "      <td>50</td>\n",
       "      <td>1</td>\n",
       "    </tr>\n",
       "  </tbody>\n",
       "</table>\n",
       "</div>"
      ],
      "text/plain": [
       "   x   Y  Z\n",
       "0  1  10  5\n",
       "1  2  20  4\n",
       "2  3  30  3\n",
       "3  4  40  2\n",
       "4  5  50  1"
      ]
     },
     "execution_count": 26,
     "metadata": {},
     "output_type": "execute_result"
    }
   ],
   "source": [
    "df3 = pd.DataFrame({\"x\":[1,2,3,4,5], \"Y\":[10,20,30,40,50], \"Z\":[5,4,3,2,1]}); df3"
   ]
  },
  {
   "cell_type": "code",
   "execution_count": 28,
   "id": "2db9a09b",
   "metadata": {},
   "outputs": [
    {
     "data": {
      "application/vnd.plotly.v1+json": {
       "config": {
        "linkText": "Export to plot.ly",
        "plotlyServerURL": "https://plot.ly",
        "showLink": true
       },
       "data": [
        {
         "colorscale": [
          [
           0,
           "rgb(165,0,38)"
          ],
          [
           0.1,
           "rgb(215,48,39)"
          ],
          [
           0.2,
           "rgb(244,109,67)"
          ],
          [
           0.3,
           "rgb(253,174,97)"
          ],
          [
           0.4,
           "rgb(254,224,144)"
          ],
          [
           0.5,
           "rgb(255,255,191)"
          ],
          [
           0.6,
           "rgb(224,243,248)"
          ],
          [
           0.7,
           "rgb(171,217,233)"
          ],
          [
           0.8,
           "rgb(116,173,209)"
          ],
          [
           0.9,
           "rgb(69,117,180)"
          ],
          [
           1,
           "rgb(49,54,149)"
          ]
         ],
         "type": "surface",
         "x": [
          0,
          1,
          2,
          3,
          4
         ],
         "y": [
          "x",
          "Y",
          "Z"
         ],
         "z": [
          [
           1,
           2,
           3,
           4,
           5
          ],
          [
           10,
           20,
           30,
           40,
           50
          ],
          [
           5,
           4,
           3,
           2,
           1
          ]
         ]
        }
       ],
       "layout": {
        "legend": {
         "bgcolor": "#F5F6F9",
         "font": {
          "color": "#4D5663"
         }
        },
        "paper_bgcolor": "#F5F6F9",
        "plot_bgcolor": "#F5F6F9",
        "template": {
         "data": {
          "bar": [
           {
            "error_x": {
             "color": "#2a3f5f"
            },
            "error_y": {
             "color": "#2a3f5f"
            },
            "marker": {
             "line": {
              "color": "#E5ECF6",
              "width": 0.5
             },
             "pattern": {
              "fillmode": "overlay",
              "size": 10,
              "solidity": 0.2
             }
            },
            "type": "bar"
           }
          ],
          "barpolar": [
           {
            "marker": {
             "line": {
              "color": "#E5ECF6",
              "width": 0.5
             },
             "pattern": {
              "fillmode": "overlay",
              "size": 10,
              "solidity": 0.2
             }
            },
            "type": "barpolar"
           }
          ],
          "carpet": [
           {
            "aaxis": {
             "endlinecolor": "#2a3f5f",
             "gridcolor": "white",
             "linecolor": "white",
             "minorgridcolor": "white",
             "startlinecolor": "#2a3f5f"
            },
            "baxis": {
             "endlinecolor": "#2a3f5f",
             "gridcolor": "white",
             "linecolor": "white",
             "minorgridcolor": "white",
             "startlinecolor": "#2a3f5f"
            },
            "type": "carpet"
           }
          ],
          "choropleth": [
           {
            "colorbar": {
             "outlinewidth": 0,
             "ticks": ""
            },
            "type": "choropleth"
           }
          ],
          "contour": [
           {
            "colorbar": {
             "outlinewidth": 0,
             "ticks": ""
            },
            "colorscale": [
             [
              0,
              "#0d0887"
             ],
             [
              0.1111111111111111,
              "#46039f"
             ],
             [
              0.2222222222222222,
              "#7201a8"
             ],
             [
              0.3333333333333333,
              "#9c179e"
             ],
             [
              0.4444444444444444,
              "#bd3786"
             ],
             [
              0.5555555555555556,
              "#d8576b"
             ],
             [
              0.6666666666666666,
              "#ed7953"
             ],
             [
              0.7777777777777778,
              "#fb9f3a"
             ],
             [
              0.8888888888888888,
              "#fdca26"
             ],
             [
              1,
              "#f0f921"
             ]
            ],
            "type": "contour"
           }
          ],
          "contourcarpet": [
           {
            "colorbar": {
             "outlinewidth": 0,
             "ticks": ""
            },
            "type": "contourcarpet"
           }
          ],
          "heatmap": [
           {
            "colorbar": {
             "outlinewidth": 0,
             "ticks": ""
            },
            "colorscale": [
             [
              0,
              "#0d0887"
             ],
             [
              0.1111111111111111,
              "#46039f"
             ],
             [
              0.2222222222222222,
              "#7201a8"
             ],
             [
              0.3333333333333333,
              "#9c179e"
             ],
             [
              0.4444444444444444,
              "#bd3786"
             ],
             [
              0.5555555555555556,
              "#d8576b"
             ],
             [
              0.6666666666666666,
              "#ed7953"
             ],
             [
              0.7777777777777778,
              "#fb9f3a"
             ],
             [
              0.8888888888888888,
              "#fdca26"
             ],
             [
              1,
              "#f0f921"
             ]
            ],
            "type": "heatmap"
           }
          ],
          "heatmapgl": [
           {
            "colorbar": {
             "outlinewidth": 0,
             "ticks": ""
            },
            "colorscale": [
             [
              0,
              "#0d0887"
             ],
             [
              0.1111111111111111,
              "#46039f"
             ],
             [
              0.2222222222222222,
              "#7201a8"
             ],
             [
              0.3333333333333333,
              "#9c179e"
             ],
             [
              0.4444444444444444,
              "#bd3786"
             ],
             [
              0.5555555555555556,
              "#d8576b"
             ],
             [
              0.6666666666666666,
              "#ed7953"
             ],
             [
              0.7777777777777778,
              "#fb9f3a"
             ],
             [
              0.8888888888888888,
              "#fdca26"
             ],
             [
              1,
              "#f0f921"
             ]
            ],
            "type": "heatmapgl"
           }
          ],
          "histogram": [
           {
            "marker": {
             "pattern": {
              "fillmode": "overlay",
              "size": 10,
              "solidity": 0.2
             }
            },
            "type": "histogram"
           }
          ],
          "histogram2d": [
           {
            "colorbar": {
             "outlinewidth": 0,
             "ticks": ""
            },
            "colorscale": [
             [
              0,
              "#0d0887"
             ],
             [
              0.1111111111111111,
              "#46039f"
             ],
             [
              0.2222222222222222,
              "#7201a8"
             ],
             [
              0.3333333333333333,
              "#9c179e"
             ],
             [
              0.4444444444444444,
              "#bd3786"
             ],
             [
              0.5555555555555556,
              "#d8576b"
             ],
             [
              0.6666666666666666,
              "#ed7953"
             ],
             [
              0.7777777777777778,
              "#fb9f3a"
             ],
             [
              0.8888888888888888,
              "#fdca26"
             ],
             [
              1,
              "#f0f921"
             ]
            ],
            "type": "histogram2d"
           }
          ],
          "histogram2dcontour": [
           {
            "colorbar": {
             "outlinewidth": 0,
             "ticks": ""
            },
            "colorscale": [
             [
              0,
              "#0d0887"
             ],
             [
              0.1111111111111111,
              "#46039f"
             ],
             [
              0.2222222222222222,
              "#7201a8"
             ],
             [
              0.3333333333333333,
              "#9c179e"
             ],
             [
              0.4444444444444444,
              "#bd3786"
             ],
             [
              0.5555555555555556,
              "#d8576b"
             ],
             [
              0.6666666666666666,
              "#ed7953"
             ],
             [
              0.7777777777777778,
              "#fb9f3a"
             ],
             [
              0.8888888888888888,
              "#fdca26"
             ],
             [
              1,
              "#f0f921"
             ]
            ],
            "type": "histogram2dcontour"
           }
          ],
          "mesh3d": [
           {
            "colorbar": {
             "outlinewidth": 0,
             "ticks": ""
            },
            "type": "mesh3d"
           }
          ],
          "parcoords": [
           {
            "line": {
             "colorbar": {
              "outlinewidth": 0,
              "ticks": ""
             }
            },
            "type": "parcoords"
           }
          ],
          "pie": [
           {
            "automargin": true,
            "type": "pie"
           }
          ],
          "scatter": [
           {
            "fillpattern": {
             "fillmode": "overlay",
             "size": 10,
             "solidity": 0.2
            },
            "type": "scatter"
           }
          ],
          "scatter3d": [
           {
            "line": {
             "colorbar": {
              "outlinewidth": 0,
              "ticks": ""
             }
            },
            "marker": {
             "colorbar": {
              "outlinewidth": 0,
              "ticks": ""
             }
            },
            "type": "scatter3d"
           }
          ],
          "scattercarpet": [
           {
            "marker": {
             "colorbar": {
              "outlinewidth": 0,
              "ticks": ""
             }
            },
            "type": "scattercarpet"
           }
          ],
          "scattergeo": [
           {
            "marker": {
             "colorbar": {
              "outlinewidth": 0,
              "ticks": ""
             }
            },
            "type": "scattergeo"
           }
          ],
          "scattergl": [
           {
            "marker": {
             "colorbar": {
              "outlinewidth": 0,
              "ticks": ""
             }
            },
            "type": "scattergl"
           }
          ],
          "scattermapbox": [
           {
            "marker": {
             "colorbar": {
              "outlinewidth": 0,
              "ticks": ""
             }
            },
            "type": "scattermapbox"
           }
          ],
          "scatterpolar": [
           {
            "marker": {
             "colorbar": {
              "outlinewidth": 0,
              "ticks": ""
             }
            },
            "type": "scatterpolar"
           }
          ],
          "scatterpolargl": [
           {
            "marker": {
             "colorbar": {
              "outlinewidth": 0,
              "ticks": ""
             }
            },
            "type": "scatterpolargl"
           }
          ],
          "scatterternary": [
           {
            "marker": {
             "colorbar": {
              "outlinewidth": 0,
              "ticks": ""
             }
            },
            "type": "scatterternary"
           }
          ],
          "surface": [
           {
            "colorbar": {
             "outlinewidth": 0,
             "ticks": ""
            },
            "colorscale": [
             [
              0,
              "#0d0887"
             ],
             [
              0.1111111111111111,
              "#46039f"
             ],
             [
              0.2222222222222222,
              "#7201a8"
             ],
             [
              0.3333333333333333,
              "#9c179e"
             ],
             [
              0.4444444444444444,
              "#bd3786"
             ],
             [
              0.5555555555555556,
              "#d8576b"
             ],
             [
              0.6666666666666666,
              "#ed7953"
             ],
             [
              0.7777777777777778,
              "#fb9f3a"
             ],
             [
              0.8888888888888888,
              "#fdca26"
             ],
             [
              1,
              "#f0f921"
             ]
            ],
            "type": "surface"
           }
          ],
          "table": [
           {
            "cells": {
             "fill": {
              "color": "#EBF0F8"
             },
             "line": {
              "color": "white"
             }
            },
            "header": {
             "fill": {
              "color": "#C8D4E3"
             },
             "line": {
              "color": "white"
             }
            },
            "type": "table"
           }
          ]
         },
         "layout": {
          "annotationdefaults": {
           "arrowcolor": "#2a3f5f",
           "arrowhead": 0,
           "arrowwidth": 1
          },
          "autotypenumbers": "strict",
          "coloraxis": {
           "colorbar": {
            "outlinewidth": 0,
            "ticks": ""
           }
          },
          "colorscale": {
           "diverging": [
            [
             0,
             "#8e0152"
            ],
            [
             0.1,
             "#c51b7d"
            ],
            [
             0.2,
             "#de77ae"
            ],
            [
             0.3,
             "#f1b6da"
            ],
            [
             0.4,
             "#fde0ef"
            ],
            [
             0.5,
             "#f7f7f7"
            ],
            [
             0.6,
             "#e6f5d0"
            ],
            [
             0.7,
             "#b8e186"
            ],
            [
             0.8,
             "#7fbc41"
            ],
            [
             0.9,
             "#4d9221"
            ],
            [
             1,
             "#276419"
            ]
           ],
           "sequential": [
            [
             0,
             "#0d0887"
            ],
            [
             0.1111111111111111,
             "#46039f"
            ],
            [
             0.2222222222222222,
             "#7201a8"
            ],
            [
             0.3333333333333333,
             "#9c179e"
            ],
            [
             0.4444444444444444,
             "#bd3786"
            ],
            [
             0.5555555555555556,
             "#d8576b"
            ],
            [
             0.6666666666666666,
             "#ed7953"
            ],
            [
             0.7777777777777778,
             "#fb9f3a"
            ],
            [
             0.8888888888888888,
             "#fdca26"
            ],
            [
             1,
             "#f0f921"
            ]
           ],
           "sequentialminus": [
            [
             0,
             "#0d0887"
            ],
            [
             0.1111111111111111,
             "#46039f"
            ],
            [
             0.2222222222222222,
             "#7201a8"
            ],
            [
             0.3333333333333333,
             "#9c179e"
            ],
            [
             0.4444444444444444,
             "#bd3786"
            ],
            [
             0.5555555555555556,
             "#d8576b"
            ],
            [
             0.6666666666666666,
             "#ed7953"
            ],
            [
             0.7777777777777778,
             "#fb9f3a"
            ],
            [
             0.8888888888888888,
             "#fdca26"
            ],
            [
             1,
             "#f0f921"
            ]
           ]
          },
          "colorway": [
           "#636efa",
           "#EF553B",
           "#00cc96",
           "#ab63fa",
           "#FFA15A",
           "#19d3f3",
           "#FF6692",
           "#B6E880",
           "#FF97FF",
           "#FECB52"
          ],
          "font": {
           "color": "#2a3f5f"
          },
          "geo": {
           "bgcolor": "white",
           "lakecolor": "white",
           "landcolor": "#E5ECF6",
           "showlakes": true,
           "showland": true,
           "subunitcolor": "white"
          },
          "hoverlabel": {
           "align": "left"
          },
          "hovermode": "closest",
          "mapbox": {
           "style": "light"
          },
          "paper_bgcolor": "white",
          "plot_bgcolor": "#E5ECF6",
          "polar": {
           "angularaxis": {
            "gridcolor": "white",
            "linecolor": "white",
            "ticks": ""
           },
           "bgcolor": "#E5ECF6",
           "radialaxis": {
            "gridcolor": "white",
            "linecolor": "white",
            "ticks": ""
           }
          },
          "scene": {
           "xaxis": {
            "backgroundcolor": "#E5ECF6",
            "gridcolor": "white",
            "gridwidth": 2,
            "linecolor": "white",
            "showbackground": true,
            "ticks": "",
            "zerolinecolor": "white"
           },
           "yaxis": {
            "backgroundcolor": "#E5ECF6",
            "gridcolor": "white",
            "gridwidth": 2,
            "linecolor": "white",
            "showbackground": true,
            "ticks": "",
            "zerolinecolor": "white"
           },
           "zaxis": {
            "backgroundcolor": "#E5ECF6",
            "gridcolor": "white",
            "gridwidth": 2,
            "linecolor": "white",
            "showbackground": true,
            "ticks": "",
            "zerolinecolor": "white"
           }
          },
          "shapedefaults": {
           "line": {
            "color": "#2a3f5f"
           }
          },
          "ternary": {
           "aaxis": {
            "gridcolor": "white",
            "linecolor": "white",
            "ticks": ""
           },
           "baxis": {
            "gridcolor": "white",
            "linecolor": "white",
            "ticks": ""
           },
           "bgcolor": "#E5ECF6",
           "caxis": {
            "gridcolor": "white",
            "linecolor": "white",
            "ticks": ""
           }
          },
          "title": {
           "x": 0.05
          },
          "xaxis": {
           "automargin": true,
           "gridcolor": "white",
           "linecolor": "white",
           "ticks": "",
           "title": {
            "standoff": 15
           },
           "zerolinecolor": "white",
           "zerolinewidth": 2
          },
          "yaxis": {
           "automargin": true,
           "gridcolor": "white",
           "linecolor": "white",
           "ticks": "",
           "title": {
            "standoff": 15
           },
           "zerolinecolor": "white",
           "zerolinewidth": 2
          }
         }
        },
        "title": {
         "font": {
          "color": "#4D5663"
         }
        },
        "xaxis": {
         "gridcolor": "#E1E5ED",
         "showgrid": true,
         "tickfont": {
          "color": "#4D5663"
         },
         "title": {
          "font": {
           "color": "#4D5663"
          },
          "text": ""
         },
         "zerolinecolor": "#E1E5ED"
        },
        "yaxis": {
         "gridcolor": "#E1E5ED",
         "showgrid": true,
         "tickfont": {
          "color": "#4D5663"
         },
         "title": {
          "font": {
           "color": "#4D5663"
          },
          "text": ""
         },
         "zerolinecolor": "#E1E5ED"
        }
       }
      },
      "text/html": [
       "<div>                            <div id=\"18540508-58d7-4abe-a2d2-6b49ad46bc5f\" class=\"plotly-graph-div\" style=\"height:525px; width:100%;\"></div>            <script type=\"text/javascript\">                require([\"plotly\"], function(Plotly) {                    window.PLOTLYENV=window.PLOTLYENV || {};\n",
       "                    window.PLOTLYENV.BASE_URL='https://plot.ly';                                    if (document.getElementById(\"18540508-58d7-4abe-a2d2-6b49ad46bc5f\")) {                    Plotly.newPlot(                        \"18540508-58d7-4abe-a2d2-6b49ad46bc5f\",                        [{\"colorscale\":[[0.0,\"rgb(165,0,38)\"],[0.1,\"rgb(215,48,39)\"],[0.2,\"rgb(244,109,67)\"],[0.3,\"rgb(253,174,97)\"],[0.4,\"rgb(254,224,144)\"],[0.5,\"rgb(255,255,191)\"],[0.6,\"rgb(224,243,248)\"],[0.7,\"rgb(171,217,233)\"],[0.8,\"rgb(116,173,209)\"],[0.9,\"rgb(69,117,180)\"],[1.0,\"rgb(49,54,149)\"]],\"x\":[0,1,2,3,4],\"y\":[\"x\",\"Y\",\"Z\"],\"z\":[[1,2,3,4,5],[10,20,30,40,50],[5,4,3,2,1]],\"type\":\"surface\"}],                        {\"legend\":{\"bgcolor\":\"#F5F6F9\",\"font\":{\"color\":\"#4D5663\"}},\"paper_bgcolor\":\"#F5F6F9\",\"plot_bgcolor\":\"#F5F6F9\",\"template\":{\"data\":{\"barpolar\":[{\"marker\":{\"line\":{\"color\":\"#E5ECF6\",\"width\":0.5},\"pattern\":{\"fillmode\":\"overlay\",\"size\":10,\"solidity\":0.2}},\"type\":\"barpolar\"}],\"bar\":[{\"error_x\":{\"color\":\"#2a3f5f\"},\"error_y\":{\"color\":\"#2a3f5f\"},\"marker\":{\"line\":{\"color\":\"#E5ECF6\",\"width\":0.5},\"pattern\":{\"fillmode\":\"overlay\",\"size\":10,\"solidity\":0.2}},\"type\":\"bar\"}],\"carpet\":[{\"aaxis\":{\"endlinecolor\":\"#2a3f5f\",\"gridcolor\":\"white\",\"linecolor\":\"white\",\"minorgridcolor\":\"white\",\"startlinecolor\":\"#2a3f5f\"},\"baxis\":{\"endlinecolor\":\"#2a3f5f\",\"gridcolor\":\"white\",\"linecolor\":\"white\",\"minorgridcolor\":\"white\",\"startlinecolor\":\"#2a3f5f\"},\"type\":\"carpet\"}],\"choropleth\":[{\"colorbar\":{\"outlinewidth\":0,\"ticks\":\"\"},\"type\":\"choropleth\"}],\"contourcarpet\":[{\"colorbar\":{\"outlinewidth\":0,\"ticks\":\"\"},\"type\":\"contourcarpet\"}],\"contour\":[{\"colorbar\":{\"outlinewidth\":0,\"ticks\":\"\"},\"colorscale\":[[0.0,\"#0d0887\"],[0.1111111111111111,\"#46039f\"],[0.2222222222222222,\"#7201a8\"],[0.3333333333333333,\"#9c179e\"],[0.4444444444444444,\"#bd3786\"],[0.5555555555555556,\"#d8576b\"],[0.6666666666666666,\"#ed7953\"],[0.7777777777777778,\"#fb9f3a\"],[0.8888888888888888,\"#fdca26\"],[1.0,\"#f0f921\"]],\"type\":\"contour\"}],\"heatmapgl\":[{\"colorbar\":{\"outlinewidth\":0,\"ticks\":\"\"},\"colorscale\":[[0.0,\"#0d0887\"],[0.1111111111111111,\"#46039f\"],[0.2222222222222222,\"#7201a8\"],[0.3333333333333333,\"#9c179e\"],[0.4444444444444444,\"#bd3786\"],[0.5555555555555556,\"#d8576b\"],[0.6666666666666666,\"#ed7953\"],[0.7777777777777778,\"#fb9f3a\"],[0.8888888888888888,\"#fdca26\"],[1.0,\"#f0f921\"]],\"type\":\"heatmapgl\"}],\"heatmap\":[{\"colorbar\":{\"outlinewidth\":0,\"ticks\":\"\"},\"colorscale\":[[0.0,\"#0d0887\"],[0.1111111111111111,\"#46039f\"],[0.2222222222222222,\"#7201a8\"],[0.3333333333333333,\"#9c179e\"],[0.4444444444444444,\"#bd3786\"],[0.5555555555555556,\"#d8576b\"],[0.6666666666666666,\"#ed7953\"],[0.7777777777777778,\"#fb9f3a\"],[0.8888888888888888,\"#fdca26\"],[1.0,\"#f0f921\"]],\"type\":\"heatmap\"}],\"histogram2dcontour\":[{\"colorbar\":{\"outlinewidth\":0,\"ticks\":\"\"},\"colorscale\":[[0.0,\"#0d0887\"],[0.1111111111111111,\"#46039f\"],[0.2222222222222222,\"#7201a8\"],[0.3333333333333333,\"#9c179e\"],[0.4444444444444444,\"#bd3786\"],[0.5555555555555556,\"#d8576b\"],[0.6666666666666666,\"#ed7953\"],[0.7777777777777778,\"#fb9f3a\"],[0.8888888888888888,\"#fdca26\"],[1.0,\"#f0f921\"]],\"type\":\"histogram2dcontour\"}],\"histogram2d\":[{\"colorbar\":{\"outlinewidth\":0,\"ticks\":\"\"},\"colorscale\":[[0.0,\"#0d0887\"],[0.1111111111111111,\"#46039f\"],[0.2222222222222222,\"#7201a8\"],[0.3333333333333333,\"#9c179e\"],[0.4444444444444444,\"#bd3786\"],[0.5555555555555556,\"#d8576b\"],[0.6666666666666666,\"#ed7953\"],[0.7777777777777778,\"#fb9f3a\"],[0.8888888888888888,\"#fdca26\"],[1.0,\"#f0f921\"]],\"type\":\"histogram2d\"}],\"histogram\":[{\"marker\":{\"pattern\":{\"fillmode\":\"overlay\",\"size\":10,\"solidity\":0.2}},\"type\":\"histogram\"}],\"mesh3d\":[{\"colorbar\":{\"outlinewidth\":0,\"ticks\":\"\"},\"type\":\"mesh3d\"}],\"parcoords\":[{\"line\":{\"colorbar\":{\"outlinewidth\":0,\"ticks\":\"\"}},\"type\":\"parcoords\"}],\"pie\":[{\"automargin\":true,\"type\":\"pie\"}],\"scatter3d\":[{\"line\":{\"colorbar\":{\"outlinewidth\":0,\"ticks\":\"\"}},\"marker\":{\"colorbar\":{\"outlinewidth\":0,\"ticks\":\"\"}},\"type\":\"scatter3d\"}],\"scattercarpet\":[{\"marker\":{\"colorbar\":{\"outlinewidth\":0,\"ticks\":\"\"}},\"type\":\"scattercarpet\"}],\"scattergeo\":[{\"marker\":{\"colorbar\":{\"outlinewidth\":0,\"ticks\":\"\"}},\"type\":\"scattergeo\"}],\"scattergl\":[{\"marker\":{\"colorbar\":{\"outlinewidth\":0,\"ticks\":\"\"}},\"type\":\"scattergl\"}],\"scattermapbox\":[{\"marker\":{\"colorbar\":{\"outlinewidth\":0,\"ticks\":\"\"}},\"type\":\"scattermapbox\"}],\"scatterpolargl\":[{\"marker\":{\"colorbar\":{\"outlinewidth\":0,\"ticks\":\"\"}},\"type\":\"scatterpolargl\"}],\"scatterpolar\":[{\"marker\":{\"colorbar\":{\"outlinewidth\":0,\"ticks\":\"\"}},\"type\":\"scatterpolar\"}],\"scatter\":[{\"fillpattern\":{\"fillmode\":\"overlay\",\"size\":10,\"solidity\":0.2},\"type\":\"scatter\"}],\"scatterternary\":[{\"marker\":{\"colorbar\":{\"outlinewidth\":0,\"ticks\":\"\"}},\"type\":\"scatterternary\"}],\"surface\":[{\"colorbar\":{\"outlinewidth\":0,\"ticks\":\"\"},\"colorscale\":[[0.0,\"#0d0887\"],[0.1111111111111111,\"#46039f\"],[0.2222222222222222,\"#7201a8\"],[0.3333333333333333,\"#9c179e\"],[0.4444444444444444,\"#bd3786\"],[0.5555555555555556,\"#d8576b\"],[0.6666666666666666,\"#ed7953\"],[0.7777777777777778,\"#fb9f3a\"],[0.8888888888888888,\"#fdca26\"],[1.0,\"#f0f921\"]],\"type\":\"surface\"}],\"table\":[{\"cells\":{\"fill\":{\"color\":\"#EBF0F8\"},\"line\":{\"color\":\"white\"}},\"header\":{\"fill\":{\"color\":\"#C8D4E3\"},\"line\":{\"color\":\"white\"}},\"type\":\"table\"}]},\"layout\":{\"annotationdefaults\":{\"arrowcolor\":\"#2a3f5f\",\"arrowhead\":0,\"arrowwidth\":1},\"autotypenumbers\":\"strict\",\"coloraxis\":{\"colorbar\":{\"outlinewidth\":0,\"ticks\":\"\"}},\"colorscale\":{\"diverging\":[[0,\"#8e0152\"],[0.1,\"#c51b7d\"],[0.2,\"#de77ae\"],[0.3,\"#f1b6da\"],[0.4,\"#fde0ef\"],[0.5,\"#f7f7f7\"],[0.6,\"#e6f5d0\"],[0.7,\"#b8e186\"],[0.8,\"#7fbc41\"],[0.9,\"#4d9221\"],[1,\"#276419\"]],\"sequential\":[[0.0,\"#0d0887\"],[0.1111111111111111,\"#46039f\"],[0.2222222222222222,\"#7201a8\"],[0.3333333333333333,\"#9c179e\"],[0.4444444444444444,\"#bd3786\"],[0.5555555555555556,\"#d8576b\"],[0.6666666666666666,\"#ed7953\"],[0.7777777777777778,\"#fb9f3a\"],[0.8888888888888888,\"#fdca26\"],[1.0,\"#f0f921\"]],\"sequentialminus\":[[0.0,\"#0d0887\"],[0.1111111111111111,\"#46039f\"],[0.2222222222222222,\"#7201a8\"],[0.3333333333333333,\"#9c179e\"],[0.4444444444444444,\"#bd3786\"],[0.5555555555555556,\"#d8576b\"],[0.6666666666666666,\"#ed7953\"],[0.7777777777777778,\"#fb9f3a\"],[0.8888888888888888,\"#fdca26\"],[1.0,\"#f0f921\"]]},\"colorway\":[\"#636efa\",\"#EF553B\",\"#00cc96\",\"#ab63fa\",\"#FFA15A\",\"#19d3f3\",\"#FF6692\",\"#B6E880\",\"#FF97FF\",\"#FECB52\"],\"font\":{\"color\":\"#2a3f5f\"},\"geo\":{\"bgcolor\":\"white\",\"lakecolor\":\"white\",\"landcolor\":\"#E5ECF6\",\"showlakes\":true,\"showland\":true,\"subunitcolor\":\"white\"},\"hoverlabel\":{\"align\":\"left\"},\"hovermode\":\"closest\",\"mapbox\":{\"style\":\"light\"},\"paper_bgcolor\":\"white\",\"plot_bgcolor\":\"#E5ECF6\",\"polar\":{\"angularaxis\":{\"gridcolor\":\"white\",\"linecolor\":\"white\",\"ticks\":\"\"},\"bgcolor\":\"#E5ECF6\",\"radialaxis\":{\"gridcolor\":\"white\",\"linecolor\":\"white\",\"ticks\":\"\"}},\"scene\":{\"xaxis\":{\"backgroundcolor\":\"#E5ECF6\",\"gridcolor\":\"white\",\"gridwidth\":2,\"linecolor\":\"white\",\"showbackground\":true,\"ticks\":\"\",\"zerolinecolor\":\"white\"},\"yaxis\":{\"backgroundcolor\":\"#E5ECF6\",\"gridcolor\":\"white\",\"gridwidth\":2,\"linecolor\":\"white\",\"showbackground\":true,\"ticks\":\"\",\"zerolinecolor\":\"white\"},\"zaxis\":{\"backgroundcolor\":\"#E5ECF6\",\"gridcolor\":\"white\",\"gridwidth\":2,\"linecolor\":\"white\",\"showbackground\":true,\"ticks\":\"\",\"zerolinecolor\":\"white\"}},\"shapedefaults\":{\"line\":{\"color\":\"#2a3f5f\"}},\"ternary\":{\"aaxis\":{\"gridcolor\":\"white\",\"linecolor\":\"white\",\"ticks\":\"\"},\"baxis\":{\"gridcolor\":\"white\",\"linecolor\":\"white\",\"ticks\":\"\"},\"bgcolor\":\"#E5ECF6\",\"caxis\":{\"gridcolor\":\"white\",\"linecolor\":\"white\",\"ticks\":\"\"}},\"title\":{\"x\":0.05},\"xaxis\":{\"automargin\":true,\"gridcolor\":\"white\",\"linecolor\":\"white\",\"ticks\":\"\",\"title\":{\"standoff\":15},\"zerolinecolor\":\"white\",\"zerolinewidth\":2},\"yaxis\":{\"automargin\":true,\"gridcolor\":\"white\",\"linecolor\":\"white\",\"ticks\":\"\",\"title\":{\"standoff\":15},\"zerolinecolor\":\"white\",\"zerolinewidth\":2}}},\"title\":{\"font\":{\"color\":\"#4D5663\"}},\"xaxis\":{\"gridcolor\":\"#E1E5ED\",\"showgrid\":true,\"tickfont\":{\"color\":\"#4D5663\"},\"title\":{\"font\":{\"color\":\"#4D5663\"},\"text\":\"\"},\"zerolinecolor\":\"#E1E5ED\"},\"yaxis\":{\"gridcolor\":\"#E1E5ED\",\"showgrid\":true,\"tickfont\":{\"color\":\"#4D5663\"},\"title\":{\"font\":{\"color\":\"#4D5663\"},\"text\":\"\"},\"zerolinecolor\":\"#E1E5ED\"}},                        {\"showLink\": true, \"linkText\": \"Export to plot.ly\", \"plotlyServerURL\": \"https://plot.ly\", \"responsive\": true}                    ).then(function(){\n",
       "                            \n",
       "var gd = document.getElementById('18540508-58d7-4abe-a2d2-6b49ad46bc5f');\n",
       "var x = new MutationObserver(function (mutations, observer) {{\n",
       "        var display = window.getComputedStyle(gd).display;\n",
       "        if (!display || display === 'none') {{\n",
       "            console.log([gd, 'removed!']);\n",
       "            Plotly.purge(gd);\n",
       "            observer.disconnect();\n",
       "        }}\n",
       "}});\n",
       "\n",
       "// Listen for the removal of the full notebook cells\n",
       "var notebookContainer = gd.closest('#notebook-container');\n",
       "if (notebookContainer) {{\n",
       "    x.observe(notebookContainer, {childList: true});\n",
       "}}\n",
       "\n",
       "// Listen for the clearing of the current output cell\n",
       "var outputEl = gd.closest('.output');\n",
       "if (outputEl) {{\n",
       "    x.observe(outputEl, {childList: true});\n",
       "}}\n",
       "\n",
       "                        })                };                });            </script>        </div>"
      ]
     },
     "metadata": {},
     "output_type": "display_data"
    }
   ],
   "source": [
    "df3.iplot(kind=\"surface\", colorscale=\"rdylbu\")"
   ]
  },
  {
   "cell_type": "code",
   "execution_count": 29,
   "id": "4c4eb922",
   "metadata": {},
   "outputs": [
    {
     "name": "stderr",
     "output_type": "stream",
     "text": [
      "/home/quant/.local/lib/python3.10/site-packages/cufflinks/plotlytools.py:849: FutureWarning:\n",
      "\n",
      "The pandas.np module is deprecated and will be removed from pandas in a future version. Import numpy directly instead.\n",
      "\n",
      "/home/quant/.local/lib/python3.10/site-packages/cufflinks/plotlytools.py:850: FutureWarning:\n",
      "\n",
      "The pandas.np module is deprecated and will be removed from pandas in a future version. Import numpy directly instead.\n",
      "\n"
     ]
    },
    {
     "data": {
      "application/vnd.plotly.v1+json": {
       "config": {
        "linkText": "Export to plot.ly",
        "plotlyServerURL": "https://plot.ly",
        "showLink": true
       },
       "data": [
        {
         "line": {
          "color": "rgba(255, 153, 51, 1.0)",
          "dash": "solid",
          "shape": "linear",
          "width": 1.3
         },
         "mode": "lines",
         "name": "A",
         "text": "",
         "type": "scatter",
         "x": [
          0,
          1,
          2,
          3,
          4,
          5,
          6,
          7,
          8,
          9,
          10,
          11,
          12,
          13,
          14,
          15,
          16,
          17,
          18,
          19,
          20,
          21,
          22,
          23,
          24,
          25,
          26,
          27,
          28,
          29,
          30,
          31,
          32,
          33,
          34,
          35,
          36,
          37,
          38,
          39,
          40,
          41,
          42,
          43,
          44,
          45,
          46,
          47,
          48,
          49,
          50,
          51,
          52,
          53,
          54,
          55,
          56,
          57,
          58,
          59,
          60,
          61,
          62,
          63,
          64,
          65,
          66,
          67,
          68,
          69,
          70,
          71,
          72,
          73,
          74,
          75,
          76,
          77,
          78,
          79,
          80,
          81,
          82,
          83,
          84,
          85,
          86,
          87,
          88,
          89,
          90,
          91,
          92,
          93,
          94,
          95,
          96,
          97,
          98,
          99
         ],
         "y": [
          -1.5749810496858492,
          -1.3833793433667436,
          0.36588075526834546,
          1.275399849602529,
          0.5286668747009455,
          -0.7679032009223029,
          -0.17831916014732532,
          -2.257326435988866,
          0.07658860332702637,
          1.3567938287358288,
          0.31894748456236754,
          -0.33236158300706464,
          -0.5406260875570553,
          -0.37195941916552244,
          -0.3135738744446838,
          -1.010589752168183,
          -0.34346062433482266,
          -2.6744763425885423,
          0.4240381404822287,
          0.2885273430894623,
          0.08427439673144732,
          -0.23871144244853104,
          0.25740702376805175,
          0.40166934404547766,
          0.8323461834133391,
          0.380030623534109,
          0.5572622542561397,
          -0.6278502285641379,
          0.3692001447418704,
          -1.252856435011434,
          0.9396183305979209,
          2.197696282685438,
          -0.6348382801909904,
          -0.8729626381576087,
          0.05369217970057937,
          -0.028905049872739463,
          -0.12222368961439022,
          0.00866738492464321,
          -0.6367143859649672,
          -1.7133377029111103,
          0.99536125242314,
          -1.009122337998362,
          -1.360458340717226,
          0.7800896480356647,
          -0.17532259166702616,
          0.032736921693968066,
          -0.029454474920911446,
          -0.5622728532218199,
          1.7074440404654854,
          1.569656559086373,
          0.4166056558837753,
          -0.2464947669782788,
          0.051460325727519976,
          -0.5140444063570784,
          -1.4717230819608562,
          -0.833447655009454,
          2.062410774351031,
          0.3301660327167039,
          -0.5484153848392193,
          -1.0492195305040761,
          -1.019093053255773,
          1.1009944121217843,
          -1.5833892267026457,
          1.3222535001686084,
          -0.6762104727297058,
          1.1256325176591828,
          1.4931242561850617,
          -1.0115610188042432,
          -0.1710109126477292,
          0.9683985282675233,
          -0.2923692307598237,
          -0.4186511634855657,
          -0.8697287759682212,
          -0.09922350097748456,
          -0.6131434465914425,
          -0.46546756990307686,
          -2.371370606691687,
          -0.011436671066204995,
          2.3688431617731793,
          -0.440029376897687,
          -0.8353927478232571,
          -1.320643031620411,
          0.5479177999724679,
          -1.6851472200935969,
          -1.105532954107571,
          -0.7654776138021443,
          0.1639452575441152,
          -1.8061852621960486,
          0.11558384967903741,
          -2.263510071725915,
          0.03022567602240936,
          -1.1359137329317626,
          0.11757310430053158,
          0.8152531228518184,
          -0.03448705506848795,
          0.6307535692636861,
          -8.491084491530586e-05,
          0.9122527063264612,
          -0.82128369509477,
          0.6122755731166608
         ]
        },
        {
         "line": {
          "color": "rgba(55, 128, 191, 1.0)",
          "dash": "solid",
          "shape": "linear",
          "width": 1.3
         },
         "mode": "lines",
         "name": "B",
         "text": "",
         "type": "scatter",
         "x": [
          0,
          1,
          2,
          3,
          4,
          5,
          6,
          7,
          8,
          9,
          10,
          11,
          12,
          13,
          14,
          15,
          16,
          17,
          18,
          19,
          20,
          21,
          22,
          23,
          24,
          25,
          26,
          27,
          28,
          29,
          30,
          31,
          32,
          33,
          34,
          35,
          36,
          37,
          38,
          39,
          40,
          41,
          42,
          43,
          44,
          45,
          46,
          47,
          48,
          49,
          50,
          51,
          52,
          53,
          54,
          55,
          56,
          57,
          58,
          59,
          60,
          61,
          62,
          63,
          64,
          65,
          66,
          67,
          68,
          69,
          70,
          71,
          72,
          73,
          74,
          75,
          76,
          77,
          78,
          79,
          80,
          81,
          82,
          83,
          84,
          85,
          86,
          87,
          88,
          89,
          90,
          91,
          92,
          93,
          94,
          95,
          96,
          97,
          98,
          99
         ],
         "y": [
          0.39642477413478533,
          0.3017979791106031,
          -0.8683082254335007,
          0.20904761546820905,
          -1.0151385494413272,
          1.726459441137804,
          -0.915985971357377,
          1.0086740707482478,
          -1.3541085530315435,
          -0.29751376435345445,
          -0.9677119092995604,
          0.81640449993328,
          -0.31681896091569794,
          0.376691603872416,
          0.0955435591329955,
          0.3059302882053221,
          -0.40763287280287025,
          1.6209528853068607,
          -0.22050739262858718,
          1.2407691032730783,
          0.1636563461364261,
          0.11613750655239334,
          1.6532965922404759,
          -0.18031837018080812,
          -0.6598102231330875,
          1.7173440288843729,
          -0.6034913988882491,
          0.700172084595978,
          -0.8655937280498989,
          -0.07072219995759044,
          0.7252338637157283,
          1.6896643478428925,
          -1.9985550678721204,
          -1.288494222801579,
          -1.7568974963426904,
          1.19706327798354,
          -0.31731491298793957,
          1.5395547666939289,
          -0.014035010368598758,
          0.9050425509127696,
          0.8009389257192039,
          -0.08302009201298892,
          0.8171531869793346,
          -0.7938970281830412,
          0.06748229716032612,
          -0.25163340525469363,
          0.4501082789510372,
          0.7042743375651448,
          1.5786258826783846,
          0.4361285619666368,
          1.7486171274308304,
          0.867738412173522,
          0.2514370572602232,
          0.36820210750981897,
          0.45772091125516895,
          -1.2408746566028792,
          -0.6509170915331346,
          -1.8598649448554383,
          1.6667421329016379,
          0.881305758258542,
          0.2701389057885898,
          -0.0347324992409485,
          -1.1756209977978531,
          -0.9846172568564603,
          1.2800801685401286,
          -0.23730438169687665,
          1.012922776234193,
          -0.33041307438517004,
          -2.085051844871717,
          -0.9745502845039695,
          -0.5536617857028113,
          -0.590771338993367,
          -1.0698252162427944,
          0.6190627854938642,
          -0.8881704812612123,
          1.431363113773757,
          -0.007321763388780562,
          -1.92843803713575,
          -0.32707220180344077,
          -0.3061031816927142,
          0.2824028569969956,
          -0.5216603317192834,
          0.42177798337842715,
          0.8755835168934673,
          -1.5346115372015554,
          -0.18422379387988802,
          0.6494656673048684,
          0.9072613951453106,
          0.228171593180147,
          -0.2746116506540319,
          -0.028169419102425697,
          -0.42787317529700586,
          -1.3357558834404946,
          -0.790647659605685,
          -0.029415709062188093,
          0.1799045576781755,
          0.9522344570155521,
          -0.5184755826628655,
          1.1836484340050315,
          0.9778129395793809
         ]
        },
        {
         "connectgaps": false,
         "fill": "tozeroy",
         "line": {
          "color": "green",
          "dash": "solid",
          "shape": "linear",
          "width": 0.5
         },
         "mode": "lines",
         "name": "Spread",
         "showlegend": false,
         "type": "scatter",
         "x": [
          0,
          1,
          2,
          3,
          4,
          5,
          6,
          7,
          8,
          9,
          10,
          11,
          12,
          13,
          14,
          15,
          16,
          17,
          18,
          19,
          20,
          21,
          22,
          23,
          24,
          25,
          26,
          27,
          28,
          29,
          30,
          31,
          32,
          33,
          34,
          35,
          36,
          37,
          38,
          39,
          40,
          41,
          42,
          43,
          44,
          45,
          46,
          47,
          48,
          49,
          50,
          51,
          52,
          53,
          54,
          55,
          56,
          57,
          58,
          59,
          60,
          61,
          62,
          63,
          64,
          65,
          66,
          67,
          68,
          69,
          70,
          71,
          72,
          73,
          74,
          75,
          76,
          77,
          78,
          79,
          80,
          81,
          82,
          83,
          84,
          85,
          86,
          87,
          88,
          89,
          90,
          91,
          92,
          93,
          94,
          95,
          96,
          97,
          98,
          99
         ],
         "xaxis": "x2",
         "y": [
          "",
          "",
          1.2341889807018462,
          1.06635223413432,
          1.5438054241422727,
          "",
          0.7376668112100517,
          "",
          1.43069715635857,
          1.6543075930892832,
          1.286659393861928,
          "",
          "",
          "",
          "",
          "",
          0.06417224846804759,
          "",
          0.6445455331108159,
          "",
          "",
          "",
          "",
          0.5819877142262858,
          1.4921564065464266,
          "",
          1.160753653144389,
          "",
          1.2347938727917693,
          "",
          0.2143844668821926,
          0.5080319348425453,
          1.36371678768113,
          0.41553158464397033,
          1.8105896760432698,
          "",
          0.19509122337354934,
          "",
          "",
          "",
          0.1944223267039361,
          "",
          "",
          1.573986676218706,
          "",
          0.2843703269486617,
          "",
          "",
          0.12881815778710082,
          1.133527997119736,
          "",
          "",
          "",
          "",
          "",
          0.40742700159342526,
          2.7133278658841657,
          2.190030977572142,
          "",
          "",
          "",
          1.1357269113627328,
          "",
          2.306870757025069,
          "",
          1.3629368993560596,
          0.4802014799508687,
          "",
          1.9140409322239877,
          1.9429488127714927,
          0.26129255494298764,
          0.1721201755078013,
          0.20009644027457318,
          "",
          0.27502703466976985,
          "",
          "",
          1.9170013660695449,
          2.69591536357662,
          "",
          "",
          "",
          0.12613981659404078,
          "",
          0.4290785830939845,
          "",
          "",
          "",
          "",
          "",
          0.05839509512483505,
          "",
          1.4533289877410263,
          1.6059007824575033,
          "",
          0.4508490115855106,
          "",
          1.4307282889893267,
          "",
          ""
         ],
         "yaxis": "y2"
        },
        {
         "connectgaps": false,
         "fill": "tozeroy",
         "line": {
          "color": "red",
          "dash": "solid",
          "shape": "linear",
          "width": 0.5
         },
         "mode": "lines",
         "name": "Spread",
         "showlegend": false,
         "type": "scatter",
         "x": [
          0,
          1,
          2,
          3,
          4,
          5,
          6,
          7,
          8,
          9,
          10,
          11,
          12,
          13,
          14,
          15,
          16,
          17,
          18,
          19,
          20,
          21,
          22,
          23,
          24,
          25,
          26,
          27,
          28,
          29,
          30,
          31,
          32,
          33,
          34,
          35,
          36,
          37,
          38,
          39,
          40,
          41,
          42,
          43,
          44,
          45,
          46,
          47,
          48,
          49,
          50,
          51,
          52,
          53,
          54,
          55,
          56,
          57,
          58,
          59,
          60,
          61,
          62,
          63,
          64,
          65,
          66,
          67,
          68,
          69,
          70,
          71,
          72,
          73,
          74,
          75,
          76,
          77,
          78,
          79,
          80,
          81,
          82,
          83,
          84,
          85,
          86,
          87,
          88,
          89,
          90,
          91,
          92,
          93,
          94,
          95,
          96,
          97,
          98,
          99
         ],
         "xaxis": "x2",
         "y": [
          -1.9714058238206345,
          -1.6851773224773468,
          "",
          "",
          "",
          -2.494362642060107,
          "",
          -3.2660005067371136,
          "",
          "",
          "",
          -1.1487660829403445,
          -0.22380712664135738,
          -0.7486510230379384,
          -0.4091174335776793,
          -1.3165200403735051,
          "",
          -4.2954292278954025,
          "",
          -0.952241760183616,
          -0.07938194940497878,
          -0.3548489490009244,
          -1.3958895684724242,
          "",
          "",
          -1.337313405350264,
          "",
          -1.3280223131601159,
          "",
          -1.1821342350538435,
          "",
          "",
          "",
          "",
          "",
          -1.2259683278562794,
          "",
          -1.5308873817692856,
          -0.6226793755963684,
          -2.61838025382388,
          "",
          -0.9261022459853732,
          -2.1776115276965604,
          "",
          -0.2428048888273523,
          "",
          -0.4795627538719487,
          -1.2665471907869645,
          "",
          "",
          -1.3320114715470552,
          -1.1142331791518008,
          -0.19997673153270323,
          -0.8822465138668973,
          -1.9294439932160252,
          "",
          "",
          "",
          -2.215157517740857,
          -1.930525288762618,
          -1.2892319590443626,
          "",
          -0.4077682289047926,
          "",
          -1.9562906412698344,
          "",
          "",
          -0.6811479444190731,
          "",
          "",
          "",
          "",
          "",
          -0.7182862864713487,
          "",
          -1.8968306836768338,
          -2.364048843302906,
          "",
          "",
          -0.1339261952049728,
          -1.1177956048202526,
          -0.7989826999011276,
          "",
          -2.560730736987064,
          "",
          -0.5812538199222563,
          -0.4855204097607532,
          -2.7134466573413594,
          -0.11258774350110957,
          -1.9888984210718832,
          "",
          -0.7080405576347567,
          "",
          "",
          -0.005071346006299854,
          "",
          -0.9523193678604674,
          "",
          -2.0049321290998012,
          -0.36553736646272006
         ],
         "yaxis": "y2"
        }
       ],
       "layout": {
        "hovermode": "x",
        "legend": {
         "bgcolor": "#F5F6F9",
         "font": {
          "color": "#4D5663"
         }
        },
        "paper_bgcolor": "#F5F6F9",
        "plot_bgcolor": "#F5F6F9",
        "template": {
         "data": {
          "bar": [
           {
            "error_x": {
             "color": "#2a3f5f"
            },
            "error_y": {
             "color": "#2a3f5f"
            },
            "marker": {
             "line": {
              "color": "#E5ECF6",
              "width": 0.5
             },
             "pattern": {
              "fillmode": "overlay",
              "size": 10,
              "solidity": 0.2
             }
            },
            "type": "bar"
           }
          ],
          "barpolar": [
           {
            "marker": {
             "line": {
              "color": "#E5ECF6",
              "width": 0.5
             },
             "pattern": {
              "fillmode": "overlay",
              "size": 10,
              "solidity": 0.2
             }
            },
            "type": "barpolar"
           }
          ],
          "carpet": [
           {
            "aaxis": {
             "endlinecolor": "#2a3f5f",
             "gridcolor": "white",
             "linecolor": "white",
             "minorgridcolor": "white",
             "startlinecolor": "#2a3f5f"
            },
            "baxis": {
             "endlinecolor": "#2a3f5f",
             "gridcolor": "white",
             "linecolor": "white",
             "minorgridcolor": "white",
             "startlinecolor": "#2a3f5f"
            },
            "type": "carpet"
           }
          ],
          "choropleth": [
           {
            "colorbar": {
             "outlinewidth": 0,
             "ticks": ""
            },
            "type": "choropleth"
           }
          ],
          "contour": [
           {
            "colorbar": {
             "outlinewidth": 0,
             "ticks": ""
            },
            "colorscale": [
             [
              0,
              "#0d0887"
             ],
             [
              0.1111111111111111,
              "#46039f"
             ],
             [
              0.2222222222222222,
              "#7201a8"
             ],
             [
              0.3333333333333333,
              "#9c179e"
             ],
             [
              0.4444444444444444,
              "#bd3786"
             ],
             [
              0.5555555555555556,
              "#d8576b"
             ],
             [
              0.6666666666666666,
              "#ed7953"
             ],
             [
              0.7777777777777778,
              "#fb9f3a"
             ],
             [
              0.8888888888888888,
              "#fdca26"
             ],
             [
              1,
              "#f0f921"
             ]
            ],
            "type": "contour"
           }
          ],
          "contourcarpet": [
           {
            "colorbar": {
             "outlinewidth": 0,
             "ticks": ""
            },
            "type": "contourcarpet"
           }
          ],
          "heatmap": [
           {
            "colorbar": {
             "outlinewidth": 0,
             "ticks": ""
            },
            "colorscale": [
             [
              0,
              "#0d0887"
             ],
             [
              0.1111111111111111,
              "#46039f"
             ],
             [
              0.2222222222222222,
              "#7201a8"
             ],
             [
              0.3333333333333333,
              "#9c179e"
             ],
             [
              0.4444444444444444,
              "#bd3786"
             ],
             [
              0.5555555555555556,
              "#d8576b"
             ],
             [
              0.6666666666666666,
              "#ed7953"
             ],
             [
              0.7777777777777778,
              "#fb9f3a"
             ],
             [
              0.8888888888888888,
              "#fdca26"
             ],
             [
              1,
              "#f0f921"
             ]
            ],
            "type": "heatmap"
           }
          ],
          "heatmapgl": [
           {
            "colorbar": {
             "outlinewidth": 0,
             "ticks": ""
            },
            "colorscale": [
             [
              0,
              "#0d0887"
             ],
             [
              0.1111111111111111,
              "#46039f"
             ],
             [
              0.2222222222222222,
              "#7201a8"
             ],
             [
              0.3333333333333333,
              "#9c179e"
             ],
             [
              0.4444444444444444,
              "#bd3786"
             ],
             [
              0.5555555555555556,
              "#d8576b"
             ],
             [
              0.6666666666666666,
              "#ed7953"
             ],
             [
              0.7777777777777778,
              "#fb9f3a"
             ],
             [
              0.8888888888888888,
              "#fdca26"
             ],
             [
              1,
              "#f0f921"
             ]
            ],
            "type": "heatmapgl"
           }
          ],
          "histogram": [
           {
            "marker": {
             "pattern": {
              "fillmode": "overlay",
              "size": 10,
              "solidity": 0.2
             }
            },
            "type": "histogram"
           }
          ],
          "histogram2d": [
           {
            "colorbar": {
             "outlinewidth": 0,
             "ticks": ""
            },
            "colorscale": [
             [
              0,
              "#0d0887"
             ],
             [
              0.1111111111111111,
              "#46039f"
             ],
             [
              0.2222222222222222,
              "#7201a8"
             ],
             [
              0.3333333333333333,
              "#9c179e"
             ],
             [
              0.4444444444444444,
              "#bd3786"
             ],
             [
              0.5555555555555556,
              "#d8576b"
             ],
             [
              0.6666666666666666,
              "#ed7953"
             ],
             [
              0.7777777777777778,
              "#fb9f3a"
             ],
             [
              0.8888888888888888,
              "#fdca26"
             ],
             [
              1,
              "#f0f921"
             ]
            ],
            "type": "histogram2d"
           }
          ],
          "histogram2dcontour": [
           {
            "colorbar": {
             "outlinewidth": 0,
             "ticks": ""
            },
            "colorscale": [
             [
              0,
              "#0d0887"
             ],
             [
              0.1111111111111111,
              "#46039f"
             ],
             [
              0.2222222222222222,
              "#7201a8"
             ],
             [
              0.3333333333333333,
              "#9c179e"
             ],
             [
              0.4444444444444444,
              "#bd3786"
             ],
             [
              0.5555555555555556,
              "#d8576b"
             ],
             [
              0.6666666666666666,
              "#ed7953"
             ],
             [
              0.7777777777777778,
              "#fb9f3a"
             ],
             [
              0.8888888888888888,
              "#fdca26"
             ],
             [
              1,
              "#f0f921"
             ]
            ],
            "type": "histogram2dcontour"
           }
          ],
          "mesh3d": [
           {
            "colorbar": {
             "outlinewidth": 0,
             "ticks": ""
            },
            "type": "mesh3d"
           }
          ],
          "parcoords": [
           {
            "line": {
             "colorbar": {
              "outlinewidth": 0,
              "ticks": ""
             }
            },
            "type": "parcoords"
           }
          ],
          "pie": [
           {
            "automargin": true,
            "type": "pie"
           }
          ],
          "scatter": [
           {
            "fillpattern": {
             "fillmode": "overlay",
             "size": 10,
             "solidity": 0.2
            },
            "type": "scatter"
           }
          ],
          "scatter3d": [
           {
            "line": {
             "colorbar": {
              "outlinewidth": 0,
              "ticks": ""
             }
            },
            "marker": {
             "colorbar": {
              "outlinewidth": 0,
              "ticks": ""
             }
            },
            "type": "scatter3d"
           }
          ],
          "scattercarpet": [
           {
            "marker": {
             "colorbar": {
              "outlinewidth": 0,
              "ticks": ""
             }
            },
            "type": "scattercarpet"
           }
          ],
          "scattergeo": [
           {
            "marker": {
             "colorbar": {
              "outlinewidth": 0,
              "ticks": ""
             }
            },
            "type": "scattergeo"
           }
          ],
          "scattergl": [
           {
            "marker": {
             "colorbar": {
              "outlinewidth": 0,
              "ticks": ""
             }
            },
            "type": "scattergl"
           }
          ],
          "scattermapbox": [
           {
            "marker": {
             "colorbar": {
              "outlinewidth": 0,
              "ticks": ""
             }
            },
            "type": "scattermapbox"
           }
          ],
          "scatterpolar": [
           {
            "marker": {
             "colorbar": {
              "outlinewidth": 0,
              "ticks": ""
             }
            },
            "type": "scatterpolar"
           }
          ],
          "scatterpolargl": [
           {
            "marker": {
             "colorbar": {
              "outlinewidth": 0,
              "ticks": ""
             }
            },
            "type": "scatterpolargl"
           }
          ],
          "scatterternary": [
           {
            "marker": {
             "colorbar": {
              "outlinewidth": 0,
              "ticks": ""
             }
            },
            "type": "scatterternary"
           }
          ],
          "surface": [
           {
            "colorbar": {
             "outlinewidth": 0,
             "ticks": ""
            },
            "colorscale": [
             [
              0,
              "#0d0887"
             ],
             [
              0.1111111111111111,
              "#46039f"
             ],
             [
              0.2222222222222222,
              "#7201a8"
             ],
             [
              0.3333333333333333,
              "#9c179e"
             ],
             [
              0.4444444444444444,
              "#bd3786"
             ],
             [
              0.5555555555555556,
              "#d8576b"
             ],
             [
              0.6666666666666666,
              "#ed7953"
             ],
             [
              0.7777777777777778,
              "#fb9f3a"
             ],
             [
              0.8888888888888888,
              "#fdca26"
             ],
             [
              1,
              "#f0f921"
             ]
            ],
            "type": "surface"
           }
          ],
          "table": [
           {
            "cells": {
             "fill": {
              "color": "#EBF0F8"
             },
             "line": {
              "color": "white"
             }
            },
            "header": {
             "fill": {
              "color": "#C8D4E3"
             },
             "line": {
              "color": "white"
             }
            },
            "type": "table"
           }
          ]
         },
         "layout": {
          "annotationdefaults": {
           "arrowcolor": "#2a3f5f",
           "arrowhead": 0,
           "arrowwidth": 1
          },
          "autotypenumbers": "strict",
          "coloraxis": {
           "colorbar": {
            "outlinewidth": 0,
            "ticks": ""
           }
          },
          "colorscale": {
           "diverging": [
            [
             0,
             "#8e0152"
            ],
            [
             0.1,
             "#c51b7d"
            ],
            [
             0.2,
             "#de77ae"
            ],
            [
             0.3,
             "#f1b6da"
            ],
            [
             0.4,
             "#fde0ef"
            ],
            [
             0.5,
             "#f7f7f7"
            ],
            [
             0.6,
             "#e6f5d0"
            ],
            [
             0.7,
             "#b8e186"
            ],
            [
             0.8,
             "#7fbc41"
            ],
            [
             0.9,
             "#4d9221"
            ],
            [
             1,
             "#276419"
            ]
           ],
           "sequential": [
            [
             0,
             "#0d0887"
            ],
            [
             0.1111111111111111,
             "#46039f"
            ],
            [
             0.2222222222222222,
             "#7201a8"
            ],
            [
             0.3333333333333333,
             "#9c179e"
            ],
            [
             0.4444444444444444,
             "#bd3786"
            ],
            [
             0.5555555555555556,
             "#d8576b"
            ],
            [
             0.6666666666666666,
             "#ed7953"
            ],
            [
             0.7777777777777778,
             "#fb9f3a"
            ],
            [
             0.8888888888888888,
             "#fdca26"
            ],
            [
             1,
             "#f0f921"
            ]
           ],
           "sequentialminus": [
            [
             0,
             "#0d0887"
            ],
            [
             0.1111111111111111,
             "#46039f"
            ],
            [
             0.2222222222222222,
             "#7201a8"
            ],
            [
             0.3333333333333333,
             "#9c179e"
            ],
            [
             0.4444444444444444,
             "#bd3786"
            ],
            [
             0.5555555555555556,
             "#d8576b"
            ],
            [
             0.6666666666666666,
             "#ed7953"
            ],
            [
             0.7777777777777778,
             "#fb9f3a"
            ],
            [
             0.8888888888888888,
             "#fdca26"
            ],
            [
             1,
             "#f0f921"
            ]
           ]
          },
          "colorway": [
           "#636efa",
           "#EF553B",
           "#00cc96",
           "#ab63fa",
           "#FFA15A",
           "#19d3f3",
           "#FF6692",
           "#B6E880",
           "#FF97FF",
           "#FECB52"
          ],
          "font": {
           "color": "#2a3f5f"
          },
          "geo": {
           "bgcolor": "white",
           "lakecolor": "white",
           "landcolor": "#E5ECF6",
           "showlakes": true,
           "showland": true,
           "subunitcolor": "white"
          },
          "hoverlabel": {
           "align": "left"
          },
          "hovermode": "closest",
          "mapbox": {
           "style": "light"
          },
          "paper_bgcolor": "white",
          "plot_bgcolor": "#E5ECF6",
          "polar": {
           "angularaxis": {
            "gridcolor": "white",
            "linecolor": "white",
            "ticks": ""
           },
           "bgcolor": "#E5ECF6",
           "radialaxis": {
            "gridcolor": "white",
            "linecolor": "white",
            "ticks": ""
           }
          },
          "scene": {
           "xaxis": {
            "backgroundcolor": "#E5ECF6",
            "gridcolor": "white",
            "gridwidth": 2,
            "linecolor": "white",
            "showbackground": true,
            "ticks": "",
            "zerolinecolor": "white"
           },
           "yaxis": {
            "backgroundcolor": "#E5ECF6",
            "gridcolor": "white",
            "gridwidth": 2,
            "linecolor": "white",
            "showbackground": true,
            "ticks": "",
            "zerolinecolor": "white"
           },
           "zaxis": {
            "backgroundcolor": "#E5ECF6",
            "gridcolor": "white",
            "gridwidth": 2,
            "linecolor": "white",
            "showbackground": true,
            "ticks": "",
            "zerolinecolor": "white"
           }
          },
          "shapedefaults": {
           "line": {
            "color": "#2a3f5f"
           }
          },
          "ternary": {
           "aaxis": {
            "gridcolor": "white",
            "linecolor": "white",
            "ticks": ""
           },
           "baxis": {
            "gridcolor": "white",
            "linecolor": "white",
            "ticks": ""
           },
           "bgcolor": "#E5ECF6",
           "caxis": {
            "gridcolor": "white",
            "linecolor": "white",
            "ticks": ""
           }
          },
          "title": {
           "x": 0.05
          },
          "xaxis": {
           "automargin": true,
           "gridcolor": "white",
           "linecolor": "white",
           "ticks": "",
           "title": {
            "standoff": 15
           },
           "zerolinecolor": "white",
           "zerolinewidth": 2
          },
          "yaxis": {
           "automargin": true,
           "gridcolor": "white",
           "linecolor": "white",
           "ticks": "",
           "title": {
            "standoff": 15
           },
           "zerolinecolor": "white",
           "zerolinewidth": 2
          }
         }
        },
        "title": {
         "font": {
          "color": "#4D5663"
         }
        },
        "xaxis": {
         "gridcolor": "#E1E5ED",
         "showgrid": true,
         "tickfont": {
          "color": "#4D5663"
         },
         "title": {
          "font": {
           "color": "#4D5663"
          },
          "text": ""
         },
         "zerolinecolor": "#E1E5ED"
        },
        "xaxis2": {
         "anchor": "y2",
         "gridcolor": "#E1E5ED",
         "showgrid": true,
         "showticklabels": false,
         "tickfont": {
          "color": "#4D5663"
         },
         "title": {
          "font": {
           "color": "#4D5663"
          },
          "text": ""
         },
         "zerolinecolor": "#E1E5ED"
        },
        "yaxis": {
         "domain": [
          0.3,
          1
         ],
         "gridcolor": "#E1E5ED",
         "showgrid": true,
         "tickfont": {
          "color": "#4D5663"
         },
         "title": {
          "font": {
           "color": "#4D5663"
          },
          "text": ""
         },
         "zerolinecolor": "#E1E5ED"
        },
        "yaxis2": {
         "domain": [
          0,
          0.25
         ],
         "gridcolor": "#E1E5ED",
         "showgrid": true,
         "tickfont": {
          "color": "#4D5663"
         },
         "title": {
          "font": {
           "color": "#4D5663"
          },
          "text": "Spread"
         },
         "zerolinecolor": "#E1E5ED"
        }
       }
      },
      "text/html": [
       "<div>                            <div id=\"149327ea-8de1-4deb-a2b0-a1e53c2016a2\" class=\"plotly-graph-div\" style=\"height:525px; width:100%;\"></div>            <script type=\"text/javascript\">                require([\"plotly\"], function(Plotly) {                    window.PLOTLYENV=window.PLOTLYENV || {};\n",
       "                    window.PLOTLYENV.BASE_URL='https://plot.ly';                                    if (document.getElementById(\"149327ea-8de1-4deb-a2b0-a1e53c2016a2\")) {                    Plotly.newPlot(                        \"149327ea-8de1-4deb-a2b0-a1e53c2016a2\",                        [{\"line\":{\"color\":\"rgba(255, 153, 51, 1.0)\",\"dash\":\"solid\",\"shape\":\"linear\",\"width\":1.3},\"mode\":\"lines\",\"name\":\"A\",\"text\":\"\",\"x\":[0,1,2,3,4,5,6,7,8,9,10,11,12,13,14,15,16,17,18,19,20,21,22,23,24,25,26,27,28,29,30,31,32,33,34,35,36,37,38,39,40,41,42,43,44,45,46,47,48,49,50,51,52,53,54,55,56,57,58,59,60,61,62,63,64,65,66,67,68,69,70,71,72,73,74,75,76,77,78,79,80,81,82,83,84,85,86,87,88,89,90,91,92,93,94,95,96,97,98,99],\"y\":[-1.5749810496858492,-1.3833793433667436,0.36588075526834546,1.275399849602529,0.5286668747009455,-0.7679032009223029,-0.17831916014732532,-2.257326435988866,0.07658860332702637,1.3567938287358288,0.31894748456236754,-0.33236158300706464,-0.5406260875570553,-0.37195941916552244,-0.3135738744446838,-1.010589752168183,-0.34346062433482266,-2.6744763425885423,0.4240381404822287,0.2885273430894623,0.08427439673144732,-0.23871144244853104,0.25740702376805175,0.40166934404547766,0.8323461834133391,0.380030623534109,0.5572622542561397,-0.6278502285641379,0.3692001447418704,-1.252856435011434,0.9396183305979209,2.197696282685438,-0.6348382801909904,-0.8729626381576087,0.05369217970057937,-0.028905049872739463,-0.12222368961439022,0.00866738492464321,-0.6367143859649672,-1.7133377029111103,0.99536125242314,-1.009122337998362,-1.360458340717226,0.7800896480356647,-0.17532259166702616,0.032736921693968066,-0.029454474920911446,-0.5622728532218199,1.7074440404654854,1.569656559086373,0.4166056558837753,-0.2464947669782788,0.051460325727519976,-0.5140444063570784,-1.4717230819608562,-0.833447655009454,2.062410774351031,0.3301660327167039,-0.5484153848392193,-1.0492195305040761,-1.019093053255773,1.1009944121217843,-1.5833892267026457,1.3222535001686084,-0.6762104727297058,1.1256325176591828,1.4931242561850617,-1.0115610188042432,-0.1710109126477292,0.9683985282675233,-0.2923692307598237,-0.4186511634855657,-0.8697287759682212,-0.09922350097748456,-0.6131434465914425,-0.46546756990307686,-2.371370606691687,-0.011436671066204995,2.3688431617731793,-0.440029376897687,-0.8353927478232571,-1.320643031620411,0.5479177999724679,-1.6851472200935969,-1.105532954107571,-0.7654776138021443,0.1639452575441152,-1.8061852621960486,0.11558384967903741,-2.263510071725915,0.03022567602240936,-1.1359137329317626,0.11757310430053158,0.8152531228518184,-0.03448705506848795,0.6307535692636861,-8.491084491530586e-05,0.9122527063264612,-0.82128369509477,0.6122755731166608],\"type\":\"scatter\"},{\"line\":{\"color\":\"rgba(55, 128, 191, 1.0)\",\"dash\":\"solid\",\"shape\":\"linear\",\"width\":1.3},\"mode\":\"lines\",\"name\":\"B\",\"text\":\"\",\"x\":[0,1,2,3,4,5,6,7,8,9,10,11,12,13,14,15,16,17,18,19,20,21,22,23,24,25,26,27,28,29,30,31,32,33,34,35,36,37,38,39,40,41,42,43,44,45,46,47,48,49,50,51,52,53,54,55,56,57,58,59,60,61,62,63,64,65,66,67,68,69,70,71,72,73,74,75,76,77,78,79,80,81,82,83,84,85,86,87,88,89,90,91,92,93,94,95,96,97,98,99],\"y\":[0.39642477413478533,0.3017979791106031,-0.8683082254335007,0.20904761546820905,-1.0151385494413272,1.726459441137804,-0.915985971357377,1.0086740707482478,-1.3541085530315435,-0.29751376435345445,-0.9677119092995604,0.81640449993328,-0.31681896091569794,0.376691603872416,0.0955435591329955,0.3059302882053221,-0.40763287280287025,1.6209528853068607,-0.22050739262858718,1.2407691032730783,0.1636563461364261,0.11613750655239334,1.6532965922404759,-0.18031837018080812,-0.6598102231330875,1.7173440288843729,-0.6034913988882491,0.700172084595978,-0.8655937280498989,-0.07072219995759044,0.7252338637157283,1.6896643478428925,-1.9985550678721204,-1.288494222801579,-1.7568974963426904,1.19706327798354,-0.31731491298793957,1.5395547666939289,-0.014035010368598758,0.9050425509127696,0.8009389257192039,-0.08302009201298892,0.8171531869793346,-0.7938970281830412,0.06748229716032612,-0.25163340525469363,0.4501082789510372,0.7042743375651448,1.5786258826783846,0.4361285619666368,1.7486171274308304,0.867738412173522,0.2514370572602232,0.36820210750981897,0.45772091125516895,-1.2408746566028792,-0.6509170915331346,-1.8598649448554383,1.6667421329016379,0.881305758258542,0.2701389057885898,-0.0347324992409485,-1.1756209977978531,-0.9846172568564603,1.2800801685401286,-0.23730438169687665,1.012922776234193,-0.33041307438517004,-2.085051844871717,-0.9745502845039695,-0.5536617857028113,-0.590771338993367,-1.0698252162427944,0.6190627854938642,-0.8881704812612123,1.431363113773757,-0.007321763388780562,-1.92843803713575,-0.32707220180344077,-0.3061031816927142,0.2824028569969956,-0.5216603317192834,0.42177798337842715,0.8755835168934673,-1.5346115372015554,-0.18422379387988802,0.6494656673048684,0.9072613951453106,0.228171593180147,-0.2746116506540319,-0.028169419102425697,-0.42787317529700586,-1.3357558834404946,-0.790647659605685,-0.029415709062188093,0.1799045576781755,0.9522344570155521,-0.5184755826628655,1.1836484340050315,0.9778129395793809],\"type\":\"scatter\"},{\"connectgaps\":false,\"fill\":\"tozeroy\",\"line\":{\"color\":\"green\",\"dash\":\"solid\",\"shape\":\"linear\",\"width\":0.5},\"mode\":\"lines\",\"name\":\"Spread\",\"showlegend\":false,\"x\":[0,1,2,3,4,5,6,7,8,9,10,11,12,13,14,15,16,17,18,19,20,21,22,23,24,25,26,27,28,29,30,31,32,33,34,35,36,37,38,39,40,41,42,43,44,45,46,47,48,49,50,51,52,53,54,55,56,57,58,59,60,61,62,63,64,65,66,67,68,69,70,71,72,73,74,75,76,77,78,79,80,81,82,83,84,85,86,87,88,89,90,91,92,93,94,95,96,97,98,99],\"xaxis\":\"x2\",\"y\":[\"\",\"\",1.2341889807018462,1.06635223413432,1.5438054241422727,\"\",0.7376668112100517,\"\",1.43069715635857,1.6543075930892832,1.286659393861928,\"\",\"\",\"\",\"\",\"\",0.06417224846804759,\"\",0.6445455331108159,\"\",\"\",\"\",\"\",0.5819877142262858,1.4921564065464266,\"\",1.160753653144389,\"\",1.2347938727917693,\"\",0.2143844668821926,0.5080319348425453,1.36371678768113,0.41553158464397033,1.8105896760432698,\"\",0.19509122337354934,\"\",\"\",\"\",0.1944223267039361,\"\",\"\",1.573986676218706,\"\",0.2843703269486617,\"\",\"\",0.12881815778710082,1.133527997119736,\"\",\"\",\"\",\"\",\"\",0.40742700159342526,2.7133278658841657,2.190030977572142,\"\",\"\",\"\",1.1357269113627328,\"\",2.306870757025069,\"\",1.3629368993560596,0.4802014799508687,\"\",1.9140409322239877,1.9429488127714927,0.26129255494298764,0.1721201755078013,0.20009644027457318,\"\",0.27502703466976985,\"\",\"\",1.9170013660695449,2.69591536357662,\"\",\"\",\"\",0.12613981659404078,\"\",0.4290785830939845,\"\",\"\",\"\",\"\",\"\",0.05839509512483505,\"\",1.4533289877410263,1.6059007824575033,\"\",0.4508490115855106,\"\",1.4307282889893267,\"\",\"\"],\"yaxis\":\"y2\",\"type\":\"scatter\"},{\"connectgaps\":false,\"fill\":\"tozeroy\",\"line\":{\"color\":\"red\",\"dash\":\"solid\",\"shape\":\"linear\",\"width\":0.5},\"mode\":\"lines\",\"name\":\"Spread\",\"showlegend\":false,\"x\":[0,1,2,3,4,5,6,7,8,9,10,11,12,13,14,15,16,17,18,19,20,21,22,23,24,25,26,27,28,29,30,31,32,33,34,35,36,37,38,39,40,41,42,43,44,45,46,47,48,49,50,51,52,53,54,55,56,57,58,59,60,61,62,63,64,65,66,67,68,69,70,71,72,73,74,75,76,77,78,79,80,81,82,83,84,85,86,87,88,89,90,91,92,93,94,95,96,97,98,99],\"xaxis\":\"x2\",\"y\":[-1.9714058238206345,-1.6851773224773468,\"\",\"\",\"\",-2.494362642060107,\"\",-3.2660005067371136,\"\",\"\",\"\",-1.1487660829403445,-0.22380712664135738,-0.7486510230379384,-0.4091174335776793,-1.3165200403735051,\"\",-4.2954292278954025,\"\",-0.952241760183616,-0.07938194940497878,-0.3548489490009244,-1.3958895684724242,\"\",\"\",-1.337313405350264,\"\",-1.3280223131601159,\"\",-1.1821342350538435,\"\",\"\",\"\",\"\",\"\",-1.2259683278562794,\"\",-1.5308873817692856,-0.6226793755963684,-2.61838025382388,\"\",-0.9261022459853732,-2.1776115276965604,\"\",-0.2428048888273523,\"\",-0.4795627538719487,-1.2665471907869645,\"\",\"\",-1.3320114715470552,-1.1142331791518008,-0.19997673153270323,-0.8822465138668973,-1.9294439932160252,\"\",\"\",\"\",-2.215157517740857,-1.930525288762618,-1.2892319590443626,\"\",-0.4077682289047926,\"\",-1.9562906412698344,\"\",\"\",-0.6811479444190731,\"\",\"\",\"\",\"\",\"\",-0.7182862864713487,\"\",-1.8968306836768338,-2.364048843302906,\"\",\"\",-0.1339261952049728,-1.1177956048202526,-0.7989826999011276,\"\",-2.560730736987064,\"\",-0.5812538199222563,-0.4855204097607532,-2.7134466573413594,-0.11258774350110957,-1.9888984210718832,\"\",-0.7080405576347567,\"\",\"\",-0.005071346006299854,\"\",-0.9523193678604674,\"\",-2.0049321290998012,-0.36553736646272006],\"yaxis\":\"y2\",\"type\":\"scatter\"}],                        {\"hovermode\":\"x\",\"legend\":{\"bgcolor\":\"#F5F6F9\",\"font\":{\"color\":\"#4D5663\"}},\"paper_bgcolor\":\"#F5F6F9\",\"plot_bgcolor\":\"#F5F6F9\",\"template\":{\"data\":{\"barpolar\":[{\"marker\":{\"line\":{\"color\":\"#E5ECF6\",\"width\":0.5},\"pattern\":{\"fillmode\":\"overlay\",\"size\":10,\"solidity\":0.2}},\"type\":\"barpolar\"}],\"bar\":[{\"error_x\":{\"color\":\"#2a3f5f\"},\"error_y\":{\"color\":\"#2a3f5f\"},\"marker\":{\"line\":{\"color\":\"#E5ECF6\",\"width\":0.5},\"pattern\":{\"fillmode\":\"overlay\",\"size\":10,\"solidity\":0.2}},\"type\":\"bar\"}],\"carpet\":[{\"aaxis\":{\"endlinecolor\":\"#2a3f5f\",\"gridcolor\":\"white\",\"linecolor\":\"white\",\"minorgridcolor\":\"white\",\"startlinecolor\":\"#2a3f5f\"},\"baxis\":{\"endlinecolor\":\"#2a3f5f\",\"gridcolor\":\"white\",\"linecolor\":\"white\",\"minorgridcolor\":\"white\",\"startlinecolor\":\"#2a3f5f\"},\"type\":\"carpet\"}],\"choropleth\":[{\"colorbar\":{\"outlinewidth\":0,\"ticks\":\"\"},\"type\":\"choropleth\"}],\"contourcarpet\":[{\"colorbar\":{\"outlinewidth\":0,\"ticks\":\"\"},\"type\":\"contourcarpet\"}],\"contour\":[{\"colorbar\":{\"outlinewidth\":0,\"ticks\":\"\"},\"colorscale\":[[0.0,\"#0d0887\"],[0.1111111111111111,\"#46039f\"],[0.2222222222222222,\"#7201a8\"],[0.3333333333333333,\"#9c179e\"],[0.4444444444444444,\"#bd3786\"],[0.5555555555555556,\"#d8576b\"],[0.6666666666666666,\"#ed7953\"],[0.7777777777777778,\"#fb9f3a\"],[0.8888888888888888,\"#fdca26\"],[1.0,\"#f0f921\"]],\"type\":\"contour\"}],\"heatmapgl\":[{\"colorbar\":{\"outlinewidth\":0,\"ticks\":\"\"},\"colorscale\":[[0.0,\"#0d0887\"],[0.1111111111111111,\"#46039f\"],[0.2222222222222222,\"#7201a8\"],[0.3333333333333333,\"#9c179e\"],[0.4444444444444444,\"#bd3786\"],[0.5555555555555556,\"#d8576b\"],[0.6666666666666666,\"#ed7953\"],[0.7777777777777778,\"#fb9f3a\"],[0.8888888888888888,\"#fdca26\"],[1.0,\"#f0f921\"]],\"type\":\"heatmapgl\"}],\"heatmap\":[{\"colorbar\":{\"outlinewidth\":0,\"ticks\":\"\"},\"colorscale\":[[0.0,\"#0d0887\"],[0.1111111111111111,\"#46039f\"],[0.2222222222222222,\"#7201a8\"],[0.3333333333333333,\"#9c179e\"],[0.4444444444444444,\"#bd3786\"],[0.5555555555555556,\"#d8576b\"],[0.6666666666666666,\"#ed7953\"],[0.7777777777777778,\"#fb9f3a\"],[0.8888888888888888,\"#fdca26\"],[1.0,\"#f0f921\"]],\"type\":\"heatmap\"}],\"histogram2dcontour\":[{\"colorbar\":{\"outlinewidth\":0,\"ticks\":\"\"},\"colorscale\":[[0.0,\"#0d0887\"],[0.1111111111111111,\"#46039f\"],[0.2222222222222222,\"#7201a8\"],[0.3333333333333333,\"#9c179e\"],[0.4444444444444444,\"#bd3786\"],[0.5555555555555556,\"#d8576b\"],[0.6666666666666666,\"#ed7953\"],[0.7777777777777778,\"#fb9f3a\"],[0.8888888888888888,\"#fdca26\"],[1.0,\"#f0f921\"]],\"type\":\"histogram2dcontour\"}],\"histogram2d\":[{\"colorbar\":{\"outlinewidth\":0,\"ticks\":\"\"},\"colorscale\":[[0.0,\"#0d0887\"],[0.1111111111111111,\"#46039f\"],[0.2222222222222222,\"#7201a8\"],[0.3333333333333333,\"#9c179e\"],[0.4444444444444444,\"#bd3786\"],[0.5555555555555556,\"#d8576b\"],[0.6666666666666666,\"#ed7953\"],[0.7777777777777778,\"#fb9f3a\"],[0.8888888888888888,\"#fdca26\"],[1.0,\"#f0f921\"]],\"type\":\"histogram2d\"}],\"histogram\":[{\"marker\":{\"pattern\":{\"fillmode\":\"overlay\",\"size\":10,\"solidity\":0.2}},\"type\":\"histogram\"}],\"mesh3d\":[{\"colorbar\":{\"outlinewidth\":0,\"ticks\":\"\"},\"type\":\"mesh3d\"}],\"parcoords\":[{\"line\":{\"colorbar\":{\"outlinewidth\":0,\"ticks\":\"\"}},\"type\":\"parcoords\"}],\"pie\":[{\"automargin\":true,\"type\":\"pie\"}],\"scatter3d\":[{\"line\":{\"colorbar\":{\"outlinewidth\":0,\"ticks\":\"\"}},\"marker\":{\"colorbar\":{\"outlinewidth\":0,\"ticks\":\"\"}},\"type\":\"scatter3d\"}],\"scattercarpet\":[{\"marker\":{\"colorbar\":{\"outlinewidth\":0,\"ticks\":\"\"}},\"type\":\"scattercarpet\"}],\"scattergeo\":[{\"marker\":{\"colorbar\":{\"outlinewidth\":0,\"ticks\":\"\"}},\"type\":\"scattergeo\"}],\"scattergl\":[{\"marker\":{\"colorbar\":{\"outlinewidth\":0,\"ticks\":\"\"}},\"type\":\"scattergl\"}],\"scattermapbox\":[{\"marker\":{\"colorbar\":{\"outlinewidth\":0,\"ticks\":\"\"}},\"type\":\"scattermapbox\"}],\"scatterpolargl\":[{\"marker\":{\"colorbar\":{\"outlinewidth\":0,\"ticks\":\"\"}},\"type\":\"scatterpolargl\"}],\"scatterpolar\":[{\"marker\":{\"colorbar\":{\"outlinewidth\":0,\"ticks\":\"\"}},\"type\":\"scatterpolar\"}],\"scatter\":[{\"fillpattern\":{\"fillmode\":\"overlay\",\"size\":10,\"solidity\":0.2},\"type\":\"scatter\"}],\"scatterternary\":[{\"marker\":{\"colorbar\":{\"outlinewidth\":0,\"ticks\":\"\"}},\"type\":\"scatterternary\"}],\"surface\":[{\"colorbar\":{\"outlinewidth\":0,\"ticks\":\"\"},\"colorscale\":[[0.0,\"#0d0887\"],[0.1111111111111111,\"#46039f\"],[0.2222222222222222,\"#7201a8\"],[0.3333333333333333,\"#9c179e\"],[0.4444444444444444,\"#bd3786\"],[0.5555555555555556,\"#d8576b\"],[0.6666666666666666,\"#ed7953\"],[0.7777777777777778,\"#fb9f3a\"],[0.8888888888888888,\"#fdca26\"],[1.0,\"#f0f921\"]],\"type\":\"surface\"}],\"table\":[{\"cells\":{\"fill\":{\"color\":\"#EBF0F8\"},\"line\":{\"color\":\"white\"}},\"header\":{\"fill\":{\"color\":\"#C8D4E3\"},\"line\":{\"color\":\"white\"}},\"type\":\"table\"}]},\"layout\":{\"annotationdefaults\":{\"arrowcolor\":\"#2a3f5f\",\"arrowhead\":0,\"arrowwidth\":1},\"autotypenumbers\":\"strict\",\"coloraxis\":{\"colorbar\":{\"outlinewidth\":0,\"ticks\":\"\"}},\"colorscale\":{\"diverging\":[[0,\"#8e0152\"],[0.1,\"#c51b7d\"],[0.2,\"#de77ae\"],[0.3,\"#f1b6da\"],[0.4,\"#fde0ef\"],[0.5,\"#f7f7f7\"],[0.6,\"#e6f5d0\"],[0.7,\"#b8e186\"],[0.8,\"#7fbc41\"],[0.9,\"#4d9221\"],[1,\"#276419\"]],\"sequential\":[[0.0,\"#0d0887\"],[0.1111111111111111,\"#46039f\"],[0.2222222222222222,\"#7201a8\"],[0.3333333333333333,\"#9c179e\"],[0.4444444444444444,\"#bd3786\"],[0.5555555555555556,\"#d8576b\"],[0.6666666666666666,\"#ed7953\"],[0.7777777777777778,\"#fb9f3a\"],[0.8888888888888888,\"#fdca26\"],[1.0,\"#f0f921\"]],\"sequentialminus\":[[0.0,\"#0d0887\"],[0.1111111111111111,\"#46039f\"],[0.2222222222222222,\"#7201a8\"],[0.3333333333333333,\"#9c179e\"],[0.4444444444444444,\"#bd3786\"],[0.5555555555555556,\"#d8576b\"],[0.6666666666666666,\"#ed7953\"],[0.7777777777777778,\"#fb9f3a\"],[0.8888888888888888,\"#fdca26\"],[1.0,\"#f0f921\"]]},\"colorway\":[\"#636efa\",\"#EF553B\",\"#00cc96\",\"#ab63fa\",\"#FFA15A\",\"#19d3f3\",\"#FF6692\",\"#B6E880\",\"#FF97FF\",\"#FECB52\"],\"font\":{\"color\":\"#2a3f5f\"},\"geo\":{\"bgcolor\":\"white\",\"lakecolor\":\"white\",\"landcolor\":\"#E5ECF6\",\"showlakes\":true,\"showland\":true,\"subunitcolor\":\"white\"},\"hoverlabel\":{\"align\":\"left\"},\"hovermode\":\"closest\",\"mapbox\":{\"style\":\"light\"},\"paper_bgcolor\":\"white\",\"plot_bgcolor\":\"#E5ECF6\",\"polar\":{\"angularaxis\":{\"gridcolor\":\"white\",\"linecolor\":\"white\",\"ticks\":\"\"},\"bgcolor\":\"#E5ECF6\",\"radialaxis\":{\"gridcolor\":\"white\",\"linecolor\":\"white\",\"ticks\":\"\"}},\"scene\":{\"xaxis\":{\"backgroundcolor\":\"#E5ECF6\",\"gridcolor\":\"white\",\"gridwidth\":2,\"linecolor\":\"white\",\"showbackground\":true,\"ticks\":\"\",\"zerolinecolor\":\"white\"},\"yaxis\":{\"backgroundcolor\":\"#E5ECF6\",\"gridcolor\":\"white\",\"gridwidth\":2,\"linecolor\":\"white\",\"showbackground\":true,\"ticks\":\"\",\"zerolinecolor\":\"white\"},\"zaxis\":{\"backgroundcolor\":\"#E5ECF6\",\"gridcolor\":\"white\",\"gridwidth\":2,\"linecolor\":\"white\",\"showbackground\":true,\"ticks\":\"\",\"zerolinecolor\":\"white\"}},\"shapedefaults\":{\"line\":{\"color\":\"#2a3f5f\"}},\"ternary\":{\"aaxis\":{\"gridcolor\":\"white\",\"linecolor\":\"white\",\"ticks\":\"\"},\"baxis\":{\"gridcolor\":\"white\",\"linecolor\":\"white\",\"ticks\":\"\"},\"bgcolor\":\"#E5ECF6\",\"caxis\":{\"gridcolor\":\"white\",\"linecolor\":\"white\",\"ticks\":\"\"}},\"title\":{\"x\":0.05},\"xaxis\":{\"automargin\":true,\"gridcolor\":\"white\",\"linecolor\":\"white\",\"ticks\":\"\",\"title\":{\"standoff\":15},\"zerolinecolor\":\"white\",\"zerolinewidth\":2},\"yaxis\":{\"automargin\":true,\"gridcolor\":\"white\",\"linecolor\":\"white\",\"ticks\":\"\",\"title\":{\"standoff\":15},\"zerolinecolor\":\"white\",\"zerolinewidth\":2}}},\"title\":{\"font\":{\"color\":\"#4D5663\"}},\"xaxis\":{\"gridcolor\":\"#E1E5ED\",\"showgrid\":true,\"tickfont\":{\"color\":\"#4D5663\"},\"title\":{\"font\":{\"color\":\"#4D5663\"},\"text\":\"\"},\"zerolinecolor\":\"#E1E5ED\"},\"yaxis\":{\"domain\":[0.3,1],\"gridcolor\":\"#E1E5ED\",\"showgrid\":true,\"tickfont\":{\"color\":\"#4D5663\"},\"title\":{\"font\":{\"color\":\"#4D5663\"},\"text\":\"\"},\"zerolinecolor\":\"#E1E5ED\"},\"yaxis2\":{\"domain\":[0,0.25],\"gridcolor\":\"#E1E5ED\",\"showgrid\":true,\"tickfont\":{\"color\":\"#4D5663\"},\"title\":{\"font\":{\"color\":\"#4D5663\"},\"text\":\"Spread\"},\"zerolinecolor\":\"#E1E5ED\"},\"xaxis2\":{\"anchor\":\"y2\",\"gridcolor\":\"#E1E5ED\",\"showgrid\":true,\"showticklabels\":false,\"tickfont\":{\"color\":\"#4D5663\"},\"title\":{\"font\":{\"color\":\"#4D5663\"},\"text\":\"\"},\"zerolinecolor\":\"#E1E5ED\"}},                        {\"showLink\": true, \"linkText\": \"Export to plot.ly\", \"plotlyServerURL\": \"https://plot.ly\", \"responsive\": true}                    ).then(function(){\n",
       "                            \n",
       "var gd = document.getElementById('149327ea-8de1-4deb-a2b0-a1e53c2016a2');\n",
       "var x = new MutationObserver(function (mutations, observer) {{\n",
       "        var display = window.getComputedStyle(gd).display;\n",
       "        if (!display || display === 'none') {{\n",
       "            console.log([gd, 'removed!']);\n",
       "            Plotly.purge(gd);\n",
       "            observer.disconnect();\n",
       "        }}\n",
       "}});\n",
       "\n",
       "// Listen for the removal of the full notebook cells\n",
       "var notebookContainer = gd.closest('#notebook-container');\n",
       "if (notebookContainer) {{\n",
       "    x.observe(notebookContainer, {childList: true});\n",
       "}}\n",
       "\n",
       "// Listen for the clearing of the current output cell\n",
       "var outputEl = gd.closest('.output');\n",
       "if (outputEl) {{\n",
       "    x.observe(outputEl, {childList: true});\n",
       "}}\n",
       "\n",
       "                        })                };                });            </script>        </div>"
      ]
     },
     "metadata": {},
     "output_type": "display_data"
    }
   ],
   "source": [
    "df[[\"A\", \"B\"]].iplot(kind=\"spread\")"
   ]
  },
  {
   "cell_type": "code",
   "execution_count": 30,
   "id": "27201fc5",
   "metadata": {},
   "outputs": [
    {
     "data": {
      "application/vnd.plotly.v1+json": {
       "config": {
        "linkText": "Export to plot.ly",
        "plotlyServerURL": "https://plot.ly",
        "showLink": true
       },
       "data": [
        {
         "histfunc": "count",
         "histnorm": "",
         "marker": {
          "color": "rgba(255, 153, 51, 1.0)",
          "line": {
           "color": "#4D5663",
           "width": 1.3
          }
         },
         "name": "A",
         "nbinsx": 50,
         "opacity": 0.8,
         "orientation": "v",
         "type": "histogram",
         "x": [
          -1.5749810496858492,
          -1.3833793433667436,
          0.36588075526834546,
          1.275399849602529,
          0.5286668747009455,
          -0.7679032009223029,
          -0.17831916014732532,
          -2.257326435988866,
          0.07658860332702637,
          1.3567938287358288,
          0.31894748456236754,
          -0.33236158300706464,
          -0.5406260875570553,
          -0.37195941916552244,
          -0.3135738744446838,
          -1.010589752168183,
          -0.34346062433482266,
          -2.6744763425885423,
          0.4240381404822287,
          0.2885273430894623,
          0.08427439673144732,
          -0.23871144244853104,
          0.25740702376805175,
          0.40166934404547766,
          0.8323461834133391,
          0.380030623534109,
          0.5572622542561397,
          -0.6278502285641379,
          0.3692001447418704,
          -1.252856435011434,
          0.9396183305979209,
          2.197696282685438,
          -0.6348382801909904,
          -0.8729626381576087,
          0.05369217970057937,
          -0.028905049872739463,
          -0.12222368961439022,
          0.00866738492464321,
          -0.6367143859649672,
          -1.7133377029111103,
          0.99536125242314,
          -1.009122337998362,
          -1.360458340717226,
          0.7800896480356647,
          -0.17532259166702616,
          0.032736921693968066,
          -0.029454474920911446,
          -0.5622728532218199,
          1.7074440404654854,
          1.569656559086373,
          0.4166056558837753,
          -0.2464947669782788,
          0.051460325727519976,
          -0.5140444063570784,
          -1.4717230819608562,
          -0.833447655009454,
          2.062410774351031,
          0.3301660327167039,
          -0.5484153848392193,
          -1.0492195305040761,
          -1.019093053255773,
          1.1009944121217843,
          -1.5833892267026457,
          1.3222535001686084,
          -0.6762104727297058,
          1.1256325176591828,
          1.4931242561850617,
          -1.0115610188042432,
          -0.1710109126477292,
          0.9683985282675233,
          -0.2923692307598237,
          -0.4186511634855657,
          -0.8697287759682212,
          -0.09922350097748456,
          -0.6131434465914425,
          -0.46546756990307686,
          -2.371370606691687,
          -0.011436671066204995,
          2.3688431617731793,
          -0.440029376897687,
          -0.8353927478232571,
          -1.320643031620411,
          0.5479177999724679,
          -1.6851472200935969,
          -1.105532954107571,
          -0.7654776138021443,
          0.1639452575441152,
          -1.8061852621960486,
          0.11558384967903741,
          -2.263510071725915,
          0.03022567602240936,
          -1.1359137329317626,
          0.11757310430053158,
          0.8152531228518184,
          -0.03448705506848795,
          0.6307535692636861,
          -8.491084491530586e-05,
          0.9122527063264612,
          -0.82128369509477,
          0.6122755731166608
         ]
        }
       ],
       "layout": {
        "barmode": "overlay",
        "legend": {
         "bgcolor": "#F5F6F9",
         "font": {
          "color": "#4D5663"
         }
        },
        "paper_bgcolor": "#F5F6F9",
        "plot_bgcolor": "#F5F6F9",
        "template": {
         "data": {
          "bar": [
           {
            "error_x": {
             "color": "#2a3f5f"
            },
            "error_y": {
             "color": "#2a3f5f"
            },
            "marker": {
             "line": {
              "color": "#E5ECF6",
              "width": 0.5
             },
             "pattern": {
              "fillmode": "overlay",
              "size": 10,
              "solidity": 0.2
             }
            },
            "type": "bar"
           }
          ],
          "barpolar": [
           {
            "marker": {
             "line": {
              "color": "#E5ECF6",
              "width": 0.5
             },
             "pattern": {
              "fillmode": "overlay",
              "size": 10,
              "solidity": 0.2
             }
            },
            "type": "barpolar"
           }
          ],
          "carpet": [
           {
            "aaxis": {
             "endlinecolor": "#2a3f5f",
             "gridcolor": "white",
             "linecolor": "white",
             "minorgridcolor": "white",
             "startlinecolor": "#2a3f5f"
            },
            "baxis": {
             "endlinecolor": "#2a3f5f",
             "gridcolor": "white",
             "linecolor": "white",
             "minorgridcolor": "white",
             "startlinecolor": "#2a3f5f"
            },
            "type": "carpet"
           }
          ],
          "choropleth": [
           {
            "colorbar": {
             "outlinewidth": 0,
             "ticks": ""
            },
            "type": "choropleth"
           }
          ],
          "contour": [
           {
            "colorbar": {
             "outlinewidth": 0,
             "ticks": ""
            },
            "colorscale": [
             [
              0,
              "#0d0887"
             ],
             [
              0.1111111111111111,
              "#46039f"
             ],
             [
              0.2222222222222222,
              "#7201a8"
             ],
             [
              0.3333333333333333,
              "#9c179e"
             ],
             [
              0.4444444444444444,
              "#bd3786"
             ],
             [
              0.5555555555555556,
              "#d8576b"
             ],
             [
              0.6666666666666666,
              "#ed7953"
             ],
             [
              0.7777777777777778,
              "#fb9f3a"
             ],
             [
              0.8888888888888888,
              "#fdca26"
             ],
             [
              1,
              "#f0f921"
             ]
            ],
            "type": "contour"
           }
          ],
          "contourcarpet": [
           {
            "colorbar": {
             "outlinewidth": 0,
             "ticks": ""
            },
            "type": "contourcarpet"
           }
          ],
          "heatmap": [
           {
            "colorbar": {
             "outlinewidth": 0,
             "ticks": ""
            },
            "colorscale": [
             [
              0,
              "#0d0887"
             ],
             [
              0.1111111111111111,
              "#46039f"
             ],
             [
              0.2222222222222222,
              "#7201a8"
             ],
             [
              0.3333333333333333,
              "#9c179e"
             ],
             [
              0.4444444444444444,
              "#bd3786"
             ],
             [
              0.5555555555555556,
              "#d8576b"
             ],
             [
              0.6666666666666666,
              "#ed7953"
             ],
             [
              0.7777777777777778,
              "#fb9f3a"
             ],
             [
              0.8888888888888888,
              "#fdca26"
             ],
             [
              1,
              "#f0f921"
             ]
            ],
            "type": "heatmap"
           }
          ],
          "heatmapgl": [
           {
            "colorbar": {
             "outlinewidth": 0,
             "ticks": ""
            },
            "colorscale": [
             [
              0,
              "#0d0887"
             ],
             [
              0.1111111111111111,
              "#46039f"
             ],
             [
              0.2222222222222222,
              "#7201a8"
             ],
             [
              0.3333333333333333,
              "#9c179e"
             ],
             [
              0.4444444444444444,
              "#bd3786"
             ],
             [
              0.5555555555555556,
              "#d8576b"
             ],
             [
              0.6666666666666666,
              "#ed7953"
             ],
             [
              0.7777777777777778,
              "#fb9f3a"
             ],
             [
              0.8888888888888888,
              "#fdca26"
             ],
             [
              1,
              "#f0f921"
             ]
            ],
            "type": "heatmapgl"
           }
          ],
          "histogram": [
           {
            "marker": {
             "pattern": {
              "fillmode": "overlay",
              "size": 10,
              "solidity": 0.2
             }
            },
            "type": "histogram"
           }
          ],
          "histogram2d": [
           {
            "colorbar": {
             "outlinewidth": 0,
             "ticks": ""
            },
            "colorscale": [
             [
              0,
              "#0d0887"
             ],
             [
              0.1111111111111111,
              "#46039f"
             ],
             [
              0.2222222222222222,
              "#7201a8"
             ],
             [
              0.3333333333333333,
              "#9c179e"
             ],
             [
              0.4444444444444444,
              "#bd3786"
             ],
             [
              0.5555555555555556,
              "#d8576b"
             ],
             [
              0.6666666666666666,
              "#ed7953"
             ],
             [
              0.7777777777777778,
              "#fb9f3a"
             ],
             [
              0.8888888888888888,
              "#fdca26"
             ],
             [
              1,
              "#f0f921"
             ]
            ],
            "type": "histogram2d"
           }
          ],
          "histogram2dcontour": [
           {
            "colorbar": {
             "outlinewidth": 0,
             "ticks": ""
            },
            "colorscale": [
             [
              0,
              "#0d0887"
             ],
             [
              0.1111111111111111,
              "#46039f"
             ],
             [
              0.2222222222222222,
              "#7201a8"
             ],
             [
              0.3333333333333333,
              "#9c179e"
             ],
             [
              0.4444444444444444,
              "#bd3786"
             ],
             [
              0.5555555555555556,
              "#d8576b"
             ],
             [
              0.6666666666666666,
              "#ed7953"
             ],
             [
              0.7777777777777778,
              "#fb9f3a"
             ],
             [
              0.8888888888888888,
              "#fdca26"
             ],
             [
              1,
              "#f0f921"
             ]
            ],
            "type": "histogram2dcontour"
           }
          ],
          "mesh3d": [
           {
            "colorbar": {
             "outlinewidth": 0,
             "ticks": ""
            },
            "type": "mesh3d"
           }
          ],
          "parcoords": [
           {
            "line": {
             "colorbar": {
              "outlinewidth": 0,
              "ticks": ""
             }
            },
            "type": "parcoords"
           }
          ],
          "pie": [
           {
            "automargin": true,
            "type": "pie"
           }
          ],
          "scatter": [
           {
            "fillpattern": {
             "fillmode": "overlay",
             "size": 10,
             "solidity": 0.2
            },
            "type": "scatter"
           }
          ],
          "scatter3d": [
           {
            "line": {
             "colorbar": {
              "outlinewidth": 0,
              "ticks": ""
             }
            },
            "marker": {
             "colorbar": {
              "outlinewidth": 0,
              "ticks": ""
             }
            },
            "type": "scatter3d"
           }
          ],
          "scattercarpet": [
           {
            "marker": {
             "colorbar": {
              "outlinewidth": 0,
              "ticks": ""
             }
            },
            "type": "scattercarpet"
           }
          ],
          "scattergeo": [
           {
            "marker": {
             "colorbar": {
              "outlinewidth": 0,
              "ticks": ""
             }
            },
            "type": "scattergeo"
           }
          ],
          "scattergl": [
           {
            "marker": {
             "colorbar": {
              "outlinewidth": 0,
              "ticks": ""
             }
            },
            "type": "scattergl"
           }
          ],
          "scattermapbox": [
           {
            "marker": {
             "colorbar": {
              "outlinewidth": 0,
              "ticks": ""
             }
            },
            "type": "scattermapbox"
           }
          ],
          "scatterpolar": [
           {
            "marker": {
             "colorbar": {
              "outlinewidth": 0,
              "ticks": ""
             }
            },
            "type": "scatterpolar"
           }
          ],
          "scatterpolargl": [
           {
            "marker": {
             "colorbar": {
              "outlinewidth": 0,
              "ticks": ""
             }
            },
            "type": "scatterpolargl"
           }
          ],
          "scatterternary": [
           {
            "marker": {
             "colorbar": {
              "outlinewidth": 0,
              "ticks": ""
             }
            },
            "type": "scatterternary"
           }
          ],
          "surface": [
           {
            "colorbar": {
             "outlinewidth": 0,
             "ticks": ""
            },
            "colorscale": [
             [
              0,
              "#0d0887"
             ],
             [
              0.1111111111111111,
              "#46039f"
             ],
             [
              0.2222222222222222,
              "#7201a8"
             ],
             [
              0.3333333333333333,
              "#9c179e"
             ],
             [
              0.4444444444444444,
              "#bd3786"
             ],
             [
              0.5555555555555556,
              "#d8576b"
             ],
             [
              0.6666666666666666,
              "#ed7953"
             ],
             [
              0.7777777777777778,
              "#fb9f3a"
             ],
             [
              0.8888888888888888,
              "#fdca26"
             ],
             [
              1,
              "#f0f921"
             ]
            ],
            "type": "surface"
           }
          ],
          "table": [
           {
            "cells": {
             "fill": {
              "color": "#EBF0F8"
             },
             "line": {
              "color": "white"
             }
            },
            "header": {
             "fill": {
              "color": "#C8D4E3"
             },
             "line": {
              "color": "white"
             }
            },
            "type": "table"
           }
          ]
         },
         "layout": {
          "annotationdefaults": {
           "arrowcolor": "#2a3f5f",
           "arrowhead": 0,
           "arrowwidth": 1
          },
          "autotypenumbers": "strict",
          "coloraxis": {
           "colorbar": {
            "outlinewidth": 0,
            "ticks": ""
           }
          },
          "colorscale": {
           "diverging": [
            [
             0,
             "#8e0152"
            ],
            [
             0.1,
             "#c51b7d"
            ],
            [
             0.2,
             "#de77ae"
            ],
            [
             0.3,
             "#f1b6da"
            ],
            [
             0.4,
             "#fde0ef"
            ],
            [
             0.5,
             "#f7f7f7"
            ],
            [
             0.6,
             "#e6f5d0"
            ],
            [
             0.7,
             "#b8e186"
            ],
            [
             0.8,
             "#7fbc41"
            ],
            [
             0.9,
             "#4d9221"
            ],
            [
             1,
             "#276419"
            ]
           ],
           "sequential": [
            [
             0,
             "#0d0887"
            ],
            [
             0.1111111111111111,
             "#46039f"
            ],
            [
             0.2222222222222222,
             "#7201a8"
            ],
            [
             0.3333333333333333,
             "#9c179e"
            ],
            [
             0.4444444444444444,
             "#bd3786"
            ],
            [
             0.5555555555555556,
             "#d8576b"
            ],
            [
             0.6666666666666666,
             "#ed7953"
            ],
            [
             0.7777777777777778,
             "#fb9f3a"
            ],
            [
             0.8888888888888888,
             "#fdca26"
            ],
            [
             1,
             "#f0f921"
            ]
           ],
           "sequentialminus": [
            [
             0,
             "#0d0887"
            ],
            [
             0.1111111111111111,
             "#46039f"
            ],
            [
             0.2222222222222222,
             "#7201a8"
            ],
            [
             0.3333333333333333,
             "#9c179e"
            ],
            [
             0.4444444444444444,
             "#bd3786"
            ],
            [
             0.5555555555555556,
             "#d8576b"
            ],
            [
             0.6666666666666666,
             "#ed7953"
            ],
            [
             0.7777777777777778,
             "#fb9f3a"
            ],
            [
             0.8888888888888888,
             "#fdca26"
            ],
            [
             1,
             "#f0f921"
            ]
           ]
          },
          "colorway": [
           "#636efa",
           "#EF553B",
           "#00cc96",
           "#ab63fa",
           "#FFA15A",
           "#19d3f3",
           "#FF6692",
           "#B6E880",
           "#FF97FF",
           "#FECB52"
          ],
          "font": {
           "color": "#2a3f5f"
          },
          "geo": {
           "bgcolor": "white",
           "lakecolor": "white",
           "landcolor": "#E5ECF6",
           "showlakes": true,
           "showland": true,
           "subunitcolor": "white"
          },
          "hoverlabel": {
           "align": "left"
          },
          "hovermode": "closest",
          "mapbox": {
           "style": "light"
          },
          "paper_bgcolor": "white",
          "plot_bgcolor": "#E5ECF6",
          "polar": {
           "angularaxis": {
            "gridcolor": "white",
            "linecolor": "white",
            "ticks": ""
           },
           "bgcolor": "#E5ECF6",
           "radialaxis": {
            "gridcolor": "white",
            "linecolor": "white",
            "ticks": ""
           }
          },
          "scene": {
           "xaxis": {
            "backgroundcolor": "#E5ECF6",
            "gridcolor": "white",
            "gridwidth": 2,
            "linecolor": "white",
            "showbackground": true,
            "ticks": "",
            "zerolinecolor": "white"
           },
           "yaxis": {
            "backgroundcolor": "#E5ECF6",
            "gridcolor": "white",
            "gridwidth": 2,
            "linecolor": "white",
            "showbackground": true,
            "ticks": "",
            "zerolinecolor": "white"
           },
           "zaxis": {
            "backgroundcolor": "#E5ECF6",
            "gridcolor": "white",
            "gridwidth": 2,
            "linecolor": "white",
            "showbackground": true,
            "ticks": "",
            "zerolinecolor": "white"
           }
          },
          "shapedefaults": {
           "line": {
            "color": "#2a3f5f"
           }
          },
          "ternary": {
           "aaxis": {
            "gridcolor": "white",
            "linecolor": "white",
            "ticks": ""
           },
           "baxis": {
            "gridcolor": "white",
            "linecolor": "white",
            "ticks": ""
           },
           "bgcolor": "#E5ECF6",
           "caxis": {
            "gridcolor": "white",
            "linecolor": "white",
            "ticks": ""
           }
          },
          "title": {
           "x": 0.05
          },
          "xaxis": {
           "automargin": true,
           "gridcolor": "white",
           "linecolor": "white",
           "ticks": "",
           "title": {
            "standoff": 15
           },
           "zerolinecolor": "white",
           "zerolinewidth": 2
          },
          "yaxis": {
           "automargin": true,
           "gridcolor": "white",
           "linecolor": "white",
           "ticks": "",
           "title": {
            "standoff": 15
           },
           "zerolinecolor": "white",
           "zerolinewidth": 2
          }
         }
        },
        "title": {
         "font": {
          "color": "#4D5663"
         }
        },
        "xaxis": {
         "gridcolor": "#E1E5ED",
         "showgrid": true,
         "tickfont": {
          "color": "#4D5663"
         },
         "title": {
          "font": {
           "color": "#4D5663"
          },
          "text": ""
         },
         "zerolinecolor": "#E1E5ED"
        },
        "yaxis": {
         "gridcolor": "#E1E5ED",
         "showgrid": true,
         "tickfont": {
          "color": "#4D5663"
         },
         "title": {
          "font": {
           "color": "#4D5663"
          },
          "text": ""
         },
         "zerolinecolor": "#E1E5ED"
        }
       }
      },
      "text/html": [
       "<div>                            <div id=\"42da9754-9376-4231-a095-b6ce1723a8ee\" class=\"plotly-graph-div\" style=\"height:525px; width:100%;\"></div>            <script type=\"text/javascript\">                require([\"plotly\"], function(Plotly) {                    window.PLOTLYENV=window.PLOTLYENV || {};\n",
       "                    window.PLOTLYENV.BASE_URL='https://plot.ly';                                    if (document.getElementById(\"42da9754-9376-4231-a095-b6ce1723a8ee\")) {                    Plotly.newPlot(                        \"42da9754-9376-4231-a095-b6ce1723a8ee\",                        [{\"histfunc\":\"count\",\"histnorm\":\"\",\"marker\":{\"color\":\"rgba(255, 153, 51, 1.0)\",\"line\":{\"color\":\"#4D5663\",\"width\":1.3}},\"name\":\"A\",\"nbinsx\":50,\"opacity\":0.8,\"orientation\":\"v\",\"x\":[-1.5749810496858492,-1.3833793433667436,0.36588075526834546,1.275399849602529,0.5286668747009455,-0.7679032009223029,-0.17831916014732532,-2.257326435988866,0.07658860332702637,1.3567938287358288,0.31894748456236754,-0.33236158300706464,-0.5406260875570553,-0.37195941916552244,-0.3135738744446838,-1.010589752168183,-0.34346062433482266,-2.6744763425885423,0.4240381404822287,0.2885273430894623,0.08427439673144732,-0.23871144244853104,0.25740702376805175,0.40166934404547766,0.8323461834133391,0.380030623534109,0.5572622542561397,-0.6278502285641379,0.3692001447418704,-1.252856435011434,0.9396183305979209,2.197696282685438,-0.6348382801909904,-0.8729626381576087,0.05369217970057937,-0.028905049872739463,-0.12222368961439022,0.00866738492464321,-0.6367143859649672,-1.7133377029111103,0.99536125242314,-1.009122337998362,-1.360458340717226,0.7800896480356647,-0.17532259166702616,0.032736921693968066,-0.029454474920911446,-0.5622728532218199,1.7074440404654854,1.569656559086373,0.4166056558837753,-0.2464947669782788,0.051460325727519976,-0.5140444063570784,-1.4717230819608562,-0.833447655009454,2.062410774351031,0.3301660327167039,-0.5484153848392193,-1.0492195305040761,-1.019093053255773,1.1009944121217843,-1.5833892267026457,1.3222535001686084,-0.6762104727297058,1.1256325176591828,1.4931242561850617,-1.0115610188042432,-0.1710109126477292,0.9683985282675233,-0.2923692307598237,-0.4186511634855657,-0.8697287759682212,-0.09922350097748456,-0.6131434465914425,-0.46546756990307686,-2.371370606691687,-0.011436671066204995,2.3688431617731793,-0.440029376897687,-0.8353927478232571,-1.320643031620411,0.5479177999724679,-1.6851472200935969,-1.105532954107571,-0.7654776138021443,0.1639452575441152,-1.8061852621960486,0.11558384967903741,-2.263510071725915,0.03022567602240936,-1.1359137329317626,0.11757310430053158,0.8152531228518184,-0.03448705506848795,0.6307535692636861,-8.491084491530586e-05,0.9122527063264612,-0.82128369509477,0.6122755731166608],\"type\":\"histogram\"}],                        {\"barmode\":\"overlay\",\"legend\":{\"bgcolor\":\"#F5F6F9\",\"font\":{\"color\":\"#4D5663\"}},\"paper_bgcolor\":\"#F5F6F9\",\"plot_bgcolor\":\"#F5F6F9\",\"template\":{\"data\":{\"barpolar\":[{\"marker\":{\"line\":{\"color\":\"#E5ECF6\",\"width\":0.5},\"pattern\":{\"fillmode\":\"overlay\",\"size\":10,\"solidity\":0.2}},\"type\":\"barpolar\"}],\"bar\":[{\"error_x\":{\"color\":\"#2a3f5f\"},\"error_y\":{\"color\":\"#2a3f5f\"},\"marker\":{\"line\":{\"color\":\"#E5ECF6\",\"width\":0.5},\"pattern\":{\"fillmode\":\"overlay\",\"size\":10,\"solidity\":0.2}},\"type\":\"bar\"}],\"carpet\":[{\"aaxis\":{\"endlinecolor\":\"#2a3f5f\",\"gridcolor\":\"white\",\"linecolor\":\"white\",\"minorgridcolor\":\"white\",\"startlinecolor\":\"#2a3f5f\"},\"baxis\":{\"endlinecolor\":\"#2a3f5f\",\"gridcolor\":\"white\",\"linecolor\":\"white\",\"minorgridcolor\":\"white\",\"startlinecolor\":\"#2a3f5f\"},\"type\":\"carpet\"}],\"choropleth\":[{\"colorbar\":{\"outlinewidth\":0,\"ticks\":\"\"},\"type\":\"choropleth\"}],\"contourcarpet\":[{\"colorbar\":{\"outlinewidth\":0,\"ticks\":\"\"},\"type\":\"contourcarpet\"}],\"contour\":[{\"colorbar\":{\"outlinewidth\":0,\"ticks\":\"\"},\"colorscale\":[[0.0,\"#0d0887\"],[0.1111111111111111,\"#46039f\"],[0.2222222222222222,\"#7201a8\"],[0.3333333333333333,\"#9c179e\"],[0.4444444444444444,\"#bd3786\"],[0.5555555555555556,\"#d8576b\"],[0.6666666666666666,\"#ed7953\"],[0.7777777777777778,\"#fb9f3a\"],[0.8888888888888888,\"#fdca26\"],[1.0,\"#f0f921\"]],\"type\":\"contour\"}],\"heatmapgl\":[{\"colorbar\":{\"outlinewidth\":0,\"ticks\":\"\"},\"colorscale\":[[0.0,\"#0d0887\"],[0.1111111111111111,\"#46039f\"],[0.2222222222222222,\"#7201a8\"],[0.3333333333333333,\"#9c179e\"],[0.4444444444444444,\"#bd3786\"],[0.5555555555555556,\"#d8576b\"],[0.6666666666666666,\"#ed7953\"],[0.7777777777777778,\"#fb9f3a\"],[0.8888888888888888,\"#fdca26\"],[1.0,\"#f0f921\"]],\"type\":\"heatmapgl\"}],\"heatmap\":[{\"colorbar\":{\"outlinewidth\":0,\"ticks\":\"\"},\"colorscale\":[[0.0,\"#0d0887\"],[0.1111111111111111,\"#46039f\"],[0.2222222222222222,\"#7201a8\"],[0.3333333333333333,\"#9c179e\"],[0.4444444444444444,\"#bd3786\"],[0.5555555555555556,\"#d8576b\"],[0.6666666666666666,\"#ed7953\"],[0.7777777777777778,\"#fb9f3a\"],[0.8888888888888888,\"#fdca26\"],[1.0,\"#f0f921\"]],\"type\":\"heatmap\"}],\"histogram2dcontour\":[{\"colorbar\":{\"outlinewidth\":0,\"ticks\":\"\"},\"colorscale\":[[0.0,\"#0d0887\"],[0.1111111111111111,\"#46039f\"],[0.2222222222222222,\"#7201a8\"],[0.3333333333333333,\"#9c179e\"],[0.4444444444444444,\"#bd3786\"],[0.5555555555555556,\"#d8576b\"],[0.6666666666666666,\"#ed7953\"],[0.7777777777777778,\"#fb9f3a\"],[0.8888888888888888,\"#fdca26\"],[1.0,\"#f0f921\"]],\"type\":\"histogram2dcontour\"}],\"histogram2d\":[{\"colorbar\":{\"outlinewidth\":0,\"ticks\":\"\"},\"colorscale\":[[0.0,\"#0d0887\"],[0.1111111111111111,\"#46039f\"],[0.2222222222222222,\"#7201a8\"],[0.3333333333333333,\"#9c179e\"],[0.4444444444444444,\"#bd3786\"],[0.5555555555555556,\"#d8576b\"],[0.6666666666666666,\"#ed7953\"],[0.7777777777777778,\"#fb9f3a\"],[0.8888888888888888,\"#fdca26\"],[1.0,\"#f0f921\"]],\"type\":\"histogram2d\"}],\"histogram\":[{\"marker\":{\"pattern\":{\"fillmode\":\"overlay\",\"size\":10,\"solidity\":0.2}},\"type\":\"histogram\"}],\"mesh3d\":[{\"colorbar\":{\"outlinewidth\":0,\"ticks\":\"\"},\"type\":\"mesh3d\"}],\"parcoords\":[{\"line\":{\"colorbar\":{\"outlinewidth\":0,\"ticks\":\"\"}},\"type\":\"parcoords\"}],\"pie\":[{\"automargin\":true,\"type\":\"pie\"}],\"scatter3d\":[{\"line\":{\"colorbar\":{\"outlinewidth\":0,\"ticks\":\"\"}},\"marker\":{\"colorbar\":{\"outlinewidth\":0,\"ticks\":\"\"}},\"type\":\"scatter3d\"}],\"scattercarpet\":[{\"marker\":{\"colorbar\":{\"outlinewidth\":0,\"ticks\":\"\"}},\"type\":\"scattercarpet\"}],\"scattergeo\":[{\"marker\":{\"colorbar\":{\"outlinewidth\":0,\"ticks\":\"\"}},\"type\":\"scattergeo\"}],\"scattergl\":[{\"marker\":{\"colorbar\":{\"outlinewidth\":0,\"ticks\":\"\"}},\"type\":\"scattergl\"}],\"scattermapbox\":[{\"marker\":{\"colorbar\":{\"outlinewidth\":0,\"ticks\":\"\"}},\"type\":\"scattermapbox\"}],\"scatterpolargl\":[{\"marker\":{\"colorbar\":{\"outlinewidth\":0,\"ticks\":\"\"}},\"type\":\"scatterpolargl\"}],\"scatterpolar\":[{\"marker\":{\"colorbar\":{\"outlinewidth\":0,\"ticks\":\"\"}},\"type\":\"scatterpolar\"}],\"scatter\":[{\"fillpattern\":{\"fillmode\":\"overlay\",\"size\":10,\"solidity\":0.2},\"type\":\"scatter\"}],\"scatterternary\":[{\"marker\":{\"colorbar\":{\"outlinewidth\":0,\"ticks\":\"\"}},\"type\":\"scatterternary\"}],\"surface\":[{\"colorbar\":{\"outlinewidth\":0,\"ticks\":\"\"},\"colorscale\":[[0.0,\"#0d0887\"],[0.1111111111111111,\"#46039f\"],[0.2222222222222222,\"#7201a8\"],[0.3333333333333333,\"#9c179e\"],[0.4444444444444444,\"#bd3786\"],[0.5555555555555556,\"#d8576b\"],[0.6666666666666666,\"#ed7953\"],[0.7777777777777778,\"#fb9f3a\"],[0.8888888888888888,\"#fdca26\"],[1.0,\"#f0f921\"]],\"type\":\"surface\"}],\"table\":[{\"cells\":{\"fill\":{\"color\":\"#EBF0F8\"},\"line\":{\"color\":\"white\"}},\"header\":{\"fill\":{\"color\":\"#C8D4E3\"},\"line\":{\"color\":\"white\"}},\"type\":\"table\"}]},\"layout\":{\"annotationdefaults\":{\"arrowcolor\":\"#2a3f5f\",\"arrowhead\":0,\"arrowwidth\":1},\"autotypenumbers\":\"strict\",\"coloraxis\":{\"colorbar\":{\"outlinewidth\":0,\"ticks\":\"\"}},\"colorscale\":{\"diverging\":[[0,\"#8e0152\"],[0.1,\"#c51b7d\"],[0.2,\"#de77ae\"],[0.3,\"#f1b6da\"],[0.4,\"#fde0ef\"],[0.5,\"#f7f7f7\"],[0.6,\"#e6f5d0\"],[0.7,\"#b8e186\"],[0.8,\"#7fbc41\"],[0.9,\"#4d9221\"],[1,\"#276419\"]],\"sequential\":[[0.0,\"#0d0887\"],[0.1111111111111111,\"#46039f\"],[0.2222222222222222,\"#7201a8\"],[0.3333333333333333,\"#9c179e\"],[0.4444444444444444,\"#bd3786\"],[0.5555555555555556,\"#d8576b\"],[0.6666666666666666,\"#ed7953\"],[0.7777777777777778,\"#fb9f3a\"],[0.8888888888888888,\"#fdca26\"],[1.0,\"#f0f921\"]],\"sequentialminus\":[[0.0,\"#0d0887\"],[0.1111111111111111,\"#46039f\"],[0.2222222222222222,\"#7201a8\"],[0.3333333333333333,\"#9c179e\"],[0.4444444444444444,\"#bd3786\"],[0.5555555555555556,\"#d8576b\"],[0.6666666666666666,\"#ed7953\"],[0.7777777777777778,\"#fb9f3a\"],[0.8888888888888888,\"#fdca26\"],[1.0,\"#f0f921\"]]},\"colorway\":[\"#636efa\",\"#EF553B\",\"#00cc96\",\"#ab63fa\",\"#FFA15A\",\"#19d3f3\",\"#FF6692\",\"#B6E880\",\"#FF97FF\",\"#FECB52\"],\"font\":{\"color\":\"#2a3f5f\"},\"geo\":{\"bgcolor\":\"white\",\"lakecolor\":\"white\",\"landcolor\":\"#E5ECF6\",\"showlakes\":true,\"showland\":true,\"subunitcolor\":\"white\"},\"hoverlabel\":{\"align\":\"left\"},\"hovermode\":\"closest\",\"mapbox\":{\"style\":\"light\"},\"paper_bgcolor\":\"white\",\"plot_bgcolor\":\"#E5ECF6\",\"polar\":{\"angularaxis\":{\"gridcolor\":\"white\",\"linecolor\":\"white\",\"ticks\":\"\"},\"bgcolor\":\"#E5ECF6\",\"radialaxis\":{\"gridcolor\":\"white\",\"linecolor\":\"white\",\"ticks\":\"\"}},\"scene\":{\"xaxis\":{\"backgroundcolor\":\"#E5ECF6\",\"gridcolor\":\"white\",\"gridwidth\":2,\"linecolor\":\"white\",\"showbackground\":true,\"ticks\":\"\",\"zerolinecolor\":\"white\"},\"yaxis\":{\"backgroundcolor\":\"#E5ECF6\",\"gridcolor\":\"white\",\"gridwidth\":2,\"linecolor\":\"white\",\"showbackground\":true,\"ticks\":\"\",\"zerolinecolor\":\"white\"},\"zaxis\":{\"backgroundcolor\":\"#E5ECF6\",\"gridcolor\":\"white\",\"gridwidth\":2,\"linecolor\":\"white\",\"showbackground\":true,\"ticks\":\"\",\"zerolinecolor\":\"white\"}},\"shapedefaults\":{\"line\":{\"color\":\"#2a3f5f\"}},\"ternary\":{\"aaxis\":{\"gridcolor\":\"white\",\"linecolor\":\"white\",\"ticks\":\"\"},\"baxis\":{\"gridcolor\":\"white\",\"linecolor\":\"white\",\"ticks\":\"\"},\"bgcolor\":\"#E5ECF6\",\"caxis\":{\"gridcolor\":\"white\",\"linecolor\":\"white\",\"ticks\":\"\"}},\"title\":{\"x\":0.05},\"xaxis\":{\"automargin\":true,\"gridcolor\":\"white\",\"linecolor\":\"white\",\"ticks\":\"\",\"title\":{\"standoff\":15},\"zerolinecolor\":\"white\",\"zerolinewidth\":2},\"yaxis\":{\"automargin\":true,\"gridcolor\":\"white\",\"linecolor\":\"white\",\"ticks\":\"\",\"title\":{\"standoff\":15},\"zerolinecolor\":\"white\",\"zerolinewidth\":2}}},\"title\":{\"font\":{\"color\":\"#4D5663\"}},\"xaxis\":{\"gridcolor\":\"#E1E5ED\",\"showgrid\":true,\"tickfont\":{\"color\":\"#4D5663\"},\"title\":{\"font\":{\"color\":\"#4D5663\"},\"text\":\"\"},\"zerolinecolor\":\"#E1E5ED\"},\"yaxis\":{\"gridcolor\":\"#E1E5ED\",\"showgrid\":true,\"tickfont\":{\"color\":\"#4D5663\"},\"title\":{\"font\":{\"color\":\"#4D5663\"},\"text\":\"\"},\"zerolinecolor\":\"#E1E5ED\"}},                        {\"showLink\": true, \"linkText\": \"Export to plot.ly\", \"plotlyServerURL\": \"https://plot.ly\", \"responsive\": true}                    ).then(function(){\n",
       "                            \n",
       "var gd = document.getElementById('42da9754-9376-4231-a095-b6ce1723a8ee');\n",
       "var x = new MutationObserver(function (mutations, observer) {{\n",
       "        var display = window.getComputedStyle(gd).display;\n",
       "        if (!display || display === 'none') {{\n",
       "            console.log([gd, 'removed!']);\n",
       "            Plotly.purge(gd);\n",
       "            observer.disconnect();\n",
       "        }}\n",
       "}});\n",
       "\n",
       "// Listen for the removal of the full notebook cells\n",
       "var notebookContainer = gd.closest('#notebook-container');\n",
       "if (notebookContainer) {{\n",
       "    x.observe(notebookContainer, {childList: true});\n",
       "}}\n",
       "\n",
       "// Listen for the clearing of the current output cell\n",
       "var outputEl = gd.closest('.output');\n",
       "if (outputEl) {{\n",
       "    x.observe(outputEl, {childList: true});\n",
       "}}\n",
       "\n",
       "                        })                };                });            </script>        </div>"
      ]
     },
     "metadata": {},
     "output_type": "display_data"
    }
   ],
   "source": [
    "df[\"A\"].iplot(kind=\"hist\", bins=50)"
   ]
  },
  {
   "cell_type": "code",
   "execution_count": 32,
   "id": "ed7bde07",
   "metadata": {},
   "outputs": [
    {
     "data": {
      "application/vnd.plotly.v1+json": {
       "config": {
        "linkText": "Export to plot.ly",
        "plotlyServerURL": "https://plot.ly",
        "showLink": true
       },
       "data": [
        {
         "marker": {
          "color": [
           "rgb(255, 153, 51)",
           "rgb(55, 128, 191)",
           "rgb(50, 171, 96)",
           "rgb(128, 0, 128)",
           "rgb(219, 64, 82)",
           "rgb(0, 128, 128)",
           "rgb(255, 255, 51)",
           "rgb(128, 128, 0)",
           "rgb(251, 128, 114)",
           "rgb(128, 177, 211)"
          ],
          "line": {
           "width": 1.3
          },
          "size": [
           85,
           73,
           81,
           105,
           42,
           64,
           55,
           50,
           79,
           82,
           49,
           36,
           81,
           62,
           99,
           28,
           69,
           24,
           84,
           61,
           90,
           59,
           68,
           75,
           43,
           68,
           73,
           56,
           78,
           79,
           71,
           73,
           56,
           36,
           39,
           79,
           41,
           83,
           40,
           84,
           21,
           71,
           32,
           37,
           54,
           37,
           81,
           79,
           54,
           28,
           64,
           35,
           112,
           67,
           21,
           53,
           34,
           36,
           82,
           58,
           88,
           61,
           67,
           12,
           37,
           78,
           52,
           97,
           91,
           76,
           55,
           78,
           66,
           66,
           80,
           70,
           81,
           67,
           28,
           81,
           53,
           25,
           65,
           83,
           54,
           47,
           48,
           57,
           74,
           58,
           59,
           64,
           59,
           35,
           65,
           77,
           54,
           96,
           54,
           70
          ],
          "symbol": "circle"
         },
         "mode": "markers",
         "text": "",
         "type": "scatter",
         "x": [
          -1.5749810496858492,
          -1.3833793433667436,
          0.36588075526834546,
          1.275399849602529,
          0.5286668747009455,
          -0.7679032009223029,
          -0.17831916014732532,
          -2.257326435988866,
          0.07658860332702637,
          1.3567938287358288,
          0.31894748456236754,
          -0.33236158300706464,
          -0.5406260875570553,
          -0.37195941916552244,
          -0.3135738744446838,
          -1.010589752168183,
          -0.34346062433482266,
          -2.6744763425885423,
          0.4240381404822287,
          0.2885273430894623,
          0.08427439673144732,
          -0.23871144244853104,
          0.25740702376805175,
          0.40166934404547766,
          0.8323461834133391,
          0.380030623534109,
          0.5572622542561397,
          -0.6278502285641379,
          0.3692001447418704,
          -1.252856435011434,
          0.9396183305979209,
          2.197696282685438,
          -0.6348382801909904,
          -0.8729626381576087,
          0.05369217970057937,
          -0.028905049872739463,
          -0.12222368961439022,
          0.00866738492464321,
          -0.6367143859649672,
          -1.7133377029111103,
          0.99536125242314,
          -1.009122337998362,
          -1.360458340717226,
          0.7800896480356647,
          -0.17532259166702616,
          0.032736921693968066,
          -0.029454474920911446,
          -0.5622728532218199,
          1.7074440404654854,
          1.569656559086373,
          0.4166056558837753,
          -0.2464947669782788,
          0.051460325727519976,
          -0.5140444063570784,
          -1.4717230819608562,
          -0.833447655009454,
          2.062410774351031,
          0.3301660327167039,
          -0.5484153848392193,
          -1.0492195305040761,
          -1.019093053255773,
          1.1009944121217843,
          -1.5833892267026457,
          1.3222535001686084,
          -0.6762104727297058,
          1.1256325176591828,
          1.4931242561850617,
          -1.0115610188042432,
          -0.1710109126477292,
          0.9683985282675233,
          -0.2923692307598237,
          -0.4186511634855657,
          -0.8697287759682212,
          -0.09922350097748456,
          -0.6131434465914425,
          -0.46546756990307686,
          -2.371370606691687,
          -0.011436671066204995,
          2.3688431617731793,
          -0.440029376897687,
          -0.8353927478232571,
          -1.320643031620411,
          0.5479177999724679,
          -1.6851472200935969,
          -1.105532954107571,
          -0.7654776138021443,
          0.1639452575441152,
          -1.8061852621960486,
          0.11558384967903741,
          -2.263510071725915,
          0.03022567602240936,
          -1.1359137329317626,
          0.11757310430053158,
          0.8152531228518184,
          -0.03448705506848795,
          0.6307535692636861,
          -8.491084491530586e-05,
          0.9122527063264612,
          -0.82128369509477,
          0.6122755731166608
         ],
         "y": [
          0.39642477413478533,
          0.3017979791106031,
          -0.8683082254335007,
          0.20904761546820905,
          -1.0151385494413272,
          1.726459441137804,
          -0.915985971357377,
          1.0086740707482478,
          -1.3541085530315435,
          -0.29751376435345445,
          -0.9677119092995604,
          0.81640449993328,
          -0.31681896091569794,
          0.376691603872416,
          0.0955435591329955,
          0.3059302882053221,
          -0.40763287280287025,
          1.6209528853068607,
          -0.22050739262858718,
          1.2407691032730783,
          0.1636563461364261,
          0.11613750655239334,
          1.6532965922404759,
          -0.18031837018080812,
          -0.6598102231330875,
          1.7173440288843729,
          -0.6034913988882491,
          0.700172084595978,
          -0.8655937280498989,
          -0.07072219995759044,
          0.7252338637157283,
          1.6896643478428925,
          -1.9985550678721204,
          -1.288494222801579,
          -1.7568974963426904,
          1.19706327798354,
          -0.31731491298793957,
          1.5395547666939289,
          -0.014035010368598758,
          0.9050425509127696,
          0.8009389257192039,
          -0.08302009201298892,
          0.8171531869793346,
          -0.7938970281830412,
          0.06748229716032612,
          -0.25163340525469363,
          0.4501082789510372,
          0.7042743375651448,
          1.5786258826783846,
          0.4361285619666368,
          1.7486171274308304,
          0.867738412173522,
          0.2514370572602232,
          0.36820210750981897,
          0.45772091125516895,
          -1.2408746566028792,
          -0.6509170915331346,
          -1.8598649448554383,
          1.6667421329016379,
          0.881305758258542,
          0.2701389057885898,
          -0.0347324992409485,
          -1.1756209977978531,
          -0.9846172568564603,
          1.2800801685401286,
          -0.23730438169687665,
          1.012922776234193,
          -0.33041307438517004,
          -2.085051844871717,
          -0.9745502845039695,
          -0.5536617857028113,
          -0.590771338993367,
          -1.0698252162427944,
          0.6190627854938642,
          -0.8881704812612123,
          1.431363113773757,
          -0.007321763388780562,
          -1.92843803713575,
          -0.32707220180344077,
          -0.3061031816927142,
          0.2824028569969956,
          -0.5216603317192834,
          0.42177798337842715,
          0.8755835168934673,
          -1.5346115372015554,
          -0.18422379387988802,
          0.6494656673048684,
          0.9072613951453106,
          0.228171593180147,
          -0.2746116506540319,
          -0.028169419102425697,
          -0.42787317529700586,
          -1.3357558834404946,
          -0.790647659605685,
          -0.029415709062188093,
          0.1799045576781755,
          0.9522344570155521,
          -0.5184755826628655,
          1.1836484340050315,
          0.9778129395793809
         ]
        }
       ],
       "layout": {
        "legend": {
         "bgcolor": "#F5F6F9",
         "font": {
          "color": "#4D5663"
         }
        },
        "paper_bgcolor": "#F5F6F9",
        "plot_bgcolor": "#F5F6F9",
        "template": {
         "data": {
          "bar": [
           {
            "error_x": {
             "color": "#2a3f5f"
            },
            "error_y": {
             "color": "#2a3f5f"
            },
            "marker": {
             "line": {
              "color": "#E5ECF6",
              "width": 0.5
             },
             "pattern": {
              "fillmode": "overlay",
              "size": 10,
              "solidity": 0.2
             }
            },
            "type": "bar"
           }
          ],
          "barpolar": [
           {
            "marker": {
             "line": {
              "color": "#E5ECF6",
              "width": 0.5
             },
             "pattern": {
              "fillmode": "overlay",
              "size": 10,
              "solidity": 0.2
             }
            },
            "type": "barpolar"
           }
          ],
          "carpet": [
           {
            "aaxis": {
             "endlinecolor": "#2a3f5f",
             "gridcolor": "white",
             "linecolor": "white",
             "minorgridcolor": "white",
             "startlinecolor": "#2a3f5f"
            },
            "baxis": {
             "endlinecolor": "#2a3f5f",
             "gridcolor": "white",
             "linecolor": "white",
             "minorgridcolor": "white",
             "startlinecolor": "#2a3f5f"
            },
            "type": "carpet"
           }
          ],
          "choropleth": [
           {
            "colorbar": {
             "outlinewidth": 0,
             "ticks": ""
            },
            "type": "choropleth"
           }
          ],
          "contour": [
           {
            "colorbar": {
             "outlinewidth": 0,
             "ticks": ""
            },
            "colorscale": [
             [
              0,
              "#0d0887"
             ],
             [
              0.1111111111111111,
              "#46039f"
             ],
             [
              0.2222222222222222,
              "#7201a8"
             ],
             [
              0.3333333333333333,
              "#9c179e"
             ],
             [
              0.4444444444444444,
              "#bd3786"
             ],
             [
              0.5555555555555556,
              "#d8576b"
             ],
             [
              0.6666666666666666,
              "#ed7953"
             ],
             [
              0.7777777777777778,
              "#fb9f3a"
             ],
             [
              0.8888888888888888,
              "#fdca26"
             ],
             [
              1,
              "#f0f921"
             ]
            ],
            "type": "contour"
           }
          ],
          "contourcarpet": [
           {
            "colorbar": {
             "outlinewidth": 0,
             "ticks": ""
            },
            "type": "contourcarpet"
           }
          ],
          "heatmap": [
           {
            "colorbar": {
             "outlinewidth": 0,
             "ticks": ""
            },
            "colorscale": [
             [
              0,
              "#0d0887"
             ],
             [
              0.1111111111111111,
              "#46039f"
             ],
             [
              0.2222222222222222,
              "#7201a8"
             ],
             [
              0.3333333333333333,
              "#9c179e"
             ],
             [
              0.4444444444444444,
              "#bd3786"
             ],
             [
              0.5555555555555556,
              "#d8576b"
             ],
             [
              0.6666666666666666,
              "#ed7953"
             ],
             [
              0.7777777777777778,
              "#fb9f3a"
             ],
             [
              0.8888888888888888,
              "#fdca26"
             ],
             [
              1,
              "#f0f921"
             ]
            ],
            "type": "heatmap"
           }
          ],
          "heatmapgl": [
           {
            "colorbar": {
             "outlinewidth": 0,
             "ticks": ""
            },
            "colorscale": [
             [
              0,
              "#0d0887"
             ],
             [
              0.1111111111111111,
              "#46039f"
             ],
             [
              0.2222222222222222,
              "#7201a8"
             ],
             [
              0.3333333333333333,
              "#9c179e"
             ],
             [
              0.4444444444444444,
              "#bd3786"
             ],
             [
              0.5555555555555556,
              "#d8576b"
             ],
             [
              0.6666666666666666,
              "#ed7953"
             ],
             [
              0.7777777777777778,
              "#fb9f3a"
             ],
             [
              0.8888888888888888,
              "#fdca26"
             ],
             [
              1,
              "#f0f921"
             ]
            ],
            "type": "heatmapgl"
           }
          ],
          "histogram": [
           {
            "marker": {
             "pattern": {
              "fillmode": "overlay",
              "size": 10,
              "solidity": 0.2
             }
            },
            "type": "histogram"
           }
          ],
          "histogram2d": [
           {
            "colorbar": {
             "outlinewidth": 0,
             "ticks": ""
            },
            "colorscale": [
             [
              0,
              "#0d0887"
             ],
             [
              0.1111111111111111,
              "#46039f"
             ],
             [
              0.2222222222222222,
              "#7201a8"
             ],
             [
              0.3333333333333333,
              "#9c179e"
             ],
             [
              0.4444444444444444,
              "#bd3786"
             ],
             [
              0.5555555555555556,
              "#d8576b"
             ],
             [
              0.6666666666666666,
              "#ed7953"
             ],
             [
              0.7777777777777778,
              "#fb9f3a"
             ],
             [
              0.8888888888888888,
              "#fdca26"
             ],
             [
              1,
              "#f0f921"
             ]
            ],
            "type": "histogram2d"
           }
          ],
          "histogram2dcontour": [
           {
            "colorbar": {
             "outlinewidth": 0,
             "ticks": ""
            },
            "colorscale": [
             [
              0,
              "#0d0887"
             ],
             [
              0.1111111111111111,
              "#46039f"
             ],
             [
              0.2222222222222222,
              "#7201a8"
             ],
             [
              0.3333333333333333,
              "#9c179e"
             ],
             [
              0.4444444444444444,
              "#bd3786"
             ],
             [
              0.5555555555555556,
              "#d8576b"
             ],
             [
              0.6666666666666666,
              "#ed7953"
             ],
             [
              0.7777777777777778,
              "#fb9f3a"
             ],
             [
              0.8888888888888888,
              "#fdca26"
             ],
             [
              1,
              "#f0f921"
             ]
            ],
            "type": "histogram2dcontour"
           }
          ],
          "mesh3d": [
           {
            "colorbar": {
             "outlinewidth": 0,
             "ticks": ""
            },
            "type": "mesh3d"
           }
          ],
          "parcoords": [
           {
            "line": {
             "colorbar": {
              "outlinewidth": 0,
              "ticks": ""
             }
            },
            "type": "parcoords"
           }
          ],
          "pie": [
           {
            "automargin": true,
            "type": "pie"
           }
          ],
          "scatter": [
           {
            "fillpattern": {
             "fillmode": "overlay",
             "size": 10,
             "solidity": 0.2
            },
            "type": "scatter"
           }
          ],
          "scatter3d": [
           {
            "line": {
             "colorbar": {
              "outlinewidth": 0,
              "ticks": ""
             }
            },
            "marker": {
             "colorbar": {
              "outlinewidth": 0,
              "ticks": ""
             }
            },
            "type": "scatter3d"
           }
          ],
          "scattercarpet": [
           {
            "marker": {
             "colorbar": {
              "outlinewidth": 0,
              "ticks": ""
             }
            },
            "type": "scattercarpet"
           }
          ],
          "scattergeo": [
           {
            "marker": {
             "colorbar": {
              "outlinewidth": 0,
              "ticks": ""
             }
            },
            "type": "scattergeo"
           }
          ],
          "scattergl": [
           {
            "marker": {
             "colorbar": {
              "outlinewidth": 0,
              "ticks": ""
             }
            },
            "type": "scattergl"
           }
          ],
          "scattermapbox": [
           {
            "marker": {
             "colorbar": {
              "outlinewidth": 0,
              "ticks": ""
             }
            },
            "type": "scattermapbox"
           }
          ],
          "scatterpolar": [
           {
            "marker": {
             "colorbar": {
              "outlinewidth": 0,
              "ticks": ""
             }
            },
            "type": "scatterpolar"
           }
          ],
          "scatterpolargl": [
           {
            "marker": {
             "colorbar": {
              "outlinewidth": 0,
              "ticks": ""
             }
            },
            "type": "scatterpolargl"
           }
          ],
          "scatterternary": [
           {
            "marker": {
             "colorbar": {
              "outlinewidth": 0,
              "ticks": ""
             }
            },
            "type": "scatterternary"
           }
          ],
          "surface": [
           {
            "colorbar": {
             "outlinewidth": 0,
             "ticks": ""
            },
            "colorscale": [
             [
              0,
              "#0d0887"
             ],
             [
              0.1111111111111111,
              "#46039f"
             ],
             [
              0.2222222222222222,
              "#7201a8"
             ],
             [
              0.3333333333333333,
              "#9c179e"
             ],
             [
              0.4444444444444444,
              "#bd3786"
             ],
             [
              0.5555555555555556,
              "#d8576b"
             ],
             [
              0.6666666666666666,
              "#ed7953"
             ],
             [
              0.7777777777777778,
              "#fb9f3a"
             ],
             [
              0.8888888888888888,
              "#fdca26"
             ],
             [
              1,
              "#f0f921"
             ]
            ],
            "type": "surface"
           }
          ],
          "table": [
           {
            "cells": {
             "fill": {
              "color": "#EBF0F8"
             },
             "line": {
              "color": "white"
             }
            },
            "header": {
             "fill": {
              "color": "#C8D4E3"
             },
             "line": {
              "color": "white"
             }
            },
            "type": "table"
           }
          ]
         },
         "layout": {
          "annotationdefaults": {
           "arrowcolor": "#2a3f5f",
           "arrowhead": 0,
           "arrowwidth": 1
          },
          "autotypenumbers": "strict",
          "coloraxis": {
           "colorbar": {
            "outlinewidth": 0,
            "ticks": ""
           }
          },
          "colorscale": {
           "diverging": [
            [
             0,
             "#8e0152"
            ],
            [
             0.1,
             "#c51b7d"
            ],
            [
             0.2,
             "#de77ae"
            ],
            [
             0.3,
             "#f1b6da"
            ],
            [
             0.4,
             "#fde0ef"
            ],
            [
             0.5,
             "#f7f7f7"
            ],
            [
             0.6,
             "#e6f5d0"
            ],
            [
             0.7,
             "#b8e186"
            ],
            [
             0.8,
             "#7fbc41"
            ],
            [
             0.9,
             "#4d9221"
            ],
            [
             1,
             "#276419"
            ]
           ],
           "sequential": [
            [
             0,
             "#0d0887"
            ],
            [
             0.1111111111111111,
             "#46039f"
            ],
            [
             0.2222222222222222,
             "#7201a8"
            ],
            [
             0.3333333333333333,
             "#9c179e"
            ],
            [
             0.4444444444444444,
             "#bd3786"
            ],
            [
             0.5555555555555556,
             "#d8576b"
            ],
            [
             0.6666666666666666,
             "#ed7953"
            ],
            [
             0.7777777777777778,
             "#fb9f3a"
            ],
            [
             0.8888888888888888,
             "#fdca26"
            ],
            [
             1,
             "#f0f921"
            ]
           ],
           "sequentialminus": [
            [
             0,
             "#0d0887"
            ],
            [
             0.1111111111111111,
             "#46039f"
            ],
            [
             0.2222222222222222,
             "#7201a8"
            ],
            [
             0.3333333333333333,
             "#9c179e"
            ],
            [
             0.4444444444444444,
             "#bd3786"
            ],
            [
             0.5555555555555556,
             "#d8576b"
            ],
            [
             0.6666666666666666,
             "#ed7953"
            ],
            [
             0.7777777777777778,
             "#fb9f3a"
            ],
            [
             0.8888888888888888,
             "#fdca26"
            ],
            [
             1,
             "#f0f921"
            ]
           ]
          },
          "colorway": [
           "#636efa",
           "#EF553B",
           "#00cc96",
           "#ab63fa",
           "#FFA15A",
           "#19d3f3",
           "#FF6692",
           "#B6E880",
           "#FF97FF",
           "#FECB52"
          ],
          "font": {
           "color": "#2a3f5f"
          },
          "geo": {
           "bgcolor": "white",
           "lakecolor": "white",
           "landcolor": "#E5ECF6",
           "showlakes": true,
           "showland": true,
           "subunitcolor": "white"
          },
          "hoverlabel": {
           "align": "left"
          },
          "hovermode": "closest",
          "mapbox": {
           "style": "light"
          },
          "paper_bgcolor": "white",
          "plot_bgcolor": "#E5ECF6",
          "polar": {
           "angularaxis": {
            "gridcolor": "white",
            "linecolor": "white",
            "ticks": ""
           },
           "bgcolor": "#E5ECF6",
           "radialaxis": {
            "gridcolor": "white",
            "linecolor": "white",
            "ticks": ""
           }
          },
          "scene": {
           "xaxis": {
            "backgroundcolor": "#E5ECF6",
            "gridcolor": "white",
            "gridwidth": 2,
            "linecolor": "white",
            "showbackground": true,
            "ticks": "",
            "zerolinecolor": "white"
           },
           "yaxis": {
            "backgroundcolor": "#E5ECF6",
            "gridcolor": "white",
            "gridwidth": 2,
            "linecolor": "white",
            "showbackground": true,
            "ticks": "",
            "zerolinecolor": "white"
           },
           "zaxis": {
            "backgroundcolor": "#E5ECF6",
            "gridcolor": "white",
            "gridwidth": 2,
            "linecolor": "white",
            "showbackground": true,
            "ticks": "",
            "zerolinecolor": "white"
           }
          },
          "shapedefaults": {
           "line": {
            "color": "#2a3f5f"
           }
          },
          "ternary": {
           "aaxis": {
            "gridcolor": "white",
            "linecolor": "white",
            "ticks": ""
           },
           "baxis": {
            "gridcolor": "white",
            "linecolor": "white",
            "ticks": ""
           },
           "bgcolor": "#E5ECF6",
           "caxis": {
            "gridcolor": "white",
            "linecolor": "white",
            "ticks": ""
           }
          },
          "title": {
           "x": 0.05
          },
          "xaxis": {
           "automargin": true,
           "gridcolor": "white",
           "linecolor": "white",
           "ticks": "",
           "title": {
            "standoff": 15
           },
           "zerolinecolor": "white",
           "zerolinewidth": 2
          },
          "yaxis": {
           "automargin": true,
           "gridcolor": "white",
           "linecolor": "white",
           "ticks": "",
           "title": {
            "standoff": 15
           },
           "zerolinecolor": "white",
           "zerolinewidth": 2
          }
         }
        },
        "title": {
         "font": {
          "color": "#4D5663"
         }
        },
        "xaxis": {
         "gridcolor": "#E1E5ED",
         "showgrid": true,
         "tickfont": {
          "color": "#4D5663"
         },
         "title": {
          "font": {
           "color": "#4D5663"
          },
          "text": ""
         },
         "zerolinecolor": "#E1E5ED"
        },
        "yaxis": {
         "gridcolor": "#E1E5ED",
         "showgrid": true,
         "tickfont": {
          "color": "#4D5663"
         },
         "title": {
          "font": {
           "color": "#4D5663"
          },
          "text": ""
         },
         "zerolinecolor": "#E1E5ED"
        }
       }
      },
      "text/html": [
       "<div>                            <div id=\"8c2f1154-4185-41e8-95fd-87c163ada135\" class=\"plotly-graph-div\" style=\"height:525px; width:100%;\"></div>            <script type=\"text/javascript\">                require([\"plotly\"], function(Plotly) {                    window.PLOTLYENV=window.PLOTLYENV || {};\n",
       "                    window.PLOTLYENV.BASE_URL='https://plot.ly';                                    if (document.getElementById(\"8c2f1154-4185-41e8-95fd-87c163ada135\")) {                    Plotly.newPlot(                        \"8c2f1154-4185-41e8-95fd-87c163ada135\",                        [{\"marker\":{\"color\":[\"rgb(255, 153, 51)\",\"rgb(55, 128, 191)\",\"rgb(50, 171, 96)\",\"rgb(128, 0, 128)\",\"rgb(219, 64, 82)\",\"rgb(0, 128, 128)\",\"rgb(255, 255, 51)\",\"rgb(128, 128, 0)\",\"rgb(251, 128, 114)\",\"rgb(128, 177, 211)\"],\"line\":{\"width\":1.3},\"size\":[85,73,81,105,42,64,55,50,79,82,49,36,81,62,99,28,69,24,84,61,90,59,68,75,43,68,73,56,78,79,71,73,56,36,39,79,41,83,40,84,21,71,32,37,54,37,81,79,54,28,64,35,112,67,21,53,34,36,82,58,88,61,67,12,37,78,52,97,91,76,55,78,66,66,80,70,81,67,28,81,53,25,65,83,54,47,48,57,74,58,59,64,59,35,65,77,54,96,54,70],\"symbol\":\"circle\"},\"mode\":\"markers\",\"text\":\"\",\"x\":[-1.5749810496858492,-1.3833793433667436,0.36588075526834546,1.275399849602529,0.5286668747009455,-0.7679032009223029,-0.17831916014732532,-2.257326435988866,0.07658860332702637,1.3567938287358288,0.31894748456236754,-0.33236158300706464,-0.5406260875570553,-0.37195941916552244,-0.3135738744446838,-1.010589752168183,-0.34346062433482266,-2.6744763425885423,0.4240381404822287,0.2885273430894623,0.08427439673144732,-0.23871144244853104,0.25740702376805175,0.40166934404547766,0.8323461834133391,0.380030623534109,0.5572622542561397,-0.6278502285641379,0.3692001447418704,-1.252856435011434,0.9396183305979209,2.197696282685438,-0.6348382801909904,-0.8729626381576087,0.05369217970057937,-0.028905049872739463,-0.12222368961439022,0.00866738492464321,-0.6367143859649672,-1.7133377029111103,0.99536125242314,-1.009122337998362,-1.360458340717226,0.7800896480356647,-0.17532259166702616,0.032736921693968066,-0.029454474920911446,-0.5622728532218199,1.7074440404654854,1.569656559086373,0.4166056558837753,-0.2464947669782788,0.051460325727519976,-0.5140444063570784,-1.4717230819608562,-0.833447655009454,2.062410774351031,0.3301660327167039,-0.5484153848392193,-1.0492195305040761,-1.019093053255773,1.1009944121217843,-1.5833892267026457,1.3222535001686084,-0.6762104727297058,1.1256325176591828,1.4931242561850617,-1.0115610188042432,-0.1710109126477292,0.9683985282675233,-0.2923692307598237,-0.4186511634855657,-0.8697287759682212,-0.09922350097748456,-0.6131434465914425,-0.46546756990307686,-2.371370606691687,-0.011436671066204995,2.3688431617731793,-0.440029376897687,-0.8353927478232571,-1.320643031620411,0.5479177999724679,-1.6851472200935969,-1.105532954107571,-0.7654776138021443,0.1639452575441152,-1.8061852621960486,0.11558384967903741,-2.263510071725915,0.03022567602240936,-1.1359137329317626,0.11757310430053158,0.8152531228518184,-0.03448705506848795,0.6307535692636861,-8.491084491530586e-05,0.9122527063264612,-0.82128369509477,0.6122755731166608],\"y\":[0.39642477413478533,0.3017979791106031,-0.8683082254335007,0.20904761546820905,-1.0151385494413272,1.726459441137804,-0.915985971357377,1.0086740707482478,-1.3541085530315435,-0.29751376435345445,-0.9677119092995604,0.81640449993328,-0.31681896091569794,0.376691603872416,0.0955435591329955,0.3059302882053221,-0.40763287280287025,1.6209528853068607,-0.22050739262858718,1.2407691032730783,0.1636563461364261,0.11613750655239334,1.6532965922404759,-0.18031837018080812,-0.6598102231330875,1.7173440288843729,-0.6034913988882491,0.700172084595978,-0.8655937280498989,-0.07072219995759044,0.7252338637157283,1.6896643478428925,-1.9985550678721204,-1.288494222801579,-1.7568974963426904,1.19706327798354,-0.31731491298793957,1.5395547666939289,-0.014035010368598758,0.9050425509127696,0.8009389257192039,-0.08302009201298892,0.8171531869793346,-0.7938970281830412,0.06748229716032612,-0.25163340525469363,0.4501082789510372,0.7042743375651448,1.5786258826783846,0.4361285619666368,1.7486171274308304,0.867738412173522,0.2514370572602232,0.36820210750981897,0.45772091125516895,-1.2408746566028792,-0.6509170915331346,-1.8598649448554383,1.6667421329016379,0.881305758258542,0.2701389057885898,-0.0347324992409485,-1.1756209977978531,-0.9846172568564603,1.2800801685401286,-0.23730438169687665,1.012922776234193,-0.33041307438517004,-2.085051844871717,-0.9745502845039695,-0.5536617857028113,-0.590771338993367,-1.0698252162427944,0.6190627854938642,-0.8881704812612123,1.431363113773757,-0.007321763388780562,-1.92843803713575,-0.32707220180344077,-0.3061031816927142,0.2824028569969956,-0.5216603317192834,0.42177798337842715,0.8755835168934673,-1.5346115372015554,-0.18422379387988802,0.6494656673048684,0.9072613951453106,0.228171593180147,-0.2746116506540319,-0.028169419102425697,-0.42787317529700586,-1.3357558834404946,-0.790647659605685,-0.029415709062188093,0.1799045576781755,0.9522344570155521,-0.5184755826628655,1.1836484340050315,0.9778129395793809],\"type\":\"scatter\"}],                        {\"legend\":{\"bgcolor\":\"#F5F6F9\",\"font\":{\"color\":\"#4D5663\"}},\"paper_bgcolor\":\"#F5F6F9\",\"plot_bgcolor\":\"#F5F6F9\",\"template\":{\"data\":{\"barpolar\":[{\"marker\":{\"line\":{\"color\":\"#E5ECF6\",\"width\":0.5},\"pattern\":{\"fillmode\":\"overlay\",\"size\":10,\"solidity\":0.2}},\"type\":\"barpolar\"}],\"bar\":[{\"error_x\":{\"color\":\"#2a3f5f\"},\"error_y\":{\"color\":\"#2a3f5f\"},\"marker\":{\"line\":{\"color\":\"#E5ECF6\",\"width\":0.5},\"pattern\":{\"fillmode\":\"overlay\",\"size\":10,\"solidity\":0.2}},\"type\":\"bar\"}],\"carpet\":[{\"aaxis\":{\"endlinecolor\":\"#2a3f5f\",\"gridcolor\":\"white\",\"linecolor\":\"white\",\"minorgridcolor\":\"white\",\"startlinecolor\":\"#2a3f5f\"},\"baxis\":{\"endlinecolor\":\"#2a3f5f\",\"gridcolor\":\"white\",\"linecolor\":\"white\",\"minorgridcolor\":\"white\",\"startlinecolor\":\"#2a3f5f\"},\"type\":\"carpet\"}],\"choropleth\":[{\"colorbar\":{\"outlinewidth\":0,\"ticks\":\"\"},\"type\":\"choropleth\"}],\"contourcarpet\":[{\"colorbar\":{\"outlinewidth\":0,\"ticks\":\"\"},\"type\":\"contourcarpet\"}],\"contour\":[{\"colorbar\":{\"outlinewidth\":0,\"ticks\":\"\"},\"colorscale\":[[0.0,\"#0d0887\"],[0.1111111111111111,\"#46039f\"],[0.2222222222222222,\"#7201a8\"],[0.3333333333333333,\"#9c179e\"],[0.4444444444444444,\"#bd3786\"],[0.5555555555555556,\"#d8576b\"],[0.6666666666666666,\"#ed7953\"],[0.7777777777777778,\"#fb9f3a\"],[0.8888888888888888,\"#fdca26\"],[1.0,\"#f0f921\"]],\"type\":\"contour\"}],\"heatmapgl\":[{\"colorbar\":{\"outlinewidth\":0,\"ticks\":\"\"},\"colorscale\":[[0.0,\"#0d0887\"],[0.1111111111111111,\"#46039f\"],[0.2222222222222222,\"#7201a8\"],[0.3333333333333333,\"#9c179e\"],[0.4444444444444444,\"#bd3786\"],[0.5555555555555556,\"#d8576b\"],[0.6666666666666666,\"#ed7953\"],[0.7777777777777778,\"#fb9f3a\"],[0.8888888888888888,\"#fdca26\"],[1.0,\"#f0f921\"]],\"type\":\"heatmapgl\"}],\"heatmap\":[{\"colorbar\":{\"outlinewidth\":0,\"ticks\":\"\"},\"colorscale\":[[0.0,\"#0d0887\"],[0.1111111111111111,\"#46039f\"],[0.2222222222222222,\"#7201a8\"],[0.3333333333333333,\"#9c179e\"],[0.4444444444444444,\"#bd3786\"],[0.5555555555555556,\"#d8576b\"],[0.6666666666666666,\"#ed7953\"],[0.7777777777777778,\"#fb9f3a\"],[0.8888888888888888,\"#fdca26\"],[1.0,\"#f0f921\"]],\"type\":\"heatmap\"}],\"histogram2dcontour\":[{\"colorbar\":{\"outlinewidth\":0,\"ticks\":\"\"},\"colorscale\":[[0.0,\"#0d0887\"],[0.1111111111111111,\"#46039f\"],[0.2222222222222222,\"#7201a8\"],[0.3333333333333333,\"#9c179e\"],[0.4444444444444444,\"#bd3786\"],[0.5555555555555556,\"#d8576b\"],[0.6666666666666666,\"#ed7953\"],[0.7777777777777778,\"#fb9f3a\"],[0.8888888888888888,\"#fdca26\"],[1.0,\"#f0f921\"]],\"type\":\"histogram2dcontour\"}],\"histogram2d\":[{\"colorbar\":{\"outlinewidth\":0,\"ticks\":\"\"},\"colorscale\":[[0.0,\"#0d0887\"],[0.1111111111111111,\"#46039f\"],[0.2222222222222222,\"#7201a8\"],[0.3333333333333333,\"#9c179e\"],[0.4444444444444444,\"#bd3786\"],[0.5555555555555556,\"#d8576b\"],[0.6666666666666666,\"#ed7953\"],[0.7777777777777778,\"#fb9f3a\"],[0.8888888888888888,\"#fdca26\"],[1.0,\"#f0f921\"]],\"type\":\"histogram2d\"}],\"histogram\":[{\"marker\":{\"pattern\":{\"fillmode\":\"overlay\",\"size\":10,\"solidity\":0.2}},\"type\":\"histogram\"}],\"mesh3d\":[{\"colorbar\":{\"outlinewidth\":0,\"ticks\":\"\"},\"type\":\"mesh3d\"}],\"parcoords\":[{\"line\":{\"colorbar\":{\"outlinewidth\":0,\"ticks\":\"\"}},\"type\":\"parcoords\"}],\"pie\":[{\"automargin\":true,\"type\":\"pie\"}],\"scatter3d\":[{\"line\":{\"colorbar\":{\"outlinewidth\":0,\"ticks\":\"\"}},\"marker\":{\"colorbar\":{\"outlinewidth\":0,\"ticks\":\"\"}},\"type\":\"scatter3d\"}],\"scattercarpet\":[{\"marker\":{\"colorbar\":{\"outlinewidth\":0,\"ticks\":\"\"}},\"type\":\"scattercarpet\"}],\"scattergeo\":[{\"marker\":{\"colorbar\":{\"outlinewidth\":0,\"ticks\":\"\"}},\"type\":\"scattergeo\"}],\"scattergl\":[{\"marker\":{\"colorbar\":{\"outlinewidth\":0,\"ticks\":\"\"}},\"type\":\"scattergl\"}],\"scattermapbox\":[{\"marker\":{\"colorbar\":{\"outlinewidth\":0,\"ticks\":\"\"}},\"type\":\"scattermapbox\"}],\"scatterpolargl\":[{\"marker\":{\"colorbar\":{\"outlinewidth\":0,\"ticks\":\"\"}},\"type\":\"scatterpolargl\"}],\"scatterpolar\":[{\"marker\":{\"colorbar\":{\"outlinewidth\":0,\"ticks\":\"\"}},\"type\":\"scatterpolar\"}],\"scatter\":[{\"fillpattern\":{\"fillmode\":\"overlay\",\"size\":10,\"solidity\":0.2},\"type\":\"scatter\"}],\"scatterternary\":[{\"marker\":{\"colorbar\":{\"outlinewidth\":0,\"ticks\":\"\"}},\"type\":\"scatterternary\"}],\"surface\":[{\"colorbar\":{\"outlinewidth\":0,\"ticks\":\"\"},\"colorscale\":[[0.0,\"#0d0887\"],[0.1111111111111111,\"#46039f\"],[0.2222222222222222,\"#7201a8\"],[0.3333333333333333,\"#9c179e\"],[0.4444444444444444,\"#bd3786\"],[0.5555555555555556,\"#d8576b\"],[0.6666666666666666,\"#ed7953\"],[0.7777777777777778,\"#fb9f3a\"],[0.8888888888888888,\"#fdca26\"],[1.0,\"#f0f921\"]],\"type\":\"surface\"}],\"table\":[{\"cells\":{\"fill\":{\"color\":\"#EBF0F8\"},\"line\":{\"color\":\"white\"}},\"header\":{\"fill\":{\"color\":\"#C8D4E3\"},\"line\":{\"color\":\"white\"}},\"type\":\"table\"}]},\"layout\":{\"annotationdefaults\":{\"arrowcolor\":\"#2a3f5f\",\"arrowhead\":0,\"arrowwidth\":1},\"autotypenumbers\":\"strict\",\"coloraxis\":{\"colorbar\":{\"outlinewidth\":0,\"ticks\":\"\"}},\"colorscale\":{\"diverging\":[[0,\"#8e0152\"],[0.1,\"#c51b7d\"],[0.2,\"#de77ae\"],[0.3,\"#f1b6da\"],[0.4,\"#fde0ef\"],[0.5,\"#f7f7f7\"],[0.6,\"#e6f5d0\"],[0.7,\"#b8e186\"],[0.8,\"#7fbc41\"],[0.9,\"#4d9221\"],[1,\"#276419\"]],\"sequential\":[[0.0,\"#0d0887\"],[0.1111111111111111,\"#46039f\"],[0.2222222222222222,\"#7201a8\"],[0.3333333333333333,\"#9c179e\"],[0.4444444444444444,\"#bd3786\"],[0.5555555555555556,\"#d8576b\"],[0.6666666666666666,\"#ed7953\"],[0.7777777777777778,\"#fb9f3a\"],[0.8888888888888888,\"#fdca26\"],[1.0,\"#f0f921\"]],\"sequentialminus\":[[0.0,\"#0d0887\"],[0.1111111111111111,\"#46039f\"],[0.2222222222222222,\"#7201a8\"],[0.3333333333333333,\"#9c179e\"],[0.4444444444444444,\"#bd3786\"],[0.5555555555555556,\"#d8576b\"],[0.6666666666666666,\"#ed7953\"],[0.7777777777777778,\"#fb9f3a\"],[0.8888888888888888,\"#fdca26\"],[1.0,\"#f0f921\"]]},\"colorway\":[\"#636efa\",\"#EF553B\",\"#00cc96\",\"#ab63fa\",\"#FFA15A\",\"#19d3f3\",\"#FF6692\",\"#B6E880\",\"#FF97FF\",\"#FECB52\"],\"font\":{\"color\":\"#2a3f5f\"},\"geo\":{\"bgcolor\":\"white\",\"lakecolor\":\"white\",\"landcolor\":\"#E5ECF6\",\"showlakes\":true,\"showland\":true,\"subunitcolor\":\"white\"},\"hoverlabel\":{\"align\":\"left\"},\"hovermode\":\"closest\",\"mapbox\":{\"style\":\"light\"},\"paper_bgcolor\":\"white\",\"plot_bgcolor\":\"#E5ECF6\",\"polar\":{\"angularaxis\":{\"gridcolor\":\"white\",\"linecolor\":\"white\",\"ticks\":\"\"},\"bgcolor\":\"#E5ECF6\",\"radialaxis\":{\"gridcolor\":\"white\",\"linecolor\":\"white\",\"ticks\":\"\"}},\"scene\":{\"xaxis\":{\"backgroundcolor\":\"#E5ECF6\",\"gridcolor\":\"white\",\"gridwidth\":2,\"linecolor\":\"white\",\"showbackground\":true,\"ticks\":\"\",\"zerolinecolor\":\"white\"},\"yaxis\":{\"backgroundcolor\":\"#E5ECF6\",\"gridcolor\":\"white\",\"gridwidth\":2,\"linecolor\":\"white\",\"showbackground\":true,\"ticks\":\"\",\"zerolinecolor\":\"white\"},\"zaxis\":{\"backgroundcolor\":\"#E5ECF6\",\"gridcolor\":\"white\",\"gridwidth\":2,\"linecolor\":\"white\",\"showbackground\":true,\"ticks\":\"\",\"zerolinecolor\":\"white\"}},\"shapedefaults\":{\"line\":{\"color\":\"#2a3f5f\"}},\"ternary\":{\"aaxis\":{\"gridcolor\":\"white\",\"linecolor\":\"white\",\"ticks\":\"\"},\"baxis\":{\"gridcolor\":\"white\",\"linecolor\":\"white\",\"ticks\":\"\"},\"bgcolor\":\"#E5ECF6\",\"caxis\":{\"gridcolor\":\"white\",\"linecolor\":\"white\",\"ticks\":\"\"}},\"title\":{\"x\":0.05},\"xaxis\":{\"automargin\":true,\"gridcolor\":\"white\",\"linecolor\":\"white\",\"ticks\":\"\",\"title\":{\"standoff\":15},\"zerolinecolor\":\"white\",\"zerolinewidth\":2},\"yaxis\":{\"automargin\":true,\"gridcolor\":\"white\",\"linecolor\":\"white\",\"ticks\":\"\",\"title\":{\"standoff\":15},\"zerolinecolor\":\"white\",\"zerolinewidth\":2}}},\"title\":{\"font\":{\"color\":\"#4D5663\"}},\"xaxis\":{\"gridcolor\":\"#E1E5ED\",\"showgrid\":true,\"tickfont\":{\"color\":\"#4D5663\"},\"title\":{\"font\":{\"color\":\"#4D5663\"},\"text\":\"\"},\"zerolinecolor\":\"#E1E5ED\"},\"yaxis\":{\"gridcolor\":\"#E1E5ED\",\"showgrid\":true,\"tickfont\":{\"color\":\"#4D5663\"},\"title\":{\"font\":{\"color\":\"#4D5663\"},\"text\":\"\"},\"zerolinecolor\":\"#E1E5ED\"}},                        {\"showLink\": true, \"linkText\": \"Export to plot.ly\", \"plotlyServerURL\": \"https://plot.ly\", \"responsive\": true}                    ).then(function(){\n",
       "                            \n",
       "var gd = document.getElementById('8c2f1154-4185-41e8-95fd-87c163ada135');\n",
       "var x = new MutationObserver(function (mutations, observer) {{\n",
       "        var display = window.getComputedStyle(gd).display;\n",
       "        if (!display || display === 'none') {{\n",
       "            console.log([gd, 'removed!']);\n",
       "            Plotly.purge(gd);\n",
       "            observer.disconnect();\n",
       "        }}\n",
       "}});\n",
       "\n",
       "// Listen for the removal of the full notebook cells\n",
       "var notebookContainer = gd.closest('#notebook-container');\n",
       "if (notebookContainer) {{\n",
       "    x.observe(notebookContainer, {childList: true});\n",
       "}}\n",
       "\n",
       "// Listen for the clearing of the current output cell\n",
       "var outputEl = gd.closest('.output');\n",
       "if (outputEl) {{\n",
       "    x.observe(outputEl, {childList: true});\n",
       "}}\n",
       "\n",
       "                        })                };                });            </script>        </div>"
      ]
     },
     "metadata": {},
     "output_type": "display_data"
    }
   ],
   "source": [
    "df.iplot(kind=\"bubble\", x=\"A\", y=\"B\", size=\"C\")"
   ]
  },
  {
   "cell_type": "code",
   "execution_count": 33,
   "id": "d503e6a5",
   "metadata": {},
   "outputs": [
    {
     "data": {
      "application/vnd.plotly.v1+json": {
       "config": {
        "linkText": "Export to plot.ly",
        "plotlyServerURL": "https://plot.ly",
        "showLink": true
       },
       "data": [
        {
         "histfunc": "count",
         "histnorm": "",
         "marker": {
          "color": "rgba(255, 153, 51, 1.0)",
          "line": {
           "color": "#4D5663",
           "width": 1.3
          }
         },
         "name": "A",
         "nbinsx": 10,
         "opacity": 0.8,
         "orientation": "v",
         "type": "histogram",
         "x": [
          -1.5749810496858492,
          -1.3833793433667436,
          0.36588075526834546,
          1.275399849602529,
          0.5286668747009455,
          -0.7679032009223029,
          -0.17831916014732532,
          -2.257326435988866,
          0.07658860332702637,
          1.3567938287358288,
          0.31894748456236754,
          -0.33236158300706464,
          -0.5406260875570553,
          -0.37195941916552244,
          -0.3135738744446838,
          -1.010589752168183,
          -0.34346062433482266,
          -2.6744763425885423,
          0.4240381404822287,
          0.2885273430894623,
          0.08427439673144732,
          -0.23871144244853104,
          0.25740702376805175,
          0.40166934404547766,
          0.8323461834133391,
          0.380030623534109,
          0.5572622542561397,
          -0.6278502285641379,
          0.3692001447418704,
          -1.252856435011434,
          0.9396183305979209,
          2.197696282685438,
          -0.6348382801909904,
          -0.8729626381576087,
          0.05369217970057937,
          -0.028905049872739463,
          -0.12222368961439022,
          0.00866738492464321,
          -0.6367143859649672,
          -1.7133377029111103,
          0.99536125242314,
          -1.009122337998362,
          -1.360458340717226,
          0.7800896480356647,
          -0.17532259166702616,
          0.032736921693968066,
          -0.029454474920911446,
          -0.5622728532218199,
          1.7074440404654854,
          1.569656559086373,
          0.4166056558837753,
          -0.2464947669782788,
          0.051460325727519976,
          -0.5140444063570784,
          -1.4717230819608562,
          -0.833447655009454,
          2.062410774351031,
          0.3301660327167039,
          -0.5484153848392193,
          -1.0492195305040761,
          -1.019093053255773,
          1.1009944121217843,
          -1.5833892267026457,
          1.3222535001686084,
          -0.6762104727297058,
          1.1256325176591828,
          1.4931242561850617,
          -1.0115610188042432,
          -0.1710109126477292,
          0.9683985282675233,
          -0.2923692307598237,
          -0.4186511634855657,
          -0.8697287759682212,
          -0.09922350097748456,
          -0.6131434465914425,
          -0.46546756990307686,
          -2.371370606691687,
          -0.011436671066204995,
          2.3688431617731793,
          -0.440029376897687,
          -0.8353927478232571,
          -1.320643031620411,
          0.5479177999724679,
          -1.6851472200935969,
          -1.105532954107571,
          -0.7654776138021443,
          0.1639452575441152,
          -1.8061852621960486,
          0.11558384967903741,
          -2.263510071725915,
          0.03022567602240936,
          -1.1359137329317626,
          0.11757310430053158,
          0.8152531228518184,
          -0.03448705506848795,
          0.6307535692636861,
          -8.491084491530586e-05,
          0.9122527063264612,
          -0.82128369509477,
          0.6122755731166608
         ],
         "xaxis": "x",
         "yaxis": "y"
        },
        {
         "line": {
          "color": "rgba(128, 128, 128, 1.0)",
          "dash": "solid",
          "shape": "linear",
          "width": 1.3
         },
         "marker": {
          "size": 2,
          "symbol": "circle"
         },
         "mode": "markers",
         "name": "A",
         "text": "",
         "type": "scatter",
         "x": [
          0.39642477413478533,
          0.3017979791106031,
          -0.8683082254335007,
          0.20904761546820905,
          -1.0151385494413272,
          1.726459441137804,
          -0.915985971357377,
          1.0086740707482478,
          -1.3541085530315435,
          -0.29751376435345445,
          -0.9677119092995604,
          0.81640449993328,
          -0.31681896091569794,
          0.376691603872416,
          0.0955435591329955,
          0.3059302882053221,
          -0.40763287280287025,
          1.6209528853068607,
          -0.22050739262858718,
          1.2407691032730783,
          0.1636563461364261,
          0.11613750655239334,
          1.6532965922404759,
          -0.18031837018080812,
          -0.6598102231330875,
          1.7173440288843729,
          -0.6034913988882491,
          0.700172084595978,
          -0.8655937280498989,
          -0.07072219995759044,
          0.7252338637157283,
          1.6896643478428925,
          -1.9985550678721204,
          -1.288494222801579,
          -1.7568974963426904,
          1.19706327798354,
          -0.31731491298793957,
          1.5395547666939289,
          -0.014035010368598758,
          0.9050425509127696,
          0.8009389257192039,
          -0.08302009201298892,
          0.8171531869793346,
          -0.7938970281830412,
          0.06748229716032612,
          -0.25163340525469363,
          0.4501082789510372,
          0.7042743375651448,
          1.5786258826783846,
          0.4361285619666368,
          1.7486171274308304,
          0.867738412173522,
          0.2514370572602232,
          0.36820210750981897,
          0.45772091125516895,
          -1.2408746566028792,
          -0.6509170915331346,
          -1.8598649448554383,
          1.6667421329016379,
          0.881305758258542,
          0.2701389057885898,
          -0.0347324992409485,
          -1.1756209977978531,
          -0.9846172568564603,
          1.2800801685401286,
          -0.23730438169687665,
          1.012922776234193,
          -0.33041307438517004,
          -2.085051844871717,
          -0.9745502845039695,
          -0.5536617857028113,
          -0.590771338993367,
          -1.0698252162427944,
          0.6190627854938642,
          -0.8881704812612123,
          1.431363113773757,
          -0.007321763388780562,
          -1.92843803713575,
          -0.32707220180344077,
          -0.3061031816927142,
          0.2824028569969956,
          -0.5216603317192834,
          0.42177798337842715,
          0.8755835168934673,
          -1.5346115372015554,
          -0.18422379387988802,
          0.6494656673048684,
          0.9072613951453106,
          0.228171593180147,
          -0.2746116506540319,
          -0.028169419102425697,
          -0.42787317529700586,
          -1.3357558834404946,
          -0.790647659605685,
          -0.029415709062188093,
          0.1799045576781755,
          0.9522344570155521,
          -0.5184755826628655,
          1.1836484340050315,
          0.9778129395793809
         ],
         "xaxis": "x2",
         "y": [
          -1.5749810496858492,
          -1.3833793433667436,
          0.36588075526834546,
          1.275399849602529,
          0.5286668747009455,
          -0.7679032009223029,
          -0.17831916014732532,
          -2.257326435988866,
          0.07658860332702637,
          1.3567938287358288,
          0.31894748456236754,
          -0.33236158300706464,
          -0.5406260875570553,
          -0.37195941916552244,
          -0.3135738744446838,
          -1.010589752168183,
          -0.34346062433482266,
          -2.6744763425885423,
          0.4240381404822287,
          0.2885273430894623,
          0.08427439673144732,
          -0.23871144244853104,
          0.25740702376805175,
          0.40166934404547766,
          0.8323461834133391,
          0.380030623534109,
          0.5572622542561397,
          -0.6278502285641379,
          0.3692001447418704,
          -1.252856435011434,
          0.9396183305979209,
          2.197696282685438,
          -0.6348382801909904,
          -0.8729626381576087,
          0.05369217970057937,
          -0.028905049872739463,
          -0.12222368961439022,
          0.00866738492464321,
          -0.6367143859649672,
          -1.7133377029111103,
          0.99536125242314,
          -1.009122337998362,
          -1.360458340717226,
          0.7800896480356647,
          -0.17532259166702616,
          0.032736921693968066,
          -0.029454474920911446,
          -0.5622728532218199,
          1.7074440404654854,
          1.569656559086373,
          0.4166056558837753,
          -0.2464947669782788,
          0.051460325727519976,
          -0.5140444063570784,
          -1.4717230819608562,
          -0.833447655009454,
          2.062410774351031,
          0.3301660327167039,
          -0.5484153848392193,
          -1.0492195305040761,
          -1.019093053255773,
          1.1009944121217843,
          -1.5833892267026457,
          1.3222535001686084,
          -0.6762104727297058,
          1.1256325176591828,
          1.4931242561850617,
          -1.0115610188042432,
          -0.1710109126477292,
          0.9683985282675233,
          -0.2923692307598237,
          -0.4186511634855657,
          -0.8697287759682212,
          -0.09922350097748456,
          -0.6131434465914425,
          -0.46546756990307686,
          -2.371370606691687,
          -0.011436671066204995,
          2.3688431617731793,
          -0.440029376897687,
          -0.8353927478232571,
          -1.320643031620411,
          0.5479177999724679,
          -1.6851472200935969,
          -1.105532954107571,
          -0.7654776138021443,
          0.1639452575441152,
          -1.8061852621960486,
          0.11558384967903741,
          -2.263510071725915,
          0.03022567602240936,
          -1.1359137329317626,
          0.11757310430053158,
          0.8152531228518184,
          -0.03448705506848795,
          0.6307535692636861,
          -8.491084491530586e-05,
          0.9122527063264612,
          -0.82128369509477,
          0.6122755731166608
         ],
         "yaxis": "y2"
        },
        {
         "line": {
          "color": "rgba(128, 128, 128, 1.0)",
          "dash": "solid",
          "shape": "linear",
          "width": 1.3
         },
         "marker": {
          "size": 2,
          "symbol": "circle"
         },
         "mode": "markers",
         "name": "A",
         "text": "",
         "type": "scatter",
         "x": [
          1.0700406965603044,
          0.47320689188072074,
          0.8889381855451203,
          1.984685692613606,
          -0.9905856410306387,
          0.06186445398377224,
          -0.3781617800979096,
          -0.5895388793729588,
          0.794747252179797,
          0.9230208518575128,
          -0.6188917723964353,
          -1.2634044397458761,
          0.8899247347307317,
          -0.041802643180199814,
          1.7101356218130819,
          -1.6273021804294716,
          0.2891211909563434,
          -1.803755995261513,
          1.005594395815204,
          -0.07519807148612825,
          1.3163249604794844,
          -0.15817680256006203,
          0.26373186752905925,
          0.6055879906295724,
          -0.9385944392959061,
          0.2636575307398441,
          0.47035031066286104,
          -0.3309727058519469,
          0.7455100676917912,
          0.7755461278650121,
          0.37907845045617533,
          0.5078749537555448,
          -0.3045934543346218,
          -1.24392003983143,
          -1.1227859031564063,
          0.7800241925040196,
          -1.0089050410309925,
          0.9424424961263709,
          -1.0691859319549368,
          0.9995978697480474,
          -1.9650763312895476,
          0.3955839765822933,
          -1.4566706985457498,
          -1.202331544573614,
          -0.3874201640610675,
          -1.2071730069168236,
          0.8656900668547792,
          0.7749818255821247,
          -0.40201945311330517,
          -1.6384500942017932,
          0.05833187520551722,
          -1.3216556170659117,
          2.312488663924503,
          0.21928120392193154,
          -1.9438725062397344,
          -0.4290795310358435,
          -1.339133419340799,
          -1.2627039314108552,
          0.9056212699527014,
          -0.2363735068948559,
          1.2195893170306071,
          -0.08389414081632988,
          0.22867566500949105,
          -2.413961059554438,
          -1.1998966501201662,
          0.7401682706615308,
          -0.51156060446994,
          1.6148275387210587,
          1.344929661254416,
          0.6387451049698962,
          -0.3583917172754251,
          0.7465394883336404,
          0.15538564043812364,
          0.14011930135585737,
          0.8169262769794431,
          0.34088061999409797,
          0.889837791491532,
          0.19232642878875802,
          -1.6539027936192965,
          0.8675030093792894,
          -0.47078665249200163,
          -1.7724058935583373,
          0.10057807757294003,
          0.9598073139432325,
          -0.4148261328833594,
          -0.7557444124571863,
          -0.7030399314225763,
          -0.27235739587431007,
          0.5247804026828217,
          -0.197345784237892,
          -0.1555129303996773,
          0.055560600376472126,
          -0.1512681055853885,
          -1.3138607107599134,
          0.1293343621347584,
          0.6959648720514148,
          -0.4073834571043385,
          1.568746821382907,
          -0.41752316554302166,
          0.3544673745911766
         ],
         "xaxis": "x3",
         "y": [
          -1.5749810496858492,
          -1.3833793433667436,
          0.36588075526834546,
          1.275399849602529,
          0.5286668747009455,
          -0.7679032009223029,
          -0.17831916014732532,
          -2.257326435988866,
          0.07658860332702637,
          1.3567938287358288,
          0.31894748456236754,
          -0.33236158300706464,
          -0.5406260875570553,
          -0.37195941916552244,
          -0.3135738744446838,
          -1.010589752168183,
          -0.34346062433482266,
          -2.6744763425885423,
          0.4240381404822287,
          0.2885273430894623,
          0.08427439673144732,
          -0.23871144244853104,
          0.25740702376805175,
          0.40166934404547766,
          0.8323461834133391,
          0.380030623534109,
          0.5572622542561397,
          -0.6278502285641379,
          0.3692001447418704,
          -1.252856435011434,
          0.9396183305979209,
          2.197696282685438,
          -0.6348382801909904,
          -0.8729626381576087,
          0.05369217970057937,
          -0.028905049872739463,
          -0.12222368961439022,
          0.00866738492464321,
          -0.6367143859649672,
          -1.7133377029111103,
          0.99536125242314,
          -1.009122337998362,
          -1.360458340717226,
          0.7800896480356647,
          -0.17532259166702616,
          0.032736921693968066,
          -0.029454474920911446,
          -0.5622728532218199,
          1.7074440404654854,
          1.569656559086373,
          0.4166056558837753,
          -0.2464947669782788,
          0.051460325727519976,
          -0.5140444063570784,
          -1.4717230819608562,
          -0.833447655009454,
          2.062410774351031,
          0.3301660327167039,
          -0.5484153848392193,
          -1.0492195305040761,
          -1.019093053255773,
          1.1009944121217843,
          -1.5833892267026457,
          1.3222535001686084,
          -0.6762104727297058,
          1.1256325176591828,
          1.4931242561850617,
          -1.0115610188042432,
          -0.1710109126477292,
          0.9683985282675233,
          -0.2923692307598237,
          -0.4186511634855657,
          -0.8697287759682212,
          -0.09922350097748456,
          -0.6131434465914425,
          -0.46546756990307686,
          -2.371370606691687,
          -0.011436671066204995,
          2.3688431617731793,
          -0.440029376897687,
          -0.8353927478232571,
          -1.320643031620411,
          0.5479177999724679,
          -1.6851472200935969,
          -1.105532954107571,
          -0.7654776138021443,
          0.1639452575441152,
          -1.8061852621960486,
          0.11558384967903741,
          -2.263510071725915,
          0.03022567602240936,
          -1.1359137329317626,
          0.11757310430053158,
          0.8152531228518184,
          -0.03448705506848795,
          0.6307535692636861,
          -8.491084491530586e-05,
          0.9122527063264612,
          -0.82128369509477,
          0.6122755731166608
         ],
         "yaxis": "y3"
        },
        {
         "line": {
          "color": "rgba(128, 128, 128, 1.0)",
          "dash": "solid",
          "shape": "linear",
          "width": 1.3
         },
         "marker": {
          "size": 2,
          "symbol": "circle"
         },
         "mode": "markers",
         "name": "A",
         "text": "",
         "type": "scatter",
         "x": [
          0.14425618902772747,
          -1.8939342901630691,
          -0.48477320187557554,
          -0.4593393791421347,
          -2.339592076557052,
          1.311590618793374,
          -1.5360766226020206,
          -1.0154550572704288,
          0.15906663364928308,
          1.3604423345007133,
          1.3399761693998393,
          0.850198098811847,
          -1.6941060098208944,
          0.730071090987942,
          1.008238072861487,
          1.795090152650695,
          1.7915821023153595,
          0.29400607548936003,
          -0.8159407247542291,
          0.19711999021411716,
          0.8200862761171573,
          0.7601527706740808,
          0.5674761250596101,
          -0.13996943397447206,
          0.17821131158800996,
          0.18457270589522828,
          1.04379920509321,
          -0.652722508495129,
          0.6420533765209736,
          -0.4138125238095458,
          -0.12275124251665397,
          0.043906853007055824,
          -1.4409741909873395,
          0.42506775241844263,
          0.9624402927611686,
          -0.5378417195821108,
          0.6295666983730309,
          0.728630216429118,
          -1.213727460550597,
          -2.130955226582706,
          -0.2704722926059495,
          0.1481866771999114,
          0.7306790471248414,
          0.21686454959768797,
          -0.6567964359887308,
          -0.6470793096094121,
          -0.4545458288756462,
          0.07580643874686249,
          0.38218791727607493,
          -0.1416109023900944,
          0.6473012260955611,
          0.5174503062831697,
          -0.5049105159658954,
          -0.34253350164476215,
          1.810332008303204,
          -0.6401565791336887,
          0.6521984402923481,
          -0.8286118338536269,
          -1.3439070316027542,
          0.7814798176632166,
          0.5011933330618819,
          -0.2704101289032435,
          -0.10057152517551457,
          0.8436212094507817,
          0.3930507355414695,
          -0.7427881549463758,
          0.4833266726881477,
          0.5888241188022255,
          1.3775067789981312,
          -1.5595366482950896,
          -1.5038190329760643,
          -1.107132252469969,
          1.8631485442387221,
          -1.2378206901207147,
          -1.5710350013202465,
          -0.6147598340911066,
          0.46604507465244216,
          0.2727181881851066,
          -0.4554496784154893,
          -0.810774896348241,
          -0.17526252760094477,
          0.015439744423981721,
          0.29040229656619315,
          1.1975379751419997,
          0.03710941225425532,
          2.5540713173081677,
          1.8321494496323845,
          -0.9681228941709391,
          1.3607493420309653,
          -1.4046817439382802,
          0.3882714876679938,
          -0.34410511941403354,
          0.9036457102811655,
          0.226559473173561,
          -0.9309352514277246,
          -0.7342069133657667,
          0.044369269608457766,
          0.09209970230315259,
          -0.5865347123319166,
          -1.3262936610426104
         ],
         "xaxis": "x4",
         "y": [
          -1.5749810496858492,
          -1.3833793433667436,
          0.36588075526834546,
          1.275399849602529,
          0.5286668747009455,
          -0.7679032009223029,
          -0.17831916014732532,
          -2.257326435988866,
          0.07658860332702637,
          1.3567938287358288,
          0.31894748456236754,
          -0.33236158300706464,
          -0.5406260875570553,
          -0.37195941916552244,
          -0.3135738744446838,
          -1.010589752168183,
          -0.34346062433482266,
          -2.6744763425885423,
          0.4240381404822287,
          0.2885273430894623,
          0.08427439673144732,
          -0.23871144244853104,
          0.25740702376805175,
          0.40166934404547766,
          0.8323461834133391,
          0.380030623534109,
          0.5572622542561397,
          -0.6278502285641379,
          0.3692001447418704,
          -1.252856435011434,
          0.9396183305979209,
          2.197696282685438,
          -0.6348382801909904,
          -0.8729626381576087,
          0.05369217970057937,
          -0.028905049872739463,
          -0.12222368961439022,
          0.00866738492464321,
          -0.6367143859649672,
          -1.7133377029111103,
          0.99536125242314,
          -1.009122337998362,
          -1.360458340717226,
          0.7800896480356647,
          -0.17532259166702616,
          0.032736921693968066,
          -0.029454474920911446,
          -0.5622728532218199,
          1.7074440404654854,
          1.569656559086373,
          0.4166056558837753,
          -0.2464947669782788,
          0.051460325727519976,
          -0.5140444063570784,
          -1.4717230819608562,
          -0.833447655009454,
          2.062410774351031,
          0.3301660327167039,
          -0.5484153848392193,
          -1.0492195305040761,
          -1.019093053255773,
          1.1009944121217843,
          -1.5833892267026457,
          1.3222535001686084,
          -0.6762104727297058,
          1.1256325176591828,
          1.4931242561850617,
          -1.0115610188042432,
          -0.1710109126477292,
          0.9683985282675233,
          -0.2923692307598237,
          -0.4186511634855657,
          -0.8697287759682212,
          -0.09922350097748456,
          -0.6131434465914425,
          -0.46546756990307686,
          -2.371370606691687,
          -0.011436671066204995,
          2.3688431617731793,
          -0.440029376897687,
          -0.8353927478232571,
          -1.320643031620411,
          0.5479177999724679,
          -1.6851472200935969,
          -1.105532954107571,
          -0.7654776138021443,
          0.1639452575441152,
          -1.8061852621960486,
          0.11558384967903741,
          -2.263510071725915,
          0.03022567602240936,
          -1.1359137329317626,
          0.11757310430053158,
          0.8152531228518184,
          -0.03448705506848795,
          0.6307535692636861,
          -8.491084491530586e-05,
          0.9122527063264612,
          -0.82128369509477,
          0.6122755731166608
         ],
         "yaxis": "y4"
        },
        {
         "line": {
          "color": "rgba(128, 128, 128, 1.0)",
          "dash": "solid",
          "shape": "linear",
          "width": 1.3
         },
         "marker": {
          "size": 2,
          "symbol": "circle"
         },
         "mode": "markers",
         "name": "B",
         "text": "",
         "type": "scatter",
         "x": [
          -1.5749810496858492,
          -1.3833793433667436,
          0.36588075526834546,
          1.275399849602529,
          0.5286668747009455,
          -0.7679032009223029,
          -0.17831916014732532,
          -2.257326435988866,
          0.07658860332702637,
          1.3567938287358288,
          0.31894748456236754,
          -0.33236158300706464,
          -0.5406260875570553,
          -0.37195941916552244,
          -0.3135738744446838,
          -1.010589752168183,
          -0.34346062433482266,
          -2.6744763425885423,
          0.4240381404822287,
          0.2885273430894623,
          0.08427439673144732,
          -0.23871144244853104,
          0.25740702376805175,
          0.40166934404547766,
          0.8323461834133391,
          0.380030623534109,
          0.5572622542561397,
          -0.6278502285641379,
          0.3692001447418704,
          -1.252856435011434,
          0.9396183305979209,
          2.197696282685438,
          -0.6348382801909904,
          -0.8729626381576087,
          0.05369217970057937,
          -0.028905049872739463,
          -0.12222368961439022,
          0.00866738492464321,
          -0.6367143859649672,
          -1.7133377029111103,
          0.99536125242314,
          -1.009122337998362,
          -1.360458340717226,
          0.7800896480356647,
          -0.17532259166702616,
          0.032736921693968066,
          -0.029454474920911446,
          -0.5622728532218199,
          1.7074440404654854,
          1.569656559086373,
          0.4166056558837753,
          -0.2464947669782788,
          0.051460325727519976,
          -0.5140444063570784,
          -1.4717230819608562,
          -0.833447655009454,
          2.062410774351031,
          0.3301660327167039,
          -0.5484153848392193,
          -1.0492195305040761,
          -1.019093053255773,
          1.1009944121217843,
          -1.5833892267026457,
          1.3222535001686084,
          -0.6762104727297058,
          1.1256325176591828,
          1.4931242561850617,
          -1.0115610188042432,
          -0.1710109126477292,
          0.9683985282675233,
          -0.2923692307598237,
          -0.4186511634855657,
          -0.8697287759682212,
          -0.09922350097748456,
          -0.6131434465914425,
          -0.46546756990307686,
          -2.371370606691687,
          -0.011436671066204995,
          2.3688431617731793,
          -0.440029376897687,
          -0.8353927478232571,
          -1.320643031620411,
          0.5479177999724679,
          -1.6851472200935969,
          -1.105532954107571,
          -0.7654776138021443,
          0.1639452575441152,
          -1.8061852621960486,
          0.11558384967903741,
          -2.263510071725915,
          0.03022567602240936,
          -1.1359137329317626,
          0.11757310430053158,
          0.8152531228518184,
          -0.03448705506848795,
          0.6307535692636861,
          -8.491084491530586e-05,
          0.9122527063264612,
          -0.82128369509477,
          0.6122755731166608
         ],
         "xaxis": "x5",
         "y": [
          0.39642477413478533,
          0.3017979791106031,
          -0.8683082254335007,
          0.20904761546820905,
          -1.0151385494413272,
          1.726459441137804,
          -0.915985971357377,
          1.0086740707482478,
          -1.3541085530315435,
          -0.29751376435345445,
          -0.9677119092995604,
          0.81640449993328,
          -0.31681896091569794,
          0.376691603872416,
          0.0955435591329955,
          0.3059302882053221,
          -0.40763287280287025,
          1.6209528853068607,
          -0.22050739262858718,
          1.2407691032730783,
          0.1636563461364261,
          0.11613750655239334,
          1.6532965922404759,
          -0.18031837018080812,
          -0.6598102231330875,
          1.7173440288843729,
          -0.6034913988882491,
          0.700172084595978,
          -0.8655937280498989,
          -0.07072219995759044,
          0.7252338637157283,
          1.6896643478428925,
          -1.9985550678721204,
          -1.288494222801579,
          -1.7568974963426904,
          1.19706327798354,
          -0.31731491298793957,
          1.5395547666939289,
          -0.014035010368598758,
          0.9050425509127696,
          0.8009389257192039,
          -0.08302009201298892,
          0.8171531869793346,
          -0.7938970281830412,
          0.06748229716032612,
          -0.25163340525469363,
          0.4501082789510372,
          0.7042743375651448,
          1.5786258826783846,
          0.4361285619666368,
          1.7486171274308304,
          0.867738412173522,
          0.2514370572602232,
          0.36820210750981897,
          0.45772091125516895,
          -1.2408746566028792,
          -0.6509170915331346,
          -1.8598649448554383,
          1.6667421329016379,
          0.881305758258542,
          0.2701389057885898,
          -0.0347324992409485,
          -1.1756209977978531,
          -0.9846172568564603,
          1.2800801685401286,
          -0.23730438169687665,
          1.012922776234193,
          -0.33041307438517004,
          -2.085051844871717,
          -0.9745502845039695,
          -0.5536617857028113,
          -0.590771338993367,
          -1.0698252162427944,
          0.6190627854938642,
          -0.8881704812612123,
          1.431363113773757,
          -0.007321763388780562,
          -1.92843803713575,
          -0.32707220180344077,
          -0.3061031816927142,
          0.2824028569969956,
          -0.5216603317192834,
          0.42177798337842715,
          0.8755835168934673,
          -1.5346115372015554,
          -0.18422379387988802,
          0.6494656673048684,
          0.9072613951453106,
          0.228171593180147,
          -0.2746116506540319,
          -0.028169419102425697,
          -0.42787317529700586,
          -1.3357558834404946,
          -0.790647659605685,
          -0.029415709062188093,
          0.1799045576781755,
          0.9522344570155521,
          -0.5184755826628655,
          1.1836484340050315,
          0.9778129395793809
         ],
         "yaxis": "y5"
        },
        {
         "histfunc": "count",
         "histnorm": "",
         "marker": {
          "color": "rgba(55, 128, 191, 1.0)",
          "line": {
           "color": "#4D5663",
           "width": 1.3
          }
         },
         "name": "B",
         "nbinsx": 10,
         "opacity": 0.8,
         "orientation": "v",
         "type": "histogram",
         "x": [
          0.39642477413478533,
          0.3017979791106031,
          -0.8683082254335007,
          0.20904761546820905,
          -1.0151385494413272,
          1.726459441137804,
          -0.915985971357377,
          1.0086740707482478,
          -1.3541085530315435,
          -0.29751376435345445,
          -0.9677119092995604,
          0.81640449993328,
          -0.31681896091569794,
          0.376691603872416,
          0.0955435591329955,
          0.3059302882053221,
          -0.40763287280287025,
          1.6209528853068607,
          -0.22050739262858718,
          1.2407691032730783,
          0.1636563461364261,
          0.11613750655239334,
          1.6532965922404759,
          -0.18031837018080812,
          -0.6598102231330875,
          1.7173440288843729,
          -0.6034913988882491,
          0.700172084595978,
          -0.8655937280498989,
          -0.07072219995759044,
          0.7252338637157283,
          1.6896643478428925,
          -1.9985550678721204,
          -1.288494222801579,
          -1.7568974963426904,
          1.19706327798354,
          -0.31731491298793957,
          1.5395547666939289,
          -0.014035010368598758,
          0.9050425509127696,
          0.8009389257192039,
          -0.08302009201298892,
          0.8171531869793346,
          -0.7938970281830412,
          0.06748229716032612,
          -0.25163340525469363,
          0.4501082789510372,
          0.7042743375651448,
          1.5786258826783846,
          0.4361285619666368,
          1.7486171274308304,
          0.867738412173522,
          0.2514370572602232,
          0.36820210750981897,
          0.45772091125516895,
          -1.2408746566028792,
          -0.6509170915331346,
          -1.8598649448554383,
          1.6667421329016379,
          0.881305758258542,
          0.2701389057885898,
          -0.0347324992409485,
          -1.1756209977978531,
          -0.9846172568564603,
          1.2800801685401286,
          -0.23730438169687665,
          1.012922776234193,
          -0.33041307438517004,
          -2.085051844871717,
          -0.9745502845039695,
          -0.5536617857028113,
          -0.590771338993367,
          -1.0698252162427944,
          0.6190627854938642,
          -0.8881704812612123,
          1.431363113773757,
          -0.007321763388780562,
          -1.92843803713575,
          -0.32707220180344077,
          -0.3061031816927142,
          0.2824028569969956,
          -0.5216603317192834,
          0.42177798337842715,
          0.8755835168934673,
          -1.5346115372015554,
          -0.18422379387988802,
          0.6494656673048684,
          0.9072613951453106,
          0.228171593180147,
          -0.2746116506540319,
          -0.028169419102425697,
          -0.42787317529700586,
          -1.3357558834404946,
          -0.790647659605685,
          -0.029415709062188093,
          0.1799045576781755,
          0.9522344570155521,
          -0.5184755826628655,
          1.1836484340050315,
          0.9778129395793809
         ],
         "xaxis": "x6",
         "yaxis": "y6"
        },
        {
         "line": {
          "color": "rgba(128, 128, 128, 1.0)",
          "dash": "solid",
          "shape": "linear",
          "width": 1.3
         },
         "marker": {
          "size": 2,
          "symbol": "circle"
         },
         "mode": "markers",
         "name": "B",
         "text": "",
         "type": "scatter",
         "x": [
          1.0700406965603044,
          0.47320689188072074,
          0.8889381855451203,
          1.984685692613606,
          -0.9905856410306387,
          0.06186445398377224,
          -0.3781617800979096,
          -0.5895388793729588,
          0.794747252179797,
          0.9230208518575128,
          -0.6188917723964353,
          -1.2634044397458761,
          0.8899247347307317,
          -0.041802643180199814,
          1.7101356218130819,
          -1.6273021804294716,
          0.2891211909563434,
          -1.803755995261513,
          1.005594395815204,
          -0.07519807148612825,
          1.3163249604794844,
          -0.15817680256006203,
          0.26373186752905925,
          0.6055879906295724,
          -0.9385944392959061,
          0.2636575307398441,
          0.47035031066286104,
          -0.3309727058519469,
          0.7455100676917912,
          0.7755461278650121,
          0.37907845045617533,
          0.5078749537555448,
          -0.3045934543346218,
          -1.24392003983143,
          -1.1227859031564063,
          0.7800241925040196,
          -1.0089050410309925,
          0.9424424961263709,
          -1.0691859319549368,
          0.9995978697480474,
          -1.9650763312895476,
          0.3955839765822933,
          -1.4566706985457498,
          -1.202331544573614,
          -0.3874201640610675,
          -1.2071730069168236,
          0.8656900668547792,
          0.7749818255821247,
          -0.40201945311330517,
          -1.6384500942017932,
          0.05833187520551722,
          -1.3216556170659117,
          2.312488663924503,
          0.21928120392193154,
          -1.9438725062397344,
          -0.4290795310358435,
          -1.339133419340799,
          -1.2627039314108552,
          0.9056212699527014,
          -0.2363735068948559,
          1.2195893170306071,
          -0.08389414081632988,
          0.22867566500949105,
          -2.413961059554438,
          -1.1998966501201662,
          0.7401682706615308,
          -0.51156060446994,
          1.6148275387210587,
          1.344929661254416,
          0.6387451049698962,
          -0.3583917172754251,
          0.7465394883336404,
          0.15538564043812364,
          0.14011930135585737,
          0.8169262769794431,
          0.34088061999409797,
          0.889837791491532,
          0.19232642878875802,
          -1.6539027936192965,
          0.8675030093792894,
          -0.47078665249200163,
          -1.7724058935583373,
          0.10057807757294003,
          0.9598073139432325,
          -0.4148261328833594,
          -0.7557444124571863,
          -0.7030399314225763,
          -0.27235739587431007,
          0.5247804026828217,
          -0.197345784237892,
          -0.1555129303996773,
          0.055560600376472126,
          -0.1512681055853885,
          -1.3138607107599134,
          0.1293343621347584,
          0.6959648720514148,
          -0.4073834571043385,
          1.568746821382907,
          -0.41752316554302166,
          0.3544673745911766
         ],
         "xaxis": "x7",
         "y": [
          0.39642477413478533,
          0.3017979791106031,
          -0.8683082254335007,
          0.20904761546820905,
          -1.0151385494413272,
          1.726459441137804,
          -0.915985971357377,
          1.0086740707482478,
          -1.3541085530315435,
          -0.29751376435345445,
          -0.9677119092995604,
          0.81640449993328,
          -0.31681896091569794,
          0.376691603872416,
          0.0955435591329955,
          0.3059302882053221,
          -0.40763287280287025,
          1.6209528853068607,
          -0.22050739262858718,
          1.2407691032730783,
          0.1636563461364261,
          0.11613750655239334,
          1.6532965922404759,
          -0.18031837018080812,
          -0.6598102231330875,
          1.7173440288843729,
          -0.6034913988882491,
          0.700172084595978,
          -0.8655937280498989,
          -0.07072219995759044,
          0.7252338637157283,
          1.6896643478428925,
          -1.9985550678721204,
          -1.288494222801579,
          -1.7568974963426904,
          1.19706327798354,
          -0.31731491298793957,
          1.5395547666939289,
          -0.014035010368598758,
          0.9050425509127696,
          0.8009389257192039,
          -0.08302009201298892,
          0.8171531869793346,
          -0.7938970281830412,
          0.06748229716032612,
          -0.25163340525469363,
          0.4501082789510372,
          0.7042743375651448,
          1.5786258826783846,
          0.4361285619666368,
          1.7486171274308304,
          0.867738412173522,
          0.2514370572602232,
          0.36820210750981897,
          0.45772091125516895,
          -1.2408746566028792,
          -0.6509170915331346,
          -1.8598649448554383,
          1.6667421329016379,
          0.881305758258542,
          0.2701389057885898,
          -0.0347324992409485,
          -1.1756209977978531,
          -0.9846172568564603,
          1.2800801685401286,
          -0.23730438169687665,
          1.012922776234193,
          -0.33041307438517004,
          -2.085051844871717,
          -0.9745502845039695,
          -0.5536617857028113,
          -0.590771338993367,
          -1.0698252162427944,
          0.6190627854938642,
          -0.8881704812612123,
          1.431363113773757,
          -0.007321763388780562,
          -1.92843803713575,
          -0.32707220180344077,
          -0.3061031816927142,
          0.2824028569969956,
          -0.5216603317192834,
          0.42177798337842715,
          0.8755835168934673,
          -1.5346115372015554,
          -0.18422379387988802,
          0.6494656673048684,
          0.9072613951453106,
          0.228171593180147,
          -0.2746116506540319,
          -0.028169419102425697,
          -0.42787317529700586,
          -1.3357558834404946,
          -0.790647659605685,
          -0.029415709062188093,
          0.1799045576781755,
          0.9522344570155521,
          -0.5184755826628655,
          1.1836484340050315,
          0.9778129395793809
         ],
         "yaxis": "y7"
        },
        {
         "line": {
          "color": "rgba(128, 128, 128, 1.0)",
          "dash": "solid",
          "shape": "linear",
          "width": 1.3
         },
         "marker": {
          "size": 2,
          "symbol": "circle"
         },
         "mode": "markers",
         "name": "B",
         "text": "",
         "type": "scatter",
         "x": [
          0.14425618902772747,
          -1.8939342901630691,
          -0.48477320187557554,
          -0.4593393791421347,
          -2.339592076557052,
          1.311590618793374,
          -1.5360766226020206,
          -1.0154550572704288,
          0.15906663364928308,
          1.3604423345007133,
          1.3399761693998393,
          0.850198098811847,
          -1.6941060098208944,
          0.730071090987942,
          1.008238072861487,
          1.795090152650695,
          1.7915821023153595,
          0.29400607548936003,
          -0.8159407247542291,
          0.19711999021411716,
          0.8200862761171573,
          0.7601527706740808,
          0.5674761250596101,
          -0.13996943397447206,
          0.17821131158800996,
          0.18457270589522828,
          1.04379920509321,
          -0.652722508495129,
          0.6420533765209736,
          -0.4138125238095458,
          -0.12275124251665397,
          0.043906853007055824,
          -1.4409741909873395,
          0.42506775241844263,
          0.9624402927611686,
          -0.5378417195821108,
          0.6295666983730309,
          0.728630216429118,
          -1.213727460550597,
          -2.130955226582706,
          -0.2704722926059495,
          0.1481866771999114,
          0.7306790471248414,
          0.21686454959768797,
          -0.6567964359887308,
          -0.6470793096094121,
          -0.4545458288756462,
          0.07580643874686249,
          0.38218791727607493,
          -0.1416109023900944,
          0.6473012260955611,
          0.5174503062831697,
          -0.5049105159658954,
          -0.34253350164476215,
          1.810332008303204,
          -0.6401565791336887,
          0.6521984402923481,
          -0.8286118338536269,
          -1.3439070316027542,
          0.7814798176632166,
          0.5011933330618819,
          -0.2704101289032435,
          -0.10057152517551457,
          0.8436212094507817,
          0.3930507355414695,
          -0.7427881549463758,
          0.4833266726881477,
          0.5888241188022255,
          1.3775067789981312,
          -1.5595366482950896,
          -1.5038190329760643,
          -1.107132252469969,
          1.8631485442387221,
          -1.2378206901207147,
          -1.5710350013202465,
          -0.6147598340911066,
          0.46604507465244216,
          0.2727181881851066,
          -0.4554496784154893,
          -0.810774896348241,
          -0.17526252760094477,
          0.015439744423981721,
          0.29040229656619315,
          1.1975379751419997,
          0.03710941225425532,
          2.5540713173081677,
          1.8321494496323845,
          -0.9681228941709391,
          1.3607493420309653,
          -1.4046817439382802,
          0.3882714876679938,
          -0.34410511941403354,
          0.9036457102811655,
          0.226559473173561,
          -0.9309352514277246,
          -0.7342069133657667,
          0.044369269608457766,
          0.09209970230315259,
          -0.5865347123319166,
          -1.3262936610426104
         ],
         "xaxis": "x8",
         "y": [
          0.39642477413478533,
          0.3017979791106031,
          -0.8683082254335007,
          0.20904761546820905,
          -1.0151385494413272,
          1.726459441137804,
          -0.915985971357377,
          1.0086740707482478,
          -1.3541085530315435,
          -0.29751376435345445,
          -0.9677119092995604,
          0.81640449993328,
          -0.31681896091569794,
          0.376691603872416,
          0.0955435591329955,
          0.3059302882053221,
          -0.40763287280287025,
          1.6209528853068607,
          -0.22050739262858718,
          1.2407691032730783,
          0.1636563461364261,
          0.11613750655239334,
          1.6532965922404759,
          -0.18031837018080812,
          -0.6598102231330875,
          1.7173440288843729,
          -0.6034913988882491,
          0.700172084595978,
          -0.8655937280498989,
          -0.07072219995759044,
          0.7252338637157283,
          1.6896643478428925,
          -1.9985550678721204,
          -1.288494222801579,
          -1.7568974963426904,
          1.19706327798354,
          -0.31731491298793957,
          1.5395547666939289,
          -0.014035010368598758,
          0.9050425509127696,
          0.8009389257192039,
          -0.08302009201298892,
          0.8171531869793346,
          -0.7938970281830412,
          0.06748229716032612,
          -0.25163340525469363,
          0.4501082789510372,
          0.7042743375651448,
          1.5786258826783846,
          0.4361285619666368,
          1.7486171274308304,
          0.867738412173522,
          0.2514370572602232,
          0.36820210750981897,
          0.45772091125516895,
          -1.2408746566028792,
          -0.6509170915331346,
          -1.8598649448554383,
          1.6667421329016379,
          0.881305758258542,
          0.2701389057885898,
          -0.0347324992409485,
          -1.1756209977978531,
          -0.9846172568564603,
          1.2800801685401286,
          -0.23730438169687665,
          1.012922776234193,
          -0.33041307438517004,
          -2.085051844871717,
          -0.9745502845039695,
          -0.5536617857028113,
          -0.590771338993367,
          -1.0698252162427944,
          0.6190627854938642,
          -0.8881704812612123,
          1.431363113773757,
          -0.007321763388780562,
          -1.92843803713575,
          -0.32707220180344077,
          -0.3061031816927142,
          0.2824028569969956,
          -0.5216603317192834,
          0.42177798337842715,
          0.8755835168934673,
          -1.5346115372015554,
          -0.18422379387988802,
          0.6494656673048684,
          0.9072613951453106,
          0.228171593180147,
          -0.2746116506540319,
          -0.028169419102425697,
          -0.42787317529700586,
          -1.3357558834404946,
          -0.790647659605685,
          -0.029415709062188093,
          0.1799045576781755,
          0.9522344570155521,
          -0.5184755826628655,
          1.1836484340050315,
          0.9778129395793809
         ],
         "yaxis": "y8"
        },
        {
         "line": {
          "color": "rgba(128, 128, 128, 1.0)",
          "dash": "solid",
          "shape": "linear",
          "width": 1.3
         },
         "marker": {
          "size": 2,
          "symbol": "circle"
         },
         "mode": "markers",
         "name": "C",
         "text": "",
         "type": "scatter",
         "x": [
          -1.5749810496858492,
          -1.3833793433667436,
          0.36588075526834546,
          1.275399849602529,
          0.5286668747009455,
          -0.7679032009223029,
          -0.17831916014732532,
          -2.257326435988866,
          0.07658860332702637,
          1.3567938287358288,
          0.31894748456236754,
          -0.33236158300706464,
          -0.5406260875570553,
          -0.37195941916552244,
          -0.3135738744446838,
          -1.010589752168183,
          -0.34346062433482266,
          -2.6744763425885423,
          0.4240381404822287,
          0.2885273430894623,
          0.08427439673144732,
          -0.23871144244853104,
          0.25740702376805175,
          0.40166934404547766,
          0.8323461834133391,
          0.380030623534109,
          0.5572622542561397,
          -0.6278502285641379,
          0.3692001447418704,
          -1.252856435011434,
          0.9396183305979209,
          2.197696282685438,
          -0.6348382801909904,
          -0.8729626381576087,
          0.05369217970057937,
          -0.028905049872739463,
          -0.12222368961439022,
          0.00866738492464321,
          -0.6367143859649672,
          -1.7133377029111103,
          0.99536125242314,
          -1.009122337998362,
          -1.360458340717226,
          0.7800896480356647,
          -0.17532259166702616,
          0.032736921693968066,
          -0.029454474920911446,
          -0.5622728532218199,
          1.7074440404654854,
          1.569656559086373,
          0.4166056558837753,
          -0.2464947669782788,
          0.051460325727519976,
          -0.5140444063570784,
          -1.4717230819608562,
          -0.833447655009454,
          2.062410774351031,
          0.3301660327167039,
          -0.5484153848392193,
          -1.0492195305040761,
          -1.019093053255773,
          1.1009944121217843,
          -1.5833892267026457,
          1.3222535001686084,
          -0.6762104727297058,
          1.1256325176591828,
          1.4931242561850617,
          -1.0115610188042432,
          -0.1710109126477292,
          0.9683985282675233,
          -0.2923692307598237,
          -0.4186511634855657,
          -0.8697287759682212,
          -0.09922350097748456,
          -0.6131434465914425,
          -0.46546756990307686,
          -2.371370606691687,
          -0.011436671066204995,
          2.3688431617731793,
          -0.440029376897687,
          -0.8353927478232571,
          -1.320643031620411,
          0.5479177999724679,
          -1.6851472200935969,
          -1.105532954107571,
          -0.7654776138021443,
          0.1639452575441152,
          -1.8061852621960486,
          0.11558384967903741,
          -2.263510071725915,
          0.03022567602240936,
          -1.1359137329317626,
          0.11757310430053158,
          0.8152531228518184,
          -0.03448705506848795,
          0.6307535692636861,
          -8.491084491530586e-05,
          0.9122527063264612,
          -0.82128369509477,
          0.6122755731166608
         ],
         "xaxis": "x9",
         "y": [
          1.0700406965603044,
          0.47320689188072074,
          0.8889381855451203,
          1.984685692613606,
          -0.9905856410306387,
          0.06186445398377224,
          -0.3781617800979096,
          -0.5895388793729588,
          0.794747252179797,
          0.9230208518575128,
          -0.6188917723964353,
          -1.2634044397458761,
          0.8899247347307317,
          -0.041802643180199814,
          1.7101356218130819,
          -1.6273021804294716,
          0.2891211909563434,
          -1.803755995261513,
          1.005594395815204,
          -0.07519807148612825,
          1.3163249604794844,
          -0.15817680256006203,
          0.26373186752905925,
          0.6055879906295724,
          -0.9385944392959061,
          0.2636575307398441,
          0.47035031066286104,
          -0.3309727058519469,
          0.7455100676917912,
          0.7755461278650121,
          0.37907845045617533,
          0.5078749537555448,
          -0.3045934543346218,
          -1.24392003983143,
          -1.1227859031564063,
          0.7800241925040196,
          -1.0089050410309925,
          0.9424424961263709,
          -1.0691859319549368,
          0.9995978697480474,
          -1.9650763312895476,
          0.3955839765822933,
          -1.4566706985457498,
          -1.202331544573614,
          -0.3874201640610675,
          -1.2071730069168236,
          0.8656900668547792,
          0.7749818255821247,
          -0.40201945311330517,
          -1.6384500942017932,
          0.05833187520551722,
          -1.3216556170659117,
          2.312488663924503,
          0.21928120392193154,
          -1.9438725062397344,
          -0.4290795310358435,
          -1.339133419340799,
          -1.2627039314108552,
          0.9056212699527014,
          -0.2363735068948559,
          1.2195893170306071,
          -0.08389414081632988,
          0.22867566500949105,
          -2.413961059554438,
          -1.1998966501201662,
          0.7401682706615308,
          -0.51156060446994,
          1.6148275387210587,
          1.344929661254416,
          0.6387451049698962,
          -0.3583917172754251,
          0.7465394883336404,
          0.15538564043812364,
          0.14011930135585737,
          0.8169262769794431,
          0.34088061999409797,
          0.889837791491532,
          0.19232642878875802,
          -1.6539027936192965,
          0.8675030093792894,
          -0.47078665249200163,
          -1.7724058935583373,
          0.10057807757294003,
          0.9598073139432325,
          -0.4148261328833594,
          -0.7557444124571863,
          -0.7030399314225763,
          -0.27235739587431007,
          0.5247804026828217,
          -0.197345784237892,
          -0.1555129303996773,
          0.055560600376472126,
          -0.1512681055853885,
          -1.3138607107599134,
          0.1293343621347584,
          0.6959648720514148,
          -0.4073834571043385,
          1.568746821382907,
          -0.41752316554302166,
          0.3544673745911766
         ],
         "yaxis": "y9"
        },
        {
         "line": {
          "color": "rgba(128, 128, 128, 1.0)",
          "dash": "solid",
          "shape": "linear",
          "width": 1.3
         },
         "marker": {
          "size": 2,
          "symbol": "circle"
         },
         "mode": "markers",
         "name": "C",
         "text": "",
         "type": "scatter",
         "x": [
          0.39642477413478533,
          0.3017979791106031,
          -0.8683082254335007,
          0.20904761546820905,
          -1.0151385494413272,
          1.726459441137804,
          -0.915985971357377,
          1.0086740707482478,
          -1.3541085530315435,
          -0.29751376435345445,
          -0.9677119092995604,
          0.81640449993328,
          -0.31681896091569794,
          0.376691603872416,
          0.0955435591329955,
          0.3059302882053221,
          -0.40763287280287025,
          1.6209528853068607,
          -0.22050739262858718,
          1.2407691032730783,
          0.1636563461364261,
          0.11613750655239334,
          1.6532965922404759,
          -0.18031837018080812,
          -0.6598102231330875,
          1.7173440288843729,
          -0.6034913988882491,
          0.700172084595978,
          -0.8655937280498989,
          -0.07072219995759044,
          0.7252338637157283,
          1.6896643478428925,
          -1.9985550678721204,
          -1.288494222801579,
          -1.7568974963426904,
          1.19706327798354,
          -0.31731491298793957,
          1.5395547666939289,
          -0.014035010368598758,
          0.9050425509127696,
          0.8009389257192039,
          -0.08302009201298892,
          0.8171531869793346,
          -0.7938970281830412,
          0.06748229716032612,
          -0.25163340525469363,
          0.4501082789510372,
          0.7042743375651448,
          1.5786258826783846,
          0.4361285619666368,
          1.7486171274308304,
          0.867738412173522,
          0.2514370572602232,
          0.36820210750981897,
          0.45772091125516895,
          -1.2408746566028792,
          -0.6509170915331346,
          -1.8598649448554383,
          1.6667421329016379,
          0.881305758258542,
          0.2701389057885898,
          -0.0347324992409485,
          -1.1756209977978531,
          -0.9846172568564603,
          1.2800801685401286,
          -0.23730438169687665,
          1.012922776234193,
          -0.33041307438517004,
          -2.085051844871717,
          -0.9745502845039695,
          -0.5536617857028113,
          -0.590771338993367,
          -1.0698252162427944,
          0.6190627854938642,
          -0.8881704812612123,
          1.431363113773757,
          -0.007321763388780562,
          -1.92843803713575,
          -0.32707220180344077,
          -0.3061031816927142,
          0.2824028569969956,
          -0.5216603317192834,
          0.42177798337842715,
          0.8755835168934673,
          -1.5346115372015554,
          -0.18422379387988802,
          0.6494656673048684,
          0.9072613951453106,
          0.228171593180147,
          -0.2746116506540319,
          -0.028169419102425697,
          -0.42787317529700586,
          -1.3357558834404946,
          -0.790647659605685,
          -0.029415709062188093,
          0.1799045576781755,
          0.9522344570155521,
          -0.5184755826628655,
          1.1836484340050315,
          0.9778129395793809
         ],
         "xaxis": "x10",
         "y": [
          1.0700406965603044,
          0.47320689188072074,
          0.8889381855451203,
          1.984685692613606,
          -0.9905856410306387,
          0.06186445398377224,
          -0.3781617800979096,
          -0.5895388793729588,
          0.794747252179797,
          0.9230208518575128,
          -0.6188917723964353,
          -1.2634044397458761,
          0.8899247347307317,
          -0.041802643180199814,
          1.7101356218130819,
          -1.6273021804294716,
          0.2891211909563434,
          -1.803755995261513,
          1.005594395815204,
          -0.07519807148612825,
          1.3163249604794844,
          -0.15817680256006203,
          0.26373186752905925,
          0.6055879906295724,
          -0.9385944392959061,
          0.2636575307398441,
          0.47035031066286104,
          -0.3309727058519469,
          0.7455100676917912,
          0.7755461278650121,
          0.37907845045617533,
          0.5078749537555448,
          -0.3045934543346218,
          -1.24392003983143,
          -1.1227859031564063,
          0.7800241925040196,
          -1.0089050410309925,
          0.9424424961263709,
          -1.0691859319549368,
          0.9995978697480474,
          -1.9650763312895476,
          0.3955839765822933,
          -1.4566706985457498,
          -1.202331544573614,
          -0.3874201640610675,
          -1.2071730069168236,
          0.8656900668547792,
          0.7749818255821247,
          -0.40201945311330517,
          -1.6384500942017932,
          0.05833187520551722,
          -1.3216556170659117,
          2.312488663924503,
          0.21928120392193154,
          -1.9438725062397344,
          -0.4290795310358435,
          -1.339133419340799,
          -1.2627039314108552,
          0.9056212699527014,
          -0.2363735068948559,
          1.2195893170306071,
          -0.08389414081632988,
          0.22867566500949105,
          -2.413961059554438,
          -1.1998966501201662,
          0.7401682706615308,
          -0.51156060446994,
          1.6148275387210587,
          1.344929661254416,
          0.6387451049698962,
          -0.3583917172754251,
          0.7465394883336404,
          0.15538564043812364,
          0.14011930135585737,
          0.8169262769794431,
          0.34088061999409797,
          0.889837791491532,
          0.19232642878875802,
          -1.6539027936192965,
          0.8675030093792894,
          -0.47078665249200163,
          -1.7724058935583373,
          0.10057807757294003,
          0.9598073139432325,
          -0.4148261328833594,
          -0.7557444124571863,
          -0.7030399314225763,
          -0.27235739587431007,
          0.5247804026828217,
          -0.197345784237892,
          -0.1555129303996773,
          0.055560600376472126,
          -0.1512681055853885,
          -1.3138607107599134,
          0.1293343621347584,
          0.6959648720514148,
          -0.4073834571043385,
          1.568746821382907,
          -0.41752316554302166,
          0.3544673745911766
         ],
         "yaxis": "y10"
        },
        {
         "histfunc": "count",
         "histnorm": "",
         "marker": {
          "color": "rgba(50, 171, 96, 1.0)",
          "line": {
           "color": "#4D5663",
           "width": 1.3
          }
         },
         "name": "C",
         "nbinsx": 10,
         "opacity": 0.8,
         "orientation": "v",
         "type": "histogram",
         "x": [
          1.0700406965603044,
          0.47320689188072074,
          0.8889381855451203,
          1.984685692613606,
          -0.9905856410306387,
          0.06186445398377224,
          -0.3781617800979096,
          -0.5895388793729588,
          0.794747252179797,
          0.9230208518575128,
          -0.6188917723964353,
          -1.2634044397458761,
          0.8899247347307317,
          -0.041802643180199814,
          1.7101356218130819,
          -1.6273021804294716,
          0.2891211909563434,
          -1.803755995261513,
          1.005594395815204,
          -0.07519807148612825,
          1.3163249604794844,
          -0.15817680256006203,
          0.26373186752905925,
          0.6055879906295724,
          -0.9385944392959061,
          0.2636575307398441,
          0.47035031066286104,
          -0.3309727058519469,
          0.7455100676917912,
          0.7755461278650121,
          0.37907845045617533,
          0.5078749537555448,
          -0.3045934543346218,
          -1.24392003983143,
          -1.1227859031564063,
          0.7800241925040196,
          -1.0089050410309925,
          0.9424424961263709,
          -1.0691859319549368,
          0.9995978697480474,
          -1.9650763312895476,
          0.3955839765822933,
          -1.4566706985457498,
          -1.202331544573614,
          -0.3874201640610675,
          -1.2071730069168236,
          0.8656900668547792,
          0.7749818255821247,
          -0.40201945311330517,
          -1.6384500942017932,
          0.05833187520551722,
          -1.3216556170659117,
          2.312488663924503,
          0.21928120392193154,
          -1.9438725062397344,
          -0.4290795310358435,
          -1.339133419340799,
          -1.2627039314108552,
          0.9056212699527014,
          -0.2363735068948559,
          1.2195893170306071,
          -0.08389414081632988,
          0.22867566500949105,
          -2.413961059554438,
          -1.1998966501201662,
          0.7401682706615308,
          -0.51156060446994,
          1.6148275387210587,
          1.344929661254416,
          0.6387451049698962,
          -0.3583917172754251,
          0.7465394883336404,
          0.15538564043812364,
          0.14011930135585737,
          0.8169262769794431,
          0.34088061999409797,
          0.889837791491532,
          0.19232642878875802,
          -1.6539027936192965,
          0.8675030093792894,
          -0.47078665249200163,
          -1.7724058935583373,
          0.10057807757294003,
          0.9598073139432325,
          -0.4148261328833594,
          -0.7557444124571863,
          -0.7030399314225763,
          -0.27235739587431007,
          0.5247804026828217,
          -0.197345784237892,
          -0.1555129303996773,
          0.055560600376472126,
          -0.1512681055853885,
          -1.3138607107599134,
          0.1293343621347584,
          0.6959648720514148,
          -0.4073834571043385,
          1.568746821382907,
          -0.41752316554302166,
          0.3544673745911766
         ],
         "xaxis": "x11",
         "yaxis": "y11"
        },
        {
         "line": {
          "color": "rgba(128, 128, 128, 1.0)",
          "dash": "solid",
          "shape": "linear",
          "width": 1.3
         },
         "marker": {
          "size": 2,
          "symbol": "circle"
         },
         "mode": "markers",
         "name": "C",
         "text": "",
         "type": "scatter",
         "x": [
          0.14425618902772747,
          -1.8939342901630691,
          -0.48477320187557554,
          -0.4593393791421347,
          -2.339592076557052,
          1.311590618793374,
          -1.5360766226020206,
          -1.0154550572704288,
          0.15906663364928308,
          1.3604423345007133,
          1.3399761693998393,
          0.850198098811847,
          -1.6941060098208944,
          0.730071090987942,
          1.008238072861487,
          1.795090152650695,
          1.7915821023153595,
          0.29400607548936003,
          -0.8159407247542291,
          0.19711999021411716,
          0.8200862761171573,
          0.7601527706740808,
          0.5674761250596101,
          -0.13996943397447206,
          0.17821131158800996,
          0.18457270589522828,
          1.04379920509321,
          -0.652722508495129,
          0.6420533765209736,
          -0.4138125238095458,
          -0.12275124251665397,
          0.043906853007055824,
          -1.4409741909873395,
          0.42506775241844263,
          0.9624402927611686,
          -0.5378417195821108,
          0.6295666983730309,
          0.728630216429118,
          -1.213727460550597,
          -2.130955226582706,
          -0.2704722926059495,
          0.1481866771999114,
          0.7306790471248414,
          0.21686454959768797,
          -0.6567964359887308,
          -0.6470793096094121,
          -0.4545458288756462,
          0.07580643874686249,
          0.38218791727607493,
          -0.1416109023900944,
          0.6473012260955611,
          0.5174503062831697,
          -0.5049105159658954,
          -0.34253350164476215,
          1.810332008303204,
          -0.6401565791336887,
          0.6521984402923481,
          -0.8286118338536269,
          -1.3439070316027542,
          0.7814798176632166,
          0.5011933330618819,
          -0.2704101289032435,
          -0.10057152517551457,
          0.8436212094507817,
          0.3930507355414695,
          -0.7427881549463758,
          0.4833266726881477,
          0.5888241188022255,
          1.3775067789981312,
          -1.5595366482950896,
          -1.5038190329760643,
          -1.107132252469969,
          1.8631485442387221,
          -1.2378206901207147,
          -1.5710350013202465,
          -0.6147598340911066,
          0.46604507465244216,
          0.2727181881851066,
          -0.4554496784154893,
          -0.810774896348241,
          -0.17526252760094477,
          0.015439744423981721,
          0.29040229656619315,
          1.1975379751419997,
          0.03710941225425532,
          2.5540713173081677,
          1.8321494496323845,
          -0.9681228941709391,
          1.3607493420309653,
          -1.4046817439382802,
          0.3882714876679938,
          -0.34410511941403354,
          0.9036457102811655,
          0.226559473173561,
          -0.9309352514277246,
          -0.7342069133657667,
          0.044369269608457766,
          0.09209970230315259,
          -0.5865347123319166,
          -1.3262936610426104
         ],
         "xaxis": "x12",
         "y": [
          1.0700406965603044,
          0.47320689188072074,
          0.8889381855451203,
          1.984685692613606,
          -0.9905856410306387,
          0.06186445398377224,
          -0.3781617800979096,
          -0.5895388793729588,
          0.794747252179797,
          0.9230208518575128,
          -0.6188917723964353,
          -1.2634044397458761,
          0.8899247347307317,
          -0.041802643180199814,
          1.7101356218130819,
          -1.6273021804294716,
          0.2891211909563434,
          -1.803755995261513,
          1.005594395815204,
          -0.07519807148612825,
          1.3163249604794844,
          -0.15817680256006203,
          0.26373186752905925,
          0.6055879906295724,
          -0.9385944392959061,
          0.2636575307398441,
          0.47035031066286104,
          -0.3309727058519469,
          0.7455100676917912,
          0.7755461278650121,
          0.37907845045617533,
          0.5078749537555448,
          -0.3045934543346218,
          -1.24392003983143,
          -1.1227859031564063,
          0.7800241925040196,
          -1.0089050410309925,
          0.9424424961263709,
          -1.0691859319549368,
          0.9995978697480474,
          -1.9650763312895476,
          0.3955839765822933,
          -1.4566706985457498,
          -1.202331544573614,
          -0.3874201640610675,
          -1.2071730069168236,
          0.8656900668547792,
          0.7749818255821247,
          -0.40201945311330517,
          -1.6384500942017932,
          0.05833187520551722,
          -1.3216556170659117,
          2.312488663924503,
          0.21928120392193154,
          -1.9438725062397344,
          -0.4290795310358435,
          -1.339133419340799,
          -1.2627039314108552,
          0.9056212699527014,
          -0.2363735068948559,
          1.2195893170306071,
          -0.08389414081632988,
          0.22867566500949105,
          -2.413961059554438,
          -1.1998966501201662,
          0.7401682706615308,
          -0.51156060446994,
          1.6148275387210587,
          1.344929661254416,
          0.6387451049698962,
          -0.3583917172754251,
          0.7465394883336404,
          0.15538564043812364,
          0.14011930135585737,
          0.8169262769794431,
          0.34088061999409797,
          0.889837791491532,
          0.19232642878875802,
          -1.6539027936192965,
          0.8675030093792894,
          -0.47078665249200163,
          -1.7724058935583373,
          0.10057807757294003,
          0.9598073139432325,
          -0.4148261328833594,
          -0.7557444124571863,
          -0.7030399314225763,
          -0.27235739587431007,
          0.5247804026828217,
          -0.197345784237892,
          -0.1555129303996773,
          0.055560600376472126,
          -0.1512681055853885,
          -1.3138607107599134,
          0.1293343621347584,
          0.6959648720514148,
          -0.4073834571043385,
          1.568746821382907,
          -0.41752316554302166,
          0.3544673745911766
         ],
         "yaxis": "y12"
        },
        {
         "line": {
          "color": "rgba(128, 128, 128, 1.0)",
          "dash": "solid",
          "shape": "linear",
          "width": 1.3
         },
         "marker": {
          "size": 2,
          "symbol": "circle"
         },
         "mode": "markers",
         "name": "D",
         "text": "",
         "type": "scatter",
         "x": [
          -1.5749810496858492,
          -1.3833793433667436,
          0.36588075526834546,
          1.275399849602529,
          0.5286668747009455,
          -0.7679032009223029,
          -0.17831916014732532,
          -2.257326435988866,
          0.07658860332702637,
          1.3567938287358288,
          0.31894748456236754,
          -0.33236158300706464,
          -0.5406260875570553,
          -0.37195941916552244,
          -0.3135738744446838,
          -1.010589752168183,
          -0.34346062433482266,
          -2.6744763425885423,
          0.4240381404822287,
          0.2885273430894623,
          0.08427439673144732,
          -0.23871144244853104,
          0.25740702376805175,
          0.40166934404547766,
          0.8323461834133391,
          0.380030623534109,
          0.5572622542561397,
          -0.6278502285641379,
          0.3692001447418704,
          -1.252856435011434,
          0.9396183305979209,
          2.197696282685438,
          -0.6348382801909904,
          -0.8729626381576087,
          0.05369217970057937,
          -0.028905049872739463,
          -0.12222368961439022,
          0.00866738492464321,
          -0.6367143859649672,
          -1.7133377029111103,
          0.99536125242314,
          -1.009122337998362,
          -1.360458340717226,
          0.7800896480356647,
          -0.17532259166702616,
          0.032736921693968066,
          -0.029454474920911446,
          -0.5622728532218199,
          1.7074440404654854,
          1.569656559086373,
          0.4166056558837753,
          -0.2464947669782788,
          0.051460325727519976,
          -0.5140444063570784,
          -1.4717230819608562,
          -0.833447655009454,
          2.062410774351031,
          0.3301660327167039,
          -0.5484153848392193,
          -1.0492195305040761,
          -1.019093053255773,
          1.1009944121217843,
          -1.5833892267026457,
          1.3222535001686084,
          -0.6762104727297058,
          1.1256325176591828,
          1.4931242561850617,
          -1.0115610188042432,
          -0.1710109126477292,
          0.9683985282675233,
          -0.2923692307598237,
          -0.4186511634855657,
          -0.8697287759682212,
          -0.09922350097748456,
          -0.6131434465914425,
          -0.46546756990307686,
          -2.371370606691687,
          -0.011436671066204995,
          2.3688431617731793,
          -0.440029376897687,
          -0.8353927478232571,
          -1.320643031620411,
          0.5479177999724679,
          -1.6851472200935969,
          -1.105532954107571,
          -0.7654776138021443,
          0.1639452575441152,
          -1.8061852621960486,
          0.11558384967903741,
          -2.263510071725915,
          0.03022567602240936,
          -1.1359137329317626,
          0.11757310430053158,
          0.8152531228518184,
          -0.03448705506848795,
          0.6307535692636861,
          -8.491084491530586e-05,
          0.9122527063264612,
          -0.82128369509477,
          0.6122755731166608
         ],
         "xaxis": "x13",
         "y": [
          0.14425618902772747,
          -1.8939342901630691,
          -0.48477320187557554,
          -0.4593393791421347,
          -2.339592076557052,
          1.311590618793374,
          -1.5360766226020206,
          -1.0154550572704288,
          0.15906663364928308,
          1.3604423345007133,
          1.3399761693998393,
          0.850198098811847,
          -1.6941060098208944,
          0.730071090987942,
          1.008238072861487,
          1.795090152650695,
          1.7915821023153595,
          0.29400607548936003,
          -0.8159407247542291,
          0.19711999021411716,
          0.8200862761171573,
          0.7601527706740808,
          0.5674761250596101,
          -0.13996943397447206,
          0.17821131158800996,
          0.18457270589522828,
          1.04379920509321,
          -0.652722508495129,
          0.6420533765209736,
          -0.4138125238095458,
          -0.12275124251665397,
          0.043906853007055824,
          -1.4409741909873395,
          0.42506775241844263,
          0.9624402927611686,
          -0.5378417195821108,
          0.6295666983730309,
          0.728630216429118,
          -1.213727460550597,
          -2.130955226582706,
          -0.2704722926059495,
          0.1481866771999114,
          0.7306790471248414,
          0.21686454959768797,
          -0.6567964359887308,
          -0.6470793096094121,
          -0.4545458288756462,
          0.07580643874686249,
          0.38218791727607493,
          -0.1416109023900944,
          0.6473012260955611,
          0.5174503062831697,
          -0.5049105159658954,
          -0.34253350164476215,
          1.810332008303204,
          -0.6401565791336887,
          0.6521984402923481,
          -0.8286118338536269,
          -1.3439070316027542,
          0.7814798176632166,
          0.5011933330618819,
          -0.2704101289032435,
          -0.10057152517551457,
          0.8436212094507817,
          0.3930507355414695,
          -0.7427881549463758,
          0.4833266726881477,
          0.5888241188022255,
          1.3775067789981312,
          -1.5595366482950896,
          -1.5038190329760643,
          -1.107132252469969,
          1.8631485442387221,
          -1.2378206901207147,
          -1.5710350013202465,
          -0.6147598340911066,
          0.46604507465244216,
          0.2727181881851066,
          -0.4554496784154893,
          -0.810774896348241,
          -0.17526252760094477,
          0.015439744423981721,
          0.29040229656619315,
          1.1975379751419997,
          0.03710941225425532,
          2.5540713173081677,
          1.8321494496323845,
          -0.9681228941709391,
          1.3607493420309653,
          -1.4046817439382802,
          0.3882714876679938,
          -0.34410511941403354,
          0.9036457102811655,
          0.226559473173561,
          -0.9309352514277246,
          -0.7342069133657667,
          0.044369269608457766,
          0.09209970230315259,
          -0.5865347123319166,
          -1.3262936610426104
         ],
         "yaxis": "y13"
        },
        {
         "line": {
          "color": "rgba(128, 128, 128, 1.0)",
          "dash": "solid",
          "shape": "linear",
          "width": 1.3
         },
         "marker": {
          "size": 2,
          "symbol": "circle"
         },
         "mode": "markers",
         "name": "D",
         "text": "",
         "type": "scatter",
         "x": [
          0.39642477413478533,
          0.3017979791106031,
          -0.8683082254335007,
          0.20904761546820905,
          -1.0151385494413272,
          1.726459441137804,
          -0.915985971357377,
          1.0086740707482478,
          -1.3541085530315435,
          -0.29751376435345445,
          -0.9677119092995604,
          0.81640449993328,
          -0.31681896091569794,
          0.376691603872416,
          0.0955435591329955,
          0.3059302882053221,
          -0.40763287280287025,
          1.6209528853068607,
          -0.22050739262858718,
          1.2407691032730783,
          0.1636563461364261,
          0.11613750655239334,
          1.6532965922404759,
          -0.18031837018080812,
          -0.6598102231330875,
          1.7173440288843729,
          -0.6034913988882491,
          0.700172084595978,
          -0.8655937280498989,
          -0.07072219995759044,
          0.7252338637157283,
          1.6896643478428925,
          -1.9985550678721204,
          -1.288494222801579,
          -1.7568974963426904,
          1.19706327798354,
          -0.31731491298793957,
          1.5395547666939289,
          -0.014035010368598758,
          0.9050425509127696,
          0.8009389257192039,
          -0.08302009201298892,
          0.8171531869793346,
          -0.7938970281830412,
          0.06748229716032612,
          -0.25163340525469363,
          0.4501082789510372,
          0.7042743375651448,
          1.5786258826783846,
          0.4361285619666368,
          1.7486171274308304,
          0.867738412173522,
          0.2514370572602232,
          0.36820210750981897,
          0.45772091125516895,
          -1.2408746566028792,
          -0.6509170915331346,
          -1.8598649448554383,
          1.6667421329016379,
          0.881305758258542,
          0.2701389057885898,
          -0.0347324992409485,
          -1.1756209977978531,
          -0.9846172568564603,
          1.2800801685401286,
          -0.23730438169687665,
          1.012922776234193,
          -0.33041307438517004,
          -2.085051844871717,
          -0.9745502845039695,
          -0.5536617857028113,
          -0.590771338993367,
          -1.0698252162427944,
          0.6190627854938642,
          -0.8881704812612123,
          1.431363113773757,
          -0.007321763388780562,
          -1.92843803713575,
          -0.32707220180344077,
          -0.3061031816927142,
          0.2824028569969956,
          -0.5216603317192834,
          0.42177798337842715,
          0.8755835168934673,
          -1.5346115372015554,
          -0.18422379387988802,
          0.6494656673048684,
          0.9072613951453106,
          0.228171593180147,
          -0.2746116506540319,
          -0.028169419102425697,
          -0.42787317529700586,
          -1.3357558834404946,
          -0.790647659605685,
          -0.029415709062188093,
          0.1799045576781755,
          0.9522344570155521,
          -0.5184755826628655,
          1.1836484340050315,
          0.9778129395793809
         ],
         "xaxis": "x14",
         "y": [
          0.14425618902772747,
          -1.8939342901630691,
          -0.48477320187557554,
          -0.4593393791421347,
          -2.339592076557052,
          1.311590618793374,
          -1.5360766226020206,
          -1.0154550572704288,
          0.15906663364928308,
          1.3604423345007133,
          1.3399761693998393,
          0.850198098811847,
          -1.6941060098208944,
          0.730071090987942,
          1.008238072861487,
          1.795090152650695,
          1.7915821023153595,
          0.29400607548936003,
          -0.8159407247542291,
          0.19711999021411716,
          0.8200862761171573,
          0.7601527706740808,
          0.5674761250596101,
          -0.13996943397447206,
          0.17821131158800996,
          0.18457270589522828,
          1.04379920509321,
          -0.652722508495129,
          0.6420533765209736,
          -0.4138125238095458,
          -0.12275124251665397,
          0.043906853007055824,
          -1.4409741909873395,
          0.42506775241844263,
          0.9624402927611686,
          -0.5378417195821108,
          0.6295666983730309,
          0.728630216429118,
          -1.213727460550597,
          -2.130955226582706,
          -0.2704722926059495,
          0.1481866771999114,
          0.7306790471248414,
          0.21686454959768797,
          -0.6567964359887308,
          -0.6470793096094121,
          -0.4545458288756462,
          0.07580643874686249,
          0.38218791727607493,
          -0.1416109023900944,
          0.6473012260955611,
          0.5174503062831697,
          -0.5049105159658954,
          -0.34253350164476215,
          1.810332008303204,
          -0.6401565791336887,
          0.6521984402923481,
          -0.8286118338536269,
          -1.3439070316027542,
          0.7814798176632166,
          0.5011933330618819,
          -0.2704101289032435,
          -0.10057152517551457,
          0.8436212094507817,
          0.3930507355414695,
          -0.7427881549463758,
          0.4833266726881477,
          0.5888241188022255,
          1.3775067789981312,
          -1.5595366482950896,
          -1.5038190329760643,
          -1.107132252469969,
          1.8631485442387221,
          -1.2378206901207147,
          -1.5710350013202465,
          -0.6147598340911066,
          0.46604507465244216,
          0.2727181881851066,
          -0.4554496784154893,
          -0.810774896348241,
          -0.17526252760094477,
          0.015439744423981721,
          0.29040229656619315,
          1.1975379751419997,
          0.03710941225425532,
          2.5540713173081677,
          1.8321494496323845,
          -0.9681228941709391,
          1.3607493420309653,
          -1.4046817439382802,
          0.3882714876679938,
          -0.34410511941403354,
          0.9036457102811655,
          0.226559473173561,
          -0.9309352514277246,
          -0.7342069133657667,
          0.044369269608457766,
          0.09209970230315259,
          -0.5865347123319166,
          -1.3262936610426104
         ],
         "yaxis": "y14"
        },
        {
         "line": {
          "color": "rgba(128, 128, 128, 1.0)",
          "dash": "solid",
          "shape": "linear",
          "width": 1.3
         },
         "marker": {
          "size": 2,
          "symbol": "circle"
         },
         "mode": "markers",
         "name": "D",
         "text": "",
         "type": "scatter",
         "x": [
          1.0700406965603044,
          0.47320689188072074,
          0.8889381855451203,
          1.984685692613606,
          -0.9905856410306387,
          0.06186445398377224,
          -0.3781617800979096,
          -0.5895388793729588,
          0.794747252179797,
          0.9230208518575128,
          -0.6188917723964353,
          -1.2634044397458761,
          0.8899247347307317,
          -0.041802643180199814,
          1.7101356218130819,
          -1.6273021804294716,
          0.2891211909563434,
          -1.803755995261513,
          1.005594395815204,
          -0.07519807148612825,
          1.3163249604794844,
          -0.15817680256006203,
          0.26373186752905925,
          0.6055879906295724,
          -0.9385944392959061,
          0.2636575307398441,
          0.47035031066286104,
          -0.3309727058519469,
          0.7455100676917912,
          0.7755461278650121,
          0.37907845045617533,
          0.5078749537555448,
          -0.3045934543346218,
          -1.24392003983143,
          -1.1227859031564063,
          0.7800241925040196,
          -1.0089050410309925,
          0.9424424961263709,
          -1.0691859319549368,
          0.9995978697480474,
          -1.9650763312895476,
          0.3955839765822933,
          -1.4566706985457498,
          -1.202331544573614,
          -0.3874201640610675,
          -1.2071730069168236,
          0.8656900668547792,
          0.7749818255821247,
          -0.40201945311330517,
          -1.6384500942017932,
          0.05833187520551722,
          -1.3216556170659117,
          2.312488663924503,
          0.21928120392193154,
          -1.9438725062397344,
          -0.4290795310358435,
          -1.339133419340799,
          -1.2627039314108552,
          0.9056212699527014,
          -0.2363735068948559,
          1.2195893170306071,
          -0.08389414081632988,
          0.22867566500949105,
          -2.413961059554438,
          -1.1998966501201662,
          0.7401682706615308,
          -0.51156060446994,
          1.6148275387210587,
          1.344929661254416,
          0.6387451049698962,
          -0.3583917172754251,
          0.7465394883336404,
          0.15538564043812364,
          0.14011930135585737,
          0.8169262769794431,
          0.34088061999409797,
          0.889837791491532,
          0.19232642878875802,
          -1.6539027936192965,
          0.8675030093792894,
          -0.47078665249200163,
          -1.7724058935583373,
          0.10057807757294003,
          0.9598073139432325,
          -0.4148261328833594,
          -0.7557444124571863,
          -0.7030399314225763,
          -0.27235739587431007,
          0.5247804026828217,
          -0.197345784237892,
          -0.1555129303996773,
          0.055560600376472126,
          -0.1512681055853885,
          -1.3138607107599134,
          0.1293343621347584,
          0.6959648720514148,
          -0.4073834571043385,
          1.568746821382907,
          -0.41752316554302166,
          0.3544673745911766
         ],
         "xaxis": "x15",
         "y": [
          0.14425618902772747,
          -1.8939342901630691,
          -0.48477320187557554,
          -0.4593393791421347,
          -2.339592076557052,
          1.311590618793374,
          -1.5360766226020206,
          -1.0154550572704288,
          0.15906663364928308,
          1.3604423345007133,
          1.3399761693998393,
          0.850198098811847,
          -1.6941060098208944,
          0.730071090987942,
          1.008238072861487,
          1.795090152650695,
          1.7915821023153595,
          0.29400607548936003,
          -0.8159407247542291,
          0.19711999021411716,
          0.8200862761171573,
          0.7601527706740808,
          0.5674761250596101,
          -0.13996943397447206,
          0.17821131158800996,
          0.18457270589522828,
          1.04379920509321,
          -0.652722508495129,
          0.6420533765209736,
          -0.4138125238095458,
          -0.12275124251665397,
          0.043906853007055824,
          -1.4409741909873395,
          0.42506775241844263,
          0.9624402927611686,
          -0.5378417195821108,
          0.6295666983730309,
          0.728630216429118,
          -1.213727460550597,
          -2.130955226582706,
          -0.2704722926059495,
          0.1481866771999114,
          0.7306790471248414,
          0.21686454959768797,
          -0.6567964359887308,
          -0.6470793096094121,
          -0.4545458288756462,
          0.07580643874686249,
          0.38218791727607493,
          -0.1416109023900944,
          0.6473012260955611,
          0.5174503062831697,
          -0.5049105159658954,
          -0.34253350164476215,
          1.810332008303204,
          -0.6401565791336887,
          0.6521984402923481,
          -0.8286118338536269,
          -1.3439070316027542,
          0.7814798176632166,
          0.5011933330618819,
          -0.2704101289032435,
          -0.10057152517551457,
          0.8436212094507817,
          0.3930507355414695,
          -0.7427881549463758,
          0.4833266726881477,
          0.5888241188022255,
          1.3775067789981312,
          -1.5595366482950896,
          -1.5038190329760643,
          -1.107132252469969,
          1.8631485442387221,
          -1.2378206901207147,
          -1.5710350013202465,
          -0.6147598340911066,
          0.46604507465244216,
          0.2727181881851066,
          -0.4554496784154893,
          -0.810774896348241,
          -0.17526252760094477,
          0.015439744423981721,
          0.29040229656619315,
          1.1975379751419997,
          0.03710941225425532,
          2.5540713173081677,
          1.8321494496323845,
          -0.9681228941709391,
          1.3607493420309653,
          -1.4046817439382802,
          0.3882714876679938,
          -0.34410511941403354,
          0.9036457102811655,
          0.226559473173561,
          -0.9309352514277246,
          -0.7342069133657667,
          0.044369269608457766,
          0.09209970230315259,
          -0.5865347123319166,
          -1.3262936610426104
         ],
         "yaxis": "y15"
        },
        {
         "histfunc": "count",
         "histnorm": "",
         "marker": {
          "color": "rgba(128, 0, 128, 1.0)",
          "line": {
           "color": "#4D5663",
           "width": 1.3
          }
         },
         "name": "D",
         "nbinsx": 10,
         "opacity": 0.8,
         "orientation": "v",
         "type": "histogram",
         "x": [
          0.14425618902772747,
          -1.8939342901630691,
          -0.48477320187557554,
          -0.4593393791421347,
          -2.339592076557052,
          1.311590618793374,
          -1.5360766226020206,
          -1.0154550572704288,
          0.15906663364928308,
          1.3604423345007133,
          1.3399761693998393,
          0.850198098811847,
          -1.6941060098208944,
          0.730071090987942,
          1.008238072861487,
          1.795090152650695,
          1.7915821023153595,
          0.29400607548936003,
          -0.8159407247542291,
          0.19711999021411716,
          0.8200862761171573,
          0.7601527706740808,
          0.5674761250596101,
          -0.13996943397447206,
          0.17821131158800996,
          0.18457270589522828,
          1.04379920509321,
          -0.652722508495129,
          0.6420533765209736,
          -0.4138125238095458,
          -0.12275124251665397,
          0.043906853007055824,
          -1.4409741909873395,
          0.42506775241844263,
          0.9624402927611686,
          -0.5378417195821108,
          0.6295666983730309,
          0.728630216429118,
          -1.213727460550597,
          -2.130955226582706,
          -0.2704722926059495,
          0.1481866771999114,
          0.7306790471248414,
          0.21686454959768797,
          -0.6567964359887308,
          -0.6470793096094121,
          -0.4545458288756462,
          0.07580643874686249,
          0.38218791727607493,
          -0.1416109023900944,
          0.6473012260955611,
          0.5174503062831697,
          -0.5049105159658954,
          -0.34253350164476215,
          1.810332008303204,
          -0.6401565791336887,
          0.6521984402923481,
          -0.8286118338536269,
          -1.3439070316027542,
          0.7814798176632166,
          0.5011933330618819,
          -0.2704101289032435,
          -0.10057152517551457,
          0.8436212094507817,
          0.3930507355414695,
          -0.7427881549463758,
          0.4833266726881477,
          0.5888241188022255,
          1.3775067789981312,
          -1.5595366482950896,
          -1.5038190329760643,
          -1.107132252469969,
          1.8631485442387221,
          -1.2378206901207147,
          -1.5710350013202465,
          -0.6147598340911066,
          0.46604507465244216,
          0.2727181881851066,
          -0.4554496784154893,
          -0.810774896348241,
          -0.17526252760094477,
          0.015439744423981721,
          0.29040229656619315,
          1.1975379751419997,
          0.03710941225425532,
          2.5540713173081677,
          1.8321494496323845,
          -0.9681228941709391,
          1.3607493420309653,
          -1.4046817439382802,
          0.3882714876679938,
          -0.34410511941403354,
          0.9036457102811655,
          0.226559473173561,
          -0.9309352514277246,
          -0.7342069133657667,
          0.044369269608457766,
          0.09209970230315259,
          -0.5865347123319166,
          -1.3262936610426104
         ],
         "xaxis": "x16",
         "yaxis": "y16"
        }
       ],
       "layout": {
        "bargap": 0.02,
        "legend": {
         "bgcolor": "#F5F6F9",
         "font": {
          "color": "#4D5663"
         }
        },
        "paper_bgcolor": "#F5F6F9",
        "plot_bgcolor": "#F5F6F9",
        "showlegend": false,
        "template": {
         "data": {
          "bar": [
           {
            "error_x": {
             "color": "#2a3f5f"
            },
            "error_y": {
             "color": "#2a3f5f"
            },
            "marker": {
             "line": {
              "color": "#E5ECF6",
              "width": 0.5
             },
             "pattern": {
              "fillmode": "overlay",
              "size": 10,
              "solidity": 0.2
             }
            },
            "type": "bar"
           }
          ],
          "barpolar": [
           {
            "marker": {
             "line": {
              "color": "#E5ECF6",
              "width": 0.5
             },
             "pattern": {
              "fillmode": "overlay",
              "size": 10,
              "solidity": 0.2
             }
            },
            "type": "barpolar"
           }
          ],
          "carpet": [
           {
            "aaxis": {
             "endlinecolor": "#2a3f5f",
             "gridcolor": "white",
             "linecolor": "white",
             "minorgridcolor": "white",
             "startlinecolor": "#2a3f5f"
            },
            "baxis": {
             "endlinecolor": "#2a3f5f",
             "gridcolor": "white",
             "linecolor": "white",
             "minorgridcolor": "white",
             "startlinecolor": "#2a3f5f"
            },
            "type": "carpet"
           }
          ],
          "choropleth": [
           {
            "colorbar": {
             "outlinewidth": 0,
             "ticks": ""
            },
            "type": "choropleth"
           }
          ],
          "contour": [
           {
            "colorbar": {
             "outlinewidth": 0,
             "ticks": ""
            },
            "colorscale": [
             [
              0,
              "#0d0887"
             ],
             [
              0.1111111111111111,
              "#46039f"
             ],
             [
              0.2222222222222222,
              "#7201a8"
             ],
             [
              0.3333333333333333,
              "#9c179e"
             ],
             [
              0.4444444444444444,
              "#bd3786"
             ],
             [
              0.5555555555555556,
              "#d8576b"
             ],
             [
              0.6666666666666666,
              "#ed7953"
             ],
             [
              0.7777777777777778,
              "#fb9f3a"
             ],
             [
              0.8888888888888888,
              "#fdca26"
             ],
             [
              1,
              "#f0f921"
             ]
            ],
            "type": "contour"
           }
          ],
          "contourcarpet": [
           {
            "colorbar": {
             "outlinewidth": 0,
             "ticks": ""
            },
            "type": "contourcarpet"
           }
          ],
          "heatmap": [
           {
            "colorbar": {
             "outlinewidth": 0,
             "ticks": ""
            },
            "colorscale": [
             [
              0,
              "#0d0887"
             ],
             [
              0.1111111111111111,
              "#46039f"
             ],
             [
              0.2222222222222222,
              "#7201a8"
             ],
             [
              0.3333333333333333,
              "#9c179e"
             ],
             [
              0.4444444444444444,
              "#bd3786"
             ],
             [
              0.5555555555555556,
              "#d8576b"
             ],
             [
              0.6666666666666666,
              "#ed7953"
             ],
             [
              0.7777777777777778,
              "#fb9f3a"
             ],
             [
              0.8888888888888888,
              "#fdca26"
             ],
             [
              1,
              "#f0f921"
             ]
            ],
            "type": "heatmap"
           }
          ],
          "heatmapgl": [
           {
            "colorbar": {
             "outlinewidth": 0,
             "ticks": ""
            },
            "colorscale": [
             [
              0,
              "#0d0887"
             ],
             [
              0.1111111111111111,
              "#46039f"
             ],
             [
              0.2222222222222222,
              "#7201a8"
             ],
             [
              0.3333333333333333,
              "#9c179e"
             ],
             [
              0.4444444444444444,
              "#bd3786"
             ],
             [
              0.5555555555555556,
              "#d8576b"
             ],
             [
              0.6666666666666666,
              "#ed7953"
             ],
             [
              0.7777777777777778,
              "#fb9f3a"
             ],
             [
              0.8888888888888888,
              "#fdca26"
             ],
             [
              1,
              "#f0f921"
             ]
            ],
            "type": "heatmapgl"
           }
          ],
          "histogram": [
           {
            "marker": {
             "pattern": {
              "fillmode": "overlay",
              "size": 10,
              "solidity": 0.2
             }
            },
            "type": "histogram"
           }
          ],
          "histogram2d": [
           {
            "colorbar": {
             "outlinewidth": 0,
             "ticks": ""
            },
            "colorscale": [
             [
              0,
              "#0d0887"
             ],
             [
              0.1111111111111111,
              "#46039f"
             ],
             [
              0.2222222222222222,
              "#7201a8"
             ],
             [
              0.3333333333333333,
              "#9c179e"
             ],
             [
              0.4444444444444444,
              "#bd3786"
             ],
             [
              0.5555555555555556,
              "#d8576b"
             ],
             [
              0.6666666666666666,
              "#ed7953"
             ],
             [
              0.7777777777777778,
              "#fb9f3a"
             ],
             [
              0.8888888888888888,
              "#fdca26"
             ],
             [
              1,
              "#f0f921"
             ]
            ],
            "type": "histogram2d"
           }
          ],
          "histogram2dcontour": [
           {
            "colorbar": {
             "outlinewidth": 0,
             "ticks": ""
            },
            "colorscale": [
             [
              0,
              "#0d0887"
             ],
             [
              0.1111111111111111,
              "#46039f"
             ],
             [
              0.2222222222222222,
              "#7201a8"
             ],
             [
              0.3333333333333333,
              "#9c179e"
             ],
             [
              0.4444444444444444,
              "#bd3786"
             ],
             [
              0.5555555555555556,
              "#d8576b"
             ],
             [
              0.6666666666666666,
              "#ed7953"
             ],
             [
              0.7777777777777778,
              "#fb9f3a"
             ],
             [
              0.8888888888888888,
              "#fdca26"
             ],
             [
              1,
              "#f0f921"
             ]
            ],
            "type": "histogram2dcontour"
           }
          ],
          "mesh3d": [
           {
            "colorbar": {
             "outlinewidth": 0,
             "ticks": ""
            },
            "type": "mesh3d"
           }
          ],
          "parcoords": [
           {
            "line": {
             "colorbar": {
              "outlinewidth": 0,
              "ticks": ""
             }
            },
            "type": "parcoords"
           }
          ],
          "pie": [
           {
            "automargin": true,
            "type": "pie"
           }
          ],
          "scatter": [
           {
            "fillpattern": {
             "fillmode": "overlay",
             "size": 10,
             "solidity": 0.2
            },
            "type": "scatter"
           }
          ],
          "scatter3d": [
           {
            "line": {
             "colorbar": {
              "outlinewidth": 0,
              "ticks": ""
             }
            },
            "marker": {
             "colorbar": {
              "outlinewidth": 0,
              "ticks": ""
             }
            },
            "type": "scatter3d"
           }
          ],
          "scattercarpet": [
           {
            "marker": {
             "colorbar": {
              "outlinewidth": 0,
              "ticks": ""
             }
            },
            "type": "scattercarpet"
           }
          ],
          "scattergeo": [
           {
            "marker": {
             "colorbar": {
              "outlinewidth": 0,
              "ticks": ""
             }
            },
            "type": "scattergeo"
           }
          ],
          "scattergl": [
           {
            "marker": {
             "colorbar": {
              "outlinewidth": 0,
              "ticks": ""
             }
            },
            "type": "scattergl"
           }
          ],
          "scattermapbox": [
           {
            "marker": {
             "colorbar": {
              "outlinewidth": 0,
              "ticks": ""
             }
            },
            "type": "scattermapbox"
           }
          ],
          "scatterpolar": [
           {
            "marker": {
             "colorbar": {
              "outlinewidth": 0,
              "ticks": ""
             }
            },
            "type": "scatterpolar"
           }
          ],
          "scatterpolargl": [
           {
            "marker": {
             "colorbar": {
              "outlinewidth": 0,
              "ticks": ""
             }
            },
            "type": "scatterpolargl"
           }
          ],
          "scatterternary": [
           {
            "marker": {
             "colorbar": {
              "outlinewidth": 0,
              "ticks": ""
             }
            },
            "type": "scatterternary"
           }
          ],
          "surface": [
           {
            "colorbar": {
             "outlinewidth": 0,
             "ticks": ""
            },
            "colorscale": [
             [
              0,
              "#0d0887"
             ],
             [
              0.1111111111111111,
              "#46039f"
             ],
             [
              0.2222222222222222,
              "#7201a8"
             ],
             [
              0.3333333333333333,
              "#9c179e"
             ],
             [
              0.4444444444444444,
              "#bd3786"
             ],
             [
              0.5555555555555556,
              "#d8576b"
             ],
             [
              0.6666666666666666,
              "#ed7953"
             ],
             [
              0.7777777777777778,
              "#fb9f3a"
             ],
             [
              0.8888888888888888,
              "#fdca26"
             ],
             [
              1,
              "#f0f921"
             ]
            ],
            "type": "surface"
           }
          ],
          "table": [
           {
            "cells": {
             "fill": {
              "color": "#EBF0F8"
             },
             "line": {
              "color": "white"
             }
            },
            "header": {
             "fill": {
              "color": "#C8D4E3"
             },
             "line": {
              "color": "white"
             }
            },
            "type": "table"
           }
          ]
         },
         "layout": {
          "annotationdefaults": {
           "arrowcolor": "#2a3f5f",
           "arrowhead": 0,
           "arrowwidth": 1
          },
          "autotypenumbers": "strict",
          "coloraxis": {
           "colorbar": {
            "outlinewidth": 0,
            "ticks": ""
           }
          },
          "colorscale": {
           "diverging": [
            [
             0,
             "#8e0152"
            ],
            [
             0.1,
             "#c51b7d"
            ],
            [
             0.2,
             "#de77ae"
            ],
            [
             0.3,
             "#f1b6da"
            ],
            [
             0.4,
             "#fde0ef"
            ],
            [
             0.5,
             "#f7f7f7"
            ],
            [
             0.6,
             "#e6f5d0"
            ],
            [
             0.7,
             "#b8e186"
            ],
            [
             0.8,
             "#7fbc41"
            ],
            [
             0.9,
             "#4d9221"
            ],
            [
             1,
             "#276419"
            ]
           ],
           "sequential": [
            [
             0,
             "#0d0887"
            ],
            [
             0.1111111111111111,
             "#46039f"
            ],
            [
             0.2222222222222222,
             "#7201a8"
            ],
            [
             0.3333333333333333,
             "#9c179e"
            ],
            [
             0.4444444444444444,
             "#bd3786"
            ],
            [
             0.5555555555555556,
             "#d8576b"
            ],
            [
             0.6666666666666666,
             "#ed7953"
            ],
            [
             0.7777777777777778,
             "#fb9f3a"
            ],
            [
             0.8888888888888888,
             "#fdca26"
            ],
            [
             1,
             "#f0f921"
            ]
           ],
           "sequentialminus": [
            [
             0,
             "#0d0887"
            ],
            [
             0.1111111111111111,
             "#46039f"
            ],
            [
             0.2222222222222222,
             "#7201a8"
            ],
            [
             0.3333333333333333,
             "#9c179e"
            ],
            [
             0.4444444444444444,
             "#bd3786"
            ],
            [
             0.5555555555555556,
             "#d8576b"
            ],
            [
             0.6666666666666666,
             "#ed7953"
            ],
            [
             0.7777777777777778,
             "#fb9f3a"
            ],
            [
             0.8888888888888888,
             "#fdca26"
            ],
            [
             1,
             "#f0f921"
            ]
           ]
          },
          "colorway": [
           "#636efa",
           "#EF553B",
           "#00cc96",
           "#ab63fa",
           "#FFA15A",
           "#19d3f3",
           "#FF6692",
           "#B6E880",
           "#FF97FF",
           "#FECB52"
          ],
          "font": {
           "color": "#2a3f5f"
          },
          "geo": {
           "bgcolor": "white",
           "lakecolor": "white",
           "landcolor": "#E5ECF6",
           "showlakes": true,
           "showland": true,
           "subunitcolor": "white"
          },
          "hoverlabel": {
           "align": "left"
          },
          "hovermode": "closest",
          "mapbox": {
           "style": "light"
          },
          "paper_bgcolor": "white",
          "plot_bgcolor": "#E5ECF6",
          "polar": {
           "angularaxis": {
            "gridcolor": "white",
            "linecolor": "white",
            "ticks": ""
           },
           "bgcolor": "#E5ECF6",
           "radialaxis": {
            "gridcolor": "white",
            "linecolor": "white",
            "ticks": ""
           }
          },
          "scene": {
           "xaxis": {
            "backgroundcolor": "#E5ECF6",
            "gridcolor": "white",
            "gridwidth": 2,
            "linecolor": "white",
            "showbackground": true,
            "ticks": "",
            "zerolinecolor": "white"
           },
           "yaxis": {
            "backgroundcolor": "#E5ECF6",
            "gridcolor": "white",
            "gridwidth": 2,
            "linecolor": "white",
            "showbackground": true,
            "ticks": "",
            "zerolinecolor": "white"
           },
           "zaxis": {
            "backgroundcolor": "#E5ECF6",
            "gridcolor": "white",
            "gridwidth": 2,
            "linecolor": "white",
            "showbackground": true,
            "ticks": "",
            "zerolinecolor": "white"
           }
          },
          "shapedefaults": {
           "line": {
            "color": "#2a3f5f"
           }
          },
          "ternary": {
           "aaxis": {
            "gridcolor": "white",
            "linecolor": "white",
            "ticks": ""
           },
           "baxis": {
            "gridcolor": "white",
            "linecolor": "white",
            "ticks": ""
           },
           "bgcolor": "#E5ECF6",
           "caxis": {
            "gridcolor": "white",
            "linecolor": "white",
            "ticks": ""
           }
          },
          "title": {
           "x": 0.05
          },
          "xaxis": {
           "automargin": true,
           "gridcolor": "white",
           "linecolor": "white",
           "ticks": "",
           "title": {
            "standoff": 15
           },
           "zerolinecolor": "white",
           "zerolinewidth": 2
          },
          "yaxis": {
           "automargin": true,
           "gridcolor": "white",
           "linecolor": "white",
           "ticks": "",
           "title": {
            "standoff": 15
           },
           "zerolinecolor": "white",
           "zerolinewidth": 2
          }
         }
        },
        "title": {
         "font": {
          "color": "#4D5663"
         }
        },
        "xaxis": {
         "anchor": "y",
         "domain": [
          0,
          0.2125
         ],
         "gridcolor": "#E1E5ED",
         "showgrid": false,
         "tickfont": {
          "color": "#4D5663"
         },
         "title": {
          "font": {
           "color": "#4D5663"
          },
          "text": ""
         },
         "zerolinecolor": "#E1E5ED"
        },
        "xaxis10": {
         "anchor": "y10",
         "domain": [
          0.2625,
          0.475
         ],
         "gridcolor": "#E1E5ED",
         "showgrid": false,
         "tickfont": {
          "color": "#4D5663"
         },
         "title": {
          "font": {
           "color": "#4D5663"
          },
          "text": ""
         },
         "zerolinecolor": "#E1E5ED"
        },
        "xaxis11": {
         "anchor": "y11",
         "domain": [
          0.525,
          0.7375
         ],
         "gridcolor": "#E1E5ED",
         "showgrid": false,
         "tickfont": {
          "color": "#4D5663"
         },
         "title": {
          "font": {
           "color": "#4D5663"
          },
          "text": ""
         },
         "zerolinecolor": "#E1E5ED"
        },
        "xaxis12": {
         "anchor": "y12",
         "domain": [
          0.7875,
          1
         ],
         "gridcolor": "#E1E5ED",
         "showgrid": false,
         "tickfont": {
          "color": "#4D5663"
         },
         "title": {
          "font": {
           "color": "#4D5663"
          },
          "text": ""
         },
         "zerolinecolor": "#E1E5ED"
        },
        "xaxis13": {
         "anchor": "y13",
         "domain": [
          0,
          0.2125
         ],
         "gridcolor": "#E1E5ED",
         "showgrid": false,
         "tickfont": {
          "color": "#4D5663"
         },
         "title": {
          "font": {
           "color": "#4D5663"
          },
          "text": ""
         },
         "zerolinecolor": "#E1E5ED"
        },
        "xaxis14": {
         "anchor": "y14",
         "domain": [
          0.2625,
          0.475
         ],
         "gridcolor": "#E1E5ED",
         "showgrid": false,
         "tickfont": {
          "color": "#4D5663"
         },
         "title": {
          "font": {
           "color": "#4D5663"
          },
          "text": ""
         },
         "zerolinecolor": "#E1E5ED"
        },
        "xaxis15": {
         "anchor": "y15",
         "domain": [
          0.525,
          0.7375
         ],
         "gridcolor": "#E1E5ED",
         "showgrid": false,
         "tickfont": {
          "color": "#4D5663"
         },
         "title": {
          "font": {
           "color": "#4D5663"
          },
          "text": ""
         },
         "zerolinecolor": "#E1E5ED"
        },
        "xaxis16": {
         "anchor": "y16",
         "domain": [
          0.7875,
          1
         ],
         "gridcolor": "#E1E5ED",
         "showgrid": false,
         "tickfont": {
          "color": "#4D5663"
         },
         "title": {
          "font": {
           "color": "#4D5663"
          },
          "text": ""
         },
         "zerolinecolor": "#E1E5ED"
        },
        "xaxis2": {
         "anchor": "y2",
         "domain": [
          0.2625,
          0.475
         ],
         "gridcolor": "#E1E5ED",
         "showgrid": false,
         "tickfont": {
          "color": "#4D5663"
         },
         "title": {
          "font": {
           "color": "#4D5663"
          },
          "text": ""
         },
         "zerolinecolor": "#E1E5ED"
        },
        "xaxis3": {
         "anchor": "y3",
         "domain": [
          0.525,
          0.7375
         ],
         "gridcolor": "#E1E5ED",
         "showgrid": false,
         "tickfont": {
          "color": "#4D5663"
         },
         "title": {
          "font": {
           "color": "#4D5663"
          },
          "text": ""
         },
         "zerolinecolor": "#E1E5ED"
        },
        "xaxis4": {
         "anchor": "y4",
         "domain": [
          0.7875,
          1
         ],
         "gridcolor": "#E1E5ED",
         "showgrid": false,
         "tickfont": {
          "color": "#4D5663"
         },
         "title": {
          "font": {
           "color": "#4D5663"
          },
          "text": ""
         },
         "zerolinecolor": "#E1E5ED"
        },
        "xaxis5": {
         "anchor": "y5",
         "domain": [
          0,
          0.2125
         ],
         "gridcolor": "#E1E5ED",
         "showgrid": false,
         "tickfont": {
          "color": "#4D5663"
         },
         "title": {
          "font": {
           "color": "#4D5663"
          },
          "text": ""
         },
         "zerolinecolor": "#E1E5ED"
        },
        "xaxis6": {
         "anchor": "y6",
         "domain": [
          0.2625,
          0.475
         ],
         "gridcolor": "#E1E5ED",
         "showgrid": false,
         "tickfont": {
          "color": "#4D5663"
         },
         "title": {
          "font": {
           "color": "#4D5663"
          },
          "text": ""
         },
         "zerolinecolor": "#E1E5ED"
        },
        "xaxis7": {
         "anchor": "y7",
         "domain": [
          0.525,
          0.7375
         ],
         "gridcolor": "#E1E5ED",
         "showgrid": false,
         "tickfont": {
          "color": "#4D5663"
         },
         "title": {
          "font": {
           "color": "#4D5663"
          },
          "text": ""
         },
         "zerolinecolor": "#E1E5ED"
        },
        "xaxis8": {
         "anchor": "y8",
         "domain": [
          0.7875,
          1
         ],
         "gridcolor": "#E1E5ED",
         "showgrid": false,
         "tickfont": {
          "color": "#4D5663"
         },
         "title": {
          "font": {
           "color": "#4D5663"
          },
          "text": ""
         },
         "zerolinecolor": "#E1E5ED"
        },
        "xaxis9": {
         "anchor": "y9",
         "domain": [
          0,
          0.2125
         ],
         "gridcolor": "#E1E5ED",
         "showgrid": false,
         "tickfont": {
          "color": "#4D5663"
         },
         "title": {
          "font": {
           "color": "#4D5663"
          },
          "text": ""
         },
         "zerolinecolor": "#E1E5ED"
        },
        "yaxis": {
         "anchor": "x",
         "domain": [
          0.8025,
          1
         ],
         "gridcolor": "#E1E5ED",
         "showgrid": false,
         "tickfont": {
          "color": "#4D5663"
         },
         "title": {
          "font": {
           "color": "#4D5663"
          },
          "text": ""
         },
         "zerolinecolor": "#E1E5ED"
        },
        "yaxis10": {
         "anchor": "x10",
         "domain": [
          0.2675,
          0.465
         ],
         "gridcolor": "#E1E5ED",
         "showgrid": false,
         "tickfont": {
          "color": "#4D5663"
         },
         "title": {
          "font": {
           "color": "#4D5663"
          },
          "text": ""
         },
         "zerolinecolor": "#E1E5ED"
        },
        "yaxis11": {
         "anchor": "x11",
         "domain": [
          0.2675,
          0.465
         ],
         "gridcolor": "#E1E5ED",
         "showgrid": false,
         "tickfont": {
          "color": "#4D5663"
         },
         "title": {
          "font": {
           "color": "#4D5663"
          },
          "text": ""
         },
         "zerolinecolor": "#E1E5ED"
        },
        "yaxis12": {
         "anchor": "x12",
         "domain": [
          0.2675,
          0.465
         ],
         "gridcolor": "#E1E5ED",
         "showgrid": false,
         "tickfont": {
          "color": "#4D5663"
         },
         "title": {
          "font": {
           "color": "#4D5663"
          },
          "text": ""
         },
         "zerolinecolor": "#E1E5ED"
        },
        "yaxis13": {
         "anchor": "x13",
         "domain": [
          0,
          0.1975
         ],
         "gridcolor": "#E1E5ED",
         "showgrid": false,
         "tickfont": {
          "color": "#4D5663"
         },
         "title": {
          "font": {
           "color": "#4D5663"
          },
          "text": ""
         },
         "zerolinecolor": "#E1E5ED"
        },
        "yaxis14": {
         "anchor": "x14",
         "domain": [
          0,
          0.1975
         ],
         "gridcolor": "#E1E5ED",
         "showgrid": false,
         "tickfont": {
          "color": "#4D5663"
         },
         "title": {
          "font": {
           "color": "#4D5663"
          },
          "text": ""
         },
         "zerolinecolor": "#E1E5ED"
        },
        "yaxis15": {
         "anchor": "x15",
         "domain": [
          0,
          0.1975
         ],
         "gridcolor": "#E1E5ED",
         "showgrid": false,
         "tickfont": {
          "color": "#4D5663"
         },
         "title": {
          "font": {
           "color": "#4D5663"
          },
          "text": ""
         },
         "zerolinecolor": "#E1E5ED"
        },
        "yaxis16": {
         "anchor": "x16",
         "domain": [
          0,
          0.1975
         ],
         "gridcolor": "#E1E5ED",
         "showgrid": false,
         "tickfont": {
          "color": "#4D5663"
         },
         "title": {
          "font": {
           "color": "#4D5663"
          },
          "text": ""
         },
         "zerolinecolor": "#E1E5ED"
        },
        "yaxis2": {
         "anchor": "x2",
         "domain": [
          0.8025,
          1
         ],
         "gridcolor": "#E1E5ED",
         "showgrid": false,
         "tickfont": {
          "color": "#4D5663"
         },
         "title": {
          "font": {
           "color": "#4D5663"
          },
          "text": ""
         },
         "zerolinecolor": "#E1E5ED"
        },
        "yaxis3": {
         "anchor": "x3",
         "domain": [
          0.8025,
          1
         ],
         "gridcolor": "#E1E5ED",
         "showgrid": false,
         "tickfont": {
          "color": "#4D5663"
         },
         "title": {
          "font": {
           "color": "#4D5663"
          },
          "text": ""
         },
         "zerolinecolor": "#E1E5ED"
        },
        "yaxis4": {
         "anchor": "x4",
         "domain": [
          0.8025,
          1
         ],
         "gridcolor": "#E1E5ED",
         "showgrid": false,
         "tickfont": {
          "color": "#4D5663"
         },
         "title": {
          "font": {
           "color": "#4D5663"
          },
          "text": ""
         },
         "zerolinecolor": "#E1E5ED"
        },
        "yaxis5": {
         "anchor": "x5",
         "domain": [
          0.535,
          0.7325
         ],
         "gridcolor": "#E1E5ED",
         "showgrid": false,
         "tickfont": {
          "color": "#4D5663"
         },
         "title": {
          "font": {
           "color": "#4D5663"
          },
          "text": ""
         },
         "zerolinecolor": "#E1E5ED"
        },
        "yaxis6": {
         "anchor": "x6",
         "domain": [
          0.535,
          0.7325
         ],
         "gridcolor": "#E1E5ED",
         "showgrid": false,
         "tickfont": {
          "color": "#4D5663"
         },
         "title": {
          "font": {
           "color": "#4D5663"
          },
          "text": ""
         },
         "zerolinecolor": "#E1E5ED"
        },
        "yaxis7": {
         "anchor": "x7",
         "domain": [
          0.535,
          0.7325
         ],
         "gridcolor": "#E1E5ED",
         "showgrid": false,
         "tickfont": {
          "color": "#4D5663"
         },
         "title": {
          "font": {
           "color": "#4D5663"
          },
          "text": ""
         },
         "zerolinecolor": "#E1E5ED"
        },
        "yaxis8": {
         "anchor": "x8",
         "domain": [
          0.535,
          0.7325
         ],
         "gridcolor": "#E1E5ED",
         "showgrid": false,
         "tickfont": {
          "color": "#4D5663"
         },
         "title": {
          "font": {
           "color": "#4D5663"
          },
          "text": ""
         },
         "zerolinecolor": "#E1E5ED"
        },
        "yaxis9": {
         "anchor": "x9",
         "domain": [
          0.2675,
          0.465
         ],
         "gridcolor": "#E1E5ED",
         "showgrid": false,
         "tickfont": {
          "color": "#4D5663"
         },
         "title": {
          "font": {
           "color": "#4D5663"
          },
          "text": ""
         },
         "zerolinecolor": "#E1E5ED"
        }
       }
      },
      "text/html": [
       "<div>                            <div id=\"84509598-0215-43ba-95d6-d87d752abb94\" class=\"plotly-graph-div\" style=\"height:525px; width:100%;\"></div>            <script type=\"text/javascript\">                require([\"plotly\"], function(Plotly) {                    window.PLOTLYENV=window.PLOTLYENV || {};\n",
       "                    window.PLOTLYENV.BASE_URL='https://plot.ly';                                    if (document.getElementById(\"84509598-0215-43ba-95d6-d87d752abb94\")) {                    Plotly.newPlot(                        \"84509598-0215-43ba-95d6-d87d752abb94\",                        [{\"histfunc\":\"count\",\"histnorm\":\"\",\"marker\":{\"color\":\"rgba(255, 153, 51, 1.0)\",\"line\":{\"color\":\"#4D5663\",\"width\":1.3}},\"name\":\"A\",\"nbinsx\":10,\"opacity\":0.8,\"orientation\":\"v\",\"x\":[-1.5749810496858492,-1.3833793433667436,0.36588075526834546,1.275399849602529,0.5286668747009455,-0.7679032009223029,-0.17831916014732532,-2.257326435988866,0.07658860332702637,1.3567938287358288,0.31894748456236754,-0.33236158300706464,-0.5406260875570553,-0.37195941916552244,-0.3135738744446838,-1.010589752168183,-0.34346062433482266,-2.6744763425885423,0.4240381404822287,0.2885273430894623,0.08427439673144732,-0.23871144244853104,0.25740702376805175,0.40166934404547766,0.8323461834133391,0.380030623534109,0.5572622542561397,-0.6278502285641379,0.3692001447418704,-1.252856435011434,0.9396183305979209,2.197696282685438,-0.6348382801909904,-0.8729626381576087,0.05369217970057937,-0.028905049872739463,-0.12222368961439022,0.00866738492464321,-0.6367143859649672,-1.7133377029111103,0.99536125242314,-1.009122337998362,-1.360458340717226,0.7800896480356647,-0.17532259166702616,0.032736921693968066,-0.029454474920911446,-0.5622728532218199,1.7074440404654854,1.569656559086373,0.4166056558837753,-0.2464947669782788,0.051460325727519976,-0.5140444063570784,-1.4717230819608562,-0.833447655009454,2.062410774351031,0.3301660327167039,-0.5484153848392193,-1.0492195305040761,-1.019093053255773,1.1009944121217843,-1.5833892267026457,1.3222535001686084,-0.6762104727297058,1.1256325176591828,1.4931242561850617,-1.0115610188042432,-0.1710109126477292,0.9683985282675233,-0.2923692307598237,-0.4186511634855657,-0.8697287759682212,-0.09922350097748456,-0.6131434465914425,-0.46546756990307686,-2.371370606691687,-0.011436671066204995,2.3688431617731793,-0.440029376897687,-0.8353927478232571,-1.320643031620411,0.5479177999724679,-1.6851472200935969,-1.105532954107571,-0.7654776138021443,0.1639452575441152,-1.8061852621960486,0.11558384967903741,-2.263510071725915,0.03022567602240936,-1.1359137329317626,0.11757310430053158,0.8152531228518184,-0.03448705506848795,0.6307535692636861,-8.491084491530586e-05,0.9122527063264612,-0.82128369509477,0.6122755731166608],\"xaxis\":\"x\",\"yaxis\":\"y\",\"type\":\"histogram\"},{\"line\":{\"color\":\"rgba(128, 128, 128, 1.0)\",\"dash\":\"solid\",\"shape\":\"linear\",\"width\":1.3},\"marker\":{\"size\":2,\"symbol\":\"circle\"},\"mode\":\"markers\",\"name\":\"A\",\"text\":\"\",\"x\":[0.39642477413478533,0.3017979791106031,-0.8683082254335007,0.20904761546820905,-1.0151385494413272,1.726459441137804,-0.915985971357377,1.0086740707482478,-1.3541085530315435,-0.29751376435345445,-0.9677119092995604,0.81640449993328,-0.31681896091569794,0.376691603872416,0.0955435591329955,0.3059302882053221,-0.40763287280287025,1.6209528853068607,-0.22050739262858718,1.2407691032730783,0.1636563461364261,0.11613750655239334,1.6532965922404759,-0.18031837018080812,-0.6598102231330875,1.7173440288843729,-0.6034913988882491,0.700172084595978,-0.8655937280498989,-0.07072219995759044,0.7252338637157283,1.6896643478428925,-1.9985550678721204,-1.288494222801579,-1.7568974963426904,1.19706327798354,-0.31731491298793957,1.5395547666939289,-0.014035010368598758,0.9050425509127696,0.8009389257192039,-0.08302009201298892,0.8171531869793346,-0.7938970281830412,0.06748229716032612,-0.25163340525469363,0.4501082789510372,0.7042743375651448,1.5786258826783846,0.4361285619666368,1.7486171274308304,0.867738412173522,0.2514370572602232,0.36820210750981897,0.45772091125516895,-1.2408746566028792,-0.6509170915331346,-1.8598649448554383,1.6667421329016379,0.881305758258542,0.2701389057885898,-0.0347324992409485,-1.1756209977978531,-0.9846172568564603,1.2800801685401286,-0.23730438169687665,1.012922776234193,-0.33041307438517004,-2.085051844871717,-0.9745502845039695,-0.5536617857028113,-0.590771338993367,-1.0698252162427944,0.6190627854938642,-0.8881704812612123,1.431363113773757,-0.007321763388780562,-1.92843803713575,-0.32707220180344077,-0.3061031816927142,0.2824028569969956,-0.5216603317192834,0.42177798337842715,0.8755835168934673,-1.5346115372015554,-0.18422379387988802,0.6494656673048684,0.9072613951453106,0.228171593180147,-0.2746116506540319,-0.028169419102425697,-0.42787317529700586,-1.3357558834404946,-0.790647659605685,-0.029415709062188093,0.1799045576781755,0.9522344570155521,-0.5184755826628655,1.1836484340050315,0.9778129395793809],\"xaxis\":\"x2\",\"y\":[-1.5749810496858492,-1.3833793433667436,0.36588075526834546,1.275399849602529,0.5286668747009455,-0.7679032009223029,-0.17831916014732532,-2.257326435988866,0.07658860332702637,1.3567938287358288,0.31894748456236754,-0.33236158300706464,-0.5406260875570553,-0.37195941916552244,-0.3135738744446838,-1.010589752168183,-0.34346062433482266,-2.6744763425885423,0.4240381404822287,0.2885273430894623,0.08427439673144732,-0.23871144244853104,0.25740702376805175,0.40166934404547766,0.8323461834133391,0.380030623534109,0.5572622542561397,-0.6278502285641379,0.3692001447418704,-1.252856435011434,0.9396183305979209,2.197696282685438,-0.6348382801909904,-0.8729626381576087,0.05369217970057937,-0.028905049872739463,-0.12222368961439022,0.00866738492464321,-0.6367143859649672,-1.7133377029111103,0.99536125242314,-1.009122337998362,-1.360458340717226,0.7800896480356647,-0.17532259166702616,0.032736921693968066,-0.029454474920911446,-0.5622728532218199,1.7074440404654854,1.569656559086373,0.4166056558837753,-0.2464947669782788,0.051460325727519976,-0.5140444063570784,-1.4717230819608562,-0.833447655009454,2.062410774351031,0.3301660327167039,-0.5484153848392193,-1.0492195305040761,-1.019093053255773,1.1009944121217843,-1.5833892267026457,1.3222535001686084,-0.6762104727297058,1.1256325176591828,1.4931242561850617,-1.0115610188042432,-0.1710109126477292,0.9683985282675233,-0.2923692307598237,-0.4186511634855657,-0.8697287759682212,-0.09922350097748456,-0.6131434465914425,-0.46546756990307686,-2.371370606691687,-0.011436671066204995,2.3688431617731793,-0.440029376897687,-0.8353927478232571,-1.320643031620411,0.5479177999724679,-1.6851472200935969,-1.105532954107571,-0.7654776138021443,0.1639452575441152,-1.8061852621960486,0.11558384967903741,-2.263510071725915,0.03022567602240936,-1.1359137329317626,0.11757310430053158,0.8152531228518184,-0.03448705506848795,0.6307535692636861,-8.491084491530586e-05,0.9122527063264612,-0.82128369509477,0.6122755731166608],\"yaxis\":\"y2\",\"type\":\"scatter\"},{\"line\":{\"color\":\"rgba(128, 128, 128, 1.0)\",\"dash\":\"solid\",\"shape\":\"linear\",\"width\":1.3},\"marker\":{\"size\":2,\"symbol\":\"circle\"},\"mode\":\"markers\",\"name\":\"A\",\"text\":\"\",\"x\":[1.0700406965603044,0.47320689188072074,0.8889381855451203,1.984685692613606,-0.9905856410306387,0.06186445398377224,-0.3781617800979096,-0.5895388793729588,0.794747252179797,0.9230208518575128,-0.6188917723964353,-1.2634044397458761,0.8899247347307317,-0.041802643180199814,1.7101356218130819,-1.6273021804294716,0.2891211909563434,-1.803755995261513,1.005594395815204,-0.07519807148612825,1.3163249604794844,-0.15817680256006203,0.26373186752905925,0.6055879906295724,-0.9385944392959061,0.2636575307398441,0.47035031066286104,-0.3309727058519469,0.7455100676917912,0.7755461278650121,0.37907845045617533,0.5078749537555448,-0.3045934543346218,-1.24392003983143,-1.1227859031564063,0.7800241925040196,-1.0089050410309925,0.9424424961263709,-1.0691859319549368,0.9995978697480474,-1.9650763312895476,0.3955839765822933,-1.4566706985457498,-1.202331544573614,-0.3874201640610675,-1.2071730069168236,0.8656900668547792,0.7749818255821247,-0.40201945311330517,-1.6384500942017932,0.05833187520551722,-1.3216556170659117,2.312488663924503,0.21928120392193154,-1.9438725062397344,-0.4290795310358435,-1.339133419340799,-1.2627039314108552,0.9056212699527014,-0.2363735068948559,1.2195893170306071,-0.08389414081632988,0.22867566500949105,-2.413961059554438,-1.1998966501201662,0.7401682706615308,-0.51156060446994,1.6148275387210587,1.344929661254416,0.6387451049698962,-0.3583917172754251,0.7465394883336404,0.15538564043812364,0.14011930135585737,0.8169262769794431,0.34088061999409797,0.889837791491532,0.19232642878875802,-1.6539027936192965,0.8675030093792894,-0.47078665249200163,-1.7724058935583373,0.10057807757294003,0.9598073139432325,-0.4148261328833594,-0.7557444124571863,-0.7030399314225763,-0.27235739587431007,0.5247804026828217,-0.197345784237892,-0.1555129303996773,0.055560600376472126,-0.1512681055853885,-1.3138607107599134,0.1293343621347584,0.6959648720514148,-0.4073834571043385,1.568746821382907,-0.41752316554302166,0.3544673745911766],\"xaxis\":\"x3\",\"y\":[-1.5749810496858492,-1.3833793433667436,0.36588075526834546,1.275399849602529,0.5286668747009455,-0.7679032009223029,-0.17831916014732532,-2.257326435988866,0.07658860332702637,1.3567938287358288,0.31894748456236754,-0.33236158300706464,-0.5406260875570553,-0.37195941916552244,-0.3135738744446838,-1.010589752168183,-0.34346062433482266,-2.6744763425885423,0.4240381404822287,0.2885273430894623,0.08427439673144732,-0.23871144244853104,0.25740702376805175,0.40166934404547766,0.8323461834133391,0.380030623534109,0.5572622542561397,-0.6278502285641379,0.3692001447418704,-1.252856435011434,0.9396183305979209,2.197696282685438,-0.6348382801909904,-0.8729626381576087,0.05369217970057937,-0.028905049872739463,-0.12222368961439022,0.00866738492464321,-0.6367143859649672,-1.7133377029111103,0.99536125242314,-1.009122337998362,-1.360458340717226,0.7800896480356647,-0.17532259166702616,0.032736921693968066,-0.029454474920911446,-0.5622728532218199,1.7074440404654854,1.569656559086373,0.4166056558837753,-0.2464947669782788,0.051460325727519976,-0.5140444063570784,-1.4717230819608562,-0.833447655009454,2.062410774351031,0.3301660327167039,-0.5484153848392193,-1.0492195305040761,-1.019093053255773,1.1009944121217843,-1.5833892267026457,1.3222535001686084,-0.6762104727297058,1.1256325176591828,1.4931242561850617,-1.0115610188042432,-0.1710109126477292,0.9683985282675233,-0.2923692307598237,-0.4186511634855657,-0.8697287759682212,-0.09922350097748456,-0.6131434465914425,-0.46546756990307686,-2.371370606691687,-0.011436671066204995,2.3688431617731793,-0.440029376897687,-0.8353927478232571,-1.320643031620411,0.5479177999724679,-1.6851472200935969,-1.105532954107571,-0.7654776138021443,0.1639452575441152,-1.8061852621960486,0.11558384967903741,-2.263510071725915,0.03022567602240936,-1.1359137329317626,0.11757310430053158,0.8152531228518184,-0.03448705506848795,0.6307535692636861,-8.491084491530586e-05,0.9122527063264612,-0.82128369509477,0.6122755731166608],\"yaxis\":\"y3\",\"type\":\"scatter\"},{\"line\":{\"color\":\"rgba(128, 128, 128, 1.0)\",\"dash\":\"solid\",\"shape\":\"linear\",\"width\":1.3},\"marker\":{\"size\":2,\"symbol\":\"circle\"},\"mode\":\"markers\",\"name\":\"A\",\"text\":\"\",\"x\":[0.14425618902772747,-1.8939342901630691,-0.48477320187557554,-0.4593393791421347,-2.339592076557052,1.311590618793374,-1.5360766226020206,-1.0154550572704288,0.15906663364928308,1.3604423345007133,1.3399761693998393,0.850198098811847,-1.6941060098208944,0.730071090987942,1.008238072861487,1.795090152650695,1.7915821023153595,0.29400607548936003,-0.8159407247542291,0.19711999021411716,0.8200862761171573,0.7601527706740808,0.5674761250596101,-0.13996943397447206,0.17821131158800996,0.18457270589522828,1.04379920509321,-0.652722508495129,0.6420533765209736,-0.4138125238095458,-0.12275124251665397,0.043906853007055824,-1.4409741909873395,0.42506775241844263,0.9624402927611686,-0.5378417195821108,0.6295666983730309,0.728630216429118,-1.213727460550597,-2.130955226582706,-0.2704722926059495,0.1481866771999114,0.7306790471248414,0.21686454959768797,-0.6567964359887308,-0.6470793096094121,-0.4545458288756462,0.07580643874686249,0.38218791727607493,-0.1416109023900944,0.6473012260955611,0.5174503062831697,-0.5049105159658954,-0.34253350164476215,1.810332008303204,-0.6401565791336887,0.6521984402923481,-0.8286118338536269,-1.3439070316027542,0.7814798176632166,0.5011933330618819,-0.2704101289032435,-0.10057152517551457,0.8436212094507817,0.3930507355414695,-0.7427881549463758,0.4833266726881477,0.5888241188022255,1.3775067789981312,-1.5595366482950896,-1.5038190329760643,-1.107132252469969,1.8631485442387221,-1.2378206901207147,-1.5710350013202465,-0.6147598340911066,0.46604507465244216,0.2727181881851066,-0.4554496784154893,-0.810774896348241,-0.17526252760094477,0.015439744423981721,0.29040229656619315,1.1975379751419997,0.03710941225425532,2.5540713173081677,1.8321494496323845,-0.9681228941709391,1.3607493420309653,-1.4046817439382802,0.3882714876679938,-0.34410511941403354,0.9036457102811655,0.226559473173561,-0.9309352514277246,-0.7342069133657667,0.044369269608457766,0.09209970230315259,-0.5865347123319166,-1.3262936610426104],\"xaxis\":\"x4\",\"y\":[-1.5749810496858492,-1.3833793433667436,0.36588075526834546,1.275399849602529,0.5286668747009455,-0.7679032009223029,-0.17831916014732532,-2.257326435988866,0.07658860332702637,1.3567938287358288,0.31894748456236754,-0.33236158300706464,-0.5406260875570553,-0.37195941916552244,-0.3135738744446838,-1.010589752168183,-0.34346062433482266,-2.6744763425885423,0.4240381404822287,0.2885273430894623,0.08427439673144732,-0.23871144244853104,0.25740702376805175,0.40166934404547766,0.8323461834133391,0.380030623534109,0.5572622542561397,-0.6278502285641379,0.3692001447418704,-1.252856435011434,0.9396183305979209,2.197696282685438,-0.6348382801909904,-0.8729626381576087,0.05369217970057937,-0.028905049872739463,-0.12222368961439022,0.00866738492464321,-0.6367143859649672,-1.7133377029111103,0.99536125242314,-1.009122337998362,-1.360458340717226,0.7800896480356647,-0.17532259166702616,0.032736921693968066,-0.029454474920911446,-0.5622728532218199,1.7074440404654854,1.569656559086373,0.4166056558837753,-0.2464947669782788,0.051460325727519976,-0.5140444063570784,-1.4717230819608562,-0.833447655009454,2.062410774351031,0.3301660327167039,-0.5484153848392193,-1.0492195305040761,-1.019093053255773,1.1009944121217843,-1.5833892267026457,1.3222535001686084,-0.6762104727297058,1.1256325176591828,1.4931242561850617,-1.0115610188042432,-0.1710109126477292,0.9683985282675233,-0.2923692307598237,-0.4186511634855657,-0.8697287759682212,-0.09922350097748456,-0.6131434465914425,-0.46546756990307686,-2.371370606691687,-0.011436671066204995,2.3688431617731793,-0.440029376897687,-0.8353927478232571,-1.320643031620411,0.5479177999724679,-1.6851472200935969,-1.105532954107571,-0.7654776138021443,0.1639452575441152,-1.8061852621960486,0.11558384967903741,-2.263510071725915,0.03022567602240936,-1.1359137329317626,0.11757310430053158,0.8152531228518184,-0.03448705506848795,0.6307535692636861,-8.491084491530586e-05,0.9122527063264612,-0.82128369509477,0.6122755731166608],\"yaxis\":\"y4\",\"type\":\"scatter\"},{\"line\":{\"color\":\"rgba(128, 128, 128, 1.0)\",\"dash\":\"solid\",\"shape\":\"linear\",\"width\":1.3},\"marker\":{\"size\":2,\"symbol\":\"circle\"},\"mode\":\"markers\",\"name\":\"B\",\"text\":\"\",\"x\":[-1.5749810496858492,-1.3833793433667436,0.36588075526834546,1.275399849602529,0.5286668747009455,-0.7679032009223029,-0.17831916014732532,-2.257326435988866,0.07658860332702637,1.3567938287358288,0.31894748456236754,-0.33236158300706464,-0.5406260875570553,-0.37195941916552244,-0.3135738744446838,-1.010589752168183,-0.34346062433482266,-2.6744763425885423,0.4240381404822287,0.2885273430894623,0.08427439673144732,-0.23871144244853104,0.25740702376805175,0.40166934404547766,0.8323461834133391,0.380030623534109,0.5572622542561397,-0.6278502285641379,0.3692001447418704,-1.252856435011434,0.9396183305979209,2.197696282685438,-0.6348382801909904,-0.8729626381576087,0.05369217970057937,-0.028905049872739463,-0.12222368961439022,0.00866738492464321,-0.6367143859649672,-1.7133377029111103,0.99536125242314,-1.009122337998362,-1.360458340717226,0.7800896480356647,-0.17532259166702616,0.032736921693968066,-0.029454474920911446,-0.5622728532218199,1.7074440404654854,1.569656559086373,0.4166056558837753,-0.2464947669782788,0.051460325727519976,-0.5140444063570784,-1.4717230819608562,-0.833447655009454,2.062410774351031,0.3301660327167039,-0.5484153848392193,-1.0492195305040761,-1.019093053255773,1.1009944121217843,-1.5833892267026457,1.3222535001686084,-0.6762104727297058,1.1256325176591828,1.4931242561850617,-1.0115610188042432,-0.1710109126477292,0.9683985282675233,-0.2923692307598237,-0.4186511634855657,-0.8697287759682212,-0.09922350097748456,-0.6131434465914425,-0.46546756990307686,-2.371370606691687,-0.011436671066204995,2.3688431617731793,-0.440029376897687,-0.8353927478232571,-1.320643031620411,0.5479177999724679,-1.6851472200935969,-1.105532954107571,-0.7654776138021443,0.1639452575441152,-1.8061852621960486,0.11558384967903741,-2.263510071725915,0.03022567602240936,-1.1359137329317626,0.11757310430053158,0.8152531228518184,-0.03448705506848795,0.6307535692636861,-8.491084491530586e-05,0.9122527063264612,-0.82128369509477,0.6122755731166608],\"xaxis\":\"x5\",\"y\":[0.39642477413478533,0.3017979791106031,-0.8683082254335007,0.20904761546820905,-1.0151385494413272,1.726459441137804,-0.915985971357377,1.0086740707482478,-1.3541085530315435,-0.29751376435345445,-0.9677119092995604,0.81640449993328,-0.31681896091569794,0.376691603872416,0.0955435591329955,0.3059302882053221,-0.40763287280287025,1.6209528853068607,-0.22050739262858718,1.2407691032730783,0.1636563461364261,0.11613750655239334,1.6532965922404759,-0.18031837018080812,-0.6598102231330875,1.7173440288843729,-0.6034913988882491,0.700172084595978,-0.8655937280498989,-0.07072219995759044,0.7252338637157283,1.6896643478428925,-1.9985550678721204,-1.288494222801579,-1.7568974963426904,1.19706327798354,-0.31731491298793957,1.5395547666939289,-0.014035010368598758,0.9050425509127696,0.8009389257192039,-0.08302009201298892,0.8171531869793346,-0.7938970281830412,0.06748229716032612,-0.25163340525469363,0.4501082789510372,0.7042743375651448,1.5786258826783846,0.4361285619666368,1.7486171274308304,0.867738412173522,0.2514370572602232,0.36820210750981897,0.45772091125516895,-1.2408746566028792,-0.6509170915331346,-1.8598649448554383,1.6667421329016379,0.881305758258542,0.2701389057885898,-0.0347324992409485,-1.1756209977978531,-0.9846172568564603,1.2800801685401286,-0.23730438169687665,1.012922776234193,-0.33041307438517004,-2.085051844871717,-0.9745502845039695,-0.5536617857028113,-0.590771338993367,-1.0698252162427944,0.6190627854938642,-0.8881704812612123,1.431363113773757,-0.007321763388780562,-1.92843803713575,-0.32707220180344077,-0.3061031816927142,0.2824028569969956,-0.5216603317192834,0.42177798337842715,0.8755835168934673,-1.5346115372015554,-0.18422379387988802,0.6494656673048684,0.9072613951453106,0.228171593180147,-0.2746116506540319,-0.028169419102425697,-0.42787317529700586,-1.3357558834404946,-0.790647659605685,-0.029415709062188093,0.1799045576781755,0.9522344570155521,-0.5184755826628655,1.1836484340050315,0.9778129395793809],\"yaxis\":\"y5\",\"type\":\"scatter\"},{\"histfunc\":\"count\",\"histnorm\":\"\",\"marker\":{\"color\":\"rgba(55, 128, 191, 1.0)\",\"line\":{\"color\":\"#4D5663\",\"width\":1.3}},\"name\":\"B\",\"nbinsx\":10,\"opacity\":0.8,\"orientation\":\"v\",\"x\":[0.39642477413478533,0.3017979791106031,-0.8683082254335007,0.20904761546820905,-1.0151385494413272,1.726459441137804,-0.915985971357377,1.0086740707482478,-1.3541085530315435,-0.29751376435345445,-0.9677119092995604,0.81640449993328,-0.31681896091569794,0.376691603872416,0.0955435591329955,0.3059302882053221,-0.40763287280287025,1.6209528853068607,-0.22050739262858718,1.2407691032730783,0.1636563461364261,0.11613750655239334,1.6532965922404759,-0.18031837018080812,-0.6598102231330875,1.7173440288843729,-0.6034913988882491,0.700172084595978,-0.8655937280498989,-0.07072219995759044,0.7252338637157283,1.6896643478428925,-1.9985550678721204,-1.288494222801579,-1.7568974963426904,1.19706327798354,-0.31731491298793957,1.5395547666939289,-0.014035010368598758,0.9050425509127696,0.8009389257192039,-0.08302009201298892,0.8171531869793346,-0.7938970281830412,0.06748229716032612,-0.25163340525469363,0.4501082789510372,0.7042743375651448,1.5786258826783846,0.4361285619666368,1.7486171274308304,0.867738412173522,0.2514370572602232,0.36820210750981897,0.45772091125516895,-1.2408746566028792,-0.6509170915331346,-1.8598649448554383,1.6667421329016379,0.881305758258542,0.2701389057885898,-0.0347324992409485,-1.1756209977978531,-0.9846172568564603,1.2800801685401286,-0.23730438169687665,1.012922776234193,-0.33041307438517004,-2.085051844871717,-0.9745502845039695,-0.5536617857028113,-0.590771338993367,-1.0698252162427944,0.6190627854938642,-0.8881704812612123,1.431363113773757,-0.007321763388780562,-1.92843803713575,-0.32707220180344077,-0.3061031816927142,0.2824028569969956,-0.5216603317192834,0.42177798337842715,0.8755835168934673,-1.5346115372015554,-0.18422379387988802,0.6494656673048684,0.9072613951453106,0.228171593180147,-0.2746116506540319,-0.028169419102425697,-0.42787317529700586,-1.3357558834404946,-0.790647659605685,-0.029415709062188093,0.1799045576781755,0.9522344570155521,-0.5184755826628655,1.1836484340050315,0.9778129395793809],\"xaxis\":\"x6\",\"yaxis\":\"y6\",\"type\":\"histogram\"},{\"line\":{\"color\":\"rgba(128, 128, 128, 1.0)\",\"dash\":\"solid\",\"shape\":\"linear\",\"width\":1.3},\"marker\":{\"size\":2,\"symbol\":\"circle\"},\"mode\":\"markers\",\"name\":\"B\",\"text\":\"\",\"x\":[1.0700406965603044,0.47320689188072074,0.8889381855451203,1.984685692613606,-0.9905856410306387,0.06186445398377224,-0.3781617800979096,-0.5895388793729588,0.794747252179797,0.9230208518575128,-0.6188917723964353,-1.2634044397458761,0.8899247347307317,-0.041802643180199814,1.7101356218130819,-1.6273021804294716,0.2891211909563434,-1.803755995261513,1.005594395815204,-0.07519807148612825,1.3163249604794844,-0.15817680256006203,0.26373186752905925,0.6055879906295724,-0.9385944392959061,0.2636575307398441,0.47035031066286104,-0.3309727058519469,0.7455100676917912,0.7755461278650121,0.37907845045617533,0.5078749537555448,-0.3045934543346218,-1.24392003983143,-1.1227859031564063,0.7800241925040196,-1.0089050410309925,0.9424424961263709,-1.0691859319549368,0.9995978697480474,-1.9650763312895476,0.3955839765822933,-1.4566706985457498,-1.202331544573614,-0.3874201640610675,-1.2071730069168236,0.8656900668547792,0.7749818255821247,-0.40201945311330517,-1.6384500942017932,0.05833187520551722,-1.3216556170659117,2.312488663924503,0.21928120392193154,-1.9438725062397344,-0.4290795310358435,-1.339133419340799,-1.2627039314108552,0.9056212699527014,-0.2363735068948559,1.2195893170306071,-0.08389414081632988,0.22867566500949105,-2.413961059554438,-1.1998966501201662,0.7401682706615308,-0.51156060446994,1.6148275387210587,1.344929661254416,0.6387451049698962,-0.3583917172754251,0.7465394883336404,0.15538564043812364,0.14011930135585737,0.8169262769794431,0.34088061999409797,0.889837791491532,0.19232642878875802,-1.6539027936192965,0.8675030093792894,-0.47078665249200163,-1.7724058935583373,0.10057807757294003,0.9598073139432325,-0.4148261328833594,-0.7557444124571863,-0.7030399314225763,-0.27235739587431007,0.5247804026828217,-0.197345784237892,-0.1555129303996773,0.055560600376472126,-0.1512681055853885,-1.3138607107599134,0.1293343621347584,0.6959648720514148,-0.4073834571043385,1.568746821382907,-0.41752316554302166,0.3544673745911766],\"xaxis\":\"x7\",\"y\":[0.39642477413478533,0.3017979791106031,-0.8683082254335007,0.20904761546820905,-1.0151385494413272,1.726459441137804,-0.915985971357377,1.0086740707482478,-1.3541085530315435,-0.29751376435345445,-0.9677119092995604,0.81640449993328,-0.31681896091569794,0.376691603872416,0.0955435591329955,0.3059302882053221,-0.40763287280287025,1.6209528853068607,-0.22050739262858718,1.2407691032730783,0.1636563461364261,0.11613750655239334,1.6532965922404759,-0.18031837018080812,-0.6598102231330875,1.7173440288843729,-0.6034913988882491,0.700172084595978,-0.8655937280498989,-0.07072219995759044,0.7252338637157283,1.6896643478428925,-1.9985550678721204,-1.288494222801579,-1.7568974963426904,1.19706327798354,-0.31731491298793957,1.5395547666939289,-0.014035010368598758,0.9050425509127696,0.8009389257192039,-0.08302009201298892,0.8171531869793346,-0.7938970281830412,0.06748229716032612,-0.25163340525469363,0.4501082789510372,0.7042743375651448,1.5786258826783846,0.4361285619666368,1.7486171274308304,0.867738412173522,0.2514370572602232,0.36820210750981897,0.45772091125516895,-1.2408746566028792,-0.6509170915331346,-1.8598649448554383,1.6667421329016379,0.881305758258542,0.2701389057885898,-0.0347324992409485,-1.1756209977978531,-0.9846172568564603,1.2800801685401286,-0.23730438169687665,1.012922776234193,-0.33041307438517004,-2.085051844871717,-0.9745502845039695,-0.5536617857028113,-0.590771338993367,-1.0698252162427944,0.6190627854938642,-0.8881704812612123,1.431363113773757,-0.007321763388780562,-1.92843803713575,-0.32707220180344077,-0.3061031816927142,0.2824028569969956,-0.5216603317192834,0.42177798337842715,0.8755835168934673,-1.5346115372015554,-0.18422379387988802,0.6494656673048684,0.9072613951453106,0.228171593180147,-0.2746116506540319,-0.028169419102425697,-0.42787317529700586,-1.3357558834404946,-0.790647659605685,-0.029415709062188093,0.1799045576781755,0.9522344570155521,-0.5184755826628655,1.1836484340050315,0.9778129395793809],\"yaxis\":\"y7\",\"type\":\"scatter\"},{\"line\":{\"color\":\"rgba(128, 128, 128, 1.0)\",\"dash\":\"solid\",\"shape\":\"linear\",\"width\":1.3},\"marker\":{\"size\":2,\"symbol\":\"circle\"},\"mode\":\"markers\",\"name\":\"B\",\"text\":\"\",\"x\":[0.14425618902772747,-1.8939342901630691,-0.48477320187557554,-0.4593393791421347,-2.339592076557052,1.311590618793374,-1.5360766226020206,-1.0154550572704288,0.15906663364928308,1.3604423345007133,1.3399761693998393,0.850198098811847,-1.6941060098208944,0.730071090987942,1.008238072861487,1.795090152650695,1.7915821023153595,0.29400607548936003,-0.8159407247542291,0.19711999021411716,0.8200862761171573,0.7601527706740808,0.5674761250596101,-0.13996943397447206,0.17821131158800996,0.18457270589522828,1.04379920509321,-0.652722508495129,0.6420533765209736,-0.4138125238095458,-0.12275124251665397,0.043906853007055824,-1.4409741909873395,0.42506775241844263,0.9624402927611686,-0.5378417195821108,0.6295666983730309,0.728630216429118,-1.213727460550597,-2.130955226582706,-0.2704722926059495,0.1481866771999114,0.7306790471248414,0.21686454959768797,-0.6567964359887308,-0.6470793096094121,-0.4545458288756462,0.07580643874686249,0.38218791727607493,-0.1416109023900944,0.6473012260955611,0.5174503062831697,-0.5049105159658954,-0.34253350164476215,1.810332008303204,-0.6401565791336887,0.6521984402923481,-0.8286118338536269,-1.3439070316027542,0.7814798176632166,0.5011933330618819,-0.2704101289032435,-0.10057152517551457,0.8436212094507817,0.3930507355414695,-0.7427881549463758,0.4833266726881477,0.5888241188022255,1.3775067789981312,-1.5595366482950896,-1.5038190329760643,-1.107132252469969,1.8631485442387221,-1.2378206901207147,-1.5710350013202465,-0.6147598340911066,0.46604507465244216,0.2727181881851066,-0.4554496784154893,-0.810774896348241,-0.17526252760094477,0.015439744423981721,0.29040229656619315,1.1975379751419997,0.03710941225425532,2.5540713173081677,1.8321494496323845,-0.9681228941709391,1.3607493420309653,-1.4046817439382802,0.3882714876679938,-0.34410511941403354,0.9036457102811655,0.226559473173561,-0.9309352514277246,-0.7342069133657667,0.044369269608457766,0.09209970230315259,-0.5865347123319166,-1.3262936610426104],\"xaxis\":\"x8\",\"y\":[0.39642477413478533,0.3017979791106031,-0.8683082254335007,0.20904761546820905,-1.0151385494413272,1.726459441137804,-0.915985971357377,1.0086740707482478,-1.3541085530315435,-0.29751376435345445,-0.9677119092995604,0.81640449993328,-0.31681896091569794,0.376691603872416,0.0955435591329955,0.3059302882053221,-0.40763287280287025,1.6209528853068607,-0.22050739262858718,1.2407691032730783,0.1636563461364261,0.11613750655239334,1.6532965922404759,-0.18031837018080812,-0.6598102231330875,1.7173440288843729,-0.6034913988882491,0.700172084595978,-0.8655937280498989,-0.07072219995759044,0.7252338637157283,1.6896643478428925,-1.9985550678721204,-1.288494222801579,-1.7568974963426904,1.19706327798354,-0.31731491298793957,1.5395547666939289,-0.014035010368598758,0.9050425509127696,0.8009389257192039,-0.08302009201298892,0.8171531869793346,-0.7938970281830412,0.06748229716032612,-0.25163340525469363,0.4501082789510372,0.7042743375651448,1.5786258826783846,0.4361285619666368,1.7486171274308304,0.867738412173522,0.2514370572602232,0.36820210750981897,0.45772091125516895,-1.2408746566028792,-0.6509170915331346,-1.8598649448554383,1.6667421329016379,0.881305758258542,0.2701389057885898,-0.0347324992409485,-1.1756209977978531,-0.9846172568564603,1.2800801685401286,-0.23730438169687665,1.012922776234193,-0.33041307438517004,-2.085051844871717,-0.9745502845039695,-0.5536617857028113,-0.590771338993367,-1.0698252162427944,0.6190627854938642,-0.8881704812612123,1.431363113773757,-0.007321763388780562,-1.92843803713575,-0.32707220180344077,-0.3061031816927142,0.2824028569969956,-0.5216603317192834,0.42177798337842715,0.8755835168934673,-1.5346115372015554,-0.18422379387988802,0.6494656673048684,0.9072613951453106,0.228171593180147,-0.2746116506540319,-0.028169419102425697,-0.42787317529700586,-1.3357558834404946,-0.790647659605685,-0.029415709062188093,0.1799045576781755,0.9522344570155521,-0.5184755826628655,1.1836484340050315,0.9778129395793809],\"yaxis\":\"y8\",\"type\":\"scatter\"},{\"line\":{\"color\":\"rgba(128, 128, 128, 1.0)\",\"dash\":\"solid\",\"shape\":\"linear\",\"width\":1.3},\"marker\":{\"size\":2,\"symbol\":\"circle\"},\"mode\":\"markers\",\"name\":\"C\",\"text\":\"\",\"x\":[-1.5749810496858492,-1.3833793433667436,0.36588075526834546,1.275399849602529,0.5286668747009455,-0.7679032009223029,-0.17831916014732532,-2.257326435988866,0.07658860332702637,1.3567938287358288,0.31894748456236754,-0.33236158300706464,-0.5406260875570553,-0.37195941916552244,-0.3135738744446838,-1.010589752168183,-0.34346062433482266,-2.6744763425885423,0.4240381404822287,0.2885273430894623,0.08427439673144732,-0.23871144244853104,0.25740702376805175,0.40166934404547766,0.8323461834133391,0.380030623534109,0.5572622542561397,-0.6278502285641379,0.3692001447418704,-1.252856435011434,0.9396183305979209,2.197696282685438,-0.6348382801909904,-0.8729626381576087,0.05369217970057937,-0.028905049872739463,-0.12222368961439022,0.00866738492464321,-0.6367143859649672,-1.7133377029111103,0.99536125242314,-1.009122337998362,-1.360458340717226,0.7800896480356647,-0.17532259166702616,0.032736921693968066,-0.029454474920911446,-0.5622728532218199,1.7074440404654854,1.569656559086373,0.4166056558837753,-0.2464947669782788,0.051460325727519976,-0.5140444063570784,-1.4717230819608562,-0.833447655009454,2.062410774351031,0.3301660327167039,-0.5484153848392193,-1.0492195305040761,-1.019093053255773,1.1009944121217843,-1.5833892267026457,1.3222535001686084,-0.6762104727297058,1.1256325176591828,1.4931242561850617,-1.0115610188042432,-0.1710109126477292,0.9683985282675233,-0.2923692307598237,-0.4186511634855657,-0.8697287759682212,-0.09922350097748456,-0.6131434465914425,-0.46546756990307686,-2.371370606691687,-0.011436671066204995,2.3688431617731793,-0.440029376897687,-0.8353927478232571,-1.320643031620411,0.5479177999724679,-1.6851472200935969,-1.105532954107571,-0.7654776138021443,0.1639452575441152,-1.8061852621960486,0.11558384967903741,-2.263510071725915,0.03022567602240936,-1.1359137329317626,0.11757310430053158,0.8152531228518184,-0.03448705506848795,0.6307535692636861,-8.491084491530586e-05,0.9122527063264612,-0.82128369509477,0.6122755731166608],\"xaxis\":\"x9\",\"y\":[1.0700406965603044,0.47320689188072074,0.8889381855451203,1.984685692613606,-0.9905856410306387,0.06186445398377224,-0.3781617800979096,-0.5895388793729588,0.794747252179797,0.9230208518575128,-0.6188917723964353,-1.2634044397458761,0.8899247347307317,-0.041802643180199814,1.7101356218130819,-1.6273021804294716,0.2891211909563434,-1.803755995261513,1.005594395815204,-0.07519807148612825,1.3163249604794844,-0.15817680256006203,0.26373186752905925,0.6055879906295724,-0.9385944392959061,0.2636575307398441,0.47035031066286104,-0.3309727058519469,0.7455100676917912,0.7755461278650121,0.37907845045617533,0.5078749537555448,-0.3045934543346218,-1.24392003983143,-1.1227859031564063,0.7800241925040196,-1.0089050410309925,0.9424424961263709,-1.0691859319549368,0.9995978697480474,-1.9650763312895476,0.3955839765822933,-1.4566706985457498,-1.202331544573614,-0.3874201640610675,-1.2071730069168236,0.8656900668547792,0.7749818255821247,-0.40201945311330517,-1.6384500942017932,0.05833187520551722,-1.3216556170659117,2.312488663924503,0.21928120392193154,-1.9438725062397344,-0.4290795310358435,-1.339133419340799,-1.2627039314108552,0.9056212699527014,-0.2363735068948559,1.2195893170306071,-0.08389414081632988,0.22867566500949105,-2.413961059554438,-1.1998966501201662,0.7401682706615308,-0.51156060446994,1.6148275387210587,1.344929661254416,0.6387451049698962,-0.3583917172754251,0.7465394883336404,0.15538564043812364,0.14011930135585737,0.8169262769794431,0.34088061999409797,0.889837791491532,0.19232642878875802,-1.6539027936192965,0.8675030093792894,-0.47078665249200163,-1.7724058935583373,0.10057807757294003,0.9598073139432325,-0.4148261328833594,-0.7557444124571863,-0.7030399314225763,-0.27235739587431007,0.5247804026828217,-0.197345784237892,-0.1555129303996773,0.055560600376472126,-0.1512681055853885,-1.3138607107599134,0.1293343621347584,0.6959648720514148,-0.4073834571043385,1.568746821382907,-0.41752316554302166,0.3544673745911766],\"yaxis\":\"y9\",\"type\":\"scatter\"},{\"line\":{\"color\":\"rgba(128, 128, 128, 1.0)\",\"dash\":\"solid\",\"shape\":\"linear\",\"width\":1.3},\"marker\":{\"size\":2,\"symbol\":\"circle\"},\"mode\":\"markers\",\"name\":\"C\",\"text\":\"\",\"x\":[0.39642477413478533,0.3017979791106031,-0.8683082254335007,0.20904761546820905,-1.0151385494413272,1.726459441137804,-0.915985971357377,1.0086740707482478,-1.3541085530315435,-0.29751376435345445,-0.9677119092995604,0.81640449993328,-0.31681896091569794,0.376691603872416,0.0955435591329955,0.3059302882053221,-0.40763287280287025,1.6209528853068607,-0.22050739262858718,1.2407691032730783,0.1636563461364261,0.11613750655239334,1.6532965922404759,-0.18031837018080812,-0.6598102231330875,1.7173440288843729,-0.6034913988882491,0.700172084595978,-0.8655937280498989,-0.07072219995759044,0.7252338637157283,1.6896643478428925,-1.9985550678721204,-1.288494222801579,-1.7568974963426904,1.19706327798354,-0.31731491298793957,1.5395547666939289,-0.014035010368598758,0.9050425509127696,0.8009389257192039,-0.08302009201298892,0.8171531869793346,-0.7938970281830412,0.06748229716032612,-0.25163340525469363,0.4501082789510372,0.7042743375651448,1.5786258826783846,0.4361285619666368,1.7486171274308304,0.867738412173522,0.2514370572602232,0.36820210750981897,0.45772091125516895,-1.2408746566028792,-0.6509170915331346,-1.8598649448554383,1.6667421329016379,0.881305758258542,0.2701389057885898,-0.0347324992409485,-1.1756209977978531,-0.9846172568564603,1.2800801685401286,-0.23730438169687665,1.012922776234193,-0.33041307438517004,-2.085051844871717,-0.9745502845039695,-0.5536617857028113,-0.590771338993367,-1.0698252162427944,0.6190627854938642,-0.8881704812612123,1.431363113773757,-0.007321763388780562,-1.92843803713575,-0.32707220180344077,-0.3061031816927142,0.2824028569969956,-0.5216603317192834,0.42177798337842715,0.8755835168934673,-1.5346115372015554,-0.18422379387988802,0.6494656673048684,0.9072613951453106,0.228171593180147,-0.2746116506540319,-0.028169419102425697,-0.42787317529700586,-1.3357558834404946,-0.790647659605685,-0.029415709062188093,0.1799045576781755,0.9522344570155521,-0.5184755826628655,1.1836484340050315,0.9778129395793809],\"xaxis\":\"x10\",\"y\":[1.0700406965603044,0.47320689188072074,0.8889381855451203,1.984685692613606,-0.9905856410306387,0.06186445398377224,-0.3781617800979096,-0.5895388793729588,0.794747252179797,0.9230208518575128,-0.6188917723964353,-1.2634044397458761,0.8899247347307317,-0.041802643180199814,1.7101356218130819,-1.6273021804294716,0.2891211909563434,-1.803755995261513,1.005594395815204,-0.07519807148612825,1.3163249604794844,-0.15817680256006203,0.26373186752905925,0.6055879906295724,-0.9385944392959061,0.2636575307398441,0.47035031066286104,-0.3309727058519469,0.7455100676917912,0.7755461278650121,0.37907845045617533,0.5078749537555448,-0.3045934543346218,-1.24392003983143,-1.1227859031564063,0.7800241925040196,-1.0089050410309925,0.9424424961263709,-1.0691859319549368,0.9995978697480474,-1.9650763312895476,0.3955839765822933,-1.4566706985457498,-1.202331544573614,-0.3874201640610675,-1.2071730069168236,0.8656900668547792,0.7749818255821247,-0.40201945311330517,-1.6384500942017932,0.05833187520551722,-1.3216556170659117,2.312488663924503,0.21928120392193154,-1.9438725062397344,-0.4290795310358435,-1.339133419340799,-1.2627039314108552,0.9056212699527014,-0.2363735068948559,1.2195893170306071,-0.08389414081632988,0.22867566500949105,-2.413961059554438,-1.1998966501201662,0.7401682706615308,-0.51156060446994,1.6148275387210587,1.344929661254416,0.6387451049698962,-0.3583917172754251,0.7465394883336404,0.15538564043812364,0.14011930135585737,0.8169262769794431,0.34088061999409797,0.889837791491532,0.19232642878875802,-1.6539027936192965,0.8675030093792894,-0.47078665249200163,-1.7724058935583373,0.10057807757294003,0.9598073139432325,-0.4148261328833594,-0.7557444124571863,-0.7030399314225763,-0.27235739587431007,0.5247804026828217,-0.197345784237892,-0.1555129303996773,0.055560600376472126,-0.1512681055853885,-1.3138607107599134,0.1293343621347584,0.6959648720514148,-0.4073834571043385,1.568746821382907,-0.41752316554302166,0.3544673745911766],\"yaxis\":\"y10\",\"type\":\"scatter\"},{\"histfunc\":\"count\",\"histnorm\":\"\",\"marker\":{\"color\":\"rgba(50, 171, 96, 1.0)\",\"line\":{\"color\":\"#4D5663\",\"width\":1.3}},\"name\":\"C\",\"nbinsx\":10,\"opacity\":0.8,\"orientation\":\"v\",\"x\":[1.0700406965603044,0.47320689188072074,0.8889381855451203,1.984685692613606,-0.9905856410306387,0.06186445398377224,-0.3781617800979096,-0.5895388793729588,0.794747252179797,0.9230208518575128,-0.6188917723964353,-1.2634044397458761,0.8899247347307317,-0.041802643180199814,1.7101356218130819,-1.6273021804294716,0.2891211909563434,-1.803755995261513,1.005594395815204,-0.07519807148612825,1.3163249604794844,-0.15817680256006203,0.26373186752905925,0.6055879906295724,-0.9385944392959061,0.2636575307398441,0.47035031066286104,-0.3309727058519469,0.7455100676917912,0.7755461278650121,0.37907845045617533,0.5078749537555448,-0.3045934543346218,-1.24392003983143,-1.1227859031564063,0.7800241925040196,-1.0089050410309925,0.9424424961263709,-1.0691859319549368,0.9995978697480474,-1.9650763312895476,0.3955839765822933,-1.4566706985457498,-1.202331544573614,-0.3874201640610675,-1.2071730069168236,0.8656900668547792,0.7749818255821247,-0.40201945311330517,-1.6384500942017932,0.05833187520551722,-1.3216556170659117,2.312488663924503,0.21928120392193154,-1.9438725062397344,-0.4290795310358435,-1.339133419340799,-1.2627039314108552,0.9056212699527014,-0.2363735068948559,1.2195893170306071,-0.08389414081632988,0.22867566500949105,-2.413961059554438,-1.1998966501201662,0.7401682706615308,-0.51156060446994,1.6148275387210587,1.344929661254416,0.6387451049698962,-0.3583917172754251,0.7465394883336404,0.15538564043812364,0.14011930135585737,0.8169262769794431,0.34088061999409797,0.889837791491532,0.19232642878875802,-1.6539027936192965,0.8675030093792894,-0.47078665249200163,-1.7724058935583373,0.10057807757294003,0.9598073139432325,-0.4148261328833594,-0.7557444124571863,-0.7030399314225763,-0.27235739587431007,0.5247804026828217,-0.197345784237892,-0.1555129303996773,0.055560600376472126,-0.1512681055853885,-1.3138607107599134,0.1293343621347584,0.6959648720514148,-0.4073834571043385,1.568746821382907,-0.41752316554302166,0.3544673745911766],\"xaxis\":\"x11\",\"yaxis\":\"y11\",\"type\":\"histogram\"},{\"line\":{\"color\":\"rgba(128, 128, 128, 1.0)\",\"dash\":\"solid\",\"shape\":\"linear\",\"width\":1.3},\"marker\":{\"size\":2,\"symbol\":\"circle\"},\"mode\":\"markers\",\"name\":\"C\",\"text\":\"\",\"x\":[0.14425618902772747,-1.8939342901630691,-0.48477320187557554,-0.4593393791421347,-2.339592076557052,1.311590618793374,-1.5360766226020206,-1.0154550572704288,0.15906663364928308,1.3604423345007133,1.3399761693998393,0.850198098811847,-1.6941060098208944,0.730071090987942,1.008238072861487,1.795090152650695,1.7915821023153595,0.29400607548936003,-0.8159407247542291,0.19711999021411716,0.8200862761171573,0.7601527706740808,0.5674761250596101,-0.13996943397447206,0.17821131158800996,0.18457270589522828,1.04379920509321,-0.652722508495129,0.6420533765209736,-0.4138125238095458,-0.12275124251665397,0.043906853007055824,-1.4409741909873395,0.42506775241844263,0.9624402927611686,-0.5378417195821108,0.6295666983730309,0.728630216429118,-1.213727460550597,-2.130955226582706,-0.2704722926059495,0.1481866771999114,0.7306790471248414,0.21686454959768797,-0.6567964359887308,-0.6470793096094121,-0.4545458288756462,0.07580643874686249,0.38218791727607493,-0.1416109023900944,0.6473012260955611,0.5174503062831697,-0.5049105159658954,-0.34253350164476215,1.810332008303204,-0.6401565791336887,0.6521984402923481,-0.8286118338536269,-1.3439070316027542,0.7814798176632166,0.5011933330618819,-0.2704101289032435,-0.10057152517551457,0.8436212094507817,0.3930507355414695,-0.7427881549463758,0.4833266726881477,0.5888241188022255,1.3775067789981312,-1.5595366482950896,-1.5038190329760643,-1.107132252469969,1.8631485442387221,-1.2378206901207147,-1.5710350013202465,-0.6147598340911066,0.46604507465244216,0.2727181881851066,-0.4554496784154893,-0.810774896348241,-0.17526252760094477,0.015439744423981721,0.29040229656619315,1.1975379751419997,0.03710941225425532,2.5540713173081677,1.8321494496323845,-0.9681228941709391,1.3607493420309653,-1.4046817439382802,0.3882714876679938,-0.34410511941403354,0.9036457102811655,0.226559473173561,-0.9309352514277246,-0.7342069133657667,0.044369269608457766,0.09209970230315259,-0.5865347123319166,-1.3262936610426104],\"xaxis\":\"x12\",\"y\":[1.0700406965603044,0.47320689188072074,0.8889381855451203,1.984685692613606,-0.9905856410306387,0.06186445398377224,-0.3781617800979096,-0.5895388793729588,0.794747252179797,0.9230208518575128,-0.6188917723964353,-1.2634044397458761,0.8899247347307317,-0.041802643180199814,1.7101356218130819,-1.6273021804294716,0.2891211909563434,-1.803755995261513,1.005594395815204,-0.07519807148612825,1.3163249604794844,-0.15817680256006203,0.26373186752905925,0.6055879906295724,-0.9385944392959061,0.2636575307398441,0.47035031066286104,-0.3309727058519469,0.7455100676917912,0.7755461278650121,0.37907845045617533,0.5078749537555448,-0.3045934543346218,-1.24392003983143,-1.1227859031564063,0.7800241925040196,-1.0089050410309925,0.9424424961263709,-1.0691859319549368,0.9995978697480474,-1.9650763312895476,0.3955839765822933,-1.4566706985457498,-1.202331544573614,-0.3874201640610675,-1.2071730069168236,0.8656900668547792,0.7749818255821247,-0.40201945311330517,-1.6384500942017932,0.05833187520551722,-1.3216556170659117,2.312488663924503,0.21928120392193154,-1.9438725062397344,-0.4290795310358435,-1.339133419340799,-1.2627039314108552,0.9056212699527014,-0.2363735068948559,1.2195893170306071,-0.08389414081632988,0.22867566500949105,-2.413961059554438,-1.1998966501201662,0.7401682706615308,-0.51156060446994,1.6148275387210587,1.344929661254416,0.6387451049698962,-0.3583917172754251,0.7465394883336404,0.15538564043812364,0.14011930135585737,0.8169262769794431,0.34088061999409797,0.889837791491532,0.19232642878875802,-1.6539027936192965,0.8675030093792894,-0.47078665249200163,-1.7724058935583373,0.10057807757294003,0.9598073139432325,-0.4148261328833594,-0.7557444124571863,-0.7030399314225763,-0.27235739587431007,0.5247804026828217,-0.197345784237892,-0.1555129303996773,0.055560600376472126,-0.1512681055853885,-1.3138607107599134,0.1293343621347584,0.6959648720514148,-0.4073834571043385,1.568746821382907,-0.41752316554302166,0.3544673745911766],\"yaxis\":\"y12\",\"type\":\"scatter\"},{\"line\":{\"color\":\"rgba(128, 128, 128, 1.0)\",\"dash\":\"solid\",\"shape\":\"linear\",\"width\":1.3},\"marker\":{\"size\":2,\"symbol\":\"circle\"},\"mode\":\"markers\",\"name\":\"D\",\"text\":\"\",\"x\":[-1.5749810496858492,-1.3833793433667436,0.36588075526834546,1.275399849602529,0.5286668747009455,-0.7679032009223029,-0.17831916014732532,-2.257326435988866,0.07658860332702637,1.3567938287358288,0.31894748456236754,-0.33236158300706464,-0.5406260875570553,-0.37195941916552244,-0.3135738744446838,-1.010589752168183,-0.34346062433482266,-2.6744763425885423,0.4240381404822287,0.2885273430894623,0.08427439673144732,-0.23871144244853104,0.25740702376805175,0.40166934404547766,0.8323461834133391,0.380030623534109,0.5572622542561397,-0.6278502285641379,0.3692001447418704,-1.252856435011434,0.9396183305979209,2.197696282685438,-0.6348382801909904,-0.8729626381576087,0.05369217970057937,-0.028905049872739463,-0.12222368961439022,0.00866738492464321,-0.6367143859649672,-1.7133377029111103,0.99536125242314,-1.009122337998362,-1.360458340717226,0.7800896480356647,-0.17532259166702616,0.032736921693968066,-0.029454474920911446,-0.5622728532218199,1.7074440404654854,1.569656559086373,0.4166056558837753,-0.2464947669782788,0.051460325727519976,-0.5140444063570784,-1.4717230819608562,-0.833447655009454,2.062410774351031,0.3301660327167039,-0.5484153848392193,-1.0492195305040761,-1.019093053255773,1.1009944121217843,-1.5833892267026457,1.3222535001686084,-0.6762104727297058,1.1256325176591828,1.4931242561850617,-1.0115610188042432,-0.1710109126477292,0.9683985282675233,-0.2923692307598237,-0.4186511634855657,-0.8697287759682212,-0.09922350097748456,-0.6131434465914425,-0.46546756990307686,-2.371370606691687,-0.011436671066204995,2.3688431617731793,-0.440029376897687,-0.8353927478232571,-1.320643031620411,0.5479177999724679,-1.6851472200935969,-1.105532954107571,-0.7654776138021443,0.1639452575441152,-1.8061852621960486,0.11558384967903741,-2.263510071725915,0.03022567602240936,-1.1359137329317626,0.11757310430053158,0.8152531228518184,-0.03448705506848795,0.6307535692636861,-8.491084491530586e-05,0.9122527063264612,-0.82128369509477,0.6122755731166608],\"xaxis\":\"x13\",\"y\":[0.14425618902772747,-1.8939342901630691,-0.48477320187557554,-0.4593393791421347,-2.339592076557052,1.311590618793374,-1.5360766226020206,-1.0154550572704288,0.15906663364928308,1.3604423345007133,1.3399761693998393,0.850198098811847,-1.6941060098208944,0.730071090987942,1.008238072861487,1.795090152650695,1.7915821023153595,0.29400607548936003,-0.8159407247542291,0.19711999021411716,0.8200862761171573,0.7601527706740808,0.5674761250596101,-0.13996943397447206,0.17821131158800996,0.18457270589522828,1.04379920509321,-0.652722508495129,0.6420533765209736,-0.4138125238095458,-0.12275124251665397,0.043906853007055824,-1.4409741909873395,0.42506775241844263,0.9624402927611686,-0.5378417195821108,0.6295666983730309,0.728630216429118,-1.213727460550597,-2.130955226582706,-0.2704722926059495,0.1481866771999114,0.7306790471248414,0.21686454959768797,-0.6567964359887308,-0.6470793096094121,-0.4545458288756462,0.07580643874686249,0.38218791727607493,-0.1416109023900944,0.6473012260955611,0.5174503062831697,-0.5049105159658954,-0.34253350164476215,1.810332008303204,-0.6401565791336887,0.6521984402923481,-0.8286118338536269,-1.3439070316027542,0.7814798176632166,0.5011933330618819,-0.2704101289032435,-0.10057152517551457,0.8436212094507817,0.3930507355414695,-0.7427881549463758,0.4833266726881477,0.5888241188022255,1.3775067789981312,-1.5595366482950896,-1.5038190329760643,-1.107132252469969,1.8631485442387221,-1.2378206901207147,-1.5710350013202465,-0.6147598340911066,0.46604507465244216,0.2727181881851066,-0.4554496784154893,-0.810774896348241,-0.17526252760094477,0.015439744423981721,0.29040229656619315,1.1975379751419997,0.03710941225425532,2.5540713173081677,1.8321494496323845,-0.9681228941709391,1.3607493420309653,-1.4046817439382802,0.3882714876679938,-0.34410511941403354,0.9036457102811655,0.226559473173561,-0.9309352514277246,-0.7342069133657667,0.044369269608457766,0.09209970230315259,-0.5865347123319166,-1.3262936610426104],\"yaxis\":\"y13\",\"type\":\"scatter\"},{\"line\":{\"color\":\"rgba(128, 128, 128, 1.0)\",\"dash\":\"solid\",\"shape\":\"linear\",\"width\":1.3},\"marker\":{\"size\":2,\"symbol\":\"circle\"},\"mode\":\"markers\",\"name\":\"D\",\"text\":\"\",\"x\":[0.39642477413478533,0.3017979791106031,-0.8683082254335007,0.20904761546820905,-1.0151385494413272,1.726459441137804,-0.915985971357377,1.0086740707482478,-1.3541085530315435,-0.29751376435345445,-0.9677119092995604,0.81640449993328,-0.31681896091569794,0.376691603872416,0.0955435591329955,0.3059302882053221,-0.40763287280287025,1.6209528853068607,-0.22050739262858718,1.2407691032730783,0.1636563461364261,0.11613750655239334,1.6532965922404759,-0.18031837018080812,-0.6598102231330875,1.7173440288843729,-0.6034913988882491,0.700172084595978,-0.8655937280498989,-0.07072219995759044,0.7252338637157283,1.6896643478428925,-1.9985550678721204,-1.288494222801579,-1.7568974963426904,1.19706327798354,-0.31731491298793957,1.5395547666939289,-0.014035010368598758,0.9050425509127696,0.8009389257192039,-0.08302009201298892,0.8171531869793346,-0.7938970281830412,0.06748229716032612,-0.25163340525469363,0.4501082789510372,0.7042743375651448,1.5786258826783846,0.4361285619666368,1.7486171274308304,0.867738412173522,0.2514370572602232,0.36820210750981897,0.45772091125516895,-1.2408746566028792,-0.6509170915331346,-1.8598649448554383,1.6667421329016379,0.881305758258542,0.2701389057885898,-0.0347324992409485,-1.1756209977978531,-0.9846172568564603,1.2800801685401286,-0.23730438169687665,1.012922776234193,-0.33041307438517004,-2.085051844871717,-0.9745502845039695,-0.5536617857028113,-0.590771338993367,-1.0698252162427944,0.6190627854938642,-0.8881704812612123,1.431363113773757,-0.007321763388780562,-1.92843803713575,-0.32707220180344077,-0.3061031816927142,0.2824028569969956,-0.5216603317192834,0.42177798337842715,0.8755835168934673,-1.5346115372015554,-0.18422379387988802,0.6494656673048684,0.9072613951453106,0.228171593180147,-0.2746116506540319,-0.028169419102425697,-0.42787317529700586,-1.3357558834404946,-0.790647659605685,-0.029415709062188093,0.1799045576781755,0.9522344570155521,-0.5184755826628655,1.1836484340050315,0.9778129395793809],\"xaxis\":\"x14\",\"y\":[0.14425618902772747,-1.8939342901630691,-0.48477320187557554,-0.4593393791421347,-2.339592076557052,1.311590618793374,-1.5360766226020206,-1.0154550572704288,0.15906663364928308,1.3604423345007133,1.3399761693998393,0.850198098811847,-1.6941060098208944,0.730071090987942,1.008238072861487,1.795090152650695,1.7915821023153595,0.29400607548936003,-0.8159407247542291,0.19711999021411716,0.8200862761171573,0.7601527706740808,0.5674761250596101,-0.13996943397447206,0.17821131158800996,0.18457270589522828,1.04379920509321,-0.652722508495129,0.6420533765209736,-0.4138125238095458,-0.12275124251665397,0.043906853007055824,-1.4409741909873395,0.42506775241844263,0.9624402927611686,-0.5378417195821108,0.6295666983730309,0.728630216429118,-1.213727460550597,-2.130955226582706,-0.2704722926059495,0.1481866771999114,0.7306790471248414,0.21686454959768797,-0.6567964359887308,-0.6470793096094121,-0.4545458288756462,0.07580643874686249,0.38218791727607493,-0.1416109023900944,0.6473012260955611,0.5174503062831697,-0.5049105159658954,-0.34253350164476215,1.810332008303204,-0.6401565791336887,0.6521984402923481,-0.8286118338536269,-1.3439070316027542,0.7814798176632166,0.5011933330618819,-0.2704101289032435,-0.10057152517551457,0.8436212094507817,0.3930507355414695,-0.7427881549463758,0.4833266726881477,0.5888241188022255,1.3775067789981312,-1.5595366482950896,-1.5038190329760643,-1.107132252469969,1.8631485442387221,-1.2378206901207147,-1.5710350013202465,-0.6147598340911066,0.46604507465244216,0.2727181881851066,-0.4554496784154893,-0.810774896348241,-0.17526252760094477,0.015439744423981721,0.29040229656619315,1.1975379751419997,0.03710941225425532,2.5540713173081677,1.8321494496323845,-0.9681228941709391,1.3607493420309653,-1.4046817439382802,0.3882714876679938,-0.34410511941403354,0.9036457102811655,0.226559473173561,-0.9309352514277246,-0.7342069133657667,0.044369269608457766,0.09209970230315259,-0.5865347123319166,-1.3262936610426104],\"yaxis\":\"y14\",\"type\":\"scatter\"},{\"line\":{\"color\":\"rgba(128, 128, 128, 1.0)\",\"dash\":\"solid\",\"shape\":\"linear\",\"width\":1.3},\"marker\":{\"size\":2,\"symbol\":\"circle\"},\"mode\":\"markers\",\"name\":\"D\",\"text\":\"\",\"x\":[1.0700406965603044,0.47320689188072074,0.8889381855451203,1.984685692613606,-0.9905856410306387,0.06186445398377224,-0.3781617800979096,-0.5895388793729588,0.794747252179797,0.9230208518575128,-0.6188917723964353,-1.2634044397458761,0.8899247347307317,-0.041802643180199814,1.7101356218130819,-1.6273021804294716,0.2891211909563434,-1.803755995261513,1.005594395815204,-0.07519807148612825,1.3163249604794844,-0.15817680256006203,0.26373186752905925,0.6055879906295724,-0.9385944392959061,0.2636575307398441,0.47035031066286104,-0.3309727058519469,0.7455100676917912,0.7755461278650121,0.37907845045617533,0.5078749537555448,-0.3045934543346218,-1.24392003983143,-1.1227859031564063,0.7800241925040196,-1.0089050410309925,0.9424424961263709,-1.0691859319549368,0.9995978697480474,-1.9650763312895476,0.3955839765822933,-1.4566706985457498,-1.202331544573614,-0.3874201640610675,-1.2071730069168236,0.8656900668547792,0.7749818255821247,-0.40201945311330517,-1.6384500942017932,0.05833187520551722,-1.3216556170659117,2.312488663924503,0.21928120392193154,-1.9438725062397344,-0.4290795310358435,-1.339133419340799,-1.2627039314108552,0.9056212699527014,-0.2363735068948559,1.2195893170306071,-0.08389414081632988,0.22867566500949105,-2.413961059554438,-1.1998966501201662,0.7401682706615308,-0.51156060446994,1.6148275387210587,1.344929661254416,0.6387451049698962,-0.3583917172754251,0.7465394883336404,0.15538564043812364,0.14011930135585737,0.8169262769794431,0.34088061999409797,0.889837791491532,0.19232642878875802,-1.6539027936192965,0.8675030093792894,-0.47078665249200163,-1.7724058935583373,0.10057807757294003,0.9598073139432325,-0.4148261328833594,-0.7557444124571863,-0.7030399314225763,-0.27235739587431007,0.5247804026828217,-0.197345784237892,-0.1555129303996773,0.055560600376472126,-0.1512681055853885,-1.3138607107599134,0.1293343621347584,0.6959648720514148,-0.4073834571043385,1.568746821382907,-0.41752316554302166,0.3544673745911766],\"xaxis\":\"x15\",\"y\":[0.14425618902772747,-1.8939342901630691,-0.48477320187557554,-0.4593393791421347,-2.339592076557052,1.311590618793374,-1.5360766226020206,-1.0154550572704288,0.15906663364928308,1.3604423345007133,1.3399761693998393,0.850198098811847,-1.6941060098208944,0.730071090987942,1.008238072861487,1.795090152650695,1.7915821023153595,0.29400607548936003,-0.8159407247542291,0.19711999021411716,0.8200862761171573,0.7601527706740808,0.5674761250596101,-0.13996943397447206,0.17821131158800996,0.18457270589522828,1.04379920509321,-0.652722508495129,0.6420533765209736,-0.4138125238095458,-0.12275124251665397,0.043906853007055824,-1.4409741909873395,0.42506775241844263,0.9624402927611686,-0.5378417195821108,0.6295666983730309,0.728630216429118,-1.213727460550597,-2.130955226582706,-0.2704722926059495,0.1481866771999114,0.7306790471248414,0.21686454959768797,-0.6567964359887308,-0.6470793096094121,-0.4545458288756462,0.07580643874686249,0.38218791727607493,-0.1416109023900944,0.6473012260955611,0.5174503062831697,-0.5049105159658954,-0.34253350164476215,1.810332008303204,-0.6401565791336887,0.6521984402923481,-0.8286118338536269,-1.3439070316027542,0.7814798176632166,0.5011933330618819,-0.2704101289032435,-0.10057152517551457,0.8436212094507817,0.3930507355414695,-0.7427881549463758,0.4833266726881477,0.5888241188022255,1.3775067789981312,-1.5595366482950896,-1.5038190329760643,-1.107132252469969,1.8631485442387221,-1.2378206901207147,-1.5710350013202465,-0.6147598340911066,0.46604507465244216,0.2727181881851066,-0.4554496784154893,-0.810774896348241,-0.17526252760094477,0.015439744423981721,0.29040229656619315,1.1975379751419997,0.03710941225425532,2.5540713173081677,1.8321494496323845,-0.9681228941709391,1.3607493420309653,-1.4046817439382802,0.3882714876679938,-0.34410511941403354,0.9036457102811655,0.226559473173561,-0.9309352514277246,-0.7342069133657667,0.044369269608457766,0.09209970230315259,-0.5865347123319166,-1.3262936610426104],\"yaxis\":\"y15\",\"type\":\"scatter\"},{\"histfunc\":\"count\",\"histnorm\":\"\",\"marker\":{\"color\":\"rgba(128, 0, 128, 1.0)\",\"line\":{\"color\":\"#4D5663\",\"width\":1.3}},\"name\":\"D\",\"nbinsx\":10,\"opacity\":0.8,\"orientation\":\"v\",\"x\":[0.14425618902772747,-1.8939342901630691,-0.48477320187557554,-0.4593393791421347,-2.339592076557052,1.311590618793374,-1.5360766226020206,-1.0154550572704288,0.15906663364928308,1.3604423345007133,1.3399761693998393,0.850198098811847,-1.6941060098208944,0.730071090987942,1.008238072861487,1.795090152650695,1.7915821023153595,0.29400607548936003,-0.8159407247542291,0.19711999021411716,0.8200862761171573,0.7601527706740808,0.5674761250596101,-0.13996943397447206,0.17821131158800996,0.18457270589522828,1.04379920509321,-0.652722508495129,0.6420533765209736,-0.4138125238095458,-0.12275124251665397,0.043906853007055824,-1.4409741909873395,0.42506775241844263,0.9624402927611686,-0.5378417195821108,0.6295666983730309,0.728630216429118,-1.213727460550597,-2.130955226582706,-0.2704722926059495,0.1481866771999114,0.7306790471248414,0.21686454959768797,-0.6567964359887308,-0.6470793096094121,-0.4545458288756462,0.07580643874686249,0.38218791727607493,-0.1416109023900944,0.6473012260955611,0.5174503062831697,-0.5049105159658954,-0.34253350164476215,1.810332008303204,-0.6401565791336887,0.6521984402923481,-0.8286118338536269,-1.3439070316027542,0.7814798176632166,0.5011933330618819,-0.2704101289032435,-0.10057152517551457,0.8436212094507817,0.3930507355414695,-0.7427881549463758,0.4833266726881477,0.5888241188022255,1.3775067789981312,-1.5595366482950896,-1.5038190329760643,-1.107132252469969,1.8631485442387221,-1.2378206901207147,-1.5710350013202465,-0.6147598340911066,0.46604507465244216,0.2727181881851066,-0.4554496784154893,-0.810774896348241,-0.17526252760094477,0.015439744423981721,0.29040229656619315,1.1975379751419997,0.03710941225425532,2.5540713173081677,1.8321494496323845,-0.9681228941709391,1.3607493420309653,-1.4046817439382802,0.3882714876679938,-0.34410511941403354,0.9036457102811655,0.226559473173561,-0.9309352514277246,-0.7342069133657667,0.044369269608457766,0.09209970230315259,-0.5865347123319166,-1.3262936610426104],\"xaxis\":\"x16\",\"yaxis\":\"y16\",\"type\":\"histogram\"}],                        {\"bargap\":0.02,\"legend\":{\"bgcolor\":\"#F5F6F9\",\"font\":{\"color\":\"#4D5663\"}},\"paper_bgcolor\":\"#F5F6F9\",\"plot_bgcolor\":\"#F5F6F9\",\"showlegend\":false,\"template\":{\"data\":{\"barpolar\":[{\"marker\":{\"line\":{\"color\":\"#E5ECF6\",\"width\":0.5},\"pattern\":{\"fillmode\":\"overlay\",\"size\":10,\"solidity\":0.2}},\"type\":\"barpolar\"}],\"bar\":[{\"error_x\":{\"color\":\"#2a3f5f\"},\"error_y\":{\"color\":\"#2a3f5f\"},\"marker\":{\"line\":{\"color\":\"#E5ECF6\",\"width\":0.5},\"pattern\":{\"fillmode\":\"overlay\",\"size\":10,\"solidity\":0.2}},\"type\":\"bar\"}],\"carpet\":[{\"aaxis\":{\"endlinecolor\":\"#2a3f5f\",\"gridcolor\":\"white\",\"linecolor\":\"white\",\"minorgridcolor\":\"white\",\"startlinecolor\":\"#2a3f5f\"},\"baxis\":{\"endlinecolor\":\"#2a3f5f\",\"gridcolor\":\"white\",\"linecolor\":\"white\",\"minorgridcolor\":\"white\",\"startlinecolor\":\"#2a3f5f\"},\"type\":\"carpet\"}],\"choropleth\":[{\"colorbar\":{\"outlinewidth\":0,\"ticks\":\"\"},\"type\":\"choropleth\"}],\"contourcarpet\":[{\"colorbar\":{\"outlinewidth\":0,\"ticks\":\"\"},\"type\":\"contourcarpet\"}],\"contour\":[{\"colorbar\":{\"outlinewidth\":0,\"ticks\":\"\"},\"colorscale\":[[0.0,\"#0d0887\"],[0.1111111111111111,\"#46039f\"],[0.2222222222222222,\"#7201a8\"],[0.3333333333333333,\"#9c179e\"],[0.4444444444444444,\"#bd3786\"],[0.5555555555555556,\"#d8576b\"],[0.6666666666666666,\"#ed7953\"],[0.7777777777777778,\"#fb9f3a\"],[0.8888888888888888,\"#fdca26\"],[1.0,\"#f0f921\"]],\"type\":\"contour\"}],\"heatmapgl\":[{\"colorbar\":{\"outlinewidth\":0,\"ticks\":\"\"},\"colorscale\":[[0.0,\"#0d0887\"],[0.1111111111111111,\"#46039f\"],[0.2222222222222222,\"#7201a8\"],[0.3333333333333333,\"#9c179e\"],[0.4444444444444444,\"#bd3786\"],[0.5555555555555556,\"#d8576b\"],[0.6666666666666666,\"#ed7953\"],[0.7777777777777778,\"#fb9f3a\"],[0.8888888888888888,\"#fdca26\"],[1.0,\"#f0f921\"]],\"type\":\"heatmapgl\"}],\"heatmap\":[{\"colorbar\":{\"outlinewidth\":0,\"ticks\":\"\"},\"colorscale\":[[0.0,\"#0d0887\"],[0.1111111111111111,\"#46039f\"],[0.2222222222222222,\"#7201a8\"],[0.3333333333333333,\"#9c179e\"],[0.4444444444444444,\"#bd3786\"],[0.5555555555555556,\"#d8576b\"],[0.6666666666666666,\"#ed7953\"],[0.7777777777777778,\"#fb9f3a\"],[0.8888888888888888,\"#fdca26\"],[1.0,\"#f0f921\"]],\"type\":\"heatmap\"}],\"histogram2dcontour\":[{\"colorbar\":{\"outlinewidth\":0,\"ticks\":\"\"},\"colorscale\":[[0.0,\"#0d0887\"],[0.1111111111111111,\"#46039f\"],[0.2222222222222222,\"#7201a8\"],[0.3333333333333333,\"#9c179e\"],[0.4444444444444444,\"#bd3786\"],[0.5555555555555556,\"#d8576b\"],[0.6666666666666666,\"#ed7953\"],[0.7777777777777778,\"#fb9f3a\"],[0.8888888888888888,\"#fdca26\"],[1.0,\"#f0f921\"]],\"type\":\"histogram2dcontour\"}],\"histogram2d\":[{\"colorbar\":{\"outlinewidth\":0,\"ticks\":\"\"},\"colorscale\":[[0.0,\"#0d0887\"],[0.1111111111111111,\"#46039f\"],[0.2222222222222222,\"#7201a8\"],[0.3333333333333333,\"#9c179e\"],[0.4444444444444444,\"#bd3786\"],[0.5555555555555556,\"#d8576b\"],[0.6666666666666666,\"#ed7953\"],[0.7777777777777778,\"#fb9f3a\"],[0.8888888888888888,\"#fdca26\"],[1.0,\"#f0f921\"]],\"type\":\"histogram2d\"}],\"histogram\":[{\"marker\":{\"pattern\":{\"fillmode\":\"overlay\",\"size\":10,\"solidity\":0.2}},\"type\":\"histogram\"}],\"mesh3d\":[{\"colorbar\":{\"outlinewidth\":0,\"ticks\":\"\"},\"type\":\"mesh3d\"}],\"parcoords\":[{\"line\":{\"colorbar\":{\"outlinewidth\":0,\"ticks\":\"\"}},\"type\":\"parcoords\"}],\"pie\":[{\"automargin\":true,\"type\":\"pie\"}],\"scatter3d\":[{\"line\":{\"colorbar\":{\"outlinewidth\":0,\"ticks\":\"\"}},\"marker\":{\"colorbar\":{\"outlinewidth\":0,\"ticks\":\"\"}},\"type\":\"scatter3d\"}],\"scattercarpet\":[{\"marker\":{\"colorbar\":{\"outlinewidth\":0,\"ticks\":\"\"}},\"type\":\"scattercarpet\"}],\"scattergeo\":[{\"marker\":{\"colorbar\":{\"outlinewidth\":0,\"ticks\":\"\"}},\"type\":\"scattergeo\"}],\"scattergl\":[{\"marker\":{\"colorbar\":{\"outlinewidth\":0,\"ticks\":\"\"}},\"type\":\"scattergl\"}],\"scattermapbox\":[{\"marker\":{\"colorbar\":{\"outlinewidth\":0,\"ticks\":\"\"}},\"type\":\"scattermapbox\"}],\"scatterpolargl\":[{\"marker\":{\"colorbar\":{\"outlinewidth\":0,\"ticks\":\"\"}},\"type\":\"scatterpolargl\"}],\"scatterpolar\":[{\"marker\":{\"colorbar\":{\"outlinewidth\":0,\"ticks\":\"\"}},\"type\":\"scatterpolar\"}],\"scatter\":[{\"fillpattern\":{\"fillmode\":\"overlay\",\"size\":10,\"solidity\":0.2},\"type\":\"scatter\"}],\"scatterternary\":[{\"marker\":{\"colorbar\":{\"outlinewidth\":0,\"ticks\":\"\"}},\"type\":\"scatterternary\"}],\"surface\":[{\"colorbar\":{\"outlinewidth\":0,\"ticks\":\"\"},\"colorscale\":[[0.0,\"#0d0887\"],[0.1111111111111111,\"#46039f\"],[0.2222222222222222,\"#7201a8\"],[0.3333333333333333,\"#9c179e\"],[0.4444444444444444,\"#bd3786\"],[0.5555555555555556,\"#d8576b\"],[0.6666666666666666,\"#ed7953\"],[0.7777777777777778,\"#fb9f3a\"],[0.8888888888888888,\"#fdca26\"],[1.0,\"#f0f921\"]],\"type\":\"surface\"}],\"table\":[{\"cells\":{\"fill\":{\"color\":\"#EBF0F8\"},\"line\":{\"color\":\"white\"}},\"header\":{\"fill\":{\"color\":\"#C8D4E3\"},\"line\":{\"color\":\"white\"}},\"type\":\"table\"}]},\"layout\":{\"annotationdefaults\":{\"arrowcolor\":\"#2a3f5f\",\"arrowhead\":0,\"arrowwidth\":1},\"autotypenumbers\":\"strict\",\"coloraxis\":{\"colorbar\":{\"outlinewidth\":0,\"ticks\":\"\"}},\"colorscale\":{\"diverging\":[[0,\"#8e0152\"],[0.1,\"#c51b7d\"],[0.2,\"#de77ae\"],[0.3,\"#f1b6da\"],[0.4,\"#fde0ef\"],[0.5,\"#f7f7f7\"],[0.6,\"#e6f5d0\"],[0.7,\"#b8e186\"],[0.8,\"#7fbc41\"],[0.9,\"#4d9221\"],[1,\"#276419\"]],\"sequential\":[[0.0,\"#0d0887\"],[0.1111111111111111,\"#46039f\"],[0.2222222222222222,\"#7201a8\"],[0.3333333333333333,\"#9c179e\"],[0.4444444444444444,\"#bd3786\"],[0.5555555555555556,\"#d8576b\"],[0.6666666666666666,\"#ed7953\"],[0.7777777777777778,\"#fb9f3a\"],[0.8888888888888888,\"#fdca26\"],[1.0,\"#f0f921\"]],\"sequentialminus\":[[0.0,\"#0d0887\"],[0.1111111111111111,\"#46039f\"],[0.2222222222222222,\"#7201a8\"],[0.3333333333333333,\"#9c179e\"],[0.4444444444444444,\"#bd3786\"],[0.5555555555555556,\"#d8576b\"],[0.6666666666666666,\"#ed7953\"],[0.7777777777777778,\"#fb9f3a\"],[0.8888888888888888,\"#fdca26\"],[1.0,\"#f0f921\"]]},\"colorway\":[\"#636efa\",\"#EF553B\",\"#00cc96\",\"#ab63fa\",\"#FFA15A\",\"#19d3f3\",\"#FF6692\",\"#B6E880\",\"#FF97FF\",\"#FECB52\"],\"font\":{\"color\":\"#2a3f5f\"},\"geo\":{\"bgcolor\":\"white\",\"lakecolor\":\"white\",\"landcolor\":\"#E5ECF6\",\"showlakes\":true,\"showland\":true,\"subunitcolor\":\"white\"},\"hoverlabel\":{\"align\":\"left\"},\"hovermode\":\"closest\",\"mapbox\":{\"style\":\"light\"},\"paper_bgcolor\":\"white\",\"plot_bgcolor\":\"#E5ECF6\",\"polar\":{\"angularaxis\":{\"gridcolor\":\"white\",\"linecolor\":\"white\",\"ticks\":\"\"},\"bgcolor\":\"#E5ECF6\",\"radialaxis\":{\"gridcolor\":\"white\",\"linecolor\":\"white\",\"ticks\":\"\"}},\"scene\":{\"xaxis\":{\"backgroundcolor\":\"#E5ECF6\",\"gridcolor\":\"white\",\"gridwidth\":2,\"linecolor\":\"white\",\"showbackground\":true,\"ticks\":\"\",\"zerolinecolor\":\"white\"},\"yaxis\":{\"backgroundcolor\":\"#E5ECF6\",\"gridcolor\":\"white\",\"gridwidth\":2,\"linecolor\":\"white\",\"showbackground\":true,\"ticks\":\"\",\"zerolinecolor\":\"white\"},\"zaxis\":{\"backgroundcolor\":\"#E5ECF6\",\"gridcolor\":\"white\",\"gridwidth\":2,\"linecolor\":\"white\",\"showbackground\":true,\"ticks\":\"\",\"zerolinecolor\":\"white\"}},\"shapedefaults\":{\"line\":{\"color\":\"#2a3f5f\"}},\"ternary\":{\"aaxis\":{\"gridcolor\":\"white\",\"linecolor\":\"white\",\"ticks\":\"\"},\"baxis\":{\"gridcolor\":\"white\",\"linecolor\":\"white\",\"ticks\":\"\"},\"bgcolor\":\"#E5ECF6\",\"caxis\":{\"gridcolor\":\"white\",\"linecolor\":\"white\",\"ticks\":\"\"}},\"title\":{\"x\":0.05},\"xaxis\":{\"automargin\":true,\"gridcolor\":\"white\",\"linecolor\":\"white\",\"ticks\":\"\",\"title\":{\"standoff\":15},\"zerolinecolor\":\"white\",\"zerolinewidth\":2},\"yaxis\":{\"automargin\":true,\"gridcolor\":\"white\",\"linecolor\":\"white\",\"ticks\":\"\",\"title\":{\"standoff\":15},\"zerolinecolor\":\"white\",\"zerolinewidth\":2}}},\"title\":{\"font\":{\"color\":\"#4D5663\"}},\"xaxis\":{\"anchor\":\"y\",\"domain\":[0.0,0.2125],\"gridcolor\":\"#E1E5ED\",\"showgrid\":false,\"tickfont\":{\"color\":\"#4D5663\"},\"title\":{\"font\":{\"color\":\"#4D5663\"},\"text\":\"\"},\"zerolinecolor\":\"#E1E5ED\"},\"yaxis\":{\"anchor\":\"x\",\"domain\":[0.8025,1.0],\"gridcolor\":\"#E1E5ED\",\"showgrid\":false,\"tickfont\":{\"color\":\"#4D5663\"},\"title\":{\"font\":{\"color\":\"#4D5663\"},\"text\":\"\"},\"zerolinecolor\":\"#E1E5ED\"},\"xaxis2\":{\"anchor\":\"y2\",\"domain\":[0.2625,0.475],\"gridcolor\":\"#E1E5ED\",\"showgrid\":false,\"tickfont\":{\"color\":\"#4D5663\"},\"title\":{\"font\":{\"color\":\"#4D5663\"},\"text\":\"\"},\"zerolinecolor\":\"#E1E5ED\"},\"yaxis2\":{\"anchor\":\"x2\",\"domain\":[0.8025,1.0],\"gridcolor\":\"#E1E5ED\",\"showgrid\":false,\"tickfont\":{\"color\":\"#4D5663\"},\"title\":{\"font\":{\"color\":\"#4D5663\"},\"text\":\"\"},\"zerolinecolor\":\"#E1E5ED\"},\"xaxis3\":{\"anchor\":\"y3\",\"domain\":[0.525,0.7375],\"gridcolor\":\"#E1E5ED\",\"showgrid\":false,\"tickfont\":{\"color\":\"#4D5663\"},\"title\":{\"font\":{\"color\":\"#4D5663\"},\"text\":\"\"},\"zerolinecolor\":\"#E1E5ED\"},\"yaxis3\":{\"anchor\":\"x3\",\"domain\":[0.8025,1.0],\"gridcolor\":\"#E1E5ED\",\"showgrid\":false,\"tickfont\":{\"color\":\"#4D5663\"},\"title\":{\"font\":{\"color\":\"#4D5663\"},\"text\":\"\"},\"zerolinecolor\":\"#E1E5ED\"},\"xaxis4\":{\"anchor\":\"y4\",\"domain\":[0.7875,1.0],\"gridcolor\":\"#E1E5ED\",\"showgrid\":false,\"tickfont\":{\"color\":\"#4D5663\"},\"title\":{\"font\":{\"color\":\"#4D5663\"},\"text\":\"\"},\"zerolinecolor\":\"#E1E5ED\"},\"yaxis4\":{\"anchor\":\"x4\",\"domain\":[0.8025,1.0],\"gridcolor\":\"#E1E5ED\",\"showgrid\":false,\"tickfont\":{\"color\":\"#4D5663\"},\"title\":{\"font\":{\"color\":\"#4D5663\"},\"text\":\"\"},\"zerolinecolor\":\"#E1E5ED\"},\"xaxis5\":{\"anchor\":\"y5\",\"domain\":[0.0,0.2125],\"gridcolor\":\"#E1E5ED\",\"showgrid\":false,\"tickfont\":{\"color\":\"#4D5663\"},\"title\":{\"font\":{\"color\":\"#4D5663\"},\"text\":\"\"},\"zerolinecolor\":\"#E1E5ED\"},\"yaxis5\":{\"anchor\":\"x5\",\"domain\":[0.535,0.7325],\"gridcolor\":\"#E1E5ED\",\"showgrid\":false,\"tickfont\":{\"color\":\"#4D5663\"},\"title\":{\"font\":{\"color\":\"#4D5663\"},\"text\":\"\"},\"zerolinecolor\":\"#E1E5ED\"},\"xaxis6\":{\"anchor\":\"y6\",\"domain\":[0.2625,0.475],\"gridcolor\":\"#E1E5ED\",\"showgrid\":false,\"tickfont\":{\"color\":\"#4D5663\"},\"title\":{\"font\":{\"color\":\"#4D5663\"},\"text\":\"\"},\"zerolinecolor\":\"#E1E5ED\"},\"yaxis6\":{\"anchor\":\"x6\",\"domain\":[0.535,0.7325],\"gridcolor\":\"#E1E5ED\",\"showgrid\":false,\"tickfont\":{\"color\":\"#4D5663\"},\"title\":{\"font\":{\"color\":\"#4D5663\"},\"text\":\"\"},\"zerolinecolor\":\"#E1E5ED\"},\"xaxis7\":{\"anchor\":\"y7\",\"domain\":[0.525,0.7375],\"gridcolor\":\"#E1E5ED\",\"showgrid\":false,\"tickfont\":{\"color\":\"#4D5663\"},\"title\":{\"font\":{\"color\":\"#4D5663\"},\"text\":\"\"},\"zerolinecolor\":\"#E1E5ED\"},\"yaxis7\":{\"anchor\":\"x7\",\"domain\":[0.535,0.7325],\"gridcolor\":\"#E1E5ED\",\"showgrid\":false,\"tickfont\":{\"color\":\"#4D5663\"},\"title\":{\"font\":{\"color\":\"#4D5663\"},\"text\":\"\"},\"zerolinecolor\":\"#E1E5ED\"},\"xaxis8\":{\"anchor\":\"y8\",\"domain\":[0.7875,1.0],\"gridcolor\":\"#E1E5ED\",\"showgrid\":false,\"tickfont\":{\"color\":\"#4D5663\"},\"title\":{\"font\":{\"color\":\"#4D5663\"},\"text\":\"\"},\"zerolinecolor\":\"#E1E5ED\"},\"yaxis8\":{\"anchor\":\"x8\",\"domain\":[0.535,0.7325],\"gridcolor\":\"#E1E5ED\",\"showgrid\":false,\"tickfont\":{\"color\":\"#4D5663\"},\"title\":{\"font\":{\"color\":\"#4D5663\"},\"text\":\"\"},\"zerolinecolor\":\"#E1E5ED\"},\"xaxis9\":{\"anchor\":\"y9\",\"domain\":[0.0,0.2125],\"gridcolor\":\"#E1E5ED\",\"showgrid\":false,\"tickfont\":{\"color\":\"#4D5663\"},\"title\":{\"font\":{\"color\":\"#4D5663\"},\"text\":\"\"},\"zerolinecolor\":\"#E1E5ED\"},\"yaxis9\":{\"anchor\":\"x9\",\"domain\":[0.2675,0.465],\"gridcolor\":\"#E1E5ED\",\"showgrid\":false,\"tickfont\":{\"color\":\"#4D5663\"},\"title\":{\"font\":{\"color\":\"#4D5663\"},\"text\":\"\"},\"zerolinecolor\":\"#E1E5ED\"},\"xaxis10\":{\"anchor\":\"y10\",\"domain\":[0.2625,0.475],\"gridcolor\":\"#E1E5ED\",\"showgrid\":false,\"tickfont\":{\"color\":\"#4D5663\"},\"title\":{\"font\":{\"color\":\"#4D5663\"},\"text\":\"\"},\"zerolinecolor\":\"#E1E5ED\"},\"yaxis10\":{\"anchor\":\"x10\",\"domain\":[0.2675,0.465],\"gridcolor\":\"#E1E5ED\",\"showgrid\":false,\"tickfont\":{\"color\":\"#4D5663\"},\"title\":{\"font\":{\"color\":\"#4D5663\"},\"text\":\"\"},\"zerolinecolor\":\"#E1E5ED\"},\"xaxis11\":{\"anchor\":\"y11\",\"domain\":[0.525,0.7375],\"gridcolor\":\"#E1E5ED\",\"showgrid\":false,\"tickfont\":{\"color\":\"#4D5663\"},\"title\":{\"font\":{\"color\":\"#4D5663\"},\"text\":\"\"},\"zerolinecolor\":\"#E1E5ED\"},\"yaxis11\":{\"anchor\":\"x11\",\"domain\":[0.2675,0.465],\"gridcolor\":\"#E1E5ED\",\"showgrid\":false,\"tickfont\":{\"color\":\"#4D5663\"},\"title\":{\"font\":{\"color\":\"#4D5663\"},\"text\":\"\"},\"zerolinecolor\":\"#E1E5ED\"},\"xaxis12\":{\"anchor\":\"y12\",\"domain\":[0.7875,1.0],\"gridcolor\":\"#E1E5ED\",\"showgrid\":false,\"tickfont\":{\"color\":\"#4D5663\"},\"title\":{\"font\":{\"color\":\"#4D5663\"},\"text\":\"\"},\"zerolinecolor\":\"#E1E5ED\"},\"yaxis12\":{\"anchor\":\"x12\",\"domain\":[0.2675,0.465],\"gridcolor\":\"#E1E5ED\",\"showgrid\":false,\"tickfont\":{\"color\":\"#4D5663\"},\"title\":{\"font\":{\"color\":\"#4D5663\"},\"text\":\"\"},\"zerolinecolor\":\"#E1E5ED\"},\"xaxis13\":{\"anchor\":\"y13\",\"domain\":[0.0,0.2125],\"gridcolor\":\"#E1E5ED\",\"showgrid\":false,\"tickfont\":{\"color\":\"#4D5663\"},\"title\":{\"font\":{\"color\":\"#4D5663\"},\"text\":\"\"},\"zerolinecolor\":\"#E1E5ED\"},\"yaxis13\":{\"anchor\":\"x13\",\"domain\":[0.0,0.1975],\"gridcolor\":\"#E1E5ED\",\"showgrid\":false,\"tickfont\":{\"color\":\"#4D5663\"},\"title\":{\"font\":{\"color\":\"#4D5663\"},\"text\":\"\"},\"zerolinecolor\":\"#E1E5ED\"},\"xaxis14\":{\"anchor\":\"y14\",\"domain\":[0.2625,0.475],\"gridcolor\":\"#E1E5ED\",\"showgrid\":false,\"tickfont\":{\"color\":\"#4D5663\"},\"title\":{\"font\":{\"color\":\"#4D5663\"},\"text\":\"\"},\"zerolinecolor\":\"#E1E5ED\"},\"yaxis14\":{\"anchor\":\"x14\",\"domain\":[0.0,0.1975],\"gridcolor\":\"#E1E5ED\",\"showgrid\":false,\"tickfont\":{\"color\":\"#4D5663\"},\"title\":{\"font\":{\"color\":\"#4D5663\"},\"text\":\"\"},\"zerolinecolor\":\"#E1E5ED\"},\"xaxis15\":{\"anchor\":\"y15\",\"domain\":[0.525,0.7375],\"gridcolor\":\"#E1E5ED\",\"showgrid\":false,\"tickfont\":{\"color\":\"#4D5663\"},\"title\":{\"font\":{\"color\":\"#4D5663\"},\"text\":\"\"},\"zerolinecolor\":\"#E1E5ED\"},\"yaxis15\":{\"anchor\":\"x15\",\"domain\":[0.0,0.1975],\"gridcolor\":\"#E1E5ED\",\"showgrid\":false,\"tickfont\":{\"color\":\"#4D5663\"},\"title\":{\"font\":{\"color\":\"#4D5663\"},\"text\":\"\"},\"zerolinecolor\":\"#E1E5ED\"},\"xaxis16\":{\"anchor\":\"y16\",\"domain\":[0.7875,1.0],\"gridcolor\":\"#E1E5ED\",\"showgrid\":false,\"tickfont\":{\"color\":\"#4D5663\"},\"title\":{\"font\":{\"color\":\"#4D5663\"},\"text\":\"\"},\"zerolinecolor\":\"#E1E5ED\"},\"yaxis16\":{\"anchor\":\"x16\",\"domain\":[0.0,0.1975],\"gridcolor\":\"#E1E5ED\",\"showgrid\":false,\"tickfont\":{\"color\":\"#4D5663\"},\"title\":{\"font\":{\"color\":\"#4D5663\"},\"text\":\"\"},\"zerolinecolor\":\"#E1E5ED\"}},                        {\"showLink\": true, \"linkText\": \"Export to plot.ly\", \"plotlyServerURL\": \"https://plot.ly\", \"responsive\": true}                    ).then(function(){\n",
       "                            \n",
       "var gd = document.getElementById('84509598-0215-43ba-95d6-d87d752abb94');\n",
       "var x = new MutationObserver(function (mutations, observer) {{\n",
       "        var display = window.getComputedStyle(gd).display;\n",
       "        if (!display || display === 'none') {{\n",
       "            console.log([gd, 'removed!']);\n",
       "            Plotly.purge(gd);\n",
       "            observer.disconnect();\n",
       "        }}\n",
       "}});\n",
       "\n",
       "// Listen for the removal of the full notebook cells\n",
       "var notebookContainer = gd.closest('#notebook-container');\n",
       "if (notebookContainer) {{\n",
       "    x.observe(notebookContainer, {childList: true});\n",
       "}}\n",
       "\n",
       "// Listen for the clearing of the current output cell\n",
       "var outputEl = gd.closest('.output');\n",
       "if (outputEl) {{\n",
       "    x.observe(outputEl, {childList: true});\n",
       "}}\n",
       "\n",
       "                        })                };                });            </script>        </div>"
      ]
     },
     "metadata": {},
     "output_type": "display_data"
    }
   ],
   "source": [
    "df.scatter_matrix()"
   ]
  }
 ],
 "metadata": {
  "kernelspec": {
   "display_name": "Python 3 (ipykernel)",
   "language": "python",
   "name": "python3"
  },
  "language_info": {
   "codemirror_mode": {
    "name": "ipython",
    "version": 3
   },
   "file_extension": ".py",
   "mimetype": "text/x-python",
   "name": "python",
   "nbconvert_exporter": "python",
   "pygments_lexer": "ipython3",
   "version": "3.10.6"
  },
  "varInspector": {
   "cols": {
    "lenName": 16,
    "lenType": 16,
    "lenVar": 40
   },
   "kernels_config": {
    "python": {
     "delete_cmd_postfix": "",
     "delete_cmd_prefix": "del ",
     "library": "var_list.py",
     "varRefreshCmd": "print(var_dic_list())"
    },
    "r": {
     "delete_cmd_postfix": ") ",
     "delete_cmd_prefix": "rm(",
     "library": "var_list.r",
     "varRefreshCmd": "cat(var_dic_list()) "
    }
   },
   "types_to_exclude": [
    "module",
    "function",
    "builtin_function_or_method",
    "instance",
    "_Feature"
   ],
   "window_display": false
  }
 },
 "nbformat": 4,
 "nbformat_minor": 5
}
