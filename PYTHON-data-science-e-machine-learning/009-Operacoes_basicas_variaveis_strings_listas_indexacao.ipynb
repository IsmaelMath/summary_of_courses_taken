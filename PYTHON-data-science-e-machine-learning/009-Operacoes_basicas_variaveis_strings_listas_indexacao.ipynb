{
 "cells": [
  {
   "cell_type": "markdown",
   "id": "93fc89ea",
   "metadata": {},
   "source": [
    "### Operações básicas Variáveis Strings, Listas e Indexação"
   ]
  },
  {
   "cell_type": "markdown",
   "id": "0f01f4f5",
   "metadata": {},
   "source": [
    "#### - Operação de Adição"
   ]
  },
  {
   "cell_type": "code",
   "execution_count": 1,
   "id": "d3747bea",
   "metadata": {},
   "outputs": [
    {
     "data": {
      "text/plain": [
       "2"
      ]
     },
     "execution_count": 1,
     "metadata": {},
     "output_type": "execute_result"
    }
   ],
   "source": [
    "1 + 1"
   ]
  },
  {
   "cell_type": "markdown",
   "id": "2ae2f803",
   "metadata": {},
   "source": [
    "#### - Operação de Subtração"
   ]
  },
  {
   "cell_type": "code",
   "execution_count": 2,
   "id": "2e3d407c",
   "metadata": {},
   "outputs": [
    {
     "data": {
      "text/plain": [
       "4"
      ]
     },
     "execution_count": 2,
     "metadata": {},
     "output_type": "execute_result"
    }
   ],
   "source": [
    "12 - 8"
   ]
  },
  {
   "cell_type": "markdown",
   "id": "0e0d91e2",
   "metadata": {},
   "source": [
    "#### - Operação de Multiplicação"
   ]
  },
  {
   "cell_type": "code",
   "execution_count": 3,
   "id": "116c3555",
   "metadata": {},
   "outputs": [
    {
     "data": {
      "text/plain": [
       "15"
      ]
     },
     "execution_count": 3,
     "metadata": {},
     "output_type": "execute_result"
    }
   ],
   "source": [
    "1 * 15"
   ]
  },
  {
   "cell_type": "markdown",
   "id": "63c1ef6b",
   "metadata": {},
   "source": [
    "#### - Operação de Divisão"
   ]
  },
  {
   "cell_type": "code",
   "execution_count": 4,
   "id": "8fd4ef72",
   "metadata": {},
   "outputs": [
    {
     "data": {
      "text/plain": [
       "0.2"
      ]
     },
     "execution_count": 4,
     "metadata": {},
     "output_type": "execute_result"
    }
   ],
   "source": [
    "1 / 5"
   ]
  },
  {
   "cell_type": "markdown",
   "id": "e0970f30",
   "metadata": {},
   "source": [
    "#### - Operação de Exponencial"
   ]
  },
  {
   "cell_type": "code",
   "execution_count": 5,
   "id": "be1194fd",
   "metadata": {},
   "outputs": [
    {
     "data": {
      "text/plain": [
       "9"
      ]
     },
     "execution_count": 5,
     "metadata": {},
     "output_type": "execute_result"
    }
   ],
   "source": [
    "3 ** 2"
   ]
  },
  {
   "cell_type": "markdown",
   "id": "151b3c03",
   "metadata": {},
   "source": [
    "#### - Método Para Verificar que Tipo de Variável Estamos Lidando"
   ]
  },
  {
   "cell_type": "code",
   "execution_count": 6,
   "id": "9848b95a",
   "metadata": {},
   "outputs": [
    {
     "data": {
      "text/plain": [
       "int"
      ]
     },
     "execution_count": 6,
     "metadata": {},
     "output_type": "execute_result"
    }
   ],
   "source": [
    "type(1)"
   ]
  },
  {
   "cell_type": "code",
   "execution_count": 8,
   "id": "912c8e6f",
   "metadata": {},
   "outputs": [
    {
     "data": {
      "text/plain": [
       "float"
      ]
     },
     "execution_count": 8,
     "metadata": {},
     "output_type": "execute_result"
    }
   ],
   "source": [
    "type(1.5)"
   ]
  },
  {
   "cell_type": "code",
   "execution_count": 7,
   "id": "fa672fc9",
   "metadata": {},
   "outputs": [
    {
     "data": {
      "text/plain": [
       "str"
      ]
     },
     "execution_count": 7,
     "metadata": {},
     "output_type": "execute_result"
    }
   ],
   "source": [
    "type(\"Ismael\")"
   ]
  },
  {
   "cell_type": "markdown",
   "id": "607d7309",
   "metadata": {},
   "source": [
    "#### - Retorna apenas o Resto da Divisão"
   ]
  },
  {
   "cell_type": "code",
   "execution_count": 10,
   "id": "9aae6254",
   "metadata": {},
   "outputs": [
    {
     "data": {
      "text/plain": [
       "0"
      ]
     },
     "execution_count": 10,
     "metadata": {},
     "output_type": "execute_result"
    }
   ],
   "source": [
    "4 % 2"
   ]
  },
  {
   "cell_type": "code",
   "execution_count": 12,
   "id": "f5e2358d",
   "metadata": {},
   "outputs": [
    {
     "data": {
      "text/plain": [
       "1"
      ]
     },
     "execution_count": 12,
     "metadata": {},
     "output_type": "execute_result"
    }
   ],
   "source": [
    "5 % 2"
   ]
  },
  {
   "cell_type": "markdown",
   "id": "ba572e57",
   "metadata": {},
   "source": [
    "#### - Criação de Variáveis"
   ]
  },
  {
   "cell_type": "code",
   "execution_count": 16,
   "id": "a7cf899c",
   "metadata": {},
   "outputs": [
    {
     "data": {
      "text/plain": [
       "1"
      ]
     },
     "execution_count": 16,
     "metadata": {},
     "output_type": "execute_result"
    }
   ],
   "source": [
    "x = 1\n",
    "x"
   ]
  },
  {
   "cell_type": "code",
   "execution_count": 17,
   "id": "8b4e973f",
   "metadata": {},
   "outputs": [
    {
     "data": {
      "text/plain": [
       "'nome_da_variavel'"
      ]
     },
     "execution_count": 17,
     "metadata": {},
     "output_type": "execute_result"
    }
   ],
   "source": [
    "\"nome_da_variavel\""
   ]
  },
  {
   "cell_type": "code",
   "execution_count": 19,
   "id": "633d5d6d",
   "metadata": {},
   "outputs": [
    {
     "data": {
      "text/plain": [
       "str"
      ]
     },
     "execution_count": 19,
     "metadata": {},
     "output_type": "execute_result"
    }
   ],
   "source": [
    "string = \"nome_da_variavel\"\n",
    "type(string)"
   ]
  },
  {
   "cell_type": "markdown",
   "id": "2722182d",
   "metadata": {},
   "source": [
    "#### - Métodos de printar enviar mensage ao usuário"
   ]
  },
  {
   "cell_type": "code",
   "execution_count": 20,
   "id": "459c3e13",
   "metadata": {},
   "outputs": [
    {
     "name": "stdout",
     "output_type": "stream",
     "text": [
      "nome_da_variavel\n"
     ]
    }
   ],
   "source": [
    "print(string)"
   ]
  },
  {
   "cell_type": "code",
   "execution_count": 23,
   "id": "3f216759",
   "metadata": {},
   "outputs": [
    {
     "name": "stdout",
     "output_type": "stream",
     "text": [
      "O tipo da variável 'string' é : <class 'str'>\n"
     ]
    }
   ],
   "source": [
    "print(\"O tipo da variável 'string' é : {}\". format(type(string)))"
   ]
  },
  {
   "cell_type": "code",
   "execution_count": 36,
   "id": "fd081e3b",
   "metadata": {},
   "outputs": [
    {
     "name": "stdout",
     "output_type": "stream",
     "text": [
      "Nome : Ismael \n",
      "Cidade natal : Oeiras - PI\n"
     ]
    }
   ],
   "source": [
    "nome = \"Ismael\"\n",
    "cidade = \"Oeiras - PI\"\n",
    "print(f\"Nome : {nome} \\nCidade natal : {cidade}\")"
   ]
  },
  {
   "cell_type": "markdown",
   "id": "5a45f1a3",
   "metadata": {},
   "source": [
    "#### - Listas\n",
    "\n",
    "- Nome dos caracteres:\n",
    "    - ( _ ) --> Parênteses\n",
    "    - [ _ ] --> Colchetes\n",
    "    - { _ } --> Chaves"
   ]
  },
  {
   "cell_type": "code",
   "execution_count": 80,
   "id": "a8a66d26",
   "metadata": {},
   "outputs": [
    {
     "data": {
      "text/plain": [
       "[1, 2, 3, 4, 5, 6]"
      ]
     },
     "execution_count": 80,
     "metadata": {},
     "output_type": "execute_result"
    }
   ],
   "source": [
    "# Criando uma lista:\n",
    "[1, 2, 3, 4, 5, 6]"
   ]
  },
  {
   "cell_type": "code",
   "execution_count": 79,
   "id": "5a944481",
   "metadata": {},
   "outputs": [
    {
     "data": {
      "text/plain": [
       "[1, 2, 3, 4, 5, 6]"
      ]
     },
     "execution_count": 79,
     "metadata": {},
     "output_type": "execute_result"
    }
   ],
   "source": [
    "# Criando a lista, mas agora atribuindo-a a uma variável\n",
    "listas = [1, 2, 3, 4, 5, 6]\n",
    "listas"
   ]
  },
  {
   "cell_type": "code",
   "execution_count": 78,
   "id": "917c06d5",
   "metadata": {},
   "outputs": [],
   "source": [
    "# A Função .append() ela adiciona elementos a listas.\n",
    "listas.append(\"Ismael\")"
   ]
  },
  {
   "cell_type": "code",
   "execution_count": 88,
   "id": "31e253c0",
   "metadata": {},
   "outputs": [],
   "source": [
    "# Lista com diferentes tipos de elementos\n",
    "lista = [1, 2, 3.2, 4, 5.4, 6, \"Ismael\"]\n",
    "# Lista dentro de listas com diferentes elementos\n",
    "listas = [[1, 2, 3], [4.7, 5.8, 6], [7, 8, 9], [\"Batista\", \"Lima\"], \"Batista\"]"
   ]
  },
  {
   "cell_type": "code",
   "execution_count": 81,
   "id": "d48ed97c",
   "metadata": {},
   "outputs": [
    {
     "data": {
      "text/plain": [
       "[1, 2, 3.2, 4, 5.4, 6, 'Ismael']"
      ]
     },
     "execution_count": 81,
     "metadata": {},
     "output_type": "execute_result"
    }
   ],
   "source": [
    "lista"
   ]
  },
  {
   "cell_type": "code",
   "execution_count": 82,
   "id": "659a4928",
   "metadata": {},
   "outputs": [
    {
     "data": {
      "text/plain": [
       "[1, 2, 3, 4, 5, 6]"
      ]
     },
     "execution_count": 82,
     "metadata": {},
     "output_type": "execute_result"
    }
   ],
   "source": [
    "listas"
   ]
  },
  {
   "cell_type": "code",
   "execution_count": 69,
   "id": "31210d13",
   "metadata": {},
   "outputs": [
    {
     "data": {
      "text/plain": [
       "'Batista'"
      ]
     },
     "execution_count": 69,
     "metadata": {},
     "output_type": "execute_result"
    }
   ],
   "source": [
    "# Fomas de consultar os elmentos de uma lista\n",
    "listas[3]"
   ]
  },
  {
   "cell_type": "code",
   "execution_count": 83,
   "id": "2d76d380",
   "metadata": {},
   "outputs": [
    {
     "data": {
      "text/plain": [
       "[2, 3, 4, 5, 6]"
      ]
     },
     "execution_count": 83,
     "metadata": {},
     "output_type": "execute_result"
    }
   ],
   "source": [
    "# Fomas de consultar os elmentos de uma lista\n",
    "listas[1:]"
   ]
  },
  {
   "cell_type": "code",
   "execution_count": 84,
   "id": "e5fe8f4f",
   "metadata": {},
   "outputs": [
    {
     "data": {
      "text/plain": [
       "[1, 2]"
      ]
     },
     "execution_count": 84,
     "metadata": {},
     "output_type": "execute_result"
    }
   ],
   "source": [
    "# Fomas de consultar os elmentos de uma lista\n",
    "listas[:2]"
   ]
  },
  {
   "cell_type": "code",
   "execution_count": 85,
   "id": "97b815ac",
   "metadata": {},
   "outputs": [
    {
     "data": {
      "text/plain": [
       "[1, 3, 5]"
      ]
     },
     "execution_count": 85,
     "metadata": {},
     "output_type": "execute_result"
    }
   ],
   "source": [
    "# Fomas de consultar os elmentos de uma lista\n",
    "\n",
    "# listas[inicio:fim:passo]\n",
    "\n",
    "listas[0:len(listas):2]"
   ]
  },
  {
   "cell_type": "code",
   "execution_count": 90,
   "id": "d678c879",
   "metadata": {},
   "outputs": [
    {
     "data": {
      "text/plain": [
       "5.8"
      ]
     },
     "execution_count": 90,
     "metadata": {},
     "output_type": "execute_result"
    }
   ],
   "source": [
    "# Fomas de consultar os elmentos de uma lista\n",
    "listas[1][1]"
   ]
  }
 ],
 "metadata": {
  "kernelspec": {
   "display_name": "Python 3 (ipykernel)",
   "language": "python",
   "name": "python3"
  },
  "language_info": {
   "codemirror_mode": {
    "name": "ipython",
    "version": 3
   },
   "file_extension": ".py",
   "mimetype": "text/x-python",
   "name": "python",
   "nbconvert_exporter": "python",
   "pygments_lexer": "ipython3",
   "version": "3.10.6"
  }
 },
 "nbformat": 4,
 "nbformat_minor": 5
}
