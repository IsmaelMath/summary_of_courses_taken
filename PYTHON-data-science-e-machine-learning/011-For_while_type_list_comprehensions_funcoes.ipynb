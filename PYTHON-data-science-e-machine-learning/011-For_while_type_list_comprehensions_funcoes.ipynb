{
 "cells": [
  {
   "cell_type": "markdown",
   "id": "53f968eb",
   "metadata": {},
   "source": [
    "### - Estruturas de repetição\n",
    "\n",
    "#### - FOR & WHILE\n"
   ]
  },
  {
   "cell_type": "code",
   "execution_count": 1,
   "id": "42384bcd",
   "metadata": {},
   "outputs": [],
   "source": [
    "# Criado uma lista\n",
    "seq = [1, 2, 3, 4, 5, 6]"
   ]
  },
  {
   "cell_type": "code",
   "execution_count": 2,
   "id": "05470f7c",
   "metadata": {},
   "outputs": [
    {
     "name": "stdout",
     "output_type": "stream",
     "text": [
      "1  2  3  4  5  6  "
     ]
    }
   ],
   "source": [
    "# Criando uma estrutura de repetição para percorrer toda a lista seq\n",
    "for item in seq:\n",
    "    print(f\"{item}\", end=\"  \")\n",
    "    "
   ]
  },
  {
   "cell_type": "code",
   "execution_count": 3,
   "id": "ebd9e09a",
   "metadata": {},
   "outputs": [
    {
     "name": "stdout",
     "output_type": "stream",
     "text": [
      "0 2 4 6 8 10 12 14 16 18 20 22 24 26 28 30 32 34 36 38 40 42 44 46 48 "
     ]
    }
   ],
   "source": [
    "# Criando uma estrutura de repetição com a função range(inicio, fim, salto)\n",
    "\n",
    "for i in range(0, 50, 2):\n",
    "    print(i, end=\" \")"
   ]
  },
  {
   "cell_type": "code",
   "execution_count": 4,
   "id": "3f5024e7",
   "metadata": {},
   "outputs": [
    {
     "data": {
      "text/plain": [
       "range"
      ]
     },
     "execution_count": 4,
     "metadata": {},
     "output_type": "execute_result"
    }
   ],
   "source": [
    "# Verificando que tipo de objeto estamos lidando com a função type()\n",
    "type(range(0, 50, 2))"
   ]
  },
  {
   "cell_type": "code",
   "execution_count": 13,
   "id": "b09de317",
   "metadata": {},
   "outputs": [
    {
     "name": "stdout",
     "output_type": "stream",
     "text": [
      "i vale: 1\n",
      "i vale: 2\n",
      "i vale: 3\n",
      "i vale: 4\n"
     ]
    }
   ],
   "source": [
    "# Criando um contador e nesse caso é i=1\n",
    "i = 1\n",
    "\n",
    "# Criando um loop de repetição com a função while\n",
    "while i < 5:\n",
    "    print('i vale: {}'.format(i))\n",
    "    i = i+1"
   ]
  },
  {
   "cell_type": "code",
   "execution_count": 2,
   "id": "70467de8",
   "metadata": {},
   "outputs": [
    {
     "name": "stdout",
     "output_type": "stream",
     "text": [
      "[1, 2, 3, 15, 48, 75, 89]\n"
     ]
    }
   ],
   "source": [
    "# Criando uma lista vazia que serve para adcionar valores\n",
    "out = []\n",
    "\n",
    "# Criando uma lista de valores\n",
    "x =[1, 2, 3, 15, 48, 75, 89]\n",
    "\n",
    "# Criando uma estrutura de repetição com for \n",
    "for item in x:\n",
    "    out.append(item)\n",
    "    \n",
    "\n",
    "print(out)"
   ]
  },
  {
   "cell_type": "code",
   "execution_count": 3,
   "id": "da2252b6",
   "metadata": {},
   "outputs": [
    {
     "data": {
      "text/plain": [
       "[1, 4, 9, 225, 2304, 5625, 7921]"
      ]
     },
     "execution_count": 3,
     "metadata": {},
     "output_type": "execute_result"
    }
   ],
   "source": [
    "# Uma outra forma de lidar com o for\n",
    "[item**2 for item in x]"
   ]
  },
  {
   "cell_type": "markdown",
   "id": "96d1e77a",
   "metadata": {},
   "source": [
    "#### - FUNÇÕES"
   ]
  },
  {
   "cell_type": "code",
   "execution_count": 12,
   "id": "007c221a",
   "metadata": {},
   "outputs": [],
   "source": [
    "def minha_func(param):\n",
    "    print(param)"
   ]
  },
  {
   "cell_type": "code",
   "execution_count": 14,
   "id": "1d9c91d5",
   "metadata": {},
   "outputs": [
    {
     "data": {
      "text/plain": [
       "<function __main__.minha_func(param)>"
      ]
     },
     "execution_count": 14,
     "metadata": {},
     "output_type": "execute_result"
    }
   ],
   "source": [
    "minha_func"
   ]
  },
  {
   "cell_type": "code",
   "execution_count": 15,
   "id": "6fb42e8f",
   "metadata": {},
   "outputs": [
    {
     "name": "stdout",
     "output_type": "stream",
     "text": [
      "Ismael Batista\n"
     ]
    }
   ],
   "source": [
    "minha_func(\"Ismael Batista\")"
   ]
  },
  {
   "cell_type": "code",
   "execution_count": 16,
   "id": "0e15d87b",
   "metadata": {},
   "outputs": [],
   "source": [
    "def minha_func(param):\n",
    "    x = param ** 2\n",
    "    return x"
   ]
  },
  {
   "cell_type": "code",
   "execution_count": 17,
   "id": "a802b46a",
   "metadata": {},
   "outputs": [
    {
     "data": {
      "text/plain": [
       "4"
      ]
     },
     "execution_count": 17,
     "metadata": {},
     "output_type": "execute_result"
    }
   ],
   "source": [
    "minha_func(2)"
   ]
  },
  {
   "cell_type": "code",
   "execution_count": 18,
   "id": "db863708",
   "metadata": {},
   "outputs": [
    {
     "data": {
      "text/plain": [
       "5625"
      ]
     },
     "execution_count": 18,
     "metadata": {},
     "output_type": "execute_result"
    }
   ],
   "source": [
    "x = 75\n",
    "minha_func(x)"
   ]
  },
  {
   "cell_type": "code",
   "execution_count": null,
   "id": "2541af8a",
   "metadata": {},
   "outputs": [],
   "source": []
  }
 ],
 "metadata": {
  "kernelspec": {
   "display_name": "Python 3 (ipykernel)",
   "language": "python",
   "name": "python3"
  },
  "language_info": {
   "codemirror_mode": {
    "name": "ipython",
    "version": 3
   },
   "file_extension": ".py",
   "mimetype": "text/x-python",
   "name": "python",
   "nbconvert_exporter": "python",
   "pygments_lexer": "ipython3",
   "version": "3.10.6"
  }
 },
 "nbformat": 4,
 "nbformat_minor": 5
}
