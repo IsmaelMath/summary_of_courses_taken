{
 "cells": [
  {
   "cell_type": "markdown",
   "id": "519f48cd",
   "metadata": {},
   "source": [
    "### Configurando o ambiente de Trabalho\n",
    "\n",
    "- Esse curso fará uso básicamente do **JUPYTER**\n",
    "\n",
    "\n",
    "- Entretanto, você está livre para usar qualquer ambiente <br>\n",
    "  de desenvolvimento que preferir.\n",
    "  \n",
    "\n",
    "- Todas notas de aula poderão ser baixadas como arquivo .py, que <br>\n",
    "  são compatéveis com qualquer IDE de Pthon e editor.\n",
    "  \n",
    "  \n",
    "- Usaremos a versão mais atualizada do Python através do ambiente <br>\n",
    "  **Anaconda**\n",
    "\n",
    "\n",
    "- Todas notas de aulas também são compatíveis com **Python 2**\n",
    "\n",
    "\n",
    "- Vamos à instalação !!! "
   ]
  }
 ],
 "metadata": {
  "kernelspec": {
   "display_name": "Python 3 (ipykernel)",
   "language": "python",
   "name": "python3"
  },
  "language_info": {
   "codemirror_mode": {
    "name": "ipython",
    "version": 3
   },
   "file_extension": ".py",
   "mimetype": "text/x-python",
   "name": "python",
   "nbconvert_exporter": "python",
   "pygments_lexer": "ipython3",
   "version": "3.10.6"
  }
 },
 "nbformat": 4,
 "nbformat_minor": 5
}
