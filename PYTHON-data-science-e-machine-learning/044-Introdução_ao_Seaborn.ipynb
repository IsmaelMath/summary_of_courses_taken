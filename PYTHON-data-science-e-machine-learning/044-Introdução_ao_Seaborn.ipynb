{
 "cells": [
  {
   "cell_type": "markdown",
   "id": "06dc073a",
   "metadata": {},
   "source": [
    "### Introdução ao Seaborn\n",
    "<br>\n",
    "\n",
    "- Seaborn é uma biblioteca de visualização estatística de dados;\n",
    "<br>\n",
    "\n",
    "- Possui excelentes estilos padrões;\n",
    "<br>\n",
    "\n",
    "- Foi projetados para funcionar em harmonia com objetos do tipo DataFrame do pandas;\n",
    "<br>\n",
    "\n",
    "- Para você instalar Seaborn usasse os seguintes comandos:\n",
    "<br>\n",
    "\n",
    "    - conda install seaborn\n",
    "    - pip install seaborn\n"
   ]
  }
 ],
 "metadata": {
  "kernelspec": {
   "display_name": "Python 3 (ipykernel)",
   "language": "python",
   "name": "python3"
  },
  "language_info": {
   "codemirror_mode": {
    "name": "ipython",
    "version": 3
   },
   "file_extension": ".py",
   "mimetype": "text/x-python",
   "name": "python",
   "nbconvert_exporter": "python",
   "pygments_lexer": "ipython3",
   "version": "3.10.6"
  },
  "varInspector": {
   "cols": {
    "lenName": 16,
    "lenType": 16,
    "lenVar": 40
   },
   "kernels_config": {
    "python": {
     "delete_cmd_postfix": "",
     "delete_cmd_prefix": "del ",
     "library": "var_list.py",
     "varRefreshCmd": "print(var_dic_list())"
    },
    "r": {
     "delete_cmd_postfix": ") ",
     "delete_cmd_prefix": "rm(",
     "library": "var_list.r",
     "varRefreshCmd": "cat(var_dic_list()) "
    }
   },
   "types_to_exclude": [
    "module",
    "function",
    "builtin_function_or_method",
    "instance",
    "_Feature"
   ],
   "window_display": false
  }
 },
 "nbformat": 4,
 "nbformat_minor": 5
}
