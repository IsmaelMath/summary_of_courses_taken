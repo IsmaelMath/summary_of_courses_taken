{
 "cells": [
  {
   "cell_type": "markdown",
   "id": "1e8198eb",
   "metadata": {},
   "source": [
    "### Curso Relâmpago de Python\n",
    "\n",
    "\n",
    "- Faremos um breve resumo sobre programação em python;\n",
    "\n",
    "\n",
    "- Este curso é voltado a pessoas com algum conhecimento básico em programção;\n",
    "\n",
    "\n",
    "- Se você é novo em programação, esse curso talvez seja muito avançado para você;\n",
    "\n",
    "\n",
    "- Se você já tem boas bases em python, avance para os exercícios !\n",
    "\n",
    "\n",
    "- O que este curso cobrirá?\n",
    "    - Tipos numéricos\n",
    "    - Strings\n",
    "    - Prints\n",
    "    - listas\n",
    "    - Dicionários\n",
    "    - Boleanos\n",
    "    - Tuplas e Sets\n",
    "    - Operadores lógicos\n",
    "    - If, else, elif\n",
    "    - For, while\n",
    "    - Range()\n",
    "    - Funções\n",
    "    - Expressões lambda\n",
    "    - Map e Filter\n",
    "\n",
    "\n",
    "\n",
    "\n",
    "\n",
    "\n",
    "\n",
    "\n",
    "\n",
    "\n",
    "\n",
    "\n"
   ]
  }
 ],
 "metadata": {
  "kernelspec": {
   "display_name": "Python 3 (ipykernel)",
   "language": "python",
   "name": "python3"
  },
  "language_info": {
   "codemirror_mode": {
    "name": "ipython",
    "version": 3
   },
   "file_extension": ".py",
   "mimetype": "text/x-python",
   "name": "python",
   "nbconvert_exporter": "python",
   "pygments_lexer": "ipython3",
   "version": "3.10.6"
  }
 },
 "nbformat": 4,
 "nbformat_minor": 5
}
