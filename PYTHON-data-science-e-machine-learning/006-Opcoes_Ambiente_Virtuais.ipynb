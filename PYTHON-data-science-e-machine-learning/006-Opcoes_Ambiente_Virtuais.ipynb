{
 "cells": [
  {
   "cell_type": "markdown",
   "id": "bb49146e",
   "metadata": {},
   "source": [
    "### Opções Ambientes Virtuais\n",
    "\n",
    "\n",
    "####  - Configurando Ambientes Vituais\n",
    "\n",
    "- Ambiente virtual permitem que você defina instalações personalizadas e virtuais do Python.\n",
    "\n",
    "\n",
    "- Você pode ter multiplas versoes do Python e de suas bibliotecas instaladas\n",
    "\n",
    "\n",
    "- Vamos ver um exemplo\n",
    "\n",
    "\n",
    "- Exemplo:\n",
    "    - Você desenvolve um rpograma usando o Scikit-Learn 0.17\n",
    "    - Scikit-Learn 0.18 é lançado;\n",
    "    - Você que explorar a versão 0.18 mas não quer perder seu código antigo;\n",
    "    - Eventualmente, algumas bibliotecas só funcionam em Python 2.7(ou 3+); \n",
    "    - Você tem programas que fazem usos de ambas e precisa ter acesso à múltiplas versões do Python;\n",
    "    \n",
    "- Existem uma biblioteca chamado virtualenv para distribuições normais de Python\n",
    "\n",
    "\n",
    "- O Anaconda possui um gerenciador de ambientes virtuais embutido, na qual faremos uso\n",
    "\n",
    "\n",
    "- Segue o link: http://conda.pydate.org/docs/using/envs.html\n",
    "\n",
    "\n",
    "- **Criando um ambiente virtual passo a passo**\n",
    "    - O Anaconda já tem esse gerenciado de ambientes\n",
    "    - **Através do terminal**\n",
    "        - Digite: python3\n",
    "        \n",
    "        - \"create --name python2 python=2.7\" - Nesse caso estamos criando um ambiente virtual chamado de python2.\n",
    "        \n",
    "        - \"activate python2\" - para ativar o ambiente virtual\n",
    "        \n",
    "        - \"deactivate\" - para desativar o ambiente virtual\n",
    "        \n",
    "        - \"conda create --name python3 python=3.4 scipy=0.15\" - Posso criar um ambiente virtual com bibliotecas especificas.\n",
    "        \n",
    "        - \"conda info --envs\" para verificar os ambientes virtuais criados.\n",
    "        \n",
    "        \n",
    "        \n",
    "        \n",
    "        \n",
    "        "
   ]
  }
 ],
 "metadata": {
  "kernelspec": {
   "display_name": "Python 3 (ipykernel)",
   "language": "python",
   "name": "python3"
  },
  "language_info": {
   "codemirror_mode": {
    "name": "ipython",
    "version": 3
   },
   "file_extension": ".py",
   "mimetype": "text/x-python",
   "name": "python",
   "nbconvert_exporter": "python",
   "pygments_lexer": "ipython3",
   "version": "3.10.6"
  }
 },
 "nbformat": 4,
 "nbformat_minor": 5
}
