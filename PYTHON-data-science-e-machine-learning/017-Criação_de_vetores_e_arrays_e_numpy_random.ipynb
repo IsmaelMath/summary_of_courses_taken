{
 "cells": [
  {
   "cell_type": "markdown",
   "id": "f9d98aff",
   "metadata": {},
   "source": [
    "### Criação de Vetores e Arrays e Numpy Random"
   ]
  },
  {
   "cell_type": "code",
   "execution_count": 2,
   "id": "b73fbba9",
   "metadata": {},
   "outputs": [],
   "source": [
    "# Importando a biblioteca que iremos utilizar\n",
    "import numpy as np"
   ]
  },
  {
   "cell_type": "code",
   "execution_count": 3,
   "id": "6d648122",
   "metadata": {},
   "outputs": [
    {
     "data": {
      "text/plain": [
       "[1, 2, 3]"
      ]
     },
     "execution_count": 3,
     "metadata": {},
     "output_type": "execute_result"
    }
   ],
   "source": [
    "# Criando uma lista \n",
    "minha_lista = [1, 2, 3]; minha_lista"
   ]
  },
  {
   "cell_type": "code",
   "execution_count": 8,
   "id": "587f51e6",
   "metadata": {},
   "outputs": [
    {
     "data": {
      "text/plain": [
       "array([1, 2, 3])"
      ]
     },
     "execution_count": 8,
     "metadata": {},
     "output_type": "execute_result"
    }
   ],
   "source": [
    "# Convertendo minha lista em um array\n",
    "np.array(minha_lista)"
   ]
  },
  {
   "cell_type": "code",
   "execution_count": 10,
   "id": "bd543203",
   "metadata": {},
   "outputs": [
    {
     "data": {
      "text/plain": [
       "[[1, 2, 3], [4, 5, 6], [7, 8, 9]]"
      ]
     },
     "execution_count": 10,
     "metadata": {},
     "output_type": "execute_result"
    }
   ],
   "source": [
    "# Criando uma lista de matriz; lista de listas\n",
    "minha_matriz = [[1, 2, 3], [4, 5, 6], [7, 8, 9]]; minha_matriz"
   ]
  },
  {
   "cell_type": "code",
   "execution_count": 11,
   "id": "15b070d6",
   "metadata": {},
   "outputs": [
    {
     "data": {
      "text/plain": [
       "array([[1, 2, 3],\n",
       "       [4, 5, 6],\n",
       "       [7, 8, 9]])"
      ]
     },
     "execution_count": 11,
     "metadata": {},
     "output_type": "execute_result"
    }
   ],
   "source": [
    "# Convetendo minha lista de listas que nesse caso é uma matriz em array\n",
    "np.array(minha_matriz)"
   ]
  },
  {
   "cell_type": "code",
   "execution_count": 14,
   "id": "2b612660",
   "metadata": {},
   "outputs": [
    {
     "data": {
      "text/plain": [
       "array([0, 1, 2, 3, 4, 5, 6, 7, 8, 9])"
      ]
     },
     "execution_count": 14,
     "metadata": {},
     "output_type": "execute_result"
    }
   ],
   "source": [
    "# Criando um array com o método arange(start, end, step)\n",
    "np.arange(0, 10)"
   ]
  },
  {
   "cell_type": "code",
   "execution_count": 15,
   "id": "5621e22d",
   "metadata": {},
   "outputs": [
    {
     "data": {
      "text/plain": [
       "array([0., 0., 0., 0., 0.])"
      ]
     },
     "execution_count": 15,
     "metadata": {},
     "output_type": "execute_result"
    }
   ],
   "source": [
    "# Criando um array de zeros\n",
    "np.zeros(5)"
   ]
  },
  {
   "cell_type": "code",
   "execution_count": 17,
   "id": "8e42bb5f",
   "metadata": {},
   "outputs": [
    {
     "data": {
      "text/plain": [
       "array([0., 0., 0., 0.])"
      ]
     },
     "execution_count": 17,
     "metadata": {},
     "output_type": "execute_result"
    }
   ],
   "source": [
    "# Adicionado uma variavel para receber a matriz de zeros\n",
    "arr = np.zeros(4); arr"
   ]
  },
  {
   "cell_type": "code",
   "execution_count": 20,
   "id": "0bc07658",
   "metadata": {},
   "outputs": [
    {
     "data": {
      "text/plain": [
       "array([[0., 0., 0., 0., 0.],\n",
       "       [0., 0., 0., 0., 0.],\n",
       "       [0., 0., 0., 0., 0.],\n",
       "       [0., 0., 0., 0., 0.],\n",
       "       [0., 0., 0., 0., 0.]])"
      ]
     },
     "execution_count": 20,
     "metadata": {},
     "output_type": "execute_result"
    }
   ],
   "source": [
    "# Criando uma matriz 5x5 \n",
    "arr = np.zeros((5,5)); arr"
   ]
  },
  {
   "cell_type": "code",
   "execution_count": 22,
   "id": "17660dea",
   "metadata": {},
   "outputs": [
    {
     "data": {
      "text/plain": [
       "array([[1., 1., 1., 1., 1.],\n",
       "       [1., 1., 1., 1., 1.],\n",
       "       [1., 1., 1., 1., 1.],\n",
       "       [1., 1., 1., 1., 1.],\n",
       "       [1., 1., 1., 1., 1.]])"
      ]
     },
     "execution_count": 22,
     "metadata": {},
     "output_type": "execute_result"
    }
   ],
   "source": [
    "# Criando uma matriz com elementos igual a 1\n",
    "arr_1 = np.ones((5,5)); arr_1"
   ]
  },
  {
   "cell_type": "code",
   "execution_count": 25,
   "id": "780c62da",
   "metadata": {},
   "outputs": [
    {
     "data": {
      "text/plain": [
       "array([[1., 0., 0., 0., 0.],\n",
       "       [0., 1., 0., 0., 0.],\n",
       "       [0., 0., 1., 0., 0.],\n",
       "       [0., 0., 0., 1., 0.],\n",
       "       [0., 0., 0., 0., 1.]])"
      ]
     },
     "execution_count": 25,
     "metadata": {},
     "output_type": "execute_result"
    }
   ],
   "source": [
    "# Criando uma matriz identidade com método eye()\n",
    "np.eye()"
   ]
  },
  {
   "cell_type": "code",
   "execution_count": 28,
   "id": "a3c6818c",
   "metadata": {},
   "outputs": [
    {
     "data": {
      "text/plain": [
       "array([ 0.,  5., 10.])"
      ]
     },
     "execution_count": 28,
     "metadata": {},
     "output_type": "execute_result"
    }
   ],
   "source": [
    "# Existe outro metodo de criação de matriz que é o linspace(start, end, step_=mente_espaçados)\n",
    "# é semelhante ao arange()\n",
    "np.linspace(0, 10, 3)"
   ]
  },
  {
   "cell_type": "code",
   "execution_count": 31,
   "id": "5d09150d",
   "metadata": {},
   "outputs": [
    {
     "data": {
      "text/plain": [
       "array([ 0.,  2.,  4.,  6.,  8., 10.])"
      ]
     },
     "execution_count": 31,
     "metadata": {},
     "output_type": "execute_result"
    }
   ],
   "source": [
    "# Existe outro metodo de criação de matriz que é o linspace(start, end, step_=mente_espaçados)\n",
    "# é semelhante ao arange()\n",
    "np.linspace(0, 10, 6)"
   ]
  },
  {
   "cell_type": "code",
   "execution_count": 32,
   "id": "da83d3b6",
   "metadata": {},
   "outputs": [
    {
     "data": {
      "text/plain": [
       "array([0.54679716, 0.49478358, 0.08491092, 0.06137442, 0.72029241])"
      ]
     },
     "execution_count": 32,
     "metadata": {},
     "output_type": "execute_result"
    }
   ],
   "source": [
    "# O random pode criar números aleátorios baseado em regras diferentes e nesse caso são números \n",
    "# aleátorios baseados em uma Distribuição uniforme\n",
    "np.random.rand(5)"
   ]
  },
  {
   "cell_type": "code",
   "execution_count": 33,
   "id": "4eb593d4",
   "metadata": {},
   "outputs": [
    {
     "data": {
      "text/plain": [
       "array([88.11242913, 75.84286457, 75.15441856,  3.10475124, 29.33207788])"
      ]
     },
     "execution_count": 33,
     "metadata": {},
     "output_type": "execute_result"
    }
   ],
   "source": [
    "# Para criar uma sequencia de zero a 100, basta multiplicar por 100\n",
    "np.random.rand(5) * 100"
   ]
  },
  {
   "cell_type": "code",
   "execution_count": 37,
   "id": "cd6e584a",
   "metadata": {},
   "outputs": [
    {
     "data": {
      "text/plain": [
       "array([[[0.63009973, 0.48890652, 0.44645964],\n",
       "        [0.53952754, 0.33427989, 0.50694835],\n",
       "        [0.559113  , 0.28197167, 0.02730171],\n",
       "        [0.7751145 , 0.82727335, 0.14857224]],\n",
       "\n",
       "       [[0.79118061, 0.0951136 , 0.53896463],\n",
       "        [0.95424137, 0.39489939, 0.7374373 ],\n",
       "        [0.39665247, 0.62607327, 0.66334549],\n",
       "        [0.76865361, 0.05726485, 0.0710891 ]],\n",
       "\n",
       "       [[0.32735597, 0.41862525, 0.77612452],\n",
       "        [0.71604277, 0.12215053, 0.70925803],\n",
       "        [0.97185274, 0.57732393, 0.13176586],\n",
       "        [0.00663715, 0.97305417, 0.48165574]],\n",
       "\n",
       "       [[0.96585355, 0.14455022, 0.71713963],\n",
       "        [0.60622277, 0.80532238, 0.10995482],\n",
       "        [0.68245138, 0.23600023, 0.52469871],\n",
       "        [0.09216864, 0.98630729, 0.74409146]],\n",
       "\n",
       "       [[0.69759879, 0.5459743 , 0.61187659],\n",
       "        [0.08225859, 0.69817046, 0.99723722],\n",
       "        [0.55836637, 0.37028604, 0.72029461],\n",
       "        [0.37075011, 0.31400152, 0.38730528]]])"
      ]
     },
     "execution_count": 37,
     "metadata": {},
     "output_type": "execute_result"
    }
   ],
   "source": [
    "# Criando uma matriz com o método random seguindo uma distribuição uniforma rand(n_element, dim1, dim2, ...)\n",
    "np.random.rand(5, 4, 3)"
   ]
  },
  {
   "cell_type": "code",
   "execution_count": 54,
   "id": "867c860a",
   "metadata": {},
   "outputs": [
    {
     "data": {
      "text/plain": [
       "array([-0.13410031,  0.34344   , -0.29133643, -0.17722683])"
      ]
     },
     "execution_count": 54,
     "metadata": {},
     "output_type": "execute_result"
    }
   ],
   "source": [
    "# Criando uma sequência aleátoria com números respeitando a distribuição normal com média 0 e desvio padrão 1\n",
    "np.random.randn(4)"
   ]
  },
  {
   "cell_type": "code",
   "execution_count": 55,
   "id": "d82efe50",
   "metadata": {},
   "outputs": [
    {
     "data": {
      "text/plain": [
       "array([68, 12, 53, 65, 26, 52,  0, 39,  9, 36])"
      ]
     },
     "execution_count": 55,
     "metadata": {},
     "output_type": "execute_result"
    }
   ],
   "source": [
    "# Criando números inteiros aleátorios dentro de um intervalo\n",
    "np.random.randint(0, 100, 10)"
   ]
  },
  {
   "cell_type": "code",
   "execution_count": 58,
   "id": "380b1fd7",
   "metadata": {},
   "outputs": [
    {
     "data": {
      "text/plain": [
       "array([47., 38., 47.,  7., 39.])"
      ]
     },
     "execution_count": 58,
     "metadata": {},
     "output_type": "execute_result"
    }
   ],
   "source": [
    "# Criando a mesma sequência de números aleátorios como utra abordagem\n",
    "np.round(np.random.rand(5) *100, 0)"
   ]
  },
  {
   "cell_type": "code",
   "execution_count": 60,
   "id": "621d9e44",
   "metadata": {},
   "outputs": [
    {
     "data": {
      "text/plain": [
       "array([0.09752334, 0.1316389 , 0.21181779, 0.54606563, 0.48512302,\n",
       "       0.3419177 , 0.94915374, 0.14726467, 0.61906201, 0.72379064,\n",
       "       0.66417916, 0.52154649, 0.5963514 , 0.81504384, 0.00556962,\n",
       "       0.31082315, 0.4488967 , 0.05823368, 0.86552512, 0.26984214,\n",
       "       0.53778975, 0.36232343, 0.8406611 , 0.4108603 , 0.19581881])"
      ]
     },
     "execution_count": 60,
     "metadata": {},
     "output_type": "execute_result"
    }
   ],
   "source": [
    "# Criando um array com 25 elementos aleátorios\n",
    "arr = np.random.rand(25); arr"
   ]
  },
  {
   "cell_type": "code",
   "execution_count": 64,
   "id": "6ab8bb1c",
   "metadata": {},
   "outputs": [
    {
     "data": {
      "text/plain": [
       "array([[0.09752334, 0.1316389 , 0.21181779, 0.54606563, 0.48512302],\n",
       "       [0.3419177 , 0.94915374, 0.14726467, 0.61906201, 0.72379064],\n",
       "       [0.66417916, 0.52154649, 0.5963514 , 0.81504384, 0.00556962],\n",
       "       [0.31082315, 0.4488967 , 0.05823368, 0.86552512, 0.26984214],\n",
       "       [0.53778975, 0.36232343, 0.8406611 , 0.4108603 , 0.19581881]])"
      ]
     },
     "execution_count": 64,
     "metadata": {},
     "output_type": "execute_result"
    }
   ],
   "source": [
    "# Convertendo a variável arr com método reshape em formato de matriz\n",
    "arr.reshape((5, 5))"
   ]
  },
  {
   "cell_type": "code",
   "execution_count": 68,
   "id": "1fe6b3b6",
   "metadata": {},
   "outputs": [
    {
     "data": {
      "text/plain": [
       "(5, 5)"
      ]
     },
     "execution_count": 68,
     "metadata": {},
     "output_type": "execute_result"
    }
   ],
   "source": [
    "# Para verificar o tamanho da matriz e suas dimensões usamos o atributo shape()\n",
    "arr.shape"
   ]
  },
  {
   "cell_type": "code",
   "execution_count": 69,
   "id": "a8be14ec",
   "metadata": {},
   "outputs": [
    {
     "data": {
      "text/plain": [
       "(5, 5)"
      ]
     },
     "execution_count": 69,
     "metadata": {},
     "output_type": "execute_result"
    }
   ],
   "source": [
    "# Passando um novo parâmetro de conversão para uma matriz (5,5); só para verificar o \n",
    "# tamanho e a dimensão com atributo shape\n",
    "\n",
    "arr = arr.reshape((5, 5))\n",
    "arr.shape"
   ]
  },
  {
   "cell_type": "code",
   "execution_count": 70,
   "id": "d60eaabf",
   "metadata": {},
   "outputs": [
    {
     "data": {
      "text/plain": [
       "0.949153742662486"
      ]
     },
     "execution_count": 70,
     "metadata": {},
     "output_type": "execute_result"
    }
   ],
   "source": [
    "# Usando método max() para verificar o maior número no array\n",
    "arr.max()"
   ]
  },
  {
   "cell_type": "code",
   "execution_count": 71,
   "id": "3ef0c60c",
   "metadata": {},
   "outputs": [
    {
     "data": {
      "text/plain": [
       "0.005569622472919589"
      ]
     },
     "execution_count": 71,
     "metadata": {},
     "output_type": "execute_result"
    }
   ],
   "source": [
    "# Usando método min() para verificar o menor número no array\n",
    "arr.min()"
   ]
  },
  {
   "cell_type": "code",
   "execution_count": 74,
   "id": "6315b06e",
   "metadata": {},
   "outputs": [
    {
     "data": {
      "text/plain": [
       "6"
      ]
     },
     "execution_count": 74,
     "metadata": {},
     "output_type": "execute_result"
    }
   ],
   "source": [
    "# O método argmax() retorna o index do maior elemento\n",
    "arr.argmax()"
   ]
  },
  {
   "cell_type": "code",
   "execution_count": 75,
   "id": "5be56053",
   "metadata": {},
   "outputs": [
    {
     "data": {
      "text/plain": [
       "14"
      ]
     },
     "execution_count": 75,
     "metadata": {},
     "output_type": "execute_result"
    }
   ],
   "source": [
    "# O método argmin() retorna o index do menor elemento\n",
    "arr.argmin()"
   ]
  }
 ],
 "metadata": {
  "kernelspec": {
   "display_name": "Python 3 (ipykernel)",
   "language": "python",
   "name": "python3"
  },
  "language_info": {
   "codemirror_mode": {
    "name": "ipython",
    "version": 3
   },
   "file_extension": ".py",
   "mimetype": "text/x-python",
   "name": "python",
   "nbconvert_exporter": "python",
   "pygments_lexer": "ipython3",
   "version": "3.10.6"
  }
 },
 "nbformat": 4,
 "nbformat_minor": 5
}
