{
 "cells": [
  {
   "cell_type": "markdown",
   "id": "7cdda631",
   "metadata": {},
   "source": [
    "### Dicionários, Tuplas, Boleanos, Operadores logicos IF e ELSE"
   ]
  },
  {
   "cell_type": "code",
   "execution_count": 1,
   "id": "1e371bea",
   "metadata": {},
   "outputs": [
    {
     "data": {
      "text/plain": [
       "[1, 2, [1, 2, 3]]"
      ]
     },
     "execution_count": 1,
     "metadata": {},
     "output_type": "execute_result"
    }
   ],
   "source": [
    "listas = [1, 2, [1, 2, 3]]\n",
    "listas"
   ]
  },
  {
   "cell_type": "code",
   "execution_count": 2,
   "id": "2df1a6ad",
   "metadata": {},
   "outputs": [
    {
     "data": {
      "text/plain": [
       "list"
      ]
     },
     "execution_count": 2,
     "metadata": {},
     "output_type": "execute_result"
    }
   ],
   "source": [
    "type(listas)"
   ]
  },
  {
   "cell_type": "code",
   "execution_count": 3,
   "id": "275d6f8e",
   "metadata": {},
   "outputs": [
    {
     "data": {
      "text/plain": [
       "[1, 2, 3]"
      ]
     },
     "execution_count": 3,
     "metadata": {},
     "output_type": "execute_result"
    }
   ],
   "source": [
    "listas[2]"
   ]
  },
  {
   "cell_type": "markdown",
   "id": "6db8c8f0",
   "metadata": {},
   "source": [
    "### - Dicionários"
   ]
  },
  {
   "cell_type": "code",
   "execution_count": 4,
   "id": "216248b3",
   "metadata": {},
   "outputs": [
    {
     "data": {
      "text/plain": [
       "{'valor': 1, 'valor2': 2}"
      ]
     },
     "execution_count": 4,
     "metadata": {},
     "output_type": "execute_result"
    }
   ],
   "source": [
    "dic = {\"valor\":1, \"valor2\":2}\n",
    "dic"
   ]
  },
  {
   "cell_type": "code",
   "execution_count": 5,
   "id": "802e9fed",
   "metadata": {},
   "outputs": [
    {
     "data": {
      "text/plain": [
       "dict"
      ]
     },
     "execution_count": 5,
     "metadata": {},
     "output_type": "execute_result"
    }
   ],
   "source": [
    "type(dic)"
   ]
  },
  {
   "cell_type": "code",
   "execution_count": 8,
   "id": "f133c948",
   "metadata": {},
   "outputs": [
    {
     "data": {
      "text/plain": [
       "2"
      ]
     },
     "execution_count": 8,
     "metadata": {},
     "output_type": "execute_result"
    }
   ],
   "source": [
    "# Fazendo as consultas no dicionário\n",
    "dic[\"valor\"]"
   ]
  },
  {
   "cell_type": "code",
   "execution_count": 9,
   "id": "0aff0f45",
   "metadata": {},
   "outputs": [
    {
     "data": {
      "text/plain": [
       "{'lista': [1, 2, 3], 'str': 'Olá'}"
      ]
     },
     "execution_count": 9,
     "metadata": {},
     "output_type": "execute_result"
    }
   ],
   "source": [
    "dic = {\"lista\":[1, 2, 3], \"str\":\"Olá\"}\n",
    "dic"
   ]
  },
  {
   "cell_type": "code",
   "execution_count": 11,
   "id": "a3241965",
   "metadata": {},
   "outputs": [
    {
     "data": {
      "text/plain": [
       "2"
      ]
     },
     "execution_count": 11,
     "metadata": {},
     "output_type": "execute_result"
    }
   ],
   "source": [
    "# Acessando os valores de uma lista\n",
    "dic[\"lista\"][1]"
   ]
  },
  {
   "cell_type": "markdown",
   "id": "5ffa6120",
   "metadata": {},
   "source": [
    "### - Tuplas"
   ]
  },
  {
   "cell_type": "code",
   "execution_count": 24,
   "id": "e0a08d58",
   "metadata": {},
   "outputs": [
    {
     "data": {
      "text/plain": [
       "(1, 2, 3)"
      ]
     },
     "execution_count": 24,
     "metadata": {},
     "output_type": "execute_result"
    }
   ],
   "source": [
    "# Criando uma tupla - Obs. a tupla ela não pode ser modificada\n",
    "t = (1, 2, 3)\n",
    "t"
   ]
  },
  {
   "cell_type": "code",
   "execution_count": 20,
   "id": "93699449",
   "metadata": {},
   "outputs": [
    {
     "data": {
      "text/plain": [
       "tuple"
      ]
     },
     "execution_count": 20,
     "metadata": {},
     "output_type": "execute_result"
    }
   ],
   "source": [
    "# Verificando que tipo de objeto estou lidando\n",
    "type(t)"
   ]
  },
  {
   "cell_type": "code",
   "execution_count": 21,
   "id": "19a80f27",
   "metadata": {},
   "outputs": [
    {
     "data": {
      "text/plain": [
       "2"
      ]
     },
     "execution_count": 21,
     "metadata": {},
     "output_type": "execute_result"
    }
   ],
   "source": [
    "# Acessando o seu conteúdo\n",
    "t[1]"
   ]
  },
  {
   "cell_type": "code",
   "execution_count": 22,
   "id": "88bb638c",
   "metadata": {},
   "outputs": [
    {
     "data": {
      "text/plain": [
       "[1, 2, 15]"
      ]
     },
     "execution_count": 22,
     "metadata": {},
     "output_type": "execute_result"
    }
   ],
   "source": [
    "# Modificando os elementos da lista\n",
    "listas[2] = 15\n",
    "listas"
   ]
  },
  {
   "cell_type": "markdown",
   "id": "a79da90a",
   "metadata": {},
   "source": [
    "### - Boleanos"
   ]
  },
  {
   "cell_type": "code",
   "execution_count": 25,
   "id": "44058dcd",
   "metadata": {},
   "outputs": [
    {
     "data": {
      "text/plain": [
       "True"
      ]
     },
     "execution_count": 25,
     "metadata": {},
     "output_type": "execute_result"
    }
   ],
   "source": [
    "# Operador boleano Verdadeiro\n",
    "True"
   ]
  },
  {
   "cell_type": "code",
   "execution_count": 26,
   "id": "b73cec70",
   "metadata": {},
   "outputs": [
    {
     "data": {
      "text/plain": [
       "False"
      ]
     },
     "execution_count": 26,
     "metadata": {},
     "output_type": "execute_result"
    }
   ],
   "source": [
    "# Operado boleano Falso\n",
    "False"
   ]
  },
  {
   "cell_type": "code",
   "execution_count": 27,
   "id": "21d559b2",
   "metadata": {},
   "outputs": [
    {
     "data": {
      "text/plain": [
       "True"
      ]
     },
     "execution_count": 27,
     "metadata": {},
     "output_type": "execute_result"
    }
   ],
   "source": [
    "# 1 é igual a 1\n",
    "1 == 1"
   ]
  },
  {
   "cell_type": "code",
   "execution_count": 29,
   "id": "ca689e81",
   "metadata": {},
   "outputs": [
    {
     "data": {
      "text/plain": [
       "True"
      ]
     },
     "execution_count": 29,
     "metadata": {},
     "output_type": "execute_result"
    }
   ],
   "source": [
    "# Criando a variavel x e atribuindo o valor 2 \n",
    "x = 2\n",
    "# x é igual a 2\n",
    "x == 2"
   ]
  },
  {
   "cell_type": "code",
   "execution_count": 30,
   "id": "2171bb14",
   "metadata": {},
   "outputs": [
    {
     "data": {
      "text/plain": [
       "False"
      ]
     },
     "execution_count": 30,
     "metadata": {},
     "output_type": "execute_result"
    }
   ],
   "source": [
    "# x é igual 3\n",
    "x == 3"
   ]
  },
  {
   "cell_type": "code",
   "execution_count": 31,
   "id": "1db16c94",
   "metadata": {},
   "outputs": [
    {
     "data": {
      "text/plain": [
       "True"
      ]
     },
     "execution_count": 31,
     "metadata": {},
     "output_type": "execute_result"
    }
   ],
   "source": [
    "# x é maior igual 1\n",
    "x >= 1"
   ]
  },
  {
   "cell_type": "code",
   "execution_count": 32,
   "id": "d996e7d6",
   "metadata": {},
   "outputs": [
    {
     "data": {
      "text/plain": [
       "False"
      ]
     },
     "execution_count": 32,
     "metadata": {},
     "output_type": "execute_result"
    }
   ],
   "source": [
    "# x é igual a 1\n",
    "x <= 1 "
   ]
  },
  {
   "cell_type": "code",
   "execution_count": 33,
   "id": "fdc0d941",
   "metadata": {},
   "outputs": [
    {
     "data": {
      "text/plain": [
       "False"
      ]
     },
     "execution_count": 33,
     "metadata": {},
     "output_type": "execute_result"
    }
   ],
   "source": [
    "# x é menor que 1\n",
    "x < 1"
   ]
  },
  {
   "cell_type": "code",
   "execution_count": 34,
   "id": "c58c32b9",
   "metadata": {},
   "outputs": [
    {
     "data": {
      "text/plain": [
       "True"
      ]
     },
     "execution_count": 34,
     "metadata": {},
     "output_type": "execute_result"
    }
   ],
   "source": [
    "# x é diferente de 1\n",
    "x != 1"
   ]
  },
  {
   "cell_type": "code",
   "execution_count": 37,
   "id": "87faf718",
   "metadata": {},
   "outputs": [
    {
     "data": {
      "text/plain": [
       "1"
      ]
     },
     "execution_count": 37,
     "metadata": {},
     "output_type": "execute_result"
    }
   ],
   "source": [
    "# Operador Boleando \"e\"\n",
    "1 and 3\n",
    "# Operador Boleando \"ou\"\n",
    "1 or 2"
   ]
  },
  {
   "cell_type": "code",
   "execution_count": 38,
   "id": "dc2fcc0e",
   "metadata": {},
   "outputs": [
    {
     "data": {
      "text/plain": [
       "False"
      ]
     },
     "execution_count": 38,
     "metadata": {},
     "output_type": "execute_result"
    }
   ],
   "source": [
    "# usando o operado boleando and\n",
    "(x == 1) and (x >= 2)"
   ]
  },
  {
   "cell_type": "markdown",
   "id": "866f11a1",
   "metadata": {},
   "source": [
    "### Operadores Condionais"
   ]
  },
  {
   "cell_type": "code",
   "execution_count": 60,
   "id": "47f087c8",
   "metadata": {},
   "outputs": [
    {
     "name": "stdout",
     "output_type": "stream",
     "text": [
      "Reprovado\n",
      "Aprovado\n"
     ]
    }
   ],
   "source": [
    "r = \"Reprovado\"; print(r)\n",
    "a = \"Aprovado\"; print(a)"
   ]
  },
  {
   "cell_type": "code",
   "execution_count": 58,
   "id": "4b8d8b56",
   "metadata": {},
   "outputs": [
    {
     "data": {
      "text/plain": [
       "8"
      ]
     },
     "execution_count": 58,
     "metadata": {},
     "output_type": "execute_result"
    }
   ],
   "source": [
    "x = 8; x"
   ]
  },
  {
   "cell_type": "code",
   "execution_count": 47,
   "id": "695a5ebd",
   "metadata": {},
   "outputs": [
    {
     "name": "stdout",
     "output_type": "stream",
     "text": [
      "Aprovado\n"
     ]
    }
   ],
   "source": [
    "if x > 7:\n",
    "    print(a)"
   ]
  },
  {
   "cell_type": "code",
   "execution_count": 49,
   "id": "db7030a5",
   "metadata": {},
   "outputs": [
    {
     "name": "stdout",
     "output_type": "stream",
     "text": [
      "Reprovado\n"
     ]
    }
   ],
   "source": [
    "x = 5\n",
    "if x > 7:\n",
    "    print(a)\n",
    "else:\n",
    "    print(r)"
   ]
  },
  {
   "cell_type": "code",
   "execution_count": null,
   "id": "a68433e6",
   "metadata": {},
   "outputs": [],
   "source": []
  },
  {
   "cell_type": "code",
   "execution_count": null,
   "id": "6231b673",
   "metadata": {},
   "outputs": [],
   "source": []
  },
  {
   "cell_type": "code",
   "execution_count": null,
   "id": "aaa87729",
   "metadata": {},
   "outputs": [],
   "source": []
  }
 ],
 "metadata": {
  "kernelspec": {
   "display_name": "Python 3 (ipykernel)",
   "language": "python",
   "name": "python3"
  },
  "language_info": {
   "codemirror_mode": {
    "name": "ipython",
    "version": 3
   },
   "file_extension": ".py",
   "mimetype": "text/x-python",
   "name": "python",
   "nbconvert_exporter": "python",
   "pygments_lexer": "ipython3",
   "version": "3.10.6"
  }
 },
 "nbformat": 4,
 "nbformat_minor": 5
}
