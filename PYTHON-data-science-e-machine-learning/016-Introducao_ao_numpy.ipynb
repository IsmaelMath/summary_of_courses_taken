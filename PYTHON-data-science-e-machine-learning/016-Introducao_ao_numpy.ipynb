{
 "cells": [
  {
   "cell_type": "markdown",
   "id": "f1a2a4f0",
   "metadata": {},
   "source": [
    "### Introdução ao Numpy\n",
    "\n",
    "    - Numpy é uma biblioteca  de algebra linear para python.\n",
    "    \n",
    "    - É um bloco de contrução de todos as outras bibliotecas de Análise de dados.\n",
    "    \n",
    "    - É extremamente rápida, uma vez que seus principais métodos foram compilados em C.\n",
    "    \n",
    "    - Recomendo instalar usando o Anaconda para que todas as bibliotecas dependentes funcionem perfeitamente.\n",
    "    \n",
    "    - Se você instalou Anaconda, use o seguinte código no seu terminal:\n",
    "    \n",
    "        - conda install numpy;\n",
    "        - pip install numpy;\n",
    "        \n",
    "    - Numpy arrays serão nossa principal ferramenta ao longo do curso.\n",
    "    \n",
    "    - Numpy arrays essencialmente vêm de duas formas: vetores e amtrizes.\n",
    "    \n",
    "    - Vetores são estritamente arrays de 1-d. Matrizes são 2-d(porém, você pode notar que uma \n",
    "      matriz pode ter apenas 1 linha ou coluna).\n",
    "      \n",
    "##### Vamos lá !!!!    \n",
    "      \n",
    "      \n",
    "      \n"
   ]
  }
 ],
 "metadata": {
  "kernelspec": {
   "display_name": "Python 3 (ipykernel)",
   "language": "python",
   "name": "python3"
  },
  "language_info": {
   "codemirror_mode": {
    "name": "ipython",
    "version": 3
   },
   "file_extension": ".py",
   "mimetype": "text/x-python",
   "name": "python",
   "nbconvert_exporter": "python",
   "pygments_lexer": "ipython3",
   "version": "3.10.6"
  }
 },
 "nbformat": 4,
 "nbformat_minor": 5
}
