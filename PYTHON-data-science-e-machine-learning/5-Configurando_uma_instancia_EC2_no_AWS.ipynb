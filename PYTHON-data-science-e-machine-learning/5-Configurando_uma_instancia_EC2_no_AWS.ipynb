{
 "cells": [
  {
   "cell_type": "markdown",
   "id": "cf40d233",
   "metadata": {},
   "source": [
    "### - Configurando uma instância EC2 no AWS\n",
    "\n",
    "#### Configurando uma instância EC2\n",
    "\n",
    "- Temos inicialmente que criar uma conta no AWS.\n",
    "\n",
    "\n",
    "- Após isso, criaremos uma instância EC2 e nos conectaremos a ela.\n",
    "\n",
    "\n",
    "- Amazon Elastic Compute Cloud (Amazon EC2) é um web service que provém capacidades compuatacional na nuvem.\n",
    "\n",
    "\n",
    "- Podemos imaginá-lo como uma máquina virtual que podemos acessar através da internet.\n",
    "\n",
    "\n",
    "- SSH (**Secure ShellConnection**)\n",
    "    - Assista essa aula até o fim se você estiver no Windows\n",
    "    - Passe para próxima aula se após configurarmos o EC2 se estiver em Mac/Linux\n",
    "    \n",
    "    \n",
    "- Nosso objetivo é conectar remotamente ao prompt de comando da nossa máquina virtual.\n",
    "\n"
   ]
  }
 ],
 "metadata": {
  "kernelspec": {
   "display_name": "Python 3 (ipykernel)",
   "language": "python",
   "name": "python3"
  },
  "language_info": {
   "codemirror_mode": {
    "name": "ipython",
    "version": 3
   },
   "file_extension": ".py",
   "mimetype": "text/x-python",
   "name": "python",
   "nbconvert_exporter": "python",
   "pygments_lexer": "ipython3",
   "version": "3.10.6"
  }
 },
 "nbformat": 4,
 "nbformat_minor": 5
}
